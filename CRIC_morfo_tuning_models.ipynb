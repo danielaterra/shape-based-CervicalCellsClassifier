{
  "cells": [
    {
      "cell_type": "markdown",
      "id": "5b43ab41",
      "metadata": {
        "id": "5b43ab41"
      },
      "source": [
        "## Ajusta parâmetros para SVM, RF e XGBoost"
      ]
    },
    {
      "cell_type": "code",
      "source": [
        "!pip install pyefd"
      ],
      "metadata": {
        "colab": {
          "base_uri": "https://localhost:8080/"
        },
        "id": "awgTbkdfQ9C6",
        "outputId": "f2f98880-23b3-4c2b-af0f-781200a8f066"
      },
      "id": "awgTbkdfQ9C6",
      "execution_count": null,
      "outputs": [
        {
          "output_type": "stream",
          "name": "stdout",
          "text": [
            "Looking in indexes: https://pypi.org/simple, https://us-python.pkg.dev/colab-wheels/public/simple/\n",
            "Collecting pyefd\n",
            "  Downloading pyefd-1.6.0-py2.py3-none-any.whl (7.7 kB)\n",
            "Requirement already satisfied: numpy>=1.7.0 in /usr/local/lib/python3.8/dist-packages (from pyefd) (1.21.6)\n",
            "Installing collected packages: pyefd\n",
            "Successfully installed pyefd-1.6.0\n"
          ]
        }
      ]
    },
    {
      "cell_type": "code",
      "source": [
        "from google.colab import drive\n",
        "drive.mount('/content/drive')"
      ],
      "metadata": {
        "colab": {
          "base_uri": "https://localhost:8080/"
        },
        "id": "0qfx6OtWRKYi",
        "outputId": "9f579da5-3982-4c1b-88b4-79b4ed2d0c7c"
      },
      "id": "0qfx6OtWRKYi",
      "execution_count": null,
      "outputs": [
        {
          "output_type": "stream",
          "name": "stdout",
          "text": [
            "Mounted at /content/drive\n"
          ]
        }
      ]
    },
    {
      "cell_type": "code",
      "source": [
        "import sys\n",
        "sys.path.insert(0,\"/content/drive/MyDrive/shape_based_CRIC_Hclassifier\")"
      ],
      "metadata": {
        "id": "wJztnUCyRZWU"
      },
      "id": "wJztnUCyRZWU",
      "execution_count": null,
      "outputs": []
    },
    {
      "cell_type": "code",
      "execution_count": null,
      "id": "cd46ce97",
      "metadata": {
        "id": "cd46ce97"
      },
      "outputs": [],
      "source": [
        "import numpy as np\n",
        "import pandas as pd\n",
        "from math import sqrt\n",
        "import os\n",
        "import sys\n",
        "import csv\n",
        "from collections import Counter\n",
        "from PIL import Image\n",
        "import matplotlib.pyplot as plt\n",
        "from matplotlib.pyplot import imshow\n",
        "from skimage import morphology, measure\n",
        "from skimage.draw import polygon, polygon_perimeter\n",
        "from scipy.spatial.distance import cdist\n",
        "from scipy.stats import kurtosis\n",
        "\n",
        "import pyefd\n",
        "from pyefd import elliptic_fourier_descriptors, normalize_efd\n",
        "\n",
        "from sklearn.metrics import accuracy_score, balanced_accuracy_score\n",
        "from sklearn.metrics import precision_score, recall_score\n",
        "from sklearn.metrics import confusion_matrix, ConfusionMatrixDisplay\n",
        "from sklearn.metrics import f1_score\n",
        "from sklearn.metrics import confusion_matrix\n",
        "from sklearn.metrics import roc_curve, auc\n",
        "from sklearn.model_selection import train_test_split\n",
        "from sklearn.neighbors import KNeighborsClassifier\n",
        "from sklearn.naive_bayes import GaussianNB\n",
        "from sklearn.svm import SVC\n",
        "from sklearn.ensemble import RandomForestClassifier\n",
        "from sklearn.model_selection import train_test_split, StratifiedKFold\n",
        "from sklearn import feature_selection as fs\n",
        "from sklearn import preprocessing\n",
        "\n",
        "from datetime import datetime\n",
        "\n",
        "# pay attention to capitalization below!\n",
        "from spFSR import SpFSR\n",
        "from imblearn.over_sampling import SMOTE, ADASYN, SVMSMOTE, BorderlineSMOTE\n",
        "\n",
        "from itertools import cycle\n",
        "from random import randint\n",
        "from random import sample\n",
        "\n",
        "import xgboost as xgb\n",
        "\n",
        "import functions, shapeFeatures"
      ]
    },
    {
      "cell_type": "code",
      "execution_count": null,
      "id": "b3b5ed51",
      "metadata": {
        "id": "b3b5ed51"
      },
      "outputs": [],
      "source": [
        "Bethesda_classes = {'Normal':0, 'ASC-US':1, 'ASC-H':2, 'LSIL':3,'HSIL':4, 'Invasive Carcinoma':5}\n",
        "Bethesda_idx_classes = {0: 'Normal', 1:'ASC-US', 2:'ASC-H', 3:'LSIL',4: 'HSIL', 5:'Invasive Carcinoma'}"
      ]
    },
    {
      "cell_type": "markdown",
      "id": "a02b81cb",
      "metadata": {
        "id": "a02b81cb"
      },
      "source": [
        "### Features:"
      ]
    },
    {
      "cell_type": "code",
      "execution_count": null,
      "id": "4457980a",
      "metadata": {
        "colab": {
          "base_uri": "https://localhost:8080/"
        },
        "id": "4457980a",
        "outputId": "c4f21eea-6326-4c94-9e2c-0e59b3882a90"
      },
      "outputs": [
        {
          "output_type": "execute_result",
          "data": {
            "text/plain": [
              "(200, 98, 98, 154)"
            ]
          },
          "metadata": {},
          "execution_count": 6
        }
      ],
      "source": [
        "len(functions.list_all_features(20)), len(functions.list_all_nucleus_features(20)), len(functions.list_all_cyto_features(20)), len(functions.list_all_EFD_features(20))\n"
      ]
    },
    {
      "cell_type": "markdown",
      "id": "d6f815eb",
      "metadata": {
        "id": "d6f815eb"
      },
      "source": [
        "### Lê arquivo (features):"
      ]
    },
    {
      "cell_type": "code",
      "execution_count": null,
      "id": "1f00307b",
      "metadata": {
        "id": "1f00307b"
      },
      "outputs": [],
      "source": [
        "N_EFD_COEFFS = 20"
      ]
    },
    {
      "cell_type": "code",
      "execution_count": null,
      "id": "8d2400f4",
      "metadata": {
        "id": "8d2400f4"
      },
      "outputs": [],
      "source": [
        "#df = pd.read_csv('dataCRIC.csv', sep='|', header=0)\n",
        "df = pd.read_csv('/content/drive/MyDrive/shape_based_CRIC_Hclassifier/dataCRIC.csv', sep='|', header=0)\n",
        "df = shapeFeatures.normalize_dataset(df, n_efd_coeffs= N_EFD_COEFFS)\n",
        ""
      ]
    },
    {
      "cell_type": "code",
      "execution_count": null,
      "id": "a5c0dc99",
      "metadata": {
        "scrolled": false,
        "colab": {
          "base_uri": "https://localhost:8080/",
          "height": 488
        },
        "id": "a5c0dc99",
        "outputId": "c434bc6a-6974-4b50-f000-d56abeea06ee"
      },
      "outputs": [
        {
          "output_type": "execute_result",
          "data": {
            "text/plain": [
              "      image_id  cell_id     areaN    eccenN   extentN     periN    maxAxN  \\\n",
              "0          1.0  14796.0  0.007403  0.606414  0.842276  0.031326  0.036711   \n",
              "1          1.0  14797.0  0.009371  0.541484  0.808102  0.035945  0.039493   \n",
              "2          1.0  14798.0  0.007275  0.313794  0.884418  0.029457  0.025365   \n",
              "3          1.0  14799.0  0.010570  0.489270  0.778201  0.040199  0.040900   \n",
              "4          1.0  14801.0  0.009115  0.296366  0.842276  0.036826  0.031283   \n",
              "...        ...      ...       ...       ...       ...       ...       ...   \n",
              "3228     399.0  11539.0  0.028927  0.838629  0.579720  0.094256  0.134656   \n",
              "3229     399.0  11540.0  0.025333  0.874227  0.645532  0.094611  0.135676   \n",
              "3230     400.0  11535.0  0.017031  0.910741  0.390863  0.092280  0.136377   \n",
              "3231     400.0  11536.0  0.020797  0.949322  0.528816  0.105709  0.169029   \n",
              "3232     400.0  11537.0  0.025076  0.822746  0.749691  0.090669  0.120781   \n",
              "\n",
              "        minAxN   compacN    circuN  ...    efdC73    efdC74    efdC75  \\\n",
              "0     0.083827  0.024126  0.863522  ...  0.156532  0.321490  0.859931   \n",
              "1     0.095649  0.018763  0.891071  ...  0.150931  0.317850  0.859539   \n",
              "2     0.097062  0.018895  0.890378  ...  0.153458  0.315454  0.861978   \n",
              "3     0.103428  0.021001  0.879403  ...  0.157254  0.319562  0.860312   \n",
              "4     0.106376  0.024456  0.861871  ...  0.147193  0.314554  0.860292   \n",
              "...        ...       ...       ...  ...       ...       ...       ...   \n",
              "3228  0.118369  0.041270  0.784196  ...  0.152113  0.318217  0.859606   \n",
              "3229  0.100778  0.064959  0.692461  ...  0.150010  0.322108  0.859366   \n",
              "3230  0.078990  0.131860  0.507358  ...  0.153944  0.319972  0.860379   \n",
              "3231  0.065965  0.137720  0.494794  ...  0.151898  0.320620  0.859608   \n",
              "3232  0.114052  0.055801  0.725789  ...  0.143373  0.318753  0.868085   \n",
              "\n",
              "        efdC76    efdC77  ratio_NC  ratio_NC_per  ratio_NC_hArea  \\\n",
              "0     0.382225  0.302311  0.017236      0.115646        0.016730   \n",
              "1     0.369221  0.299938  0.010656      0.089517        0.010168   \n",
              "2     0.367980  0.302076  0.007400      0.073961        0.006897   \n",
              "3     0.382943  0.303682  0.028309      0.154784        0.027752   \n",
              "4     0.359672  0.300094  0.021569      0.129992        0.020738   \n",
              "...        ...       ...       ...           ...             ...   \n",
              "3228  0.370535  0.299400  0.206211      0.149094        0.085315   \n",
              "3229  0.375599  0.300755  0.245537      0.247086        0.136756   \n",
              "3230  0.372458  0.303245  0.191508      0.471092        0.188343   \n",
              "3231  0.370771  0.299599  0.111823      0.078186        0.023058   \n",
              "3232  0.362569  0.279162  0.448090      0.346307        0.181780   \n",
              "\n",
              "      nucleus_position  bethesda  \n",
              "0             0.099098       0.0  \n",
              "1             0.121456       0.0  \n",
              "2             0.043773       0.0  \n",
              "3             0.128927       0.0  \n",
              "4             0.069245       0.0  \n",
              "...                ...       ...  \n",
              "3228          1.943974       5.0  \n",
              "3229          0.916374       5.0  \n",
              "3230          0.326252       5.0  \n",
              "3231          3.177247       5.0  \n",
              "3232          0.653692       5.0  \n",
              "\n",
              "[3233 rows x 203 columns]"
            ],
            "text/html": [
              "\n",
              "  <div id=\"df-d055f6ea-9bee-4673-bc90-72f826eaf698\">\n",
              "    <div class=\"colab-df-container\">\n",
              "      <div>\n",
              "<style scoped>\n",
              "    .dataframe tbody tr th:only-of-type {\n",
              "        vertical-align: middle;\n",
              "    }\n",
              "\n",
              "    .dataframe tbody tr th {\n",
              "        vertical-align: top;\n",
              "    }\n",
              "\n",
              "    .dataframe thead th {\n",
              "        text-align: right;\n",
              "    }\n",
              "</style>\n",
              "<table border=\"1\" class=\"dataframe\">\n",
              "  <thead>\n",
              "    <tr style=\"text-align: right;\">\n",
              "      <th></th>\n",
              "      <th>image_id</th>\n",
              "      <th>cell_id</th>\n",
              "      <th>areaN</th>\n",
              "      <th>eccenN</th>\n",
              "      <th>extentN</th>\n",
              "      <th>periN</th>\n",
              "      <th>maxAxN</th>\n",
              "      <th>minAxN</th>\n",
              "      <th>compacN</th>\n",
              "      <th>circuN</th>\n",
              "      <th>...</th>\n",
              "      <th>efdC73</th>\n",
              "      <th>efdC74</th>\n",
              "      <th>efdC75</th>\n",
              "      <th>efdC76</th>\n",
              "      <th>efdC77</th>\n",
              "      <th>ratio_NC</th>\n",
              "      <th>ratio_NC_per</th>\n",
              "      <th>ratio_NC_hArea</th>\n",
              "      <th>nucleus_position</th>\n",
              "      <th>bethesda</th>\n",
              "    </tr>\n",
              "  </thead>\n",
              "  <tbody>\n",
              "    <tr>\n",
              "      <th>0</th>\n",
              "      <td>1.0</td>\n",
              "      <td>14796.0</td>\n",
              "      <td>0.007403</td>\n",
              "      <td>0.606414</td>\n",
              "      <td>0.842276</td>\n",
              "      <td>0.031326</td>\n",
              "      <td>0.036711</td>\n",
              "      <td>0.083827</td>\n",
              "      <td>0.024126</td>\n",
              "      <td>0.863522</td>\n",
              "      <td>...</td>\n",
              "      <td>0.156532</td>\n",
              "      <td>0.321490</td>\n",
              "      <td>0.859931</td>\n",
              "      <td>0.382225</td>\n",
              "      <td>0.302311</td>\n",
              "      <td>0.017236</td>\n",
              "      <td>0.115646</td>\n",
              "      <td>0.016730</td>\n",
              "      <td>0.099098</td>\n",
              "      <td>0.0</td>\n",
              "    </tr>\n",
              "    <tr>\n",
              "      <th>1</th>\n",
              "      <td>1.0</td>\n",
              "      <td>14797.0</td>\n",
              "      <td>0.009371</td>\n",
              "      <td>0.541484</td>\n",
              "      <td>0.808102</td>\n",
              "      <td>0.035945</td>\n",
              "      <td>0.039493</td>\n",
              "      <td>0.095649</td>\n",
              "      <td>0.018763</td>\n",
              "      <td>0.891071</td>\n",
              "      <td>...</td>\n",
              "      <td>0.150931</td>\n",
              "      <td>0.317850</td>\n",
              "      <td>0.859539</td>\n",
              "      <td>0.369221</td>\n",
              "      <td>0.299938</td>\n",
              "      <td>0.010656</td>\n",
              "      <td>0.089517</td>\n",
              "      <td>0.010168</td>\n",
              "      <td>0.121456</td>\n",
              "      <td>0.0</td>\n",
              "    </tr>\n",
              "    <tr>\n",
              "      <th>2</th>\n",
              "      <td>1.0</td>\n",
              "      <td>14798.0</td>\n",
              "      <td>0.007275</td>\n",
              "      <td>0.313794</td>\n",
              "      <td>0.884418</td>\n",
              "      <td>0.029457</td>\n",
              "      <td>0.025365</td>\n",
              "      <td>0.097062</td>\n",
              "      <td>0.018895</td>\n",
              "      <td>0.890378</td>\n",
              "      <td>...</td>\n",
              "      <td>0.153458</td>\n",
              "      <td>0.315454</td>\n",
              "      <td>0.861978</td>\n",
              "      <td>0.367980</td>\n",
              "      <td>0.302076</td>\n",
              "      <td>0.007400</td>\n",
              "      <td>0.073961</td>\n",
              "      <td>0.006897</td>\n",
              "      <td>0.043773</td>\n",
              "      <td>0.0</td>\n",
              "    </tr>\n",
              "    <tr>\n",
              "      <th>3</th>\n",
              "      <td>1.0</td>\n",
              "      <td>14799.0</td>\n",
              "      <td>0.010570</td>\n",
              "      <td>0.489270</td>\n",
              "      <td>0.778201</td>\n",
              "      <td>0.040199</td>\n",
              "      <td>0.040900</td>\n",
              "      <td>0.103428</td>\n",
              "      <td>0.021001</td>\n",
              "      <td>0.879403</td>\n",
              "      <td>...</td>\n",
              "      <td>0.157254</td>\n",
              "      <td>0.319562</td>\n",
              "      <td>0.860312</td>\n",
              "      <td>0.382943</td>\n",
              "      <td>0.303682</td>\n",
              "      <td>0.028309</td>\n",
              "      <td>0.154784</td>\n",
              "      <td>0.027752</td>\n",
              "      <td>0.128927</td>\n",
              "      <td>0.0</td>\n",
              "    </tr>\n",
              "    <tr>\n",
              "      <th>4</th>\n",
              "      <td>1.0</td>\n",
              "      <td>14801.0</td>\n",
              "      <td>0.009115</td>\n",
              "      <td>0.296366</td>\n",
              "      <td>0.842276</td>\n",
              "      <td>0.036826</td>\n",
              "      <td>0.031283</td>\n",
              "      <td>0.106376</td>\n",
              "      <td>0.024456</td>\n",
              "      <td>0.861871</td>\n",
              "      <td>...</td>\n",
              "      <td>0.147193</td>\n",
              "      <td>0.314554</td>\n",
              "      <td>0.860292</td>\n",
              "      <td>0.359672</td>\n",
              "      <td>0.300094</td>\n",
              "      <td>0.021569</td>\n",
              "      <td>0.129992</td>\n",
              "      <td>0.020738</td>\n",
              "      <td>0.069245</td>\n",
              "      <td>0.0</td>\n",
              "    </tr>\n",
              "    <tr>\n",
              "      <th>...</th>\n",
              "      <td>...</td>\n",
              "      <td>...</td>\n",
              "      <td>...</td>\n",
              "      <td>...</td>\n",
              "      <td>...</td>\n",
              "      <td>...</td>\n",
              "      <td>...</td>\n",
              "      <td>...</td>\n",
              "      <td>...</td>\n",
              "      <td>...</td>\n",
              "      <td>...</td>\n",
              "      <td>...</td>\n",
              "      <td>...</td>\n",
              "      <td>...</td>\n",
              "      <td>...</td>\n",
              "      <td>...</td>\n",
              "      <td>...</td>\n",
              "      <td>...</td>\n",
              "      <td>...</td>\n",
              "      <td>...</td>\n",
              "      <td>...</td>\n",
              "    </tr>\n",
              "    <tr>\n",
              "      <th>3228</th>\n",
              "      <td>399.0</td>\n",
              "      <td>11539.0</td>\n",
              "      <td>0.028927</td>\n",
              "      <td>0.838629</td>\n",
              "      <td>0.579720</td>\n",
              "      <td>0.094256</td>\n",
              "      <td>0.134656</td>\n",
              "      <td>0.118369</td>\n",
              "      <td>0.041270</td>\n",
              "      <td>0.784196</td>\n",
              "      <td>...</td>\n",
              "      <td>0.152113</td>\n",
              "      <td>0.318217</td>\n",
              "      <td>0.859606</td>\n",
              "      <td>0.370535</td>\n",
              "      <td>0.299400</td>\n",
              "      <td>0.206211</td>\n",
              "      <td>0.149094</td>\n",
              "      <td>0.085315</td>\n",
              "      <td>1.943974</td>\n",
              "      <td>5.0</td>\n",
              "    </tr>\n",
              "    <tr>\n",
              "      <th>3229</th>\n",
              "      <td>399.0</td>\n",
              "      <td>11540.0</td>\n",
              "      <td>0.025333</td>\n",
              "      <td>0.874227</td>\n",
              "      <td>0.645532</td>\n",
              "      <td>0.094611</td>\n",
              "      <td>0.135676</td>\n",
              "      <td>0.100778</td>\n",
              "      <td>0.064959</td>\n",
              "      <td>0.692461</td>\n",
              "      <td>...</td>\n",
              "      <td>0.150010</td>\n",
              "      <td>0.322108</td>\n",
              "      <td>0.859366</td>\n",
              "      <td>0.375599</td>\n",
              "      <td>0.300755</td>\n",
              "      <td>0.245537</td>\n",
              "      <td>0.247086</td>\n",
              "      <td>0.136756</td>\n",
              "      <td>0.916374</td>\n",
              "      <td>5.0</td>\n",
              "    </tr>\n",
              "    <tr>\n",
              "      <th>3230</th>\n",
              "      <td>400.0</td>\n",
              "      <td>11535.0</td>\n",
              "      <td>0.017031</td>\n",
              "      <td>0.910741</td>\n",
              "      <td>0.390863</td>\n",
              "      <td>0.092280</td>\n",
              "      <td>0.136377</td>\n",
              "      <td>0.078990</td>\n",
              "      <td>0.131860</td>\n",
              "      <td>0.507358</td>\n",
              "      <td>...</td>\n",
              "      <td>0.153944</td>\n",
              "      <td>0.319972</td>\n",
              "      <td>0.860379</td>\n",
              "      <td>0.372458</td>\n",
              "      <td>0.303245</td>\n",
              "      <td>0.191508</td>\n",
              "      <td>0.471092</td>\n",
              "      <td>0.188343</td>\n",
              "      <td>0.326252</td>\n",
              "      <td>5.0</td>\n",
              "    </tr>\n",
              "    <tr>\n",
              "      <th>3231</th>\n",
              "      <td>400.0</td>\n",
              "      <td>11536.0</td>\n",
              "      <td>0.020797</td>\n",
              "      <td>0.949322</td>\n",
              "      <td>0.528816</td>\n",
              "      <td>0.105709</td>\n",
              "      <td>0.169029</td>\n",
              "      <td>0.065965</td>\n",
              "      <td>0.137720</td>\n",
              "      <td>0.494794</td>\n",
              "      <td>...</td>\n",
              "      <td>0.151898</td>\n",
              "      <td>0.320620</td>\n",
              "      <td>0.859608</td>\n",
              "      <td>0.370771</td>\n",
              "      <td>0.299599</td>\n",
              "      <td>0.111823</td>\n",
              "      <td>0.078186</td>\n",
              "      <td>0.023058</td>\n",
              "      <td>3.177247</td>\n",
              "      <td>5.0</td>\n",
              "    </tr>\n",
              "    <tr>\n",
              "      <th>3232</th>\n",
              "      <td>400.0</td>\n",
              "      <td>11537.0</td>\n",
              "      <td>0.025076</td>\n",
              "      <td>0.822746</td>\n",
              "      <td>0.749691</td>\n",
              "      <td>0.090669</td>\n",
              "      <td>0.120781</td>\n",
              "      <td>0.114052</td>\n",
              "      <td>0.055801</td>\n",
              "      <td>0.725789</td>\n",
              "      <td>...</td>\n",
              "      <td>0.143373</td>\n",
              "      <td>0.318753</td>\n",
              "      <td>0.868085</td>\n",
              "      <td>0.362569</td>\n",
              "      <td>0.279162</td>\n",
              "      <td>0.448090</td>\n",
              "      <td>0.346307</td>\n",
              "      <td>0.181780</td>\n",
              "      <td>0.653692</td>\n",
              "      <td>5.0</td>\n",
              "    </tr>\n",
              "  </tbody>\n",
              "</table>\n",
              "<p>3233 rows × 203 columns</p>\n",
              "</div>\n",
              "      <button class=\"colab-df-convert\" onclick=\"convertToInteractive('df-d055f6ea-9bee-4673-bc90-72f826eaf698')\"\n",
              "              title=\"Convert this dataframe to an interactive table.\"\n",
              "              style=\"display:none;\">\n",
              "        \n",
              "  <svg xmlns=\"http://www.w3.org/2000/svg\" height=\"24px\"viewBox=\"0 0 24 24\"\n",
              "       width=\"24px\">\n",
              "    <path d=\"M0 0h24v24H0V0z\" fill=\"none\"/>\n",
              "    <path d=\"M18.56 5.44l.94 2.06.94-2.06 2.06-.94-2.06-.94-.94-2.06-.94 2.06-2.06.94zm-11 1L8.5 8.5l.94-2.06 2.06-.94-2.06-.94L8.5 2.5l-.94 2.06-2.06.94zm10 10l.94 2.06.94-2.06 2.06-.94-2.06-.94-.94-2.06-.94 2.06-2.06.94z\"/><path d=\"M17.41 7.96l-1.37-1.37c-.4-.4-.92-.59-1.43-.59-.52 0-1.04.2-1.43.59L10.3 9.45l-7.72 7.72c-.78.78-.78 2.05 0 2.83L4 21.41c.39.39.9.59 1.41.59.51 0 1.02-.2 1.41-.59l7.78-7.78 2.81-2.81c.8-.78.8-2.07 0-2.86zM5.41 20L4 18.59l7.72-7.72 1.47 1.35L5.41 20z\"/>\n",
              "  </svg>\n",
              "      </button>\n",
              "      \n",
              "  <style>\n",
              "    .colab-df-container {\n",
              "      display:flex;\n",
              "      flex-wrap:wrap;\n",
              "      gap: 12px;\n",
              "    }\n",
              "\n",
              "    .colab-df-convert {\n",
              "      background-color: #E8F0FE;\n",
              "      border: none;\n",
              "      border-radius: 50%;\n",
              "      cursor: pointer;\n",
              "      display: none;\n",
              "      fill: #1967D2;\n",
              "      height: 32px;\n",
              "      padding: 0 0 0 0;\n",
              "      width: 32px;\n",
              "    }\n",
              "\n",
              "    .colab-df-convert:hover {\n",
              "      background-color: #E2EBFA;\n",
              "      box-shadow: 0px 1px 2px rgba(60, 64, 67, 0.3), 0px 1px 3px 1px rgba(60, 64, 67, 0.15);\n",
              "      fill: #174EA6;\n",
              "    }\n",
              "\n",
              "    [theme=dark] .colab-df-convert {\n",
              "      background-color: #3B4455;\n",
              "      fill: #D2E3FC;\n",
              "    }\n",
              "\n",
              "    [theme=dark] .colab-df-convert:hover {\n",
              "      background-color: #434B5C;\n",
              "      box-shadow: 0px 1px 3px 1px rgba(0, 0, 0, 0.15);\n",
              "      filter: drop-shadow(0px 1px 2px rgba(0, 0, 0, 0.3));\n",
              "      fill: #FFFFFF;\n",
              "    }\n",
              "  </style>\n",
              "\n",
              "      <script>\n",
              "        const buttonEl =\n",
              "          document.querySelector('#df-d055f6ea-9bee-4673-bc90-72f826eaf698 button.colab-df-convert');\n",
              "        buttonEl.style.display =\n",
              "          google.colab.kernel.accessAllowed ? 'block' : 'none';\n",
              "\n",
              "        async function convertToInteractive(key) {\n",
              "          const element = document.querySelector('#df-d055f6ea-9bee-4673-bc90-72f826eaf698');\n",
              "          const dataTable =\n",
              "            await google.colab.kernel.invokeFunction('convertToInteractive',\n",
              "                                                     [key], {});\n",
              "          if (!dataTable) return;\n",
              "\n",
              "          const docLinkHtml = 'Like what you see? Visit the ' +\n",
              "            '<a target=\"_blank\" href=https://colab.research.google.com/notebooks/data_table.ipynb>data table notebook</a>'\n",
              "            + ' to learn more about interactive tables.';\n",
              "          element.innerHTML = '';\n",
              "          dataTable['output_type'] = 'display_data';\n",
              "          await google.colab.output.renderOutput(dataTable, element);\n",
              "          const docLink = document.createElement('div');\n",
              "          docLink.innerHTML = docLinkHtml;\n",
              "          element.appendChild(docLink);\n",
              "        }\n",
              "      </script>\n",
              "    </div>\n",
              "  </div>\n",
              "  "
            ]
          },
          "metadata": {},
          "execution_count": 9
        }
      ],
      "source": [
        "df"
      ]
    },
    {
      "cell_type": "code",
      "execution_count": null,
      "id": "581d6797",
      "metadata": {
        "scrolled": true,
        "colab": {
          "base_uri": "https://localhost:8080/"
        },
        "id": "581d6797",
        "outputId": "7e5e1f2a-42dd-4423-d336-668558c003f6"
      },
      "outputs": [
        {
          "output_type": "stream",
          "name": "stdout",
          "text": [
            "--- Totais por classe --- \n",
            "Normal...:  862\n",
            "ASC-Us...:  286\n",
            "ASC-H....:  536\n",
            "LSIL.....:  598\n",
            "HSIL.....:  874\n",
            "Carcinoma:  77\n"
          ]
        }
      ],
      "source": [
        "# Separa dados por classe de maneira balanceada:\n",
        "data_normal = df[df['bethesda'] == 0].copy()\n",
        "data_normal.set_index((i for i in range(data_normal.shape[0])), inplace=True)\n",
        "\n",
        "data_ascus = df[df['bethesda'] == 1].copy()\n",
        "data_ascus.set_index((i for i in range(data_ascus.shape[0])), inplace=True)\n",
        "\n",
        "data_asch = df[df['bethesda'] == 2].copy()\n",
        "data_asch.set_index((i for i in range(data_asch.shape[0])), inplace=True)\n",
        "\n",
        "data_lsil = df[df['bethesda'] == 3].copy()\n",
        "data_lsil.set_index((i for i in range(data_lsil.shape[0])), inplace=True)\n",
        "\n",
        "data_hsil = df[df['bethesda'] == 4].copy()\n",
        "data_hsil.set_index((i for i in range(data_hsil.shape[0])), inplace=True)\n",
        "\n",
        "data_car = df[df['bethesda'] == 5].copy()\n",
        "data_car.set_index((i for i in range(data_car.shape[0])), inplace=True)\n",
        "\n",
        "print(\"--- Totais por classe --- \")\n",
        "print(\"Normal...: \", data_normal.values.shape[0])\n",
        "print(\"ASC-Us...: \", data_ascus.values.shape[0])\n",
        "print(\"ASC-H....: \", data_asch.values.shape[0])\n",
        "print(\"LSIL.....: \", data_lsil.values.shape[0])\n",
        "print(\"HSIL.....: \", data_hsil.values.shape[0])\n",
        "print(\"Carcinoma: \", data_car.values.shape[0])\n",
        ""
      ]
    },
    {
      "cell_type": "markdown",
      "id": "2ef3e8af",
      "metadata": {
        "id": "2ef3e8af"
      },
      "source": [
        "#### Gera dataframes: dados (data), classes (target) e Ids (image/cell)"
      ]
    },
    {
      "cell_type": "code",
      "execution_count": null,
      "id": "56929844",
      "metadata": {
        "id": "56929844"
      },
      "outputs": [],
      "source": [
        "# Monta base (data, target, image/cells ids)\n",
        "data, target, image_cells_ids= functions.get_database_data_targe_ids(data_normal, data_ascus,\n",
        "                       data_lsil, data_asch, data_hsil,data_car,\n",
        "                       functions.list_all_features(N_EFD_COEFFS))\n",
        ""
      ]
    },
    {
      "cell_type": "markdown",
      "id": "d5e76266",
      "metadata": {
        "id": "d5e76266"
      },
      "source": [
        "#### Tuning de parâmetros (Classificador)\n",
        "Feito apenas uma vez com um subconjunto dos dados e para cada um dos métodos (SVM, RF e XGBOOST).\n",
        "\n",
        "Conjunto de dados para tuning:\n",
        "\n",
        "   X: merge de todas as features selecionadas para o classificador hierarquico (classificadores 1,2,3, e 4)\n",
        "  \n",
        "   y: rótulos das 6 classes Bethesda."
      ]
    },
    {
      "cell_type": "code",
      "execution_count": null,
      "id": "26dc6716",
      "metadata": {
        "colab": {
          "base_uri": "https://localhost:8080/"
        },
        "id": "26dc6716",
        "outputId": "4b17f83e-d986-44d1-f63c-7a99e8ef9a0c"
      },
      "outputs": [
        {
          "output_type": "execute_result",
          "data": {
            "text/plain": [
              "(Counter({1.0: 44, 2.0: 107, 0.0: 172, 3.0: 127, 5.0: 13, 4.0: 184}),\n",
              " Counter({4.0: 690, 2.0: 429, 0.0: 690, 1.0: 242, 3.0: 471, 5.0: 64}))"
            ]
          },
          "metadata": {},
          "execution_count": 12
        }
      ],
      "source": [
        "# Separa dados usando 80% para tuning:\n",
        "(X_train, X_test, y_train, y_test, image_cells_ids_train, image_cells_ids_test) = train_test_split(data, target, image_cells_ids, test_size=0.2, random_state=45)\n",
        "\n",
        "Counter(y_test['bethesda'].values),  Counter(y_train['bethesda'].values)"
      ]
    },
    {
      "cell_type": "code",
      "execution_count": null,
      "id": "b91d5a76",
      "metadata": {
        "id": "b91d5a76"
      },
      "outputs": [],
      "source": [
        "#### Aplica seleção de features (executada em separado): classificadores (1, 2, 3, 4)\n",
        "best_features_spfsr_1 = ['ratio_NC','ratio_NC_per','eN','ratio_NC_hArea','ardN','efdC77','efdC1',\n",
        "                         'efdN58','efdN21','efdN57','efdC55','efdN30','efdC20','efdN50','solidC',\n",
        "                         'efdC37','efdN29']\n",
        "\n",
        "best_features_MI_1 =  ['ratio_NC_per','ratio_NC','ratio_NC_hArea','mrdN','eN','maxAxN',\n",
        "                       'periN', 'ardN','hAreaN','equidiaN','areaN','fdN','compacC','circuC','riN',\n",
        "                       'areaC','hAreaC','periC','minAxC','fdC','maxAxC','ardC','equidiaC','mrdC',\n",
        "                       'circuN','compacN','eC','riC','minAxN','convexN']\n",
        "\n",
        "best_features_spfsr_2 = ['areaC','fdC','eC','ratio_NC','ratio_NC_hArea','equidiaC','maxAxC','periC','compacC','mrdC']\n",
        "\n",
        "\n",
        "best_features_MI_2 =  ['areaC','equidiaC','fdC','ardC','hAreaC','periC','ratio_NC_hArea',\n",
        "                       'ratio_NC','mrdC','maxAxC','eC','ratio_NC_per','riC','minAxC','circuC',\n",
        "                       'compacC','equidiaN','areaN','fdN','hAreaN','periN','minAxN','riN',\n",
        "                       'nucleus_position','ardN','solidC','maxAxN','mrdN','extentC','eN']\n",
        "\n",
        "\n",
        "best_features_spfsr_3 =  ['solidN','nucleus_position','efdN40','efdC17','efdN58','compacN','circuN',\n",
        "                          'efdN43','efdC51','efdN26','efdN76','efdN47','efdN5','efdC24','sdnrlN',\n",
        "                          'efdN61','efdC65','efdC61','raC','ratio_NC_per','efdN44','sdnrlC',\n",
        "                          'efdC19','efdN11','efdC8','efdN56','efdC52','efdN55','efdC4','solidC']\n",
        "\n",
        "best_features_MI_3 = ['efdC39','efdC31','efdN76','efdC33','efdC63','efdN12','efdC41','efdC44',\n",
        "                      'efdN39','efdN15','efdC56','efdC66','efdN13','efdC14','mrdN','efdN25',\n",
        "                      'fdC','circuC','efdC51','efdC3','extentN','efdN2','compacC','efdC18',\n",
        "                      'efdN48','efdN62','minAxN','efdN65','efdC4','efdC24']\n",
        "\n",
        "best_features_spfsr_4 =  ['ratio_NC_per','ratio_NC','ratio_NC_hArea','areaC','efdC19','efdN45',\n",
        "                          'efdN73','efdC22','efdC21','efdC30','efdC47','efdN11','efdN50','hAreaN',\n",
        "                          'efdN2','efdC46']\n",
        "\n",
        "best_features_MI_4 =  ['ratio_NC','ratio_NC_hArea','ratio_NC_per','areaC','compacC','circuC',\n",
        "                       'mrdC','solidC','eC','periC','ardC','extentC','nucleus_position','maxAxC',\n",
        "                       'eccenC','riC','raC','convexN','hAreaC','convexC','efdC32','efdC62',\n",
        "                       'efdC2','raN','efdN9','efdC52','efdC6','efdN60','efdC22','efdN20']"
      ]
    },
    {
      "cell_type": "code",
      "execution_count": null,
      "id": "513173bc",
      "metadata": {
        "colab": {
          "base_uri": "https://localhost:8080/"
        },
        "id": "513173bc",
        "outputId": "b016e32f-1112-474c-d33a-680f5a4a627c"
      },
      "outputs": [
        {
          "output_type": "execute_result",
          "data": {
            "text/plain": [
              "(30, 16, list)"
            ]
          },
          "metadata": {},
          "execution_count": 14
        }
      ],
      "source": [
        "len(best_features_MI_4), len(best_features_spfsr_4), type(best_features_spfsr_1)"
      ]
    },
    {
      "cell_type": "code",
      "execution_count": null,
      "id": "5c81bee7",
      "metadata": {
        "id": "5c81bee7"
      },
      "outputs": [],
      "source": [
        "#features_sel = list(set(best_features_MI_1 + best_features_MI_2 +\n",
        "#                        best_features_MI_3 + best_features_MI_4 ))\n",
        "features_sel = list(set(best_features_spfsr_1 + best_features_spfsr_2 +\n",
        "                        best_features_spfsr_3 + best_features_spfsr_4))\n",
        "#len(features_sel), features_sel"
      ]
    },
    {
      "cell_type": "markdown",
      "id": "e38452a6",
      "metadata": {
        "id": "e38452a6"
      },
      "source": [
        "##### Funções TUNING:"
      ]
    },
    {
      "cell_type": "code",
      "execution_count": null,
      "id": "3254df4e",
      "metadata": {
        "id": "3254df4e"
      },
      "outputs": [],
      "source": [
        "#Funções tuning/gridsearch (SVM, RF, XGBoost)\n",
        "from sklearn.model_selection import GridSearchCV, RandomizedSearchCV\n",
        "from sklearn.metrics import classification_report\n",
        "\n",
        "def grid_search_SVM(model, params, X, y):\n",
        "    grid_search = GridSearchCV(\n",
        "        model, params, scoring= ['accuracy', 'f1_weighted'], refit='f1_weighted'\n",
        "    )\n",
        "    grid_search.fit(X, y)\n",
        "    y_pred = grid_search.predict(X)\n",
        "    print(classification_report(y, y_pred))\n",
        "    return (grid_search.best_params_)\n",
        "\n",
        "def grid_search_RF(model, params, X, y):\n",
        "    grid_search = GridSearchCV(model, param_grid = params,\n",
        "        scoring= 'accuracy')\n",
        "    grid_search.fit(X, y)\n",
        "    y_pred = grid_search.predict(X)\n",
        "    print(classification_report(y, y_pred))\n",
        "    return (grid_search.best_params_)\n",
        "\n",
        "def grid_search_XGB(model, params, X, y):\n",
        "    folds = 5\n",
        "    param_comb = 150\n",
        "    skf = StratifiedKFold(n_splits=folds, shuffle = True, random_state = 1001)\n",
        "\n",
        "    random_search = RandomizedSearchCV(model, param_distributions= params,\n",
        "                        n_iter=param_comb, scoring='accuracy', n_jobs=-1,\n",
        "                        cv=skf.split(X,y), random_state=1001)\n",
        "\n",
        "    start_time = functions.timer(None) # Tempo inicial\n",
        "    random_search.fit(X, y)\n",
        "    functions.timer(start_time)\n",
        "\n",
        "    print('\\n Best estimator:')\n",
        "    print(random_search.best_estimator_)\n",
        "    print('\\n Best score for %d-fold search with %d parameter combinations:' % (folds, param_comb))\n",
        "    print(random_search.best_score_ )\n",
        "    results = pd.DataFrame(random_search.cv_results_)\n",
        "\n",
        "    return random_search.best_params_, results\n",
        "\n",
        "\n",
        "### Funções melhoradas para XGBoost: (função similar à: (https://www.analyticsvidhya.com Assunto:Complete Guide to Parameter Tuning in XGBoost))\n",
        "def modelfit(alg, x_train, y_train, useTrainCV=True, cv_folds=5, early_stopping_rounds=50):\n",
        "    if useTrainCV:\n",
        "        xgb_param = alg.get_xgb_params()\n",
        "        xgtrain = xgb.DMatrix(x_train.values, label=y_train.values)\n",
        "        cvresult = xgb.cv(xgb_param, xgtrain, num_boost_round=alg.get_params()['n_estimators'], nfold=cv_folds,\n",
        "            metrics='merror', early_stopping_rounds=early_stopping_rounds, verbose_eval= None)\n",
        "        print('Estimadores: ', cvresult.shape[0])\n",
        "        alg.set_params(n_estimators=cvresult.shape[0])\n",
        "\n",
        "    #Fit the algorithm on the data\n",
        "    alg.fit(x_train, y_train,eval_metric='merror')\n",
        "\n",
        "    #Predict training set:\n",
        "    dtrain_predictions = alg.predict(x_train)\n",
        "\n",
        "    #Print model report:\n",
        "    print (\"\\nModel Report\")\n",
        "    print (\"Accuracy : %.4g\" % accuracy_score(y_train, dtrain_predictions))\n"
      ]
    },
    {
      "cell_type": "markdown",
      "source": [
        "###### Tuning para XGBoost"
      ],
      "metadata": {
        "id": "7qm-wsfmSuHq"
      },
      "id": "7qm-wsfmSuHq"
    },
    {
      "cell_type": "code",
      "source": [
        "## Etapa 1: definindo n_estimadors para learning_rate de 0.1\n",
        "start_t = functions.timer()\n",
        "xgb1 = xgb.XGBClassifier(\n",
        " learning_rate =0.1,\n",
        " n_estimators=1000,\n",
        " max_depth=5,\n",
        " min_child_weight=1,\n",
        " gamma=0,\n",
        " subsample=0.8,\n",
        " colsample_bytree=0.8,\n",
        " objective= 'multi:softmax',\n",
        " num_class= 6,\n",
        " nthread=4,\n",
        " scale_pos_weight=1,\n",
        " seed=27)\n",
        "modelfit(xgb1, X_train, y_train['bethesda'])\n",
        "\n",
        "functions.timer(start_time=start_t)"
      ],
      "metadata": {
        "colab": {
          "base_uri": "https://localhost:8080/"
        },
        "id": "Jy4UYld6S6-e",
        "outputId": "36475296-06cf-40d8-c348-ef6640e71dff"
      },
      "id": "Jy4UYld6S6-e",
      "execution_count": null,
      "outputs": [
        {
          "output_type": "stream",
          "name": "stderr",
          "text": [
            "/usr/local/lib/python3.8/dist-packages/xgboost/core.py:613: UserWarning: Use subset (sliced data) of np.ndarray is not recommended because it will generate extra copies and increase memory consumption\n",
            "  warnings.warn(\"Use subset (sliced data) of np.ndarray is not recommended \" +\n"
          ]
        },
        {
          "output_type": "stream",
          "name": "stdout",
          "text": [
            "Passou aqui\n",
            "Estimadores:  148\n",
            "\n",
            "Model Report\n",
            "Accuracy : 1\n",
            "\n",
            " Time taken: 0 hours 2 minutes and 57.69 seconds.\n"
          ]
        }
      ]
    },
    {
      "cell_type": "code",
      "source": [
        "## Etapa 2: definindo max_depth e min_child_weight com n_estimadors=148 e learning_rate de 0.1\n",
        "start_t = functions.timer()\n",
        "param_test1 = {\n",
        " 'max_depth':range(3,10,2),\n",
        " 'min_child_weight':range(1,6,2)\n",
        "}\n",
        "alg = xgb.XGBClassifier(learning_rate =0.1, n_estimators=148, max_depth=5,\n",
        "                                          min_child_weight=1, gamma=0, subsample=0.8, colsample_bytree=0.8,\n",
        "                                          objective= 'multi:softmax', num_class= 6, nthread=4, scale_pos_weight=1, seed=27)\n",
        "gsearch1 = GridSearchCV(estimator = alg, param_grid = param_test1, scoring='accuracy', n_jobs=4, cv=5)\n",
        "\n",
        "gsearch1.fit(X_train, y_train['bethesda'])\n",
        "functions.timer(start_time=start_t)"
      ],
      "metadata": {
        "colab": {
          "base_uri": "https://localhost:8080/"
        },
        "id": "HjL2apO2iITb",
        "outputId": "0390ed25-aacb-418d-dffe-286f48a63166"
      },
      "id": "HjL2apO2iITb",
      "execution_count": null,
      "outputs": [
        {
          "output_type": "stream",
          "name": "stdout",
          "text": [
            "\n",
            " Time taken: 0 hours 21 minutes and 21.79 seconds.\n"
          ]
        }
      ]
    },
    {
      "cell_type": "code",
      "source": [
        "gsearch1.best_params_, gsearch1.best_score_"
      ],
      "metadata": {
        "colab": {
          "base_uri": "https://localhost:8080/"
        },
        "id": "goy5PVABr61P",
        "outputId": "2e3f387d-fc11-46da-82de-ae3d0770b030"
      },
      "id": "goy5PVABr61P",
      "execution_count": null,
      "outputs": [
        {
          "output_type": "execute_result",
          "data": {
            "text/plain": [
              "({'max_depth': 9, 'min_child_weight': 1}, 0.7173229875357535)"
            ]
          },
          "metadata": {},
          "execution_count": 65
        }
      ]
    },
    {
      "cell_type": "code",
      "source": [
        "## Etapa 3/: refinando max_depth com min_child_weight=1 com n_estimadors=148 e learning_rate de 0.1\n",
        "start_t = functions.timer()\n",
        "param_test2 = {\n",
        " 'max_depth':[8,9,10],\n",
        " 'min_child_weight':[1,2,3]\n",
        "}\n",
        "\n",
        "alg = xgb.XGBClassifier(learning_rate =0.2, n_estimators=148, max_depth=9,\n",
        "                                          min_child_weight=1, gamma=0, subsample=0.8, colsample_bytree=0.8,\n",
        "                                          objective= 'multi:softmax', num_class= 6, scale_pos_weight=1, seed=27)\n",
        "gsearch2 = GridSearchCV(estimator = alg, param_grid = param_test2, scoring='accuracy', n_jobs=-1, cv=5)\n",
        "\n",
        "gsearch2.fit(X_train, y_train['bethesda'])\n",
        "functions.timer(start_time=start_t)"
      ],
      "metadata": {
        "colab": {
          "base_uri": "https://localhost:8080/"
        },
        "id": "qY5aPmwuzz85",
        "outputId": "406e1ae5-a78a-4157-f5b0-05db0c317d21"
      },
      "id": "qY5aPmwuzz85",
      "execution_count": null,
      "outputs": [
        {
          "output_type": "stream",
          "name": "stdout",
          "text": [
            "\n",
            " Time taken: 0 hours 15 minutes and 38.6 seconds.\n"
          ]
        }
      ]
    },
    {
      "cell_type": "code",
      "source": [
        "gsearch2.best_params_, gsearch2.best_score_"
      ],
      "metadata": {
        "colab": {
          "base_uri": "https://localhost:8080/"
        },
        "id": "OvtwUCL31eR7",
        "outputId": "bc9d4d80-13f2-41b8-bc7b-b191b68ad1bc"
      },
      "id": "OvtwUCL31eR7",
      "execution_count": null,
      "outputs": [
        {
          "output_type": "execute_result",
          "data": {
            "text/plain": [
              "({'max_depth': 9, 'min_child_weight': 5}, 0.7211914594893318)"
            ]
          },
          "metadata": {},
          "execution_count": 19
        }
      ]
    },
    {
      "cell_type": "code",
      "source": [
        "## Etapa 4: definindo gamma max_depth=9 com min_child_weight=1 com n_estimadors=148 e learning_rate de 0.1\n",
        "start_t = functions.timer()\n",
        "param_test3 = {\n",
        " 'gamma':[i/10.0 for i in range(0,5)]\n",
        "}\n",
        "alg = xgb.XGBClassifier(learning_rate =0.1, n_estimators=148, max_depth=9,\n",
        "                                          min_child_weight=1, gamma=0, subsample=0.8, colsample_bytree=0.8,\n",
        "                                          objective= 'multi:softmax', num_class= 6, scale_pos_weight=1, seed=27)\n",
        "\n",
        "gsearch3 = GridSearchCV(estimator = alg, param_grid = param_test3,  scoring='accuracy', n_jobs=-1, cv=5)\n",
        "\n",
        "gsearch3.fit(X_train, y_train['bethesda'])\n",
        "functions.timer(start_time=start_t)"
      ],
      "metadata": {
        "colab": {
          "base_uri": "https://localhost:8080/"
        },
        "id": "R9CWUkmr4jfI",
        "outputId": "e04e6e0b-2776-4139-bc02-bf746f273bfd"
      },
      "id": "R9CWUkmr4jfI",
      "execution_count": null,
      "outputs": [
        {
          "output_type": "stream",
          "name": "stdout",
          "text": [
            "\n",
            " Time taken: 0 hours 12 minutes and 46.99 seconds.\n"
          ]
        }
      ]
    },
    {
      "cell_type": "code",
      "source": [
        "gsearch3.best_params_, gsearch3.best_score_"
      ],
      "metadata": {
        "colab": {
          "base_uri": "https://localhost:8080/"
        },
        "id": "zKHxQwpr5lSs",
        "outputId": "807183be-241c-40c1-bd83-e9621c464483"
      },
      "id": "zKHxQwpr5lSs",
      "execution_count": null,
      "outputs": [
        {
          "output_type": "execute_result",
          "data": {
            "text/plain": [
              "({'gamma': 0.0}, 0.7173229875357535)"
            ]
          },
          "metadata": {},
          "execution_count": 71
        }
      ]
    },
    {
      "cell_type": "code",
      "source": [
        "## Etapa 5: definindo subsample, colsample_bytree\n",
        "start_t = functions.timer()\n",
        "param_test4 = {\n",
        " 'subsample':[i/10.0 for i in range(7,10)],\n",
        " 'colsample_bytree':[i/10.0 for i in range(7,10)]\n",
        "}\n",
        "\n",
        "alg = xgb.XGBClassifier(learning_rate =0.1, n_estimators=148, max_depth=9,\n",
        "                        min_child_weight=1, gamma=0, subsample=0.8, colsample_bytree=0.8,\n",
        "                        objective= 'multi:softmax', num_class= 6, scale_pos_weight=1, seed=27)\n",
        "\n",
        "gsearch4 = GridSearchCV(estimator = alg, param_grid = param_test4,  scoring='accuracy', n_jobs=-1, cv=5)\n",
        "\n",
        "gsearch4.fit(X_train, y_train['bethesda'])\n",
        "functions.timer(start_time=start_t)"
      ],
      "metadata": {
        "colab": {
          "base_uri": "https://localhost:8080/"
        },
        "id": "MZ8QIx0AHgqM",
        "outputId": "6c92005b-64da-455b-88dc-06bd5c5b44e0"
      },
      "id": "MZ8QIx0AHgqM",
      "execution_count": null,
      "outputs": [
        {
          "output_type": "stream",
          "name": "stdout",
          "text": [
            "\n",
            " Time taken: 0 hours 20 minutes and 48.24 seconds.\n"
          ]
        }
      ]
    },
    {
      "cell_type": "code",
      "source": [
        "gsearch4.best_params_, gsearch4.best_score_"
      ],
      "metadata": {
        "colab": {
          "base_uri": "https://localhost:8080/"
        },
        "id": "IDOI36UUIQPE",
        "outputId": "b7d303bf-10b8-493a-fbb7-35c1413cada6"
      },
      "id": "IDOI36UUIQPE",
      "execution_count": null,
      "outputs": [
        {
          "output_type": "execute_result",
          "data": {
            "text/plain": [
              "({'colsample_bytree': 0.7, 'subsample': 0.9}, 0.719259463940315)"
            ]
          },
          "metadata": {},
          "execution_count": 73
        }
      ]
    },
    {
      "cell_type": "code",
      "source": [
        "## Etapa 6: definindo reg_alpha  #L1 regularization term on weights#\n",
        "\n",
        "start_t = functions.timer()\n",
        "param_test6 = {\n",
        " 'max_delta_step': [0, 5, 10],\n",
        " 'reg_alpha':[1e-5, 1e-3,1e-2, 0.1, 0.5]\n",
        "}\n",
        "\n",
        "alg = xgb.XGBClassifier(learning_rate =0.1, n_estimators=148, max_depth=9,\n",
        "                        min_child_weight=1, gamma=0, subsample=0.9, colsample_bytree=0.7,\n",
        "                        objective= 'multi:softmax', num_class= 6, scale_pos_weight=1, seed=27)\n",
        "\n",
        "gsearch6 = GridSearchCV(estimator = alg, param_grid = param_test6,  scoring='accuracy', n_jobs=-1, cv=5)\n",
        "\n",
        "gsearch6.fit(X_train, y_train['bethesda'])\n",
        "functions.timer(start_time=start_t)"
      ],
      "metadata": {
        "colab": {
          "base_uri": "https://localhost:8080/"
        },
        "id": "d6mod5BrIg_F",
        "outputId": "2327d4fc-5ffb-4ddb-b6f6-257a49850cf4"
      },
      "id": "d6mod5BrIg_F",
      "execution_count": null,
      "outputs": [
        {
          "output_type": "stream",
          "name": "stdout",
          "text": [
            "\n",
            " Time taken: 0 hours 37 minutes and 45.57 seconds.\n"
          ]
        }
      ]
    },
    {
      "cell_type": "code",
      "source": [
        "gsearch6.best_params_, gsearch6.best_score_"
      ],
      "metadata": {
        "colab": {
          "base_uri": "https://localhost:8080/"
        },
        "id": "m3fUVHb-I6ep",
        "outputId": "c99302cb-422a-4fab-d9d6-6ab122df4169"
      },
      "id": "m3fUVHb-I6ep",
      "execution_count": null,
      "outputs": [
        {
          "output_type": "execute_result",
          "data": {
            "text/plain": [
              "({'max_delta_step': 0, 'reg_alpha': 0.001}, 0.7204162714801012)"
            ]
          },
          "metadata": {},
          "execution_count": 81
        }
      ]
    },
    {
      "cell_type": "code",
      "source": [
        "start_t = functions.timer()\n",
        "#xgb_param = {'learning_rate': 0.1, 'n_estimators': 148, 'max_depth': 9, 'min_child_weight':1,\n",
        "#              'gamma':0, 'subsample':0.9, 'colsample_bytree':0.7, 'reg_alpha': 0.001}\n",
        "#alg = xgb.XGBClassifier(objective= 'multi:softmax', num_class= 6, seed=27).set_params(**xgb_param)\n",
        "\n",
        "xgb7 = xgb.XGBClassifier(\n",
        " learning_rate =0.1,\n",
        " n_estimators=5000,\n",
        " max_depth=9,\n",
        " min_child_weight=1,\n",
        " gamma=0,\n",
        " subsample=0.9,\n",
        " colsample_bytree=0.7,\n",
        " objective= 'multi:softmax',\n",
        " num_class= 6,\n",
        " nthread=4,\n",
        " reg_alpha= 0.001,\n",
        " seed=27)\n",
        "modelfit(xgb7, X_train, y_train['bethesda'])\n",
        "\n",
        "functions.timer(start_time=start_t)"
      ],
      "metadata": {
        "colab": {
          "base_uri": "https://localhost:8080/"
        },
        "id": "31cxFtBs1z_v",
        "outputId": "66b883ef-395d-4693-cc06-ee825eb430ce"
      },
      "id": "31cxFtBs1z_v",
      "execution_count": null,
      "outputs": [
        {
          "output_type": "stream",
          "name": "stderr",
          "text": [
            "/usr/local/lib/python3.8/dist-packages/xgboost/core.py:613: UserWarning: Use subset (sliced data) of np.ndarray is not recommended because it will generate extra copies and increase memory consumption\n",
            "  warnings.warn(\"Use subset (sliced data) of np.ndarray is not recommended \" +\n"
          ]
        },
        {
          "output_type": "stream",
          "name": "stdout",
          "text": [
            "Passou aqui\n",
            "Estimadores:  86\n",
            "\n",
            "Model Report\n",
            "Accuracy : 1\n",
            "\n",
            " Time taken: 0 hours 2 minutes and 30.3 seconds.\n"
          ]
        }
      ]
    },
    {
      "cell_type": "code",
      "execution_count": null,
      "id": "2a044be7",
      "metadata": {
        "id": "2a044be7",
        "outputId": "eae153d2-9430-4a68-9d6f-f88c9bfe6a0d"
      },
      "outputs": [
        {
          "name": "stdout",
          "output_type": "stream",
          "text": [
            "              precision    recall  f1-score   support\n",
            "\n",
            "         0.0       0.95      0.94      0.94       690\n",
            "         1.0       0.71      0.21      0.32       242\n",
            "         2.0       0.61      0.46      0.52       429\n",
            "         3.0       0.68      0.91      0.78       471\n",
            "         4.0       0.70      0.85      0.77       690\n",
            "         5.0       0.89      0.52      0.65        64\n",
            "\n",
            "    accuracy                           0.75      2586\n",
            "   macro avg       0.76      0.65      0.66      2586\n",
            "weighted avg       0.75      0.75      0.73      2586\n",
            "\n",
            "Best svm params:  {'C': 100, 'kernel': 'linear'}\n"
          ]
        }
      ],
      "source": [
        "svm_params = [\n",
        "    {\"kernel\": [\"rbf\"], \"gamma\": [1e-3, 1e-4], \"C\": [1, 10, 100, 1000]},\n",
        "    {\"kernel\": [\"linear\"], \"C\": [1, 10, 100, 1000]},\n",
        "    {\"kernel\": [\"poly\"], \"degree\":[2,3,4], \"gamma\": [1e-3, 1e-4], \"coef0\":[2e-1, 2e-2] , \"C\": [1, 10, 100, 1000]},\n",
        "]\n",
        "#svm_param =  grid_search_SVM(SVC(), svm_params, X_train[features_sel], y_train['bethesda'])\n",
        "#print('Best svm params: ', svm_param)"
      ]
    },
    {
      "cell_type": "code",
      "execution_count": null,
      "id": "07eb6f5c",
      "metadata": {
        "id": "07eb6f5c",
        "outputId": "5069917a-2193-478e-f8ed-d9601e84868b"
      },
      "outputs": [
        {
          "name": "stdout",
          "output_type": "stream",
          "text": [
            "              precision    recall  f1-score   support\n",
            "\n",
            "         0.0       0.98      0.93      0.95       690\n",
            "         1.0       0.88      0.21      0.35       242\n",
            "         2.0       0.78      0.70      0.74       429\n",
            "         3.0       0.69      0.98      0.81       471\n",
            "         4.0       0.81      0.93      0.87       690\n",
            "         5.0       1.00      0.42      0.59        64\n",
            "\n",
            "    accuracy                           0.82      2586\n",
            "   macro avg       0.86      0.70      0.72      2586\n",
            "weighted avg       0.84      0.82      0.80      2586\n",
            "\n",
            "Best Random Forest params:  {'max_depth': 7, 'min_samples_split': 10, 'n_estimators': 50}\n"
          ]
        }
      ],
      "source": [
        "rf_params = {'max_depth': [5, 7, 8, 9],\n",
        "            'min_samples_split': [5, 9, 10, 12],\n",
        "            'n_estimators': [30, 40, 50, 60, 100]\n",
        "            }\n",
        "#rf_param = grid_search_RF(RandomForestClassifier(random_state=0),\n",
        "#                             rf_params, X_train[features_sel], y_train['bethesda'])\n",
        "#print('Best Random Forest params: ', rf_param)"
      ]
    },
    {
      "cell_type": "code",
      "execution_count": null,
      "id": "ef98f9ae",
      "metadata": {
        "id": "ef98f9ae"
      },
      "outputs": [],
      "source": [
        "xgb_params = {\n",
        "        'min_child_weight': [1, 5, 7, 10],\n",
        "        'gamma': [0, 0.3, 0.5, 1],\n",
        "        'subsample': [0.6, 0.8, 1.0],\n",
        "        'colsample_bytree': [0.6, 0.8, 1.0],\n",
        "        'max_depth': [3, 4, 5, 6, 7]\n",
        "        }\n",
        "\n",
        "\n",
        "#xgb_param, result = grid_search_XGB(xgb.XGBClassifier(learning_rate=0.2,\n",
        "#                                               n_estimators=200, objective='multi:softprob'),\n",
        "#                                    xgb_params, X_train[features_sel], y_train['bethesda'])\n",
        "#print('Best XGBoost params: ', xgb_param)"
      ]
    },
    {
      "cell_type": "code",
      "execution_count": null,
      "id": "e02587fc",
      "metadata": {
        "id": "e02587fc"
      },
      "outputs": [],
      "source": [
        "## Duração: despresível\n",
        "svm_param =  {'C': 100, 'kernel': 'linear'}\n",
        "rf_param = {'max_depth': 7, 'min_samples_split': 10, 'n_estimators': 50}\n",
        "\n",
        "## Duração ~ 1,50h\n",
        "xgb_param = {'learning_rate': 0.1, 'n_estimators': 86, 'max_depth': 9, 'min_child_weight':1,\n",
        "              'gamma':0, 'subsample':0.9, 'colsample_bytree':0.7, 'reg_alpha': 0.001}\n"
      ]
    }
  ],
  "metadata": {
    "kernelspec": {
      "display_name": "Python 3 (ipykernel)",
      "language": "python",
      "name": "python3"
    },
    "language_info": {
      "codemirror_mode": {
        "name": "ipython",
        "version": 3
      },
      "file_extension": ".py",
      "mimetype": "text/x-python",
      "name": "python",
      "nbconvert_exporter": "python",
      "pygments_lexer": "ipython3",
      "version": "3.9.1"
    },
    "colab": {
      "provenance": []
    }
  },
  "nbformat": 4,
  "nbformat_minor": 5
}