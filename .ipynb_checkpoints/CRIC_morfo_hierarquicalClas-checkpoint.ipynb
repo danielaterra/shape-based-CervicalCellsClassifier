{
 "cells": [
  {
   "cell_type": "markdown",
   "id": "5b43ab41",
   "metadata": {},
   "source": [
    "## Classificador binário para características morfométricas de núcleo/citoplasma de células cervicais "
   ]
  },
  {
   "cell_type": "code",
   "execution_count": 136,
   "id": "cd46ce97",
   "metadata": {},
   "outputs": [],
   "source": [
    "import numpy as np\n",
    "import pandas as pd \n",
    "from math import sqrt\n",
    "import os\n",
    "import sys\n",
    "import csv\n",
    "from collections import Counter\n",
    "from PIL import Image\n",
    "import matplotlib.pyplot as plt\n",
    "from matplotlib.pyplot import imshow \n",
    "from skimage import morphology, measure\n",
    "from skimage.draw import polygon, polygon_perimeter\n",
    "from scipy.spatial.distance import cdist\n",
    "from scipy.stats import kurtosis\n",
    "\n",
    "import pyefd\n",
    "from pyefd import elliptic_fourier_descriptors, normalize_efd\n",
    "\n",
    "from sklearn.metrics import accuracy_score, balanced_accuracy_score\n",
    "from sklearn.metrics import precision_score, recall_score\n",
    "from sklearn.metrics import confusion_matrix, ConfusionMatrixDisplay\n",
    "from sklearn.metrics import f1_score\n",
    "from sklearn.metrics import confusion_matrix\n",
    "from sklearn.metrics import roc_curve, auc\n",
    "from sklearn.model_selection import train_test_split\n",
    "from sklearn.neighbors import KNeighborsClassifier\n",
    "from sklearn.naive_bayes import GaussianNB\n",
    "from sklearn.svm import SVC\n",
    "from sklearn.ensemble import RandomForestClassifier\n",
    "from sklearn.model_selection import train_test_split, StratifiedKFold\n",
    "\n",
    "from sklearn import feature_selection as fs\n",
    "\n",
    "# pay attention to capitalization below!\n",
    "from spFSR import SpFSR\n",
    "from imblearn.over_sampling import SMOTE, ADASYN, SVMSMOTE, BorderlineSMOTE\n",
    "\n",
    "from itertools import cycle\n",
    "from random import randint\n",
    "from random import sample\n",
    "\n",
    "import xgboost as xgb \n"
   ]
  },
  {
   "cell_type": "code",
   "execution_count": 137,
   "id": "b3b5ed51",
   "metadata": {},
   "outputs": [],
   "source": [
    "Bethesda_classes = {'Normal':0, 'ASC-US':1, 'ASC-H':2, 'LSIL':3,'HSIL':4, 'Invasive Carcinoma':5} \n",
    "Bethesda_idx_classes = {0: 'Normal', 1:'ASC-US', 2:'ASC-H', 3:'LSIL',4: 'HSIL', 5:'Invasive Carcinoma'} "
   ]
  },
  {
   "cell_type": "markdown",
   "id": "9801f6b7",
   "metadata": {},
   "source": [
    "### Funções para listar features:"
   ]
  },
  {
   "cell_type": "code",
   "execution_count": 163,
   "id": "e07dc646",
   "metadata": {},
   "outputs": [],
   "source": [
    "def list_all_features(n_efd_coeffs):\n",
    "   # n_efd_coeffs: número de coefficientes a considerar (série Eliptica de fourier - EFD) para N e C\n",
    "     \n",
    "   feature_labels=['areaN', 'eccenN', 'extentN', 'periN', 'maxAxN', 'minAxN',\n",
    "                   'compacN', 'circuN', 'convexN', 'hAreaN', 'solidN', 'equidiaN', \n",
    "                   'elonN', 'sdnrlN', 'raN', 'riN', 'eN', 'kN', 'mrdN', 'ardN', 'fdN'] \n",
    "   \n",
    "   efdNs = ['efdN'+str(i) for i in range(1, (n_efd_coeffs*4+1 - 3))]  \n",
    "   for name_f in efdNs:\n",
    "       feature_labels.append(name_f) \n",
    "   \n",
    "   aux=['areaC', 'eccenC', 'extentC', 'periC', 'maxAxC', 'minAxC',\n",
    "         'compacC', 'circuC', 'convexC', 'hAreaC', 'solidC', 'equidiaC', \n",
    "          'elonC', 'sdnrlC', 'raC', 'riC', 'eC', 'kC', 'mrdC', 'ardC', 'fdC'] \n",
    "   for name_f in aux:\n",
    "       feature_labels.append(name_f)\n",
    "\n",
    "   efdCs = ['efdC'+str(i) for i in range(1, (n_efd_coeffs*4+1 - 3))]  \n",
    "   for name_f in efdCs:\n",
    "       feature_labels.append(name_f)\n",
    "    \n",
    "   aux = ['ratio_NC', 'ratio_NC_per', 'ratio_NC_hArea', 'nucleus_position']\n",
    "\n",
    "   for name_f in aux:\n",
    "       feature_labels.append(name_f)\n",
    "   return feature_labels   \n",
    "\n",
    "def list_all_EFD_features(n_efd_coeffs):\n",
    "   # n_efd_coeffs: número de coefficientes a considerar (série Eliptica de fourier - EFD) para N e C\n",
    "\n",
    "   feature_labels = ['efdN'+str(i) for i in range(1, (n_efd_coeffs*4+1 - 3))]      \n",
    "   efdCs = ['efdC'+str(i) for i in range(1, (n_efd_coeffs*4+1 - 3))]  \n",
    "   for name_f in efdCs:\n",
    "       feature_labels.append(name_f)\n",
    "   return feature_labels   \n",
    "\n",
    "\n",
    "def list_all_nucleus_features(n_efd_coeffs):\n",
    "   # n_efd_coeffs: número de coefficientes a considerar (série Eliptica de fourier - EFD) para N e C\n",
    "     \n",
    "   feature_labels=['areaN', 'eccenN', 'extentN', 'periN', 'maxAxN', 'minAxN',\n",
    "                   'compacN', 'circuN', 'convexN', 'hAreaN', 'solidN', 'equidiaN', \n",
    "                   'elonN', 'sdnrlN', 'raN', 'riN', 'eN', 'kN', 'mrdN', 'ardN', 'fdN'] \n",
    "   \n",
    "   efdNs = ['efdN'+str(i) for i in range(1, (n_efd_coeffs*4+1 - 3))]  \n",
    "   for name_f in efdNs:\n",
    "       feature_labels.append(name_f) \n",
    "    \n",
    "   #TODO: incluir features abaixo? \n",
    "   #aux = ['ratio_NC', 'ratio_NC_per', 'ratio_NC_hArea', 'nucleus_position']\n",
    "   #for name_f in aux:\n",
    "   #    feature_labels.append(name_f)\n",
    "\n",
    "   return feature_labels   \n",
    "\n",
    "def list_all_cyto_features(n_efd_coeffs):\n",
    "   # n_efd_coeffs: número de coefficientes a considerar (série Eliptica de fourier - EFD) para N e C\n",
    "     \n",
    "   feature_labels =['areaC', 'eccenC', 'extentC', 'periC', 'maxAxC', 'minAxC',\n",
    "         'compacC', 'circuC', 'convexC', 'hAreaC', 'solidC', 'equidiaC', \n",
    "          'elonC', 'sdnrlC', 'raC', 'riC', 'eC', 'kC', 'mrdC', 'ardC', 'fdC'] \n",
    "\n",
    "   efdCs = ['efdC'+str(i) for i in range(1, (n_efd_coeffs*4+1 - 3))]  \n",
    "   for name_f in efdCs:\n",
    "       feature_labels.append(name_f)\n",
    "    \n",
    "   #aux = ['ratio_NC', 'ratio_NC_per', 'ratio_NC_hArea', 'nucleus_position']\n",
    "   #for name_f in aux:\n",
    "   #    feature_labels.append(name_f)\n",
    "    \n",
    "   return feature_labels   "
   ]
  },
  {
   "cell_type": "code",
   "execution_count": 168,
   "id": "4457980a",
   "metadata": {},
   "outputs": [
    {
     "data": {
      "text/plain": [
       "(200, 98, 98, 154)"
      ]
     },
     "execution_count": 168,
     "metadata": {},
     "output_type": "execute_result"
    }
   ],
   "source": [
    "len(list_all_features(20)), len(list_all_nucleus_features(20)), len(list_all_cyto_features(20)), len(list_all_EFD_features(20))"
   ]
  },
  {
   "cell_type": "markdown",
   "id": "9df1bc67",
   "metadata": {},
   "source": [
    "### Funções para normalizar (todos os dados)"
   ]
  },
  {
   "cell_type": "code",
   "execution_count": 170,
   "id": "3690bd6d",
   "metadata": {},
   "outputs": [],
   "source": [
    "## Normaliza dados\n",
    "def normalize(min, max, value):\n",
    "    return (value-min)/(max - min)\n",
    "\n",
    "def normalize_prop(prop, df):\n",
    "    min = np.min(df[prop].values)\n",
    "    max = np.max(df[prop].values)\n",
    "    return (normalize(min, max, df[prop].values))\n",
    "\n",
    "# Filtra/normaliza dados\n",
    "def normalize_dataset(df, n_efd_coeffs):\n",
    "  dataset = df.copy()\n",
    "   \n",
    "  dataset.areaN = normalize_prop('areaN', df)\n",
    "  dataset.eccenN = normalize_prop('eccenN', df) \n",
    "  dataset.extentN = normalize_prop('extentN', df)\n",
    "  dataset.periN = normalize_prop('periN', df)\n",
    "  dataset.maxAxN = normalize_prop('maxAxN', df)  \n",
    "  dataset.minAxN = normalize_prop('minAxN', df)  \n",
    "  dataset.compacN = normalize_prop('compacN', df)\n",
    "  dataset.circuN = normalize_prop('circuN', df)\n",
    "  dataset.convexN = normalize_prop('convexN', df)\n",
    "  dataset.hAreaN = normalize_prop('hAreaN', df)\n",
    "  dataset.solidN = normalize_prop('solidN', df) \n",
    "  dataset.equidiaN = normalize_prop('equidiaN', df) \n",
    "  dataset.elonN = normalize_prop('elonN', df)\n",
    "  dataset.eN = normalize_prop('eN', df)  \n",
    "  dataset.kN = normalize_prop('kN', df)  \n",
    "  dataset.mrdN = normalize_prop('mrdN', df)  \n",
    "  dataset.ardN = normalize_prop('ardN', df)  \n",
    "  dataset.fdN = normalize_prop('fdN', df)       \n",
    "  efds = ['efdN'+str(i) for i in range(1,(n_efd_coeffs*4 + 1 - 3))]\n",
    "  for efd in efds: \n",
    "      dataset[efd] = normalize_prop(efd, df) \n",
    "    \n",
    "  dataset.areaC = normalize_prop('areaC', df)\n",
    "  dataset.eccenC = normalize_prop('eccenC', df) \n",
    "  dataset.extentC = normalize_prop('extentC', df)\n",
    "  dataset.periC = normalize_prop('periC', df)\n",
    "  dataset.maxAxC = normalize_prop('maxAxC', df)  \n",
    "  dataset.minAxC = normalize_prop('minAxC', df)\n",
    "  dataset.compacC = normalize_prop('compacC', df)\n",
    "  dataset.circuC = normalize_prop('circuC', df)\n",
    "  dataset.convexC = normalize_prop('convexC', df)\n",
    "  dataset.hAreaC = normalize_prop('hAreaC', df)\n",
    "  dataset.solidC = normalize_prop('solidC', df) \n",
    "  dataset.equidiaC = normalize_prop('equidiaC', df) \n",
    "  dataset.elonC = normalize_prop('elonC', df)\n",
    "  dataset.eC = normalize_prop('eC', df)  \n",
    "  dataset.kC = normalize_prop('kC', df)  \n",
    "  dataset.mrdC = normalize_prop('mrdC', df)  \n",
    "  dataset.ardC = normalize_prop('ardC', df)  \n",
    "  dataset.fdC = normalize_prop('fdC', df)       \n",
    "  efds = ['efdC'+str(i) for i in range(1,(n_efd_coeffs*4 + 1 - 3))]\n",
    "  for efd in efds: \n",
    "      dataset[efd] = normalize_prop(efd, df)   \n",
    "\n",
    "  #dataset.nucleus_position = normalize_prop('nucleus_position', df)\n",
    " \n",
    "  return dataset"
   ]
  },
  {
   "cell_type": "markdown",
   "id": "91ebbd79",
   "metadata": {},
   "source": [
    " ###  Funções - organiza dados (x, y, ids) e filtra base para diferentes classificadores:"
   ]
  },
  {
   "cell_type": "code",
   "execution_count": 191,
   "id": "6ae5b901",
   "metadata": {},
   "outputs": [],
   "source": [
    " #Monta base e retorna 3 dataframes: data (x), target(2,3 e 6 classes), image/cell_id\n",
    "def get_database_data_targe_ids(data_normal, data_ascus, \n",
    "                       data_lsil, data_asch, data_hsil,data_car,\n",
    "                       features_to_fit):\n",
    " \n",
    "    data =  pd.DataFrame(data=np.vstack([\n",
    "                          data_normal.values,\n",
    "                          data_ascus.values,\n",
    "                          data_asch.values,\n",
    "                          data_lsil.values, \n",
    "                          data_hsil.values,\n",
    "                          data_car.values]), \n",
    "                         columns = data_car.columns)\n",
    "    \n",
    "    ## ID's imagens e celulas\n",
    "    image_cells_ids= data[['image_id', 'cell_id']].copy() \n",
    "    \n",
    "    ##Ajusta y(target) para classificação binária, ternária além de bethesda\n",
    "    y = np.array(data['bethesda'].values)\n",
    "    y_bin = np.array(y)\n",
    "    y_ter = np.array(y)\n",
    "        \n",
    "    for i in range(data.shape[0]):\n",
    "         y_bin[i] = 0 if y_bin[i]==0 else 1\n",
    "    \n",
    "    for i in range(data.shape[0]):\n",
    "          if y_ter[i] == 3:  ##Lsil\n",
    "             y_ter[i] = 1\n",
    "          elif (y_ter[i] == 4 or y_ter[i] == 5):  ##HSIl e Car\n",
    "                y_ter[i] = 2\n",
    "                \n",
    "    target = pd.DataFrame(data = np.stack([y_bin,\n",
    "                                           y_ter,\n",
    "                                           y], axis=-1),\n",
    "                          columns = ['binary', 'ternary', 'bethesda'])\n",
    "    \n",
    "    data = data[features_to_fit]      \n",
    "    return data, target, image_cells_ids"
   ]
  },
  {
   "cell_type": "code",
   "execution_count": 192,
   "id": "74e5a1ac",
   "metadata": {},
   "outputs": [],
   "source": [
    "## Prepara dados para tuning de parâmetros\n",
    "## Valores para type: 1 (normal/anormal), 2(baixo/alto grau), 3(ASCUS/LSIL), 4(ASCH/HSIL/CAR)\n",
    "def filter_dataXY(X, y, cls_type):\n",
    "    if cls_type == 1: # (normal/anormal)\n",
    "        return (X, y['binary'])\n",
    "    elif cls_type == 2: # (baixo/alto grau)\n",
    "          lines = filter_lines(y['ternary'], [1,2])\n",
    "          return (X.loc[lines], y['ternary'].loc[lines])  \n",
    "    elif cls_type == 3: # (ASCUS/LSIL)\n",
    "          lines = filter_lines(y['bethesda'], [1,3])\n",
    "          return (X.loc[lines], y['bethesda'].loc[lines])  \n",
    "    else: #(ASCH/HSIL/Car)    \n",
    "          lines = filter_lines(y['bethesda'], [2,4,5])\n",
    "          return (X.loc[lines], y['bethesda'].loc[lines])                           \n",
    "\n",
    "## Filtra linhas\n",
    "def filter_lines(y, cls):\n",
    "   lines = []\n",
    "   if len(cls) == 2:\n",
    "     filter1 = (y == cls[0]) \n",
    "     filter2 = (y == cls[1])\n",
    "     for i, (idx1, idx2) in enumerate(zip(filter1.index, filter2.index)):\n",
    "        if (filter1[idx1] or filter2[idx2]):\n",
    "            lines.append(idx1)\n",
    "   else: \n",
    "     filter1 = (y == cls[0]) \n",
    "     filter2 = (y == cls[1])\n",
    "     filter3 = (y == cls[2])\n",
    "     for i, (idx1, idx2, idx3) in enumerate(zip(filter1.index, filter2.index, filter3.index)):\n",
    "        if (filter1[idx1] or filter2[idx2] or filter3[idx3]):\n",
    "            lines.append(idx1)\n",
    "   return lines"
   ]
  },
  {
   "cell_type": "markdown",
   "id": "d6f815eb",
   "metadata": {},
   "source": [
    "### Lê arquivo (features):"
   ]
  },
  {
   "cell_type": "code",
   "execution_count": 201,
   "id": "1f00307b",
   "metadata": {},
   "outputs": [],
   "source": [
    "N_EFD_COEFFS = 20"
   ]
  },
  {
   "cell_type": "code",
   "execution_count": 202,
   "id": "8d2400f4",
   "metadata": {},
   "outputs": [],
   "source": [
    "df = pd.read_csv('dataCRIC.csv', sep='|', header=0)\n",
    "df = normalize_dataset(df, n_efd_coeffs= N_EFD_COEFFS)\n",
    " "
   ]
  },
  {
   "cell_type": "code",
   "execution_count": 203,
   "id": "a5c0dc99",
   "metadata": {
    "scrolled": false
   },
   "outputs": [
    {
     "data": {
      "text/html": [
       "<div>\n",
       "<style scoped>\n",
       "    .dataframe tbody tr th:only-of-type {\n",
       "        vertical-align: middle;\n",
       "    }\n",
       "\n",
       "    .dataframe tbody tr th {\n",
       "        vertical-align: top;\n",
       "    }\n",
       "\n",
       "    .dataframe thead th {\n",
       "        text-align: right;\n",
       "    }\n",
       "</style>\n",
       "<table border=\"1\" class=\"dataframe\">\n",
       "  <thead>\n",
       "    <tr style=\"text-align: right;\">\n",
       "      <th></th>\n",
       "      <th>image_id</th>\n",
       "      <th>cell_id</th>\n",
       "      <th>areaN</th>\n",
       "      <th>eccenN</th>\n",
       "      <th>extentN</th>\n",
       "      <th>periN</th>\n",
       "      <th>maxAxN</th>\n",
       "      <th>minAxN</th>\n",
       "      <th>compacN</th>\n",
       "      <th>circuN</th>\n",
       "      <th>...</th>\n",
       "      <th>efdC73</th>\n",
       "      <th>efdC74</th>\n",
       "      <th>efdC75</th>\n",
       "      <th>efdC76</th>\n",
       "      <th>efdC77</th>\n",
       "      <th>ratio_NC</th>\n",
       "      <th>ratio_NC_per</th>\n",
       "      <th>ratio_NC_hArea</th>\n",
       "      <th>nucleus_position</th>\n",
       "      <th>bethesda</th>\n",
       "    </tr>\n",
       "  </thead>\n",
       "  <tbody>\n",
       "    <tr>\n",
       "      <th>0</th>\n",
       "      <td>1.0</td>\n",
       "      <td>14796.0</td>\n",
       "      <td>0.007403</td>\n",
       "      <td>0.606414</td>\n",
       "      <td>0.842276</td>\n",
       "      <td>0.031326</td>\n",
       "      <td>0.036711</td>\n",
       "      <td>0.083827</td>\n",
       "      <td>0.024126</td>\n",
       "      <td>0.863522</td>\n",
       "      <td>...</td>\n",
       "      <td>0.156532</td>\n",
       "      <td>0.321490</td>\n",
       "      <td>0.859931</td>\n",
       "      <td>0.382225</td>\n",
       "      <td>0.302311</td>\n",
       "      <td>0.017236</td>\n",
       "      <td>0.115646</td>\n",
       "      <td>0.016730</td>\n",
       "      <td>0.099098</td>\n",
       "      <td>0.0</td>\n",
       "    </tr>\n",
       "    <tr>\n",
       "      <th>1</th>\n",
       "      <td>1.0</td>\n",
       "      <td>14797.0</td>\n",
       "      <td>0.009371</td>\n",
       "      <td>0.541484</td>\n",
       "      <td>0.808102</td>\n",
       "      <td>0.035945</td>\n",
       "      <td>0.039493</td>\n",
       "      <td>0.095649</td>\n",
       "      <td>0.018763</td>\n",
       "      <td>0.891071</td>\n",
       "      <td>...</td>\n",
       "      <td>0.150931</td>\n",
       "      <td>0.317850</td>\n",
       "      <td>0.859539</td>\n",
       "      <td>0.369221</td>\n",
       "      <td>0.299938</td>\n",
       "      <td>0.010656</td>\n",
       "      <td>0.089517</td>\n",
       "      <td>0.010168</td>\n",
       "      <td>0.121456</td>\n",
       "      <td>0.0</td>\n",
       "    </tr>\n",
       "    <tr>\n",
       "      <th>2</th>\n",
       "      <td>1.0</td>\n",
       "      <td>14798.0</td>\n",
       "      <td>0.007275</td>\n",
       "      <td>0.313794</td>\n",
       "      <td>0.884418</td>\n",
       "      <td>0.029457</td>\n",
       "      <td>0.025365</td>\n",
       "      <td>0.097062</td>\n",
       "      <td>0.018895</td>\n",
       "      <td>0.890378</td>\n",
       "      <td>...</td>\n",
       "      <td>0.153458</td>\n",
       "      <td>0.315454</td>\n",
       "      <td>0.861978</td>\n",
       "      <td>0.367980</td>\n",
       "      <td>0.302076</td>\n",
       "      <td>0.007400</td>\n",
       "      <td>0.073961</td>\n",
       "      <td>0.006897</td>\n",
       "      <td>0.043773</td>\n",
       "      <td>0.0</td>\n",
       "    </tr>\n",
       "    <tr>\n",
       "      <th>3</th>\n",
       "      <td>1.0</td>\n",
       "      <td>14799.0</td>\n",
       "      <td>0.010570</td>\n",
       "      <td>0.489270</td>\n",
       "      <td>0.778201</td>\n",
       "      <td>0.040199</td>\n",
       "      <td>0.040900</td>\n",
       "      <td>0.103428</td>\n",
       "      <td>0.021001</td>\n",
       "      <td>0.879403</td>\n",
       "      <td>...</td>\n",
       "      <td>0.157254</td>\n",
       "      <td>0.319562</td>\n",
       "      <td>0.860312</td>\n",
       "      <td>0.382943</td>\n",
       "      <td>0.303682</td>\n",
       "      <td>0.028309</td>\n",
       "      <td>0.154784</td>\n",
       "      <td>0.027752</td>\n",
       "      <td>0.128927</td>\n",
       "      <td>0.0</td>\n",
       "    </tr>\n",
       "    <tr>\n",
       "      <th>4</th>\n",
       "      <td>1.0</td>\n",
       "      <td>14801.0</td>\n",
       "      <td>0.009115</td>\n",
       "      <td>0.296366</td>\n",
       "      <td>0.842276</td>\n",
       "      <td>0.036826</td>\n",
       "      <td>0.031283</td>\n",
       "      <td>0.106376</td>\n",
       "      <td>0.024456</td>\n",
       "      <td>0.861871</td>\n",
       "      <td>...</td>\n",
       "      <td>0.147193</td>\n",
       "      <td>0.314554</td>\n",
       "      <td>0.860292</td>\n",
       "      <td>0.359672</td>\n",
       "      <td>0.300094</td>\n",
       "      <td>0.021569</td>\n",
       "      <td>0.129992</td>\n",
       "      <td>0.020738</td>\n",
       "      <td>0.069245</td>\n",
       "      <td>0.0</td>\n",
       "    </tr>\n",
       "    <tr>\n",
       "      <th>...</th>\n",
       "      <td>...</td>\n",
       "      <td>...</td>\n",
       "      <td>...</td>\n",
       "      <td>...</td>\n",
       "      <td>...</td>\n",
       "      <td>...</td>\n",
       "      <td>...</td>\n",
       "      <td>...</td>\n",
       "      <td>...</td>\n",
       "      <td>...</td>\n",
       "      <td>...</td>\n",
       "      <td>...</td>\n",
       "      <td>...</td>\n",
       "      <td>...</td>\n",
       "      <td>...</td>\n",
       "      <td>...</td>\n",
       "      <td>...</td>\n",
       "      <td>...</td>\n",
       "      <td>...</td>\n",
       "      <td>...</td>\n",
       "      <td>...</td>\n",
       "    </tr>\n",
       "    <tr>\n",
       "      <th>3228</th>\n",
       "      <td>399.0</td>\n",
       "      <td>11539.0</td>\n",
       "      <td>0.028927</td>\n",
       "      <td>0.838629</td>\n",
       "      <td>0.579720</td>\n",
       "      <td>0.094256</td>\n",
       "      <td>0.134656</td>\n",
       "      <td>0.118369</td>\n",
       "      <td>0.041270</td>\n",
       "      <td>0.784196</td>\n",
       "      <td>...</td>\n",
       "      <td>0.152113</td>\n",
       "      <td>0.318217</td>\n",
       "      <td>0.859606</td>\n",
       "      <td>0.370535</td>\n",
       "      <td>0.299400</td>\n",
       "      <td>0.206211</td>\n",
       "      <td>0.149094</td>\n",
       "      <td>0.085315</td>\n",
       "      <td>1.943974</td>\n",
       "      <td>5.0</td>\n",
       "    </tr>\n",
       "    <tr>\n",
       "      <th>3229</th>\n",
       "      <td>399.0</td>\n",
       "      <td>11540.0</td>\n",
       "      <td>0.025333</td>\n",
       "      <td>0.874227</td>\n",
       "      <td>0.645532</td>\n",
       "      <td>0.094611</td>\n",
       "      <td>0.135676</td>\n",
       "      <td>0.100778</td>\n",
       "      <td>0.064959</td>\n",
       "      <td>0.692461</td>\n",
       "      <td>...</td>\n",
       "      <td>0.150010</td>\n",
       "      <td>0.322108</td>\n",
       "      <td>0.859366</td>\n",
       "      <td>0.375599</td>\n",
       "      <td>0.300755</td>\n",
       "      <td>0.245537</td>\n",
       "      <td>0.247086</td>\n",
       "      <td>0.136756</td>\n",
       "      <td>0.916374</td>\n",
       "      <td>5.0</td>\n",
       "    </tr>\n",
       "    <tr>\n",
       "      <th>3230</th>\n",
       "      <td>400.0</td>\n",
       "      <td>11535.0</td>\n",
       "      <td>0.017031</td>\n",
       "      <td>0.910741</td>\n",
       "      <td>0.390863</td>\n",
       "      <td>0.092280</td>\n",
       "      <td>0.136377</td>\n",
       "      <td>0.078990</td>\n",
       "      <td>0.131860</td>\n",
       "      <td>0.507358</td>\n",
       "      <td>...</td>\n",
       "      <td>0.153944</td>\n",
       "      <td>0.319972</td>\n",
       "      <td>0.860379</td>\n",
       "      <td>0.372458</td>\n",
       "      <td>0.303245</td>\n",
       "      <td>0.191508</td>\n",
       "      <td>0.471092</td>\n",
       "      <td>0.188343</td>\n",
       "      <td>0.326252</td>\n",
       "      <td>5.0</td>\n",
       "    </tr>\n",
       "    <tr>\n",
       "      <th>3231</th>\n",
       "      <td>400.0</td>\n",
       "      <td>11536.0</td>\n",
       "      <td>0.020797</td>\n",
       "      <td>0.949322</td>\n",
       "      <td>0.528816</td>\n",
       "      <td>0.105709</td>\n",
       "      <td>0.169029</td>\n",
       "      <td>0.065965</td>\n",
       "      <td>0.137720</td>\n",
       "      <td>0.494794</td>\n",
       "      <td>...</td>\n",
       "      <td>0.151898</td>\n",
       "      <td>0.320620</td>\n",
       "      <td>0.859608</td>\n",
       "      <td>0.370771</td>\n",
       "      <td>0.299599</td>\n",
       "      <td>0.111823</td>\n",
       "      <td>0.078186</td>\n",
       "      <td>0.023058</td>\n",
       "      <td>3.177247</td>\n",
       "      <td>5.0</td>\n",
       "    </tr>\n",
       "    <tr>\n",
       "      <th>3232</th>\n",
       "      <td>400.0</td>\n",
       "      <td>11537.0</td>\n",
       "      <td>0.025076</td>\n",
       "      <td>0.822746</td>\n",
       "      <td>0.749691</td>\n",
       "      <td>0.090669</td>\n",
       "      <td>0.120781</td>\n",
       "      <td>0.114052</td>\n",
       "      <td>0.055801</td>\n",
       "      <td>0.725789</td>\n",
       "      <td>...</td>\n",
       "      <td>0.143373</td>\n",
       "      <td>0.318753</td>\n",
       "      <td>0.868085</td>\n",
       "      <td>0.362569</td>\n",
       "      <td>0.279162</td>\n",
       "      <td>0.448090</td>\n",
       "      <td>0.346307</td>\n",
       "      <td>0.181780</td>\n",
       "      <td>0.653692</td>\n",
       "      <td>5.0</td>\n",
       "    </tr>\n",
       "  </tbody>\n",
       "</table>\n",
       "<p>3233 rows × 203 columns</p>\n",
       "</div>"
      ],
      "text/plain": [
       "      image_id  cell_id     areaN    eccenN   extentN     periN    maxAxN  \\\n",
       "0          1.0  14796.0  0.007403  0.606414  0.842276  0.031326  0.036711   \n",
       "1          1.0  14797.0  0.009371  0.541484  0.808102  0.035945  0.039493   \n",
       "2          1.0  14798.0  0.007275  0.313794  0.884418  0.029457  0.025365   \n",
       "3          1.0  14799.0  0.010570  0.489270  0.778201  0.040199  0.040900   \n",
       "4          1.0  14801.0  0.009115  0.296366  0.842276  0.036826  0.031283   \n",
       "...        ...      ...       ...       ...       ...       ...       ...   \n",
       "3228     399.0  11539.0  0.028927  0.838629  0.579720  0.094256  0.134656   \n",
       "3229     399.0  11540.0  0.025333  0.874227  0.645532  0.094611  0.135676   \n",
       "3230     400.0  11535.0  0.017031  0.910741  0.390863  0.092280  0.136377   \n",
       "3231     400.0  11536.0  0.020797  0.949322  0.528816  0.105709  0.169029   \n",
       "3232     400.0  11537.0  0.025076  0.822746  0.749691  0.090669  0.120781   \n",
       "\n",
       "        minAxN   compacN    circuN  ...    efdC73    efdC74    efdC75  \\\n",
       "0     0.083827  0.024126  0.863522  ...  0.156532  0.321490  0.859931   \n",
       "1     0.095649  0.018763  0.891071  ...  0.150931  0.317850  0.859539   \n",
       "2     0.097062  0.018895  0.890378  ...  0.153458  0.315454  0.861978   \n",
       "3     0.103428  0.021001  0.879403  ...  0.157254  0.319562  0.860312   \n",
       "4     0.106376  0.024456  0.861871  ...  0.147193  0.314554  0.860292   \n",
       "...        ...       ...       ...  ...       ...       ...       ...   \n",
       "3228  0.118369  0.041270  0.784196  ...  0.152113  0.318217  0.859606   \n",
       "3229  0.100778  0.064959  0.692461  ...  0.150010  0.322108  0.859366   \n",
       "3230  0.078990  0.131860  0.507358  ...  0.153944  0.319972  0.860379   \n",
       "3231  0.065965  0.137720  0.494794  ...  0.151898  0.320620  0.859608   \n",
       "3232  0.114052  0.055801  0.725789  ...  0.143373  0.318753  0.868085   \n",
       "\n",
       "        efdC76    efdC77  ratio_NC  ratio_NC_per  ratio_NC_hArea  \\\n",
       "0     0.382225  0.302311  0.017236      0.115646        0.016730   \n",
       "1     0.369221  0.299938  0.010656      0.089517        0.010168   \n",
       "2     0.367980  0.302076  0.007400      0.073961        0.006897   \n",
       "3     0.382943  0.303682  0.028309      0.154784        0.027752   \n",
       "4     0.359672  0.300094  0.021569      0.129992        0.020738   \n",
       "...        ...       ...       ...           ...             ...   \n",
       "3228  0.370535  0.299400  0.206211      0.149094        0.085315   \n",
       "3229  0.375599  0.300755  0.245537      0.247086        0.136756   \n",
       "3230  0.372458  0.303245  0.191508      0.471092        0.188343   \n",
       "3231  0.370771  0.299599  0.111823      0.078186        0.023058   \n",
       "3232  0.362569  0.279162  0.448090      0.346307        0.181780   \n",
       "\n",
       "      nucleus_position  bethesda  \n",
       "0             0.099098       0.0  \n",
       "1             0.121456       0.0  \n",
       "2             0.043773       0.0  \n",
       "3             0.128927       0.0  \n",
       "4             0.069245       0.0  \n",
       "...                ...       ...  \n",
       "3228          1.943974       5.0  \n",
       "3229          0.916374       5.0  \n",
       "3230          0.326252       5.0  \n",
       "3231          3.177247       5.0  \n",
       "3232          0.653692       5.0  \n",
       "\n",
       "[3233 rows x 203 columns]"
      ]
     },
     "execution_count": 203,
     "metadata": {},
     "output_type": "execute_result"
    }
   ],
   "source": [
    "df"
   ]
  },
  {
   "cell_type": "code",
   "execution_count": 204,
   "id": "581d6797",
   "metadata": {
    "scrolled": true
   },
   "outputs": [
    {
     "name": "stdout",
     "output_type": "stream",
     "text": [
      "--- Totais por classe --- \n",
      "Normal...:  862\n",
      "ASC-Us...:  286\n",
      "ASC-H....:  536\n",
      "LSIL.....:  598\n",
      "HSIL.....:  874\n",
      "Carcinoma:  77\n"
     ]
    }
   ],
   "source": [
    "# Separa dados por classe de maneira balanceada:\n",
    "data_normal = df[df['bethesda'] == 0].copy()\n",
    "data_normal.set_index((i for i in range(data_normal.shape[0])), inplace=True)\n",
    "\n",
    "data_ascus = df[df['bethesda'] == 1].copy()\n",
    "data_ascus.set_index((i for i in range(data_ascus.shape[0])), inplace=True)\n",
    "\n",
    "data_asch = df[df['bethesda'] == 2].copy()\n",
    "data_asch.set_index((i for i in range(data_asch.shape[0])), inplace=True)\n",
    "\n",
    "data_lsil = df[df['bethesda'] == 3].copy()\n",
    "data_lsil.set_index((i for i in range(data_lsil.shape[0])), inplace=True)\n",
    "\n",
    "data_hsil = df[df['bethesda'] == 4].copy()\n",
    "data_hsil.set_index((i for i in range(data_hsil.shape[0])), inplace=True)\n",
    "\n",
    "data_car = df[df['bethesda'] == 5].copy()\n",
    "data_car.set_index((i for i in range(data_car.shape[0])), inplace=True)\n",
    "\n",
    "print(\"--- Totais por classe --- \")               \n",
    "print(\"Normal...: \", data_normal.values.shape[0])               \n",
    "print(\"ASC-Us...: \", data_ascus.values.shape[0])               \n",
    "print(\"ASC-H....: \", data_asch.values.shape[0])               \n",
    "print(\"LSIL.....: \", data_lsil.values.shape[0])               \n",
    "print(\"HSIL.....: \", data_hsil.values.shape[0])               \n",
    "print(\"Carcinoma: \", data_car.values.shape[0]) \n",
    " "
   ]
  },
  {
   "cell_type": "markdown",
   "id": "a02b81cb",
   "metadata": {},
   "source": [
    "### Seleção de características:"
   ]
  },
  {
   "cell_type": "code",
   "execution_count": 218,
   "id": "eab53e51",
   "metadata": {},
   "outputs": [],
   "source": [
    "### FEATURES SELECTION: \"Simultaneous Perturbation Stochastic Approximation (SPSA) for feature selection and ranking\" \n",
    "# Fonte: An implementation of feature selection and ranking via SPSA based on the article \"K-best feature selection and ranking via stochastic approximation\"(https://www.sciencedirect.com/science/article/abs/pii/S0957417422018826) \n",
    "# Código: https://github.com/akmand/spFSR.git\n",
    "def features_selection_spfsr(X_train, y_train, N_FEATURES = None):        \n",
    "    # pred_type needs to be 'c' for classification and 'r' for regression datasets\n",
    "    sp_engine = SpFSR(x=X_train.values, y=y_train.values, pred_type='c', wrapper=None, scoring='accuracy')\n",
    "    \n",
    "    np.random.seed(999)\n",
    "\n",
    "    if N_FEATURES is not None:\n",
    "        sp_output = sp_engine.run(num_features=N_FEATURES).results    \n",
    "    else:\n",
    "        sp_output = sp_engine.run(num_features=0).results    \n",
    "\n",
    "    fs_indices_spfsr = sp_output.get('selected_features')\n",
    "    best_features_spfsr = np.array(features)[fs_indices_spfsr]\n",
    "    feature_importances_spfsr = sp_output.get('selected_ft_importance')\n",
    "    \n",
    "    return(best_features_spfsr, feature_importances_spfsr)\n",
    "\n",
    "                             \n",
    "### FEATURES SELECTION: método Mutual Information\n",
    "def features_selection_mi(X_train, y_train, list_features, N_FEATURES = 20):    \n",
    "    # All features list:\n",
    "    features = list_features\n",
    "    \n",
    "    aux = [0.0 for i in features]\n",
    "    features_importances = dict(zip(features, aux))\n",
    "   \n",
    "    for i in range(20):\n",
    "        ## Feature Selection using Mutual Info  \n",
    "        fs_fit_mutual_info = fs.SelectKBest(fs.mutual_info_classif, k=N_FEATURES)\n",
    "        fs_fit_mutual_info.fit_transform(X_train, y_train)\n",
    "\n",
    "        # ordena extrai do maior score para o menor entre as n_features mais importantes\n",
    "        fs_indices_mutual_info = np.argsort(fs_fit_mutual_info.scores_)[::-1][0:N_FEATURES] # extrai do maior score para o menor entre as 10 features mais importantes\n",
    "        best_features_mutual_info = X_train.columns[fs_indices_mutual_info].values\n",
    "        feature_importances_mutual_info = fs_fit_mutual_info.scores_[fs_indices_mutual_info]\n",
    "\n",
    "        #contabiliza estatísticas:\n",
    "        for feature, score in zip(best_features_mutual_info,              \n",
    "                                  feature_importances_mutual_info):\n",
    "            features_importances[feature] = (features_importances[feature] + score)\n",
    "            #print(feature, score, features_importances[feature])\n",
    "\n",
    "     \n",
    "    features_importances_tuples = sorted(features_importances.items(), key=lambda item:item[1], reverse=True)\n",
    "    best_features_mutual_info = []\n",
    "    feature_importances_mutual_info = []\n",
    "    for i in list(range(N_FEATURES)):\n",
    "        best_features_mutual_info.append(features_importances_tuples[i][0])\n",
    "        feature_importances_mutual_info.append(features_importances_tuples[i][1]/20)\n",
    "\n",
    "    best_features_MI = np.asarray(best_features_mutual_info)\n",
    "    feature_importances_MI = np.asarray(feature_importances_mutual_info, dtype = np.float32)    \n",
    "    return (best_features_MI, feature_importances_MI)\n"
   ]
  },
  {
   "cell_type": "markdown",
   "id": "2ef3e8af",
   "metadata": {},
   "source": [
    "##### Organiza dados"
   ]
  },
  {
   "cell_type": "code",
   "execution_count": 205,
   "id": "56929844",
   "metadata": {},
   "outputs": [],
   "source": [
    "# Monta base (data, target, image/cells ids)\n",
    "data, target, image_cells_ids= get_database_data_targe_ids(data_normal, data_ascus, \n",
    "                       data_lsil, data_asch, data_hsil,data_car,\n",
    "                       list_all_features(N_EFD_COEFFS))\n",
    " "
   ]
  },
  {
   "cell_type": "code",
   "execution_count": 206,
   "id": "26dc6716",
   "metadata": {},
   "outputs": [
    {
     "data": {
      "text/plain": [
       "(Counter({1.0: 44, 2.0: 107, 0.0: 172, 3.0: 127, 5.0: 13, 4.0: 184}),\n",
       " Counter({2.0: 212, 4.0: 363, 1.0: 118, 0.0: 336, 3.0: 228, 5.0: 36}))"
      ]
     },
     "execution_count": 206,
     "metadata": {},
     "output_type": "execute_result"
    }
   ],
   "source": [
    "# Separa dados para treino/validação e teste:\n",
    "(X_train, X_test, y_train, y_test, image_cells_ids_train, image_cells_ids_test) = train_test_split(data, target, image_cells_ids, test_size=0.2, random_state=45)\n",
    "\n",
    "#Separa dados para tuning de parâmetros dos modelos:\n",
    "_, X_train_tuning, _, y_train_tuning = train_test_split(X_train, y_train, test_size=0.5, random_state=45)\n",
    "Counter(y_test['bethesda'].values),  Counter(y_train_tuning['bethesda'].values)"
   ]
  },
  {
   "cell_type": "markdown",
   "id": "54da6443",
   "metadata": {},
   "source": [
    "## Experiment nº1:   features (nucleus + cytoplasm)"
   ]
  },
  {
   "cell_type": "code",
   "execution_count": 207,
   "id": "e110ae3f",
   "metadata": {},
   "outputs": [
    {
     "name": "stdout",
     "output_type": "stream",
     "text": [
      "Nº de features: 200\n"
     ]
    }
   ],
   "source": [
    "# Lista para filtro de FEATURES para o modelo:\n",
    "features = list_all_features(N_EFD_COEFFS)\n",
    "features_desc = features_all_desc \n",
    "print(f'Nº de features: {len(features)}')"
   ]
  },
  {
   "cell_type": "code",
   "execution_count": 208,
   "id": "4ab7ad6a",
   "metadata": {},
   "outputs": [],
   "source": [
    "N_FEATURES = 30"
   ]
  },
  {
   "cell_type": "markdown",
   "id": "19e7fac5",
   "metadata": {},
   "source": [
    "#### Seleção de características:  classificador 1 (normal/anormal)   "
   ]
  },
  {
   "cell_type": "code",
   "execution_count": 219,
   "id": "43badedc",
   "metadata": {
    "scrolled": false
   },
   "outputs": [
    {
     "name": "stderr",
     "output_type": "stream",
     "text": [
      "SpFSR-INFO: Wrapper: RandomForestClassifier(class_weight='balanced_subsample', n_estimators=5,\n",
      "                       random_state=1)\n",
      "SpFSR-INFO: Hot start: True\n",
      "SpFSR-INFO: Hot start range: 0.2\n",
      "SpFSR-INFO: Feature weighting: False\n",
      "SpFSR-INFO: Scoring metric: accuracy\n",
      "SpFSR-INFO: Number of jobs: 1\n",
      "SpFSR-INFO: Number of observations in the dataset: 2586\n",
      "SpFSR-INFO: Number of observations used: 2500\n",
      "SpFSR-INFO: Number of features available: 200\n",
      "SpFSR-INFO: Number of features to select: 0\n",
      "SpFSR-INFO: iter_no: 0, num_ft: 6, value: 0.951, st_dev: 0.01, best: 0.951 @ iter_no 0\n",
      "SpFSR-INFO: iter_no: 10, num_ft: 18, value: 0.958, st_dev: 0.009, best: 0.958 @ iter_no 5\n",
      "SpFSR-INFO: iter_no: 20, num_ft: 25, value: 0.954, st_dev: 0.011, best: 0.958 @ iter_no 5\n",
      "SpFSR-INFO: iter_no: 30, num_ft: 27, value: 0.953, st_dev: 0.009, best: 0.958 @ iter_no 5\n",
      "SpFSR-INFO: ===> iter_no: 39, iteration stall limit reached, initializing search...\n",
      "SpFSR-INFO: iter_no: 40, num_ft: 6, value: 0.949, st_dev: 0.008, best: 0.958 @ iter_no 5\n",
      "SpFSR-INFO: iter_no: 50, num_ft: 14, value: 0.953, st_dev: 0.008, best: 0.958 @ iter_no 5\n",
      "SpFSR-INFO: iter_no: 60, num_ft: 18, value: 0.952, st_dev: 0.011, best: 0.958 @ iter_no 5\n",
      "SpFSR-INFO: iter_no: 70, num_ft: 18, value: 0.952, st_dev: 0.008, best: 0.958 @ iter_no 5\n",
      "SpFSR-INFO: ===> iter_no: 73, iteration stall limit reached, initializing search...\n",
      "SpFSR-INFO: iter_no: 80, num_ft: 16, value: 0.955, st_dev: 0.008, best: 0.958 @ iter_no 5\n",
      "SpFSR-INFO: iter_no: 90, num_ft: 15, value: 0.954, st_dev: 0.01, best: 0.958 @ iter_no 5\n",
      "SpFSR-INFO: iter_no: 100, num_ft: 16, value: 0.957, st_dev: 0.008, best: 0.958 @ iter_no 5\n",
      "SpFSR-INFO: SpFSR completed in 3.18 minutes.\n",
      "SpFSR-INFO: Best value = 0.958 with 13 features and 100 total iterations.\n",
      "\n"
     ]
    }
   ],
   "source": [
    "best_features_spfsr_1, feature_importances_spfsr_1 = features_selection_spfsr(*filter_dataXY(X_train, y_train, cls_type=1), N_FEATURES = None)"
   ]
  },
  {
   "cell_type": "code",
   "execution_count": 220,
   "id": "9be2713e",
   "metadata": {},
   "outputs": [
    {
     "data": {
      "text/plain": [
       "(array(['ratio_NC_per', 'eN', 'ratio_NC', 'ratio_NC_hArea', 'ardN',\n",
       "        'solidN', 'periN', 'elonC', 'hAreaC', 'efdN67', 'minAxC',\n",
       "        'equidiaN', 'efdN38'], dtype='<U16'),\n",
       " array([0.18415053, 0.1533476 , 0.10757786, 0.09007295, 0.07003825,\n",
       "        0.06836463, 0.04517971, 0.03459419, 0.03100602, 0.00736999,\n",
       "        0.00527971, 0.00402459, 0.00273831]))"
      ]
     },
     "execution_count": 220,
     "metadata": {},
     "output_type": "execute_result"
    }
   ],
   "source": [
    "best_features_spfsr_1, feature_importances_spfsr_1"
   ]
  },
  {
   "cell_type": "code",
   "execution_count": 222,
   "id": "7d597986",
   "metadata": {},
   "outputs": [],
   "source": [
    "best_features_MI_1, feature_importances_MI_1 = features_selection_mi(*filter_dataXY(X_train, y_train, cls_type=1),\n",
    "                                                                     features, N_FEATURES = N_FEATURES)"
   ]
  },
  {
   "cell_type": "code",
   "execution_count": 223,
   "id": "da14e99e",
   "metadata": {},
   "outputs": [
    {
     "data": {
      "text/plain": [
       "(array(['ratio_NC_per', 'ratio_NC', 'ratio_NC_hArea', 'eN', 'mrdN',\n",
       "        'maxAxN', 'ardN', 'periN', 'hAreaN', 'areaN', 'fdN', 'equidiaN',\n",
       "        'riN', 'circuC', 'compacC', 'areaC', 'hAreaC', 'periC', 'circuN',\n",
       "        'compacN', 'minAxC', 'mrdC', 'maxAxC', 'fdC', 'equidiaC', 'ardC',\n",
       "        'eC', 'riC', 'minAxN', 'convexN'], dtype='<U14'),\n",
       " array([0.39539626, 0.39377934, 0.38912353, 0.32705995, 0.31876487,\n",
       "        0.30170432, 0.27784908, 0.27415925, 0.2513508 , 0.23863684,\n",
       "        0.23789625, 0.23748663, 0.22304626, 0.21584117, 0.21573278,\n",
       "        0.20152172, 0.1843741 , 0.18161805, 0.18054612, 0.18035185,\n",
       "        0.17655884, 0.17647041, 0.1752093 , 0.17355308, 0.16999938,\n",
       "        0.16789548, 0.16738316, 0.16448265, 0.14976323, 0.08263855],\n",
       "       dtype=float32))"
      ]
     },
     "execution_count": 223,
     "metadata": {},
     "output_type": "execute_result"
    }
   ],
   "source": [
    "best_features_MI_1, feature_importances_MI_1,  "
   ]
  },
  {
   "cell_type": "code",
   "execution_count": 226,
   "id": "a75c9bc3",
   "metadata": {},
   "outputs": [
    {
     "data": {
      "image/png": "[encoded data removed]",
      "text/plain": [
       "<Figure size 1080x504 with 2 Axes>"
      ]
     },
     "metadata": {
      "needs_background": "light"
     },
     "output_type": "display_data"
    }
   ],
   "source": [
    "#best_features_spfsr\n",
    "plot_imp(best_features_MI, feature_importances_MI, 'Mutual Information (1)', \n",
    "         best_features_spfsr, feature_importances_spfsr, 'Simultaneous Perturbation-FSR (1)') # "
   ]
  },
  {
   "cell_type": "code",
   "execution_count": 228,
   "id": "bf8f1ac9",
   "metadata": {},
   "outputs": [],
   "source": [
    "#### Seleção de características:  classificador 2 (baixo/alto grau)   "
   ]
  },
  {
   "cell_type": "code",
   "execution_count": 227,
   "id": "b616c0d4",
   "metadata": {},
   "outputs": [
    {
     "name": "stderr",
     "output_type": "stream",
     "text": [
      "SpFSR-INFO: Wrapper: RandomForestClassifier(class_weight='balanced_subsample', n_estimators=5,\n",
      "                       random_state=1)\n",
      "SpFSR-INFO: Hot start: True\n",
      "SpFSR-INFO: Hot start range: 0.2\n",
      "SpFSR-INFO: Feature weighting: False\n",
      "SpFSR-INFO: Scoring metric: accuracy\n",
      "SpFSR-INFO: Number of jobs: 1\n",
      "SpFSR-INFO: Number of observations in the dataset: 1896\n",
      "SpFSR-INFO: Number of observations used: 1896\n",
      "SpFSR-INFO: Number of features available: 200\n",
      "SpFSR-INFO: Number of features to select: 0\n",
      "SpFSR-INFO: iter_no: 0, num_ft: 7, value: 0.972, st_dev: 0.008, best: 0.972 @ iter_no 0\n",
      "SpFSR-INFO: iter_no: 10, num_ft: 20, value: 0.973, st_dev: 0.009, best: 0.974 @ iter_no 6\n",
      "SpFSR-INFO: iter_no: 20, num_ft: 31, value: 0.972, st_dev: 0.005, best: 0.975 @ iter_no 12\n",
      "SpFSR-INFO: iter_no: 30, num_ft: 30, value: 0.973, st_dev: 0.006, best: 0.975 @ iter_no 12\n",
      "SpFSR-INFO: iter_no: 40, num_ft: 33, value: 0.972, st_dev: 0.008, best: 0.976 @ iter_no 34\n",
      "SpFSR-INFO: iter_no: 50, num_ft: 31, value: 0.972, st_dev: 0.006, best: 0.976 @ iter_no 34\n",
      "SpFSR-INFO: iter_no: 60, num_ft: 32, value: 0.975, st_dev: 0.009, best: 0.977 @ iter_no 58\n",
      "SpFSR-INFO: iter_no: 70, num_ft: 35, value: 0.973, st_dev: 0.009, best: 0.977 @ iter_no 58\n",
      "SpFSR-INFO: iter_no: 80, num_ft: 34, value: 0.975, st_dev: 0.007, best: 0.977 @ iter_no 58\n",
      "SpFSR-INFO: iter_no: 90, num_ft: 33, value: 0.973, st_dev: 0.009, best: 0.977 @ iter_no 58\n",
      "SpFSR-INFO: ===> iter_no: 92, iteration stall limit reached, initializing search...\n",
      "SpFSR-INFO: iter_no: 100, num_ft: 11, value: 0.974, st_dev: 0.009, best: 0.977 @ iter_no 58\n",
      "SpFSR-INFO: SpFSR completed in 2.68 minutes.\n",
      "SpFSR-INFO: Best value = 0.977 with 35 features and 100 total iterations.\n",
      "\n"
     ]
    }
   ],
   "source": [
    "best_features_spfsr_2, feature_importances_spfsr_2 = features_selection_spfsr(*filter_dataXY(X_train, y_train, cls_type=2), N_FEATURES = None)\n",
    "best_features_MI_2, feature_importances_MI_2 = features_selection_mi(*filter_dataXY(X_train, y_train, cls_type=2),\n",
    "                                                                     features, N_FEATURES = N_FEATURES)"
   ]
  },
  {
   "cell_type": "code",
   "execution_count": 229,
   "id": "5bbd9547",
   "metadata": {},
   "outputs": [],
   "source": [
    "#### Seleção de características:  classificador 3 (ASC-US/LSIl)   "
   ]
  },
  {
   "cell_type": "code",
   "execution_count": 230,
   "id": "5a8e86dd",
   "metadata": {},
   "outputs": [
    {
     "name": "stderr",
     "output_type": "stream",
     "text": [
      "SpFSR-INFO: Wrapper: RandomForestClassifier(class_weight='balanced_subsample', n_estimators=5,\n",
      "                       random_state=1)\n",
      "SpFSR-INFO: Hot start: True\n",
      "SpFSR-INFO: Hot start range: 0.2\n",
      "SpFSR-INFO: Feature weighting: False\n",
      "SpFSR-INFO: Scoring metric: accuracy\n",
      "SpFSR-INFO: Number of jobs: 1\n",
      "SpFSR-INFO: Number of observations in the dataset: 713\n",
      "SpFSR-INFO: Number of observations used: 713\n",
      "SpFSR-INFO: Number of features available: 200\n",
      "SpFSR-INFO: Number of features to select: 0\n",
      "SpFSR-INFO: iter_no: 0, num_ft: 2, value: 0.6, st_dev: 0.036, best: 0.6 @ iter_no 0\n",
      "SpFSR-INFO: iter_no: 10, num_ft: 11, value: 0.619, st_dev: 0.04, best: 0.646 @ iter_no 8\n",
      "SpFSR-INFO: iter_no: 20, num_ft: 12, value: 0.639, st_dev: 0.043, best: 0.647 @ iter_no 18\n",
      "SpFSR-INFO: iter_no: 30, num_ft: 29, value: 0.626, st_dev: 0.021, best: 0.647 @ iter_no 18\n",
      "SpFSR-INFO: iter_no: 40, num_ft: 32, value: 0.62, st_dev: 0.039, best: 0.647 @ iter_no 18\n",
      "SpFSR-INFO: iter_no: 50, num_ft: 37, value: 0.628, st_dev: 0.035, best: 0.648 @ iter_no 44\n",
      "SpFSR-INFO: iter_no: 60, num_ft: 36, value: 0.617, st_dev: 0.042, best: 0.654 @ iter_no 58\n",
      "SpFSR-INFO: iter_no: 70, num_ft: 30, value: 0.64, st_dev: 0.023, best: 0.654 @ iter_no 58\n",
      "SpFSR-INFO: iter_no: 80, num_ft: 31, value: 0.63, st_dev: 0.032, best: 0.654 @ iter_no 58\n",
      "SpFSR-INFO: iter_no: 90, num_ft: 35, value: 0.629, st_dev: 0.038, best: 0.654 @ iter_no 58\n",
      "SpFSR-INFO: ===> iter_no: 92, iteration stall limit reached, initializing search...\n",
      "SpFSR-INFO: iter_no: 100, num_ft: 13, value: 0.64, st_dev: 0.03, best: 0.654 @ iter_no 58\n",
      "SpFSR-INFO: SpFSR completed in 1.92 minutes.\n",
      "SpFSR-INFO: Best value = 0.654 with 36 features and 100 total iterations.\n",
      "\n"
     ]
    }
   ],
   "source": [
    "best_features_spfsr_3, feature_importances_spfsr_3 = features_selection_spfsr(*filter_dataXY(X_train, y_train, cls_type=3), N_FEATURES = None)\n",
    "best_features_MI_3, feature_importances_MI_3 = features_selection_mi(*filter_dataXY(X_train, y_train, cls_type=3),\n",
    "                                                                     features, N_FEATURES = N_FEATURES)"
   ]
  },
  {
   "cell_type": "code",
   "execution_count": 231,
   "id": "5b30a373",
   "metadata": {},
   "outputs": [],
   "source": [
    "#### Seleção de características:  classificador 4 (ASC-H/HSIl/Car)   "
   ]
  },
  {
   "cell_type": "code",
   "execution_count": 232,
   "id": "8374463f",
   "metadata": {},
   "outputs": [
    {
     "name": "stderr",
     "output_type": "stream",
     "text": [
      "SpFSR-INFO: Wrapper: RandomForestClassifier(class_weight='balanced_subsample', n_estimators=5,\n",
      "                       random_state=1)\n",
      "SpFSR-INFO: Hot start: True\n",
      "SpFSR-INFO: Hot start range: 0.2\n",
      "SpFSR-INFO: Feature weighting: False\n",
      "SpFSR-INFO: Scoring metric: accuracy\n",
      "SpFSR-INFO: Number of jobs: 1\n",
      "SpFSR-INFO: Number of observations in the dataset: 1183\n",
      "SpFSR-INFO: Number of observations used: 1183\n",
      "SpFSR-INFO: Number of features available: 200\n",
      "SpFSR-INFO: Number of features to select: 0\n",
      "SpFSR-INFO: iter_no: 0, num_ft: 4, value: 0.61, st_dev: 0.028, best: 0.61 @ iter_no 0\n",
      "SpFSR-INFO: iter_no: 10, num_ft: 14, value: 0.631, st_dev: 0.026, best: 0.641 @ iter_no 8\n",
      "SpFSR-INFO: iter_no: 20, num_ft: 17, value: 0.64, st_dev: 0.022, best: 0.645 @ iter_no 16\n",
      "SpFSR-INFO: iter_no: 30, num_ft: 22, value: 0.627, st_dev: 0.024, best: 0.645 @ iter_no 16\n",
      "SpFSR-INFO: iter_no: 40, num_ft: 23, value: 0.624, st_dev: 0.022, best: 0.645 @ iter_no 16\n",
      "SpFSR-INFO: iter_no: 50, num_ft: 28, value: 0.637, st_dev: 0.026, best: 0.645 @ iter_no 16\n",
      "SpFSR-INFO: ===> iter_no: 50, iteration stall limit reached, initializing search...\n",
      "SpFSR-INFO: iter_no: 60, num_ft: 14, value: 0.616, st_dev: 0.027, best: 0.645 @ iter_no 16\n",
      "SpFSR-INFO: iter_no: 70, num_ft: 23, value: 0.622, st_dev: 0.027, best: 0.645 @ iter_no 16\n",
      "SpFSR-INFO: iter_no: 80, num_ft: 31, value: 0.614, st_dev: 0.03, best: 0.645 @ iter_no 16\n",
      "SpFSR-INFO: ===> iter_no: 84, iteration stall limit reached, initializing search...\n",
      "SpFSR-INFO: iter_no: 90, num_ft: 8, value: 0.619, st_dev: 0.028, best: 0.645 @ iter_no 16\n",
      "SpFSR-INFO: iter_no: 100, num_ft: 12, value: 0.633, st_dev: 0.032, best: 0.647 @ iter_no 99\n",
      "SpFSR-INFO: SpFSR completed in 2.52 minutes.\n",
      "SpFSR-INFO: Best value = 0.647 with 11 features and 100 total iterations.\n",
      "\n"
     ]
    }
   ],
   "source": [
    "best_features_spfsr_4, feature_importances_spfsr_4 = features_selection_spfsr(*filter_dataXY(X_train, y_train, cls_type=4), N_FEATURES = None)\n",
    "best_features_MI_4, feature_importances_MI_4 = features_selection_mi(*filter_dataXY(X_train, y_train, cls_type=4),\n",
    "                                                                     features, N_FEATURES = N_FEATURES)"
   ]
  },
  {
   "cell_type": "markdown",
   "id": "d5e76266",
   "metadata": {},
   "source": [
    "#### Tuning de parâmetros (Classificador) \n",
    "Feito para cada um dos métodos (SVM, RF e XGBOOST) para classificação bethesda (a mais difícil).\n",
    "Modelos testados com todas as features selecionadas para os classificadores de 1 à 4 (acima)"
   ]
  },
  {
   "cell_type": "code",
   "execution_count": 234,
   "id": "5c81bee7",
   "metadata": {},
   "outputs": [
    {
     "ename": "UFuncTypeError",
     "evalue": "ufunc 'add' did not contain a loop with signature matching types (dtype('<U16'), dtype('<U16')) -> None",
     "output_type": "error",
     "traceback": [
      "\u001b[1;31m---------------------------------------------------------------------------\u001b[0m",
      "\u001b[1;31mUFuncTypeError\u001b[0m                            Traceback (most recent call last)",
      "\u001b[1;32m~\\AppData\\Local\\Temp/ipykernel_13292/4083597500.py\u001b[0m in \u001b[0;36m<module>\u001b[1;34m\u001b[0m\n\u001b[1;32m----> 1\u001b[1;33m \u001b[0mfeatures_sel\u001b[0m \u001b[1;33m=\u001b[0m \u001b[0mnp\u001b[0m\u001b[1;33m.\u001b[0m\u001b[0marray\u001b[0m\u001b[1;33m(\u001b[0m\u001b[0mbest_features_spfsr_1\u001b[0m\u001b[1;33m)\u001b[0m \u001b[1;33m+\u001b[0m \u001b[0mnp\u001b[0m\u001b[1;33m.\u001b[0m\u001b[0marray\u001b[0m\u001b[1;33m(\u001b[0m\u001b[0mbest_features_spfsr_2\u001b[0m\u001b[1;33m)\u001b[0m \u001b[1;31m# + best_features_spfsr_3 + best_features_spfsr_4\u001b[0m\u001b[1;33m\u001b[0m\u001b[1;33m\u001b[0m\u001b[0m\n\u001b[0m",
      "\u001b[1;31mUFuncTypeError\u001b[0m: ufunc 'add' did not contain a loop with signature matching types (dtype('<U16'), dtype('<U16')) -> None"
     ]
    }
   ],
   "source": [
    "features_sel = np.array(best_features_spfsr_1) + np.array(best_features_spfsr_2) # + best_features_spfsr_3 + best_features_spfsr_4"
   ]
  },
  {
   "cell_type": "markdown",
   "id": "4bf7b87c",
   "metadata": {},
   "source": [
    "### Classificadores e métricas"
   ]
  },
  {
   "cell_type": "code",
   "execution_count": 142,
   "id": "d53786fe",
   "metadata": {},
   "outputs": [],
   "source": [
    "from sklearn.model_selection import GridSearchCV\n",
    "from sklearn.svm import SVC\n",
    "from sklearn.metrics import classification_report\n",
    "\n",
    "def grid_search_SVM(model, params, X, y):\n",
    "    grid_search = GridSearchCV(\n",
    "        model, tuned_parameters, scoring= ['accuracy', 'f1_weighted'], refit='f1_weighted'\n",
    "    )\n",
    "    grid_search.fit(X, y)\n",
    "    y_pred = grid_search.predict(X)\n",
    "    print(classification_report(y, y_pred))\n",
    "    return (model, grid_search.best_params_)\n",
    "\n",
    "# Gera modelo RandomForest\n",
    "def tuning_RandomForest(x, y, param): \n",
    "    model =RandomForestClassifier()\n",
    "    model.fit(data_train, target_train)\n",
    "    return model\n",
    "\n",
    "def getModel(classifier = 'SVM', class_type = 'binary'):\n",
    "    if classifier == 'SVM':\n",
    "        model = SVC(kernel= 'rbf', degree=3, probability=True) \n",
    "    elif classifier == 'RF':\n",
    "        model =RandomForestClassifier()\n",
    "    elif classifier == 'XGBoost':\n",
    "        if class_type == 'binary':\n",
    "           #model = xgb.XGBClassifier(objective=\"binary:logistic\", random_state=42)\n",
    "           model = xgb.XGBClassifier(\n",
    "                     learning_rate =0.25,\n",
    "                     n_estimators=500,\n",
    "                     max_depth=7,\n",
    "                     min_child_weight=6,\n",
    "                     gamma=0,\n",
    "                     subsample=0.8,\n",
    "                     colsample_bytree=0.9,\n",
    "                     reg_alpha=0.05,\n",
    "                     objective= 'binary:logistic',\n",
    "                     scale_pos_weight=1,\n",
    "                     seed=27)\n",
    "        else:    # multiclass  \n",
    "            #model = xgb.XGBClassifier(objective=\"multi:softprob\", random_state=42)\n",
    "            model = xgb.XGBClassifier(\n",
    "                     learning_rate= 0.25,\n",
    "                     n_estimators=500,\n",
    "                     max_depth=7,\n",
    "                     min_child_weight=6,\n",
    "                     gamma=0,\n",
    "                     subsample=0.8,\n",
    "                     colsample_bytree=0.9,\n",
    "                     reg_alpha=0.05,\n",
    "                     objective= 'multi:softprob',\n",
    "                     seed=27)\n",
    "    else:\n",
    "        model = None # 'MLP toDo'    \n",
    "    return model    \n",
    "    \n",
    "\n",
    "# Calcula métricas: (vide metrics_type e classifiers_type)\n",
    "def calc_metric(target_test, target_predict, metric_type='acc', class_type ='binary', classes=[0,1]):   \n",
    "    if (metric_type == 'acc'):\n",
    "        return accuracy_score(target_test, target_predict)\n",
    "    elif (metric_type == 'prec'):\n",
    "         if (class_type == 'binary'):  ## caso classificadores binário\n",
    "            return  precision_score(target_test, target_predict, zero_division=0)  \n",
    "         else:  ## multiclasses\n",
    "            return precision_score(target_test, target_predict, average='weighted', zero_division=0)\n",
    "    elif (metric_type == 'rec'):\n",
    "        if (class_type == 'binary'):  ## classificadores binários\n",
    "            return recall_score(target_test, target_predict, zero_division=0)\n",
    "        else:  ## multiclasses\n",
    "            return  recall_score(target_test, target_predict, average ='weighted', zero_division=0)\n",
    "    elif (metric_type == 'spec'):   \n",
    "         if (class_type == 'binary'):  ## classificadores binários\n",
    "            tn, fp, fn, tp = confusion_matrix(target_test, target_predict).ravel()\n",
    "            return tn/(tn + fp)\n",
    "         else:  ##  multiclasses - média aritmética  \n",
    "            spec = 0\n",
    "            for l in classes:\n",
    "                tn, fp, fn, tp = confusion_matrix((np.array(target_test)==l), (np.array(target_predict)==l)).ravel()\n",
    "                spec += tn/(tn + fp)\n",
    "            return spec/len(classes)  \n",
    "    elif (metric_type == 'f1_score'):      \n",
    "         if (class_type == 'binary'):  ## classificadores binários\n",
    "            f1 = f1_score(target_test, target_predict)\n",
    "            return f1\n",
    "         else:  ## multiclasses\n",
    "            f1 = f1_score(target_test, target_predict, average= 'weighted')\n",
    "            return f1 \n",
    "    else:\n",
    "        return None\n",
    "\n",
    "def fill_line_metrics(model_name, featur, target, pred, line_results, class_type='binary', pos_lb=1):\n",
    "    accur = calc_metric(target, pred, 'acc', class_type)\n",
    "    prec = calc_metric(target, pred, 'prec', class_type, pos_lbl= pos_lb)\n",
    "    sens = calc_metric(target, pred, 'sens', class_type)\n",
    "    espe = calc_metric(target, pred, 'espec', class_type)\n",
    "    f1Mes = calc_metric(target, pred, 'f1_mesure', class_type, pos_lbl= pos_lb)\n",
    "\n",
    "    line = pd.Series(data = np.array([class_type, model_name, featur,\n",
    "                        '{:.4f}'.format(accur), '{:.4f}'.format(prec), '{:.4f}'.format(sens),\n",
    "                        '{:.4f}'.format((1- espe)), '{:.4f}'.format(espe), '{:.4f}'.format(f1Mes)], dtype = object), \n",
    "                index=['Tipo', 'Model', 'Features', 'Acurácia', 'Precisão', 'Sensibil' , 'Falso Pos', 'Especif', 'F1_measure']) \n",
    "    results.loc[line_results] = line\n",
    "\n",
    "def fill_line_metrics_CV(model_name, featur, line_results, metrics, results, class_type='binary'):\n",
    "    line = pd.Series(data = np.array([class_type, model_name, featur,\n",
    "             '{:.4f}'.format(metrics['acc']), '{:.4f}'.format(metrics['prec']),\n",
    "             '{:.4f}'.format(metrics['rec']),'{:.4f}'.format((1- metrics['spec'])), \n",
    "             '{:.4f}'.format(metrics['spec']), '{:.4f}'.format(metrics['f1_score'])], dtype = object), \n",
    "              index=['Tipo', 'Model', 'Features', 'Acurácia', 'Precisão', 'Sensibil' , \n",
    "                     'Falso Pos', 'Especif', 'F1_measure']) \n",
    "    results.loc[line_results] = line\n",
    "    \n",
    "    \n",
    "def plot_roc_curve(roc_curve_list, labels_list):\n",
    "    colors = cycle([\"aqua\", \"darkorange\", \"cornflowerblue\", \"deeppink\", \"navy\", \"darkorange\"])\n",
    "    plt.style.use(\"bmh\")\n",
    "    for i,color in zip(range(len(roc_curve_list)), colors):\n",
    "        plt.plot(\n",
    "            roc_curve_list[i][0],\n",
    "            roc_curve_list[i][1],\n",
    "            color=color,\n",
    "            lw=2,\n",
    "            label= labels_list[i],\n",
    "        )\n",
    "    plt.plot([0, 1] , c=\".7\", ls=\"--\")\n",
    "    plt.xlabel('False Positive Rate')\n",
    "    plt.ylabel('True Positive Rate')\n",
    "    plt.title('ROC Curve - Normal vs anormal Random Forest) ')\n",
    "    plt.legend(fontsize= 'medium')\n",
    "    plt.show()\n",
    " \n",
    "\n",
    "## Plota gráfico de ganho para features selecionadas: \n",
    "def plot_imp(best_features_1, scores_1, method_name_1,\n",
    "            best_features_2, scores_2, method_name_2):   \n",
    "    \n",
    "    plt.style.use(\"bmh\")\n",
    "    #plt.rcParams.update({'font.size': 12})\n",
    "    fig, axs = plt.subplots(ncols=2, nrows=1, figsize=(15, 7))\n",
    "    axs[0].tick_params(labelsize= 'small')\n",
    "    axs[0].barh(best_features_1, scores_1, color= 'blue', height=0.75)    \n",
    "    axs[0].set(xlim=[min(0, (np.min(scores_1))), max(0.8, np.max(scores_1)+0.1)], xlabel='Score', ylabel='Feature', title= method_name_1 + ' Scores')\n",
    "    axs[1].tick_params(labelsize= 'small')\n",
    "    axs[1].set(xlim=[min(0, np.min(scores_2)), max(0.8, np.max(scores_2)+0.1)], xlabel='Score', ylabel='Feature', title=method_name_2 + ' Scores')\n",
    "    axs[1].barh(best_features_2, scores_2, color= 'green')    \n",
    "    \n",
    "    #fig.suptitle('Feature Selection') \n",
    "    fig.subplots_adjust(left=0.1, right=0.9, wspace=0.3)\n",
    "    plt.show()\n",
    "\n",
    "# Gera grafico matriz confusao  \n",
    "def make_confusionMatrixDisplay(test, pred, labels, title):\n",
    "    cm = confusion_matrix(test, pred, labels=labels)\n",
    "    disp = ConfusionMatrixDisplay(confusion_matrix=cm, display_labels=labels)\n",
    "    return (disp, title)\n",
    " \n"
   ]
  },
  {
   "cell_type": "code",
   "execution_count": 37,
   "id": "fb1ec1d4",
   "metadata": {},
   "outputs": [],
   "source": [
    "## Para Cross validation e tuning de modelo (retorna métrica de treino)\n",
    "def score_model(model, params, type= 'binary', cv=None):\n",
    "    \"\"\"\n",
    "    Cria folds e upsamples dentro de cada fold.\n",
    "    Returns array de métricas de validação\n",
    "    \"\"\"\n",
    "    N_SPLITS = 10\n",
    "    if cv is None:\n",
    "        cv = StratifiedKFold(n_splits=10, random_state=None)\n",
    "\n",
    "    smoter = SMOTE(random_state=42)\n",
    "    accs = precs = recs = specs = f1_scores = aucs = np.zeros((N_SPLITS), dtype = np.float64)\n",
    "    \n",
    "    for i, (train_fold_index, val_fold_index) in enumerate(cv.split(X_train, y_train[type])):\n",
    " \n",
    "        # Dados de treinamento\n",
    "        X_train_fold, y_train_fold = X_train.iloc[train_fold_index], y_train[type].iloc[train_fold_index]\n",
    "        # Dados de validação\n",
    "        X_val_fold, y_val_fold = X_train.iloc[val_fold_index], y_train[type].iloc[val_fold_index]\n",
    "\n",
    "        # Upsample apenas nos dados de treinamento\n",
    "        X_train_fold_upsample, y_train_fold_upsample = smoter.fit_resample(X_train_fold,\n",
    "                                                                           y_train_fold)\n",
    "        # Ajusta parâmetros:\n",
    "        if params == None:\n",
    "            model = model.fit(X_train_fold_upsample, y_train_fold_upsample)            \n",
    "        else:\n",
    "            for param, value in params.items():\n",
    "                model.param = value\n",
    "            model = model.fit(X_train_fold_upsample, y_train_fold_upsample) \n",
    "        # Predição:\n",
    "        pred_y = model.predict(X_val_fold)\n",
    "    \n",
    "        if type == 'binary':\n",
    "            cls = [0,1]\n",
    "        elif type == 'ternary':\n",
    "            cls = [0,1,2]\n",
    "        else:\n",
    "            cls = [0,1,2,3,4,5]\n",
    " \n",
    "        # Calcula e registra métricas p/ fold:\n",
    "        accs[i] = calc_metric(y_val_fold, pred_y, metric_type='acc', class_type = type, classes=cls)\n",
    "        precs[i] = calc_metric(y_val_fold, pred_y, metric_type='prec', class_type = type, classes=cls)\n",
    "        recs[i] = calc_metric(y_val_fold, pred_y, metric_type='rec', class_type = type, classes=cls)\n",
    "        specs[i] = calc_metric(y_val_fold, pred_y, metric_type='spec', class_type = type, classes=cls)\n",
    "        f1_scores[i] = calc_metric(y_val_fold, pred_y, metric_type='f1_score', class_type = type, classes=cls)\n",
    "       \n",
    "    ## Registra resultados (dataframe):\n",
    "    metrics = {'acc': np.mean(accs), 'prec': np.mean(precs), 'rec': np.mean(recs), \n",
    "                   'spec': np.mean(specs), 'f1_score': np.mean(f1_scores)}      \n",
    "\n",
    "    return metrics, model\n",
    "\n",
    "## \n",
    "def score_h_model(model, params, type=1 , cv=None):\n",
    "    \"\"\"\n",
    "    Cria folds e upsamples dentro de cada fold.\n",
    "    Returns array de métricas de validação\n",
    "    \"\"\"\n",
    "    y = y_train.copy()\n",
    "    if type == 1:  #Classificador (normal/anormal)\n",
    "         y = y_train['binary']   \n",
    "    elif type == 2: #Classificador (baixo/alto grau)\n",
    "        filter = y_train['ternary'] != 0\n",
    "        y = y_train[filter]['ternary']   \n",
    "    elif type == 3: #Classificador baixo grau (asc-h/lsil)\n",
    "        y = y_train[filter]['bethesda']   \n",
    "        \n",
    "    N_SPLITS = 10\n",
    "    if cv is None:\n",
    "        cv = StratifiedKFold(n_splits=10, random_state=None)\n",
    "\n",
    "    smoter = SMOTE(random_state=42)\n",
    "    accs = precs = recs = specs = f1_scores = aucs = np.zeros((N_SPLITS), dtype = np.float64)\n",
    "    \n",
    "    for i, (train_fold_index, val_fold_index) in enumerate(cv.split(X_train, y_train[type])):\n",
    " \n",
    "        # Dados de treinamento\n",
    "        X_train_fold, y_train_fold = X_train.iloc[train_fold_index], y_train[type].iloc[train_fold_index]\n",
    "        # Dados de validação\n",
    "        X_val_fold, y_val_fold = X_train.iloc[val_fold_index], y_train[type].iloc[val_fold_index]\n",
    "\n",
    "        # Upsample apenas nos dados de treinamento\n",
    "        X_train_fold_upsample, y_train_fold_upsample = smoter.fit_resample(X_train_fold,\n",
    "                                                                           y_train_fold)\n",
    "        # Ajusta parâmetros:\n",
    "        if params == None:\n",
    "            model = model.fit(X_train_fold_upsample, y_train_fold_upsample)            \n",
    "        else:\n",
    "            for param, value in params.items():\n",
    "                model.param = value\n",
    "            model = model.fit(X_train_fold_upsample, y_train_fold_upsample) \n",
    "        # Predição:\n",
    "        pred_y = model.predict(X_val_fold)\n",
    "    \n",
    "        if type == 'binary':\n",
    "            cls = [0,1]\n",
    "        elif type == 'ternary':\n",
    "            cls = [0,1,2]\n",
    "        else:\n",
    "            cls = [0,1,2,3,4,5]\n",
    " \n",
    "        # Calcula e registra métricas p/ fold:\n",
    "        accs[i] = calc_metric(y_val_fold, pred_y, metric_type='acc', class_type = type, classes=cls)\n",
    "        precs[i] = calc_metric(y_val_fold, pred_y, metric_type='prec', class_type = type, classes=cls)\n",
    "        recs[i] = calc_metric(y_val_fold, pred_y, metric_type='rec', class_type = type, classes=cls)\n",
    "        specs[i] = calc_metric(y_val_fold, pred_y, metric_type='spec', class_type = type, classes=cls)\n",
    "        f1_scores[i] = calc_metric(y_val_fold, pred_y, metric_type='f1_score', class_type = type, classes=cls)\n",
    "       \n",
    "    ## Registra resultados (dataframe):\n",
    "    metrics = {'acc': np.mean(accs), 'prec': np.mean(precs), 'rec': np.mean(recs), \n",
    "                   'spec': np.mean(specs), 'f1_score': np.mean(f1_scores)}      \n",
    "\n",
    "    return metrics, model\n"
   ]
  },
  {
   "cell_type": "code",
   "execution_count": 615,
   "id": "6df2b702",
   "metadata": {},
   "outputs": [
    {
     "data": {
      "text/plain": [
       "{'n_estimators': 200,\n",
       " 'max_depth': 13,\n",
       " 'random_state': 13,\n",
       " 'recall': 0.9732433158202068}"
      ]
     },
     "execution_count": 615,
     "metadata": {},
     "output_type": "execute_result"
    }
   ],
   "source": [
    "# Ajusta parâmetros Random Forest (ex.):\n",
    "params = {'n_estimators': [50, 100, 200],\n",
    " 'max_depth': [4, 6, 10, 12, 13],\n",
    " 'random_state': [13]}\n",
    "\n",
    "model = getModel(classifier = classifiers[1], class_type = 'multiclass')  \n",
    "score_tracker = []\n",
    "for n_estimators in params['n_estimators']:\n",
    "    for max_depth in params['max_depth']:\n",
    "        param = {\n",
    "            'n_estimators': n_estimators,\n",
    "            'max_depth': max_depth,\n",
    "            'random_state': 13\n",
    "        }\n",
    "        metrics, model = score_model(model,param, cv=None) \n",
    "        print('Métricas treino: ',metrics)\n",
    "        param['recall'] = metrics['acc'] \n",
    "        score_tracker.append(param)\n",
    "        "
   ]
  },
  {
   "cell_type": "markdown",
   "id": "2eecb219",
   "metadata": {},
   "source": [
    "### Treino classificador binário"
   ]
  },
  {
   "cell_type": "code",
   "execution_count": 38,
   "id": "ec73719d",
   "metadata": {},
   "outputs": [
    {
     "name": "stdout",
     "output_type": "stream",
     "text": [
      "0\n",
      "1\n",
      "2\n"
     ]
    }
   ],
   "source": [
    "classifiers = ['SVM', 'RF', 'XGBoost']\n",
    "binaryModels = []\n",
    "for i in range(3):\n",
    "     "
   ]
  },
  {
   "cell_type": "code",
   "execution_count": 201,
   "id": "bb684535",
   "metadata": {},
   "outputs": [],
   "source": [
    "labels_list = []\n",
    "conf_matrix_list = []\n",
    "roc_curve_list = []\n",
    "\n",
    "# Data_frame de resultados\n",
    "results = pd.DataFrame(columns=['Tipo', 'Model', 'Features', 'Acurácia', 'Precisão', 'Sensibil' , 'Falso Pos', 'Especif', 'F1_measure'])\n",
    "lin= 0  ## linha inicial para inclusão no dataframe results\n",
    "classifiers = ['SVM', 'RF', 'XGBoost']\n",
    "ci = 0"
   ]
  },
  {
   "cell_type": "code",
   "execution_count": 204,
   "id": "9e8a034b",
   "metadata": {},
   "outputs": [],
   "source": [
    "# Se lected features\n",
    "#features_selected = fs_indices_mutual_info  \n",
    "features_desc= str(N_FEATURES)+\" features selected by MI\"  \n",
    "N_SPLITS = 10 \n",
    "\n",
    "# Executa cross-validation e mostra curvas ROC\n",
    "cv = StratifiedKFold(n_splits= N_SPLITS)\n",
    "\n",
    "accs = precs = recs = specs = f1_scores = aucs = np.zeros((N_SPLITS), dtype = np.float64)\n",
    "tprs = []\n",
    "mean_fpr = np.linspace(0, 1, 100)\n",
    "\n",
    "preds_y = np.zeros_like(data_y)\n",
    "\n",
    "## Ajusta features para treino e teste\n",
    "#X = data_x[:,fs_indices_mutual_info]\n",
    "X = data_x \n",
    "\n",
    "model = getModel(classifier = classifiers[ci], class_type = 'binary')\n",
    "for i, (train, test) in enumerate(cv.split(X, data_y)):\n",
    "    # Ajusta modelo:\n",
    "    model.fit(X[train], data_y[train])    \n",
    "    \n",
    "    # Predição:\n",
    "    pred_y = model.predict(X[test])\n",
    "    prob_y = model.predict_proba(X[test])\n",
    "    \n",
    "    #Registra predições:\n",
    "    preds_y[test] = pred_y\n",
    "    \n",
    "    # Calcula e registra métricas p/ fold:\n",
    "    accs[i] = calc_metric(data_y[test], pred_y, metric_type='acc')\n",
    "    precs[i] = calc_metric(data_y[test], pred_y, metric_type='prec')                \n",
    "    recs[i] = calc_metric(data_y[test], pred_y, metric_type='rec')                \n",
    "    specs[i] = calc_metric(data_y[test], pred_y, metric_type='spec')                \n",
    "    f1_scores[i] = calc_metric(data_y[test], pred_y, metric_type='f1_score')                \n",
    "       \n",
    "    # Calcula curva_roc e AUC:\n",
    "    prob = prob_y[:, 1]\n",
    "    fpr, tpr, thresholds = roc_curve(data_y[test], prob)\n",
    "    interp_tpr = np.interp(mean_fpr, fpr, tpr)\n",
    "    interp_tpr[0] = 0.0\n",
    "    tprs.append(interp_tpr)\n",
    "    aucs[i]= auc(mean_fpr, interp_tpr)\n",
    "                     \n",
    "## Registra resultados (dataframe):\n",
    "metrics = {'acc': np.mean(accs), 'prec': np.mean(precs), 'rec': np.mean(recs), \n",
    "           'spec': np.mean(specs), 'f1_score': np.mean(f1_scores)}                                      \n",
    "fill_line_metrics_CV(classifiers[ci], features_desc, lin, metrics, results, class_type='binary')\n",
    "\n",
    "# Calcula e registra curva ROC (média CV)\n",
    "mean_tpr = np.mean(tprs, axis=0)\n",
    "mean_tpr[-1] = 1.0\n",
    "mean_auc = auc(mean_fpr, mean_tpr)\n",
    "std_auc = np.std(aucs)\n",
    "roc_curve_list.append((mean_fpr, mean_tpr))\n",
    "label = r\"Mean ROC (AUC %s= %0.4f $\\pm$ %0.4f)\" % ((classifiers[ci]+\"-binary \"), mean_auc, std_auc)\n",
    "labels_list.append(label)\n",
    "\n",
    "# Acumula Matrizes de confusão:\n",
    "conf_matrix_list.append(make_confusionMatrixDisplay(\n",
    "      data_y, preds_y, labels = [0,1], title=features_desc + \"- \"+classifiers[ci]))\n",
    "\n",
    "lin+= 1\n",
    "ci+= 1                     \n",
    "\n",
    "# Exibe curva ROC para classificador Binário (cross validation)\n",
    "def plot_roc_curve_CV(roc_curve_list, labels_list, title = \"ROC Curve - Normal vs Anormal\"):\n",
    "    fig, ax = plt.subplots(figsize=(9,5))\n",
    "    colors = cycle([\"aqua\", \"darkorange\", \"cornflowerblue\", \"deeppink\", \"navy\", \"darkorange\"])\n",
    "    plt.style.use(\"bmh\")\n",
    "    ax.plot([0, 1], [0, 1], linestyle=\"--\", lw=2, color=\"r\", label=\"Chance\", alpha=0.8)\n",
    "    for i,color in zip(range(len(roc_curve_list)), colors):\n",
    "        ax.plot(\n",
    "            roc_curve_list[i][0],\n",
    "            roc_curve_list[i][1],\n",
    "            color=color,\n",
    "            label=labels_list[i],\n",
    "            lw=2,\n",
    "            alpha=0.8,\n",
    "        )\n",
    " \n",
    "    ax.set(\n",
    "        xlim=[-0.05, 1.05],\n",
    "        ylim=[-0.05, 1.05],\n",
    "        title= title\n",
    "    )\n",
    "    ax.legend(loc=\"lower right\")\n",
    "    plt.show()\n",
    "\n"
   ]
  },
  {
   "cell_type": "code",
   "execution_count": 205,
   "id": "2af31677",
   "metadata": {},
   "outputs": [
    {
     "data": {
      "text/plain": [
       "(3, 3, 3)"
      ]
     },
     "execution_count": 205,
     "metadata": {},
     "output_type": "execute_result"
    }
   ],
   "source": [
    "len(labels_list), len(roc_curve_list), len(conf_matrix_list)"
   ]
  },
  {
   "cell_type": "markdown",
   "id": "fcaa93ac",
   "metadata": {},
   "source": [
    "### Resultados:"
   ]
  },
  {
   "cell_type": "code",
   "execution_count": 206,
   "id": "b6da3d26",
   "metadata": {},
   "outputs": [
    {
     "data": {
      "image/png": "[encoded data removed]",
      "text/plain": [
       "<Figure size 648x360 with 1 Axes>"
      ]
     },
     "metadata": {
      "needs_background": "light"
     },
     "output_type": "display_data"
    },
    {
     "data": {
      "text/html": [
       "<div>\n",
       "<style scoped>\n",
       "    .dataframe tbody tr th:only-of-type {\n",
       "        vertical-align: middle;\n",
       "    }\n",
       "\n",
       "    .dataframe tbody tr th {\n",
       "        vertical-align: top;\n",
       "    }\n",
       "\n",
       "    .dataframe thead th {\n",
       "        text-align: right;\n",
       "    }\n",
       "</style>\n",
       "<table border=\"1\" class=\"dataframe\">\n",
       "  <thead>\n",
       "    <tr style=\"text-align: right;\">\n",
       "      <th></th>\n",
       "      <th>Tipo</th>\n",
       "      <th>Model</th>\n",
       "      <th>Features</th>\n",
       "      <th>Acurácia</th>\n",
       "      <th>Precisão</th>\n",
       "      <th>Sensibil</th>\n",
       "      <th>Falso Pos</th>\n",
       "      <th>Especif</th>\n",
       "      <th>F1_measure</th>\n",
       "    </tr>\n",
       "  </thead>\n",
       "  <tbody>\n",
       "    <tr>\n",
       "      <th>0</th>\n",
       "      <td>binary</td>\n",
       "      <td>SVM</td>\n",
       "      <td>30 features selected by MI</td>\n",
       "      <td>0.9582</td>\n",
       "      <td>0.9582</td>\n",
       "      <td>0.9582</td>\n",
       "      <td>0.0418</td>\n",
       "      <td>0.9582</td>\n",
       "      <td>0.9582</td>\n",
       "    </tr>\n",
       "    <tr>\n",
       "      <th>1</th>\n",
       "      <td>binary</td>\n",
       "      <td>RF</td>\n",
       "      <td>30 features selected by MI</td>\n",
       "      <td>0.9679</td>\n",
       "      <td>0.9679</td>\n",
       "      <td>0.9679</td>\n",
       "      <td>0.0321</td>\n",
       "      <td>0.9679</td>\n",
       "      <td>0.9679</td>\n",
       "    </tr>\n",
       "    <tr>\n",
       "      <th>2</th>\n",
       "      <td>binary</td>\n",
       "      <td>XGBoost</td>\n",
       "      <td>30 features selected by MI</td>\n",
       "      <td>0.9709</td>\n",
       "      <td>0.9709</td>\n",
       "      <td>0.9709</td>\n",
       "      <td>0.0291</td>\n",
       "      <td>0.9709</td>\n",
       "      <td>0.9709</td>\n",
       "    </tr>\n",
       "  </tbody>\n",
       "</table>\n",
       "</div>"
      ],
      "text/plain": [
       "     Tipo    Model                    Features Acurácia Precisão Sensibil  \\\n",
       "0  binary      SVM  30 features selected by MI   0.9582   0.9582   0.9582   \n",
       "1  binary       RF  30 features selected by MI   0.9679   0.9679   0.9679   \n",
       "2  binary  XGBoost  30 features selected by MI   0.9709   0.9709   0.9709   \n",
       "\n",
       "  Falso Pos Especif F1_measure  \n",
       "0    0.0418  0.9582     0.9582  \n",
       "1    0.0321  0.9679     0.9679  \n",
       "2    0.0291  0.9709     0.9709  "
      ]
     },
     "execution_count": 206,
     "metadata": {},
     "output_type": "execute_result"
    }
   ],
   "source": [
    "plot_roc_curve_CV(roc_curve_list, labels_list, title = \"Normal vs Anormal\")\n",
    "results\n"
   ]
  },
  {
   "cell_type": "markdown",
   "id": "e7e5b97f",
   "metadata": {},
   "source": [
    "#### Matrizes de confução"
   ]
  },
  {
   "cell_type": "code",
   "execution_count": 207,
   "id": "e7871319",
   "metadata": {
    "scrolled": false
   },
   "outputs": [
    {
     "data": {
      "text/plain": [
       "<Figure size 432x288 with 0 Axes>"
      ]
     },
     "metadata": {},
     "output_type": "display_data"
    },
    {
     "data": {
      "image/png": "[encoded data removed]",
      "text/plain": [
       "<Figure size 432x288 with 2 Axes>"
      ]
     },
     "metadata": {
      "needs_background": "light"
     },
     "output_type": "display_data"
    },
    {
     "data": {
      "image/png": "[encoded data removed]",
      "text/plain": [
       "<Figure size 432x288 with 2 Axes>"
      ]
     },
     "metadata": {
      "needs_background": "light"
     },
     "output_type": "display_data"
    },
    {
     "data": {
      "image/png": "[encoded data removed]",
      "text/plain": [
       "<Figure size 432x288 with 2 Axes>"
      ]
     },
     "metadata": {
      "needs_background": "light"
     },
     "output_type": "display_data"
    },
    {
     "data": {
      "text/plain": [
       "<Figure size 432x288 with 0 Axes>"
      ]
     },
     "metadata": {},
     "output_type": "display_data"
    }
   ],
   "source": [
    "#%matplotlib inline    \n",
    "\n",
    "plt.figure(figsize=(6, 4))   #tupla para tamanho da figura (largura, altura)\n",
    "\n",
    "for i in range(len(conf_matrix_list)):\n",
    "    conf_matrix_list[i][0].plot()\n",
    "    plt.title(conf_matrix_list[i][1])\n",
    "\n",
    "plt.show()\n",
    "plt.tight_layout()    #inclui espaçamento entre os gráficos"
   ]
  },
  {
   "cell_type": "markdown",
   "id": "c79f23f1",
   "metadata": {},
   "source": [
    "### Classificador ternário"
   ]
  },
  {
   "cell_type": "code",
   "execution_count": 621,
   "id": "8e2d5ecc",
   "metadata": {},
   "outputs": [
    {
     "data": {
      "text/plain": [
       "{'n_estimators': 200,\n",
       " 'max_depth': 13,\n",
       " 'random_state': 13,\n",
       " 'recall': 0.9732433158202068}"
      ]
     },
     "execution_count": 621,
     "metadata": {},
     "output_type": "execute_result"
    }
   ],
   "source": [
    "# Melhor parâmetro:\n",
    "best_param= sorted(score_tracker, key=lambda x: x['recall'], reverse=True)[0]\n",
    "best_param"
   ]
  },
  {
   "cell_type": "code",
   "execution_count": 622,
   "id": "07727dc0",
   "metadata": {},
   "outputs": [],
   "source": [
    "labels_list = []\n",
    "conf_matrix_list = []\n",
    "roc_curve_list = []\n",
    "\n",
    "# Data_frame de resultados\n",
    "results = pd.DataFrame(columns=['Tipo', 'Model', 'Features', 'Acurácia', 'Precisão', 'Sensibil' , 'Falso Pos', 'Especif', 'F1_measure'])\n",
    "lin= 0  ## linha inicial para inclusão no dataframe results\n",
    "classifiers = ['SVM', 'RF', 'XGBoost']\n",
    "ci = 0"
   ]
  },
  {
   "cell_type": "code",
   "execution_count": 625,
   "id": "5c6fede3",
   "metadata": {},
   "outputs": [
    {
     "name": "stdout",
     "output_type": "stream",
     "text": [
      "metricas treino:  {'acc': 0.9403600223743457, 'prec': 0.9403600223743457, 'rec': 0.9403600223743457, 'spec': 0.9403600223743457, 'f1_score': 0.9403600223743457}\n"
     ]
    }
   ],
   "source": [
    "## Treinamento e predição (Ternário):\n",
    "features_desc= str(N_FEATURES)+\" features selected\"  \n",
    "#tprs = []\n",
    "#mean_fpr = np.linspace(0, 1, 100)\n",
    "\n",
    "model = getModel(classifier = classifiers[ci], class_type = 'multiclass')  \n",
    "metrics, model = score_model(model, best_param if ci==1 else None, type= 'ternary', cv=None)\n",
    "print('metricas treino: ',metrics)\n",
    "\n",
    "# Predição:\n",
    "pred_y = model.predict(X_test) \n",
    "prob_y = model.predict_proba(X_test)\n",
    "    \n",
    "# Calcula e registra métricas p/ fold:\n",
    "accs = calc_metric(y_test['ternary'], pred_y, metric_type='acc', class_type = 'multiclass', classes=[0,1,2])\n",
    "precs  = calc_metric(y_test['ternary'], pred_y, metric_type='prec', class_type = 'multiclass', classes=[0,1,2])                \n",
    "recs  = calc_metric(y_test['ternary'], pred_y, metric_type='rec', class_type = 'multiclass', classes=[0,1,2])                \n",
    "specs  = calc_metric(y_test['ternary'], pred_y, metric_type='spec', class_type = 'multiclass', classes=[0,1,2])                \n",
    "f1_scores  = calc_metric(y_test['ternary'], pred_y, metric_type='f1_score', class_type = 'multiclass', classes=[0,1,2])                \n",
    "       \n",
    "## Registra resultados (dataframe):\n",
    "metrics = {'acc': accs, 'prec': precs, 'rec': recs, \n",
    "           'spec': specs, 'f1_score': f1_scores}      \n",
    "\n",
    "fill_line_metrics_CV(classifiers[ci], features_desc, lin, metrics, results, class_type= \"ternary\")\n",
    "\n",
    "# Acumula Matrizes de confusão:\n",
    "conf_matrix_list.append(make_confusionMatrixDisplay(\n",
    "      y_test['ternary'], pred_y, labels = [0,1,2], title=features_desc + \"- \"+classifiers[ci]))\n",
    "\n",
    "lin+= 1\n",
    "ci+= 1                     "
   ]
  },
  {
   "cell_type": "code",
   "execution_count": 626,
   "id": "78b56979",
   "metadata": {},
   "outputs": [
    {
     "data": {
      "text/plain": [
       "(0, 0, 3)"
      ]
     },
     "execution_count": 626,
     "metadata": {},
     "output_type": "execute_result"
    }
   ],
   "source": [
    " len(labels_list), len(roc_curve_list), len(conf_matrix_list)"
   ]
  },
  {
   "cell_type": "code",
   "execution_count": 627,
   "id": "3b1ad3e7",
   "metadata": {},
   "outputs": [
    {
     "data": {
      "text/html": [
       "<div>\n",
       "<style scoped>\n",
       "    .dataframe tbody tr th:only-of-type {\n",
       "        vertical-align: middle;\n",
       "    }\n",
       "\n",
       "    .dataframe tbody tr th {\n",
       "        vertical-align: top;\n",
       "    }\n",
       "\n",
       "    .dataframe thead th {\n",
       "        text-align: right;\n",
       "    }\n",
       "</style>\n",
       "<table border=\"1\" class=\"dataframe\">\n",
       "  <thead>\n",
       "    <tr style=\"text-align: right;\">\n",
       "      <th></th>\n",
       "      <th>Tipo</th>\n",
       "      <th>Model</th>\n",
       "      <th>Features</th>\n",
       "      <th>Acurácia</th>\n",
       "      <th>Precisão</th>\n",
       "      <th>Sensibil</th>\n",
       "      <th>Falso Pos</th>\n",
       "      <th>Especif</th>\n",
       "      <th>F1_measure</th>\n",
       "    </tr>\n",
       "  </thead>\n",
       "  <tbody>\n",
       "    <tr>\n",
       "      <th>0</th>\n",
       "      <td>ternary</td>\n",
       "      <td>SVM</td>\n",
       "      <td>30 features selected</td>\n",
       "      <td>0.9505</td>\n",
       "      <td>0.9508</td>\n",
       "      <td>0.9505</td>\n",
       "      <td>0.0243</td>\n",
       "      <td>0.9757</td>\n",
       "      <td>0.9506</td>\n",
       "    </tr>\n",
       "    <tr>\n",
       "      <th>1</th>\n",
       "      <td>ternary</td>\n",
       "      <td>RF</td>\n",
       "      <td>30 features selected</td>\n",
       "      <td>0.9521</td>\n",
       "      <td>0.9520</td>\n",
       "      <td>0.9521</td>\n",
       "      <td>0.0242</td>\n",
       "      <td>0.9758</td>\n",
       "      <td>0.9519</td>\n",
       "    </tr>\n",
       "    <tr>\n",
       "      <th>2</th>\n",
       "      <td>ternary</td>\n",
       "      <td>XGBoost</td>\n",
       "      <td>30 features selected</td>\n",
       "      <td>0.9490</td>\n",
       "      <td>0.9491</td>\n",
       "      <td>0.9490</td>\n",
       "      <td>0.0253</td>\n",
       "      <td>0.9747</td>\n",
       "      <td>0.9490</td>\n",
       "    </tr>\n",
       "  </tbody>\n",
       "</table>\n",
       "</div>"
      ],
      "text/plain": [
       "      Tipo    Model              Features Acurácia Precisão Sensibil  \\\n",
       "0  ternary      SVM  30 features selected   0.9505   0.9508   0.9505   \n",
       "1  ternary       RF  30 features selected   0.9521   0.9520   0.9521   \n",
       "2  ternary  XGBoost  30 features selected   0.9490   0.9491   0.9490   \n",
       "\n",
       "  Falso Pos Especif F1_measure  \n",
       "0    0.0243  0.9757     0.9506  \n",
       "1    0.0242  0.9758     0.9519  \n",
       "2    0.0253  0.9747     0.9490  "
      ]
     },
     "execution_count": 627,
     "metadata": {},
     "output_type": "execute_result"
    }
   ],
   "source": [
    "#plot_roc_curve_CV(roc_curve_list, labels_list, title = \"Normal vs ASC-US/LSIL vs ASC-H/HSIL/Car\")\n",
    "results\n"
   ]
  },
  {
   "cell_type": "code",
   "execution_count": 628,
   "id": "ed294f14",
   "metadata": {},
   "outputs": [
    {
     "data": {
      "text/plain": [
       "<Figure size 432x288 with 0 Axes>"
      ]
     },
     "metadata": {},
     "output_type": "display_data"
    },
    {
     "data": {
      "image/png": "[encoded data removed]",
      "text/plain": [
       "<Figure size 432x288 with 2 Axes>"
      ]
     },
     "metadata": {
      "needs_background": "light"
     },
     "output_type": "display_data"
    },
    {
     "data": {
      "image/png": "[encoded data removed]",
      "text/plain": [
       "<Figure size 432x288 with 2 Axes>"
      ]
     },
     "metadata": {
      "needs_background": "light"
     },
     "output_type": "display_data"
    },
    {
     "data": {
      "image/png": "[encoded data removed]",
      "text/plain": [
       "<Figure size 432x288 with 2 Axes>"
      ]
     },
     "metadata": {
      "needs_background": "light"
     },
     "output_type": "display_data"
    },
    {
     "data": {
      "text/plain": [
       "<Figure size 432x288 with 0 Axes>"
      ]
     },
     "metadata": {},
     "output_type": "display_data"
    }
   ],
   "source": [
    "#%matplotlib inline    \n",
    "\n",
    "plt.figure(figsize=(6, 4))   #tupla para tamanho da figura (largura, altura)\n",
    "\n",
    "for i in range(len(conf_matrix_list)):\n",
    "    conf_matrix_list[i][0].plot()\n",
    "    plt.title(conf_matrix_list[i][1])\n",
    "\n",
    "plt.show()\n",
    "plt.tight_layout()    #inclui espaçamento entre os gráficos"
   ]
  },
  {
   "cell_type": "markdown",
   "id": "61ee4984",
   "metadata": {},
   "source": [
    "### Classificação Bethesda:"
   ]
  },
  {
   "cell_type": "code",
   "execution_count": 640,
   "id": "e86f6f83",
   "metadata": {},
   "outputs": [],
   "source": [
    "labels_list = []\n",
    "conf_matrix_list = []\n",
    "roc_curve_list = []\n",
    "\n",
    "# Data_frame de resultados\n",
    "results = pd.DataFrame(columns=['Tipo', 'Model', 'Features', 'Acurácia', 'Precisão', 'Sensibil' , 'Falso Pos', 'Especif', 'F1_measure'])\n",
    "lin= 0  ## linha inicial para inclusão no dataframe results\n",
    "classifiers = ['SVM', 'RF', 'XGBoost']\n",
    "ci = 0"
   ]
  },
  {
   "cell_type": "code",
   "execution_count": 645,
   "id": "970d1b3b",
   "metadata": {},
   "outputs": [
    {
     "name": "stdout",
     "output_type": "stream",
     "text": [
      "metricas treino:  {'acc': 0.6671924246661958, 'prec': 0.6671924246661958, 'rec': 0.6671924246661958, 'spec': 0.6671924246661958, 'f1_score': 0.6671924246661958}\n"
     ]
    }
   ],
   "source": [
    "## Treinamento e predição (Ternário):\n",
    "features_desc= str(N_FEATURES)+\" features selected\"  \n",
    "#tprs = []\n",
    "#mean_fpr = np.linspace(0, 1, 100)\n",
    "\n",
    "model = getModel(classifier = classifiers[ci], class_type = 'multiclass')  \n",
    "metrics, model = score_model(model, best_param if ci==1 else None, type= 'bethesda', cv=None)\n",
    "print('metricas treino: ',metrics)\n",
    "\n",
    "# Predição:\n",
    "pred_y = model.predict(X_test) \n",
    "prob_y = model.predict_proba(X_test)\n",
    "    \n",
    "# Calcula e registra métricas p/ fold:\n",
    "accs = calc_metric(y_test['bethesda'], pred_y, metric_type='acc', class_type = 'multiclass', classes=[0,1,2,3, 4, 5])\n",
    "precs  = calc_metric(y_test['bethesda'], pred_y, metric_type='prec', class_type = 'multiclass', classes=[0,1,2, 3, 4, 5])                \n",
    "recs  = calc_metric(y_test['bethesda'], pred_y, metric_type='rec', class_type = 'multiclass', classes=[0,1,2, 3, 4, 5])                \n",
    "specs  = calc_metric(y_test['bethesda'], pred_y, metric_type='spec', class_type = 'multiclass', classes=[0,1,2, 3, 4, 5])                \n",
    "f1_scores  = calc_metric(y_test['bethesda'], pred_y, metric_type='f1_score', class_type = 'multiclass', classes=[0,1,2, 3, 4, 5])                \n",
    "       \n",
    "## Registra resultados (dataframe):\n",
    "metrics = {'acc': accs, 'prec': precs, 'rec': recs, \n",
    "           'spec': specs, 'f1_score': f1_scores}      \n",
    "\n",
    "fill_line_metrics_CV(classifiers[ci], features_desc, lin, metrics, results, class_type= \"ternary\")\n",
    "\n",
    "# Acumula Matrizes de confusão:\n",
    "conf_matrix_list.append(make_confusionMatrixDisplay(\n",
    "      y_test['bethesda'], pred_y, labels = [0,1,2, 3, 4, 5], title=features_desc + \"- \"+classifiers[ci]))\n",
    "\n",
    "lin+= 1\n",
    "ci+= 1                     "
   ]
  },
  {
   "cell_type": "code",
   "execution_count": 646,
   "id": "f1e1241d",
   "metadata": {},
   "outputs": [
    {
     "data": {
      "text/plain": [
       "(0, 0, 3)"
      ]
     },
     "execution_count": 646,
     "metadata": {},
     "output_type": "execute_result"
    }
   ],
   "source": [
    " len(labels_list), len(roc_curve_list), len(conf_matrix_list)"
   ]
  },
  {
   "cell_type": "code",
   "execution_count": 648,
   "id": "c59bcf87",
   "metadata": {},
   "outputs": [
    {
     "data": {
      "text/html": [
       "<div>\n",
       "<style scoped>\n",
       "    .dataframe tbody tr th:only-of-type {\n",
       "        vertical-align: middle;\n",
       "    }\n",
       "\n",
       "    .dataframe tbody tr th {\n",
       "        vertical-align: top;\n",
       "    }\n",
       "\n",
       "    .dataframe thead th {\n",
       "        text-align: right;\n",
       "    }\n",
       "</style>\n",
       "<table border=\"1\" class=\"dataframe\">\n",
       "  <thead>\n",
       "    <tr style=\"text-align: right;\">\n",
       "      <th></th>\n",
       "      <th>Tipo</th>\n",
       "      <th>Model</th>\n",
       "      <th>Features</th>\n",
       "      <th>Acurácia</th>\n",
       "      <th>Precisão</th>\n",
       "      <th>Sensibil</th>\n",
       "      <th>Falso Pos</th>\n",
       "      <th>Especif</th>\n",
       "      <th>F1_measure</th>\n",
       "    </tr>\n",
       "  </thead>\n",
       "  <tbody>\n",
       "    <tr>\n",
       "      <th>0</th>\n",
       "      <td>ternary</td>\n",
       "      <td>SVM</td>\n",
       "      <td>30 features selected</td>\n",
       "      <td>0.6708</td>\n",
       "      <td>0.7131</td>\n",
       "      <td>0.6708</td>\n",
       "      <td>0.0655</td>\n",
       "      <td>0.9345</td>\n",
       "      <td>0.6857</td>\n",
       "    </tr>\n",
       "    <tr>\n",
       "      <th>1</th>\n",
       "      <td>ternary</td>\n",
       "      <td>RF</td>\n",
       "      <td>30 features selected</td>\n",
       "      <td>0.7048</td>\n",
       "      <td>0.7166</td>\n",
       "      <td>0.7048</td>\n",
       "      <td>0.0602</td>\n",
       "      <td>0.9398</td>\n",
       "      <td>0.7093</td>\n",
       "    </tr>\n",
       "    <tr>\n",
       "      <th>2</th>\n",
       "      <td>ternary</td>\n",
       "      <td>XGBoost</td>\n",
       "      <td>30 features selected</td>\n",
       "      <td>0.7233</td>\n",
       "      <td>0.7253</td>\n",
       "      <td>0.7233</td>\n",
       "      <td>0.0568</td>\n",
       "      <td>0.9432</td>\n",
       "      <td>0.7237</td>\n",
       "    </tr>\n",
       "  </tbody>\n",
       "</table>\n",
       "</div>"
      ],
      "text/plain": [
       "      Tipo    Model              Features Acurácia Precisão Sensibil  \\\n",
       "0  ternary      SVM  30 features selected   0.6708   0.7131   0.6708   \n",
       "1  ternary       RF  30 features selected   0.7048   0.7166   0.7048   \n",
       "2  ternary  XGBoost  30 features selected   0.7233   0.7253   0.7233   \n",
       "\n",
       "  Falso Pos Especif F1_measure  \n",
       "0    0.0655  0.9345     0.6857  \n",
       "1    0.0602  0.9398     0.7093  \n",
       "2    0.0568  0.9432     0.7237  "
      ]
     },
     "execution_count": 648,
     "metadata": {},
     "output_type": "execute_result"
    }
   ],
   "source": [
    "results"
   ]
  },
  {
   "cell_type": "code",
   "execution_count": 637,
   "id": "d47967ca",
   "metadata": {},
   "outputs": [
    {
     "data": {
      "text/plain": [
       "<Figure size 432x288 with 0 Axes>"
      ]
     },
     "metadata": {},
     "output_type": "display_data"
    },
    {
     "data": {
      "image/png": "[encoded data removed]",
      "text/plain": [
       "<Figure size 432x288 with 2 Axes>"
      ]
     },
     "metadata": {
      "needs_background": "light"
     },
     "output_type": "display_data"
    },
    {
     "data": {
      "image/png": "[encoded data removed]",
      "text/plain": [
       "<Figure size 432x288 with 2 Axes>"
      ]
     },
     "metadata": {
      "needs_background": "light"
     },
     "output_type": "display_data"
    },
    {
     "data": {
      "image/png": "[encoded data removed]",
      "text/plain": [
       "<Figure size 432x288 with 2 Axes>"
      ]
     },
     "metadata": {
      "needs_background": "light"
     },
     "output_type": "display_data"
    },
    {
     "data": {
      "text/plain": [
       "<Figure size 432x288 with 0 Axes>"
      ]
     },
     "metadata": {},
     "output_type": "display_data"
    }
   ],
   "source": [
    "#%matplotlib inline    \n",
    "\n",
    "plt.figure(figsize=(6, 4))   #tupla para tamanho da figura (largura, altura)\n",
    "\n",
    "for i in range(len(conf_matrix_list)):\n",
    "    conf_matrix_list[i][0].plot()\n",
    "    plt.title(conf_matrix_list[i][1])\n",
    "\n",
    "plt.show()\n",
    "plt.tight_layout()    #inclui espaçamento entre os gráficos"
   ]
  },
  {
   "cell_type": "code",
   "execution_count": null,
   "id": "fd47585c",
   "metadata": {},
   "outputs": [],
   "source": [
    "# Exibe gráficos boxplot - dist nucleo borda:\n",
    "fig = plt.figure(figsize =(15, 10))\n",
    "ax = fig.add_subplot(111)\n",
    "\n",
    "dist = []\n",
    "num_samples = 77\n",
    "for i in Bethesda_idx_classes.keys():\n",
    "      dist.append(data_x[(0 + i*num_samples):((i+1)*num_samples), 14])\n",
    "\n",
    "ax.boxplot(dist_to_C_border_cells, labels = ['Normal', 'ASC-US', 'ASC-H', 'LSIL','HSIL', 'Invasive Carcinoma'], patch_artist = True,\n",
    "                notch ='True') \n",
    "ax.set_title(\"Proximidade do Núcleo da borda (citoplasma)\")"
   ]
  }
 ],
 "metadata": {
  "kernelspec": {
   "display_name": "Python 3 (ipykernel)",
   "language": "python",
   "name": "python3"
  },
  "language_info": {
   "codemirror_mode": {
    "name": "ipython",
    "version": 3
   },
   "file_extension": ".py",
   "mimetype": "text/x-python",
   "name": "python",
   "nbconvert_exporter": "python",
   "pygments_lexer": "ipython3",
   "version": "3.9.1"
  }
 },
 "nbformat": 4,
 "nbformat_minor": 5
}
