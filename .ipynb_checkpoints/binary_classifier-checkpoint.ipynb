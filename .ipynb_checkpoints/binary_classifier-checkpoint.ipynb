{
 "cells": [
  {
   "cell_type": "markdown",
   "id": "5b43ab41",
   "metadata": {},
   "source": [
    "## Classificadores - características morfométricas de núcleo/citoplasma de células cervicais (Base CRIC)"
   ]
  },
  {
   "cell_type": "code",
   "execution_count": 21,
   "id": "cd46ce97",
   "metadata": {},
   "outputs": [],
   "source": [
    "import numpy as np\n",
    "import pandas as pd \n",
    "from math import sqrt\n",
    "import os\n",
    "import sys\n",
    "from PIL import Image\n",
    "import matplotlib.pyplot as plt\n",
    "from matplotlib.pyplot import imshow \n",
    "from skimage import morphology, measure\n",
    "from skimage.draw import polygon, polygon_perimeter\n",
    "from scipy.spatial.distance import cdist\n",
    "from scipy.stats import kurtosis\n",
    "\n",
    "import pyefd\n",
    "from pyefd import elliptic_fourier_descriptors, normalize_efd\n",
    "\n",
    "from sklearn.metrics import accuracy_score, balanced_accuracy_score\n",
    "from sklearn.metrics import precision_score, recall_score\n",
    "from sklearn.metrics import confusion_matrix, ConfusionMatrixDisplay\n",
    "from sklearn.metrics import f1_score\n",
    "from sklearn.metrics import confusion_matrix\n",
    "from sklearn.metrics import roc_curve, auc\n",
    "from sklearn.model_selection import train_test_split\n",
    "from sklearn.neighbors import KNeighborsClassifier\n",
    "from sklearn.naive_bayes import GaussianNB\n",
    "from sklearn.svm import SVC\n",
    "from sklearn.ensemble import RandomForestClassifier\n",
    "from sklearn.model_selection import train_test_split, StratifiedKFold\n",
    "\n",
    "from sklearn import feature_selection as fs\n",
    "\n",
    "from itertools import cycle\n",
    "\n",
    "from random import randint\n",
    "from random import sample\n",
    "\n",
    "import xgboost as xgb \n",
    "\n",
    "import csv\n",
    "#sys.path.append(os.path.abspath(\"D:/baseCRIC/SegmentacaoCriC/shape_based_classifier\"))\n",
    "import functions  as fn"
   ]
  },
  {
   "cell_type": "code",
   "execution_count": 2,
   "id": "b3b5ed51",
   "metadata": {},
   "outputs": [],
   "source": [
    "#IMG_W = 1376\n",
    "#IMG_H = 1020\n",
    "#Bethesda_classes = {'Normal':0, 'ASC-US':1, 'ASC-H':2, 'LSIL':3,'HSIL':4, 'Invasive Carcinoma':5} \n",
    "#Bethesda_idx_classes = {0: 'Normal', 1:'ASC-US', 2:'ASC-H', 3:'LSIL',4: 'HSIL', 5:'Invasive Carcinoma'} \n",
    "PATH_masks = \"D:/baseCRIC/SegmentacaoCriC/mascaras\" "
   ]
  },
  {
   "cell_type": "markdown",
   "id": "d6f815eb",
   "metadata": {},
   "source": [
    "### Classificador Normal vs Anormal(ASC-US, ASC-H, LSIL, HSIL, Carcinoma)"
   ]
  },
  {
   "cell_type": "markdown",
   "id": "6b29560a",
   "metadata": {},
   "source": [
    "#####  Filtra dados por classe"
   ]
  },
  {
   "cell_type": "code",
   "execution_count": 4,
   "id": "7f950bb5",
   "metadata": {},
   "outputs": [],
   "source": [
    "df_nucleos, df_cyto,df_nucleos_full, df_cyto_full = fn.list_cells('./base/nucleus-segmentations.csv', './base/cytoplasm-segmentations.csv') "
   ]
  },
  {
   "cell_type": "code",
   "execution_count": 5,
   "id": "b38fa9cb",
   "metadata": {},
   "outputs": [],
   "source": [
    "count_cells, dfAll = fn.make_stats(df_nucleos, df_cyto, df_nucleos_full, df_cyto_full, fn.const)\n"
   ]
  },
  {
   "cell_type": "code",
   "execution_count": 6,
   "id": "fef0a22d",
   "metadata": {},
   "outputs": [
    {
     "data": {
      "text/plain": [
       "(3233, 123)"
      ]
     },
     "execution_count": 6,
     "metadata": {},
     "output_type": "execute_result"
    }
   ],
   "source": [
    "#columns = fn.get_list_feature_labels()\n",
    "#columns.append('bethesda')\n",
    "columns = dfAll.columns\n",
    "df = dfAll \n",
    "df.to_csv('dataCRIC.csv', sep = '|', index=False)\n",
    "df.values.shape "
   ]
  },
  {
   "cell_type": "code",
   "execution_count": 10,
   "id": "7e66864e",
   "metadata": {},
   "outputs": [
    {
     "data": {
      "text/plain": [
       "(array([1.28801059]), array([-1.16620776]), '[1.28801059]', '[-0.03448496]')"
      ]
     },
     "execution_count": 10,
     "metadata": {},
     "output_type": "execute_result"
    }
   ],
   "source": [
    "df2 = pd.read_csv('dataCRIC.csv', sep='|', index_col=False,  header=0)\n",
    "max(df['kN']), min(df['kN']) "
   ]
  },
  {
   "cell_type": "code",
   "execution_count": 11,
   "id": "581d6797",
   "metadata": {
    "scrolled": true
   },
   "outputs": [
    {
     "name": "stdout",
     "output_type": "stream",
     "text": [
      "--- Totais por classe --- \n",
      "Normal...:  862\n",
      "ASC-Us...:  286\n",
      "ASC-H....:  536\n",
      "LSIL.....:  598\n",
      "HSIL.....:  874\n",
      "Carcinoma:  77\n"
     ]
    }
   ],
   "source": [
    "# Separa dados por classe de maneira balanceada:\n",
    "N_CLASSES = 2\n",
    "\n",
    "data_normal = df[df['bethesda'] == 0].copy()\n",
    "data_normal.set_index((i for i in range(data_normal.shape[0])), inplace=True)\n",
    "\n",
    "data_ascus = df[df['bethesda'] == 1].copy()\n",
    "data_ascus.set_index((i for i in range(data_ascus.shape[0])), inplace=True)\n",
    "\n",
    "data_asch = df[df['bethesda'] == 2].copy()\n",
    "data_asch.set_index((i for i in range(data_asch.shape[0])), inplace=True)\n",
    "\n",
    "data_lsil = df[df['bethesda'] == 3].copy()\n",
    "data_lsil.set_index((i for i in range(data_lsil.shape[0])), inplace=True)\n",
    "\n",
    "data_hsil = df[df['bethesda'] == 4].copy()\n",
    "data_hsil.set_index((i for i in range(data_hsil.shape[0])), inplace=True)\n",
    "\n",
    "data_car = df[df['bethesda'] == 5].copy()\n",
    "data_car.set_index((i for i in range(data_car.shape[0])), inplace=True)\n",
    "\n",
    "print(\"--- Totais por classe --- \")               \n",
    "print(\"Normal...: \", data_normal.values.shape[0])               \n",
    "print(\"ASC-Us...: \", data_ascus.values.shape[0])               \n",
    "print(\"ASC-H....: \", data_asch.values.shape[0])               \n",
    "print(\"LSIL.....: \", data_lsil.values.shape[0])               \n",
    "print(\"HSIL.....: \", data_hsil.values.shape[0])               \n",
    "print(\"Carcinoma: \", data_car.values.shape[0]) \n"
   ]
  },
  {
   "cell_type": "markdown",
   "id": "a02b81cb",
   "metadata": {},
   "source": [
    "### Seleção de características:"
   ]
  },
  {
   "cell_type": "code",
   "execution_count": 12,
   "id": "68bc3fe7",
   "metadata": {},
   "outputs": [],
   "source": [
    "N_FEATURES = 20   # Seleção das 20 features mais relevantes\n",
    " "
   ]
  },
  {
   "cell_type": "code",
   "execution_count": 79,
   "id": "2e5189f9",
   "metadata": {},
   "outputs": [],
   "source": [
    "## Normaliza dados\n",
    "def normalize(min, max, value):\n",
    "    return (value-min)/(max - min)\n",
    "\n",
    "def normalize_prop(prop, df):\n",
    "    min = np.min(df[prop].values)\n",
    "    max = np.max(df[prop].values)\n",
    "    return (normalize(min, max, df[prop].values))\n",
    "\n",
    "# Filtra/normaliza dados\n",
    "def normalize_dataset(df):\n",
    "  dataset = df.copy()\n",
    "   \n",
    "  dataset.areaN = normalize_prop('areaN', df)\n",
    "  dataset.eccenN = normalize_prop('eccenN', df) \n",
    "  dataset.extentN = normalize_prop('extentN', df)\n",
    "  dataset.periN = normalize_prop('periN', df)\n",
    "  dataset.maxAxN = normalize_prop('maxAxN', df)  \n",
    "  dataset.minAxN = normalize_prop('minAxN', df)  \n",
    "  dataset.compacN = normalize_prop('compacN', df)\n",
    "  dataset.circuN = normalize_prop('circuN', df)\n",
    "  dataset.convexN = normalize_prop('convexN', df)\n",
    "  dataset.hAreaN = normalize_prop('hAreaN', df)\n",
    "  dataset.solidN = normalize_prop('solidN', df) \n",
    "  dataset.equidiaN = normalize_prop('equidiaN', df) \n",
    "  dataset.elonN = normalize_prop('elonN', df)\n",
    "  dataset.eN = normalize_prop('eN', df)  \n",
    "     \n",
    "  dataset.kN = normalize_prop('kN', df)  \n",
    "  dataset.mrdN = normalize_prop('mrdN', df)  \n",
    "  dataset.ardN = normalize_prop('ardN', df)  \n",
    "  dataset.fdN = normalize_prop('fdN', df)       \n",
    "  efds = ['efdN'+str(i) for i in range(1,38)]\n",
    "  for efd in efds: \n",
    "      dataset[efd] = normalize_prop(efd, df) \n",
    "    \n",
    "  dataset.areaC = normalize_prop('areaC', df)\n",
    "  dataset.eccenC = normalize_prop('eccenC', df) \n",
    "  dataset.extentC = normalize_prop('extentC', df)\n",
    "  dataset.periC = normalize_prop('periC', df)\n",
    "  dataset.maxAxC = normalize_prop('maxAxC', df)  \n",
    "  dataset.minAxC = normalize_prop('minAxC', df)\n",
    "  dataset.compacC = normalize_prop('compacC', df)\n",
    "  dataset.circuC = normalize_prop('circuC', df)\n",
    "  dataset.convexC = normalize_prop('convexC', df)\n",
    "  dataset.hAreaC = normalize_prop('hAreaC', df)\n",
    "  dataset.solidC = normalize_prop('solidC', df) \n",
    "  dataset.equidiaC = normalize_prop('equidiaC', df) \n",
    "  dataset.elonC = normalize_prop('elonC', df)\n",
    "  dataset.eC = normalize_prop('eC', df)  \n",
    "  dataset.kC = normalize_prop('kC', df)  \n",
    "  dataset.mrdC = normalize_prop('mrdC', df)  \n",
    "  dataset.ardC = normalize_prop('ardC', df)  \n",
    "  dataset.fdC = normalize_prop('fdC', df)       \n",
    "  efds = ['efdC'+str(i) for i in range(1,38)]\n",
    "  for efd in efds: \n",
    "      dataset[efd] = normalize_prop(efd, df)   \n",
    "\n",
    "  #dataset.nucleus_position = normalize_prop('nucleus_position', df)\n",
    "  return dataset\n"
   ]
  },
  {
   "cell_type": "code",
   "execution_count": 80,
   "id": "705c6372",
   "metadata": {},
   "outputs": [],
   "source": [
    "### FEATURES SELECTION: método Mutual Information\n",
    "def features_selection(data_normal, data_ascus, data_lsil, data_asch, \n",
    "                       data_hsil,data_car, n_normal=(77*5), n_ascus=77,\n",
    "                       n_lsil=77, n_asch=77, n_hsil=77, n_car=77, n_features = 20):\n",
    "\n",
    "    feat = fn.get_list_feature_labels()\n",
    "    \n",
    "    aux = [0.0 for i in feat]\n",
    "    features_importances = dict(zip(feat, aux))\n",
    "    \n",
    "    for i in list(range(30)):\n",
    "        sorted_idx_Normal = sample(range(0, data_normal.shape[0]), n_normal)\n",
    "        sorted_idx_Normal.sort()\n",
    "\n",
    "        data =  pd.DataFrame(data=np.vstack([\n",
    "                                  data_normal.loc[sorted_idx_Normal].values,\n",
    "                                  data_ascus.loc[sample(range(0, data_ascus.shape[0]), n_ascus)].values,\n",
    "                                  data_asch.loc[sample(range(0, data_asch.shape[0]), n_asch)].values,\n",
    "                                  data_lsil.loc[sample(range(0, data_lsil.shape[0]), n_lsil)].values, \n",
    "                                  data_hsil.loc[sample(range(0, data_hsil.shape[0]), n_hsil)].values,\n",
    "                                  data_car.loc[sample(range(0, data_car.shape[0]), n_car)].values]), \n",
    "                                 columns = data_car.columns)\n",
    "        \n",
    "        # Normaliza dados\n",
    "        data = normalize_dataset(data)\n",
    "    \n",
    "        data_x = np.array(data[feat].values)\n",
    "         \n",
    "        data_y = np.zeros(data_x.shape[0], dtype = np.int32)\n",
    "        data_y[:] = data['bethesda'].values\n",
    "        \n",
    "        ## Feature Selection using Mutual Info  \n",
    "        fs_fit_mutual_info = fs.SelectKBest(fs.mutual_info_classif, k=n_features)\n",
    "        fs_fit_mutual_info.fit_transform(data_x, data_y)\n",
    "        # ordena extrai do maior score para o menor entre as n_features mais importantes\n",
    "        fs_indices_mutual_info = np.argsort(fs_fit_mutual_info.scores_)[::-1][0:n_features] \n",
    "        best_features_mutual_info = data[feat].columns[fs_indices_mutual_info]\n",
    "        feature_importances_mutual_info = fs_fit_mutual_info.scores_[fs_indices_mutual_info]\n",
    "        \n",
    "        #contabiliza estatísticas:\n",
    "        for feature, score in zip(best_features_mutual_info,              \n",
    "                                  feature_importances_mutual_info):\n",
    "            features_importances[feature] = (features_importances[feature] + score)\n",
    "            #print(feature, score, features_importances[feature])\n",
    "     \n",
    "        #print(features_importances)   \n",
    "    return  features_importances"
   ]
  },
  {
   "cell_type": "code",
   "execution_count": 81,
   "id": "7aac23a9",
   "metadata": {
    "scrolled": false
   },
   "outputs": [],
   "source": [
    "# features_importances é um dict key=feature, value=scores em 30 execuções do método MI\n",
    "features_importances = features_selection(data_normal, data_ascus, data_lsil, data_asch, data_hsil, data_car,\n",
    "                      n_normal=(77*5), n_ascus=77, n_lsil=77, n_asch=77, n_hsil=77, n_car=77, n_features = N_FEATURES)"
   ]
  },
  {
   "cell_type": "code",
   "execution_count": 82,
   "id": "a8f0613a",
   "metadata": {},
   "outputs": [
    {
     "data": {
      "text/plain": [
       "{'areaN': 0.0,\n",
       " 'eccenN': 0.0,\n",
       " 'extentN': 0.0,\n",
       " 'periN': 11.865404688463448,\n",
       " 'maxAxN': 11.520219949332656,\n",
       " 'minAxN': 0.0,\n",
       " 'compacN': 0.0,\n",
       " 'circuN': 0.0,\n",
       " 'convexN': 0.0,\n",
       " 'hAreaN': 2.146800026590762,\n",
       " 'solidN': 0.0,\n",
       " 'equidiaN': 0.0,\n",
       " 'elonN': 0.0,\n",
       " 'sdnrlN': 0.0,\n",
       " 'raN': 0.0,\n",
       " 'riN': 0.0,\n",
       " 'eN': 12.784847534232393,\n",
       " 'kN': 0.0,\n",
       " 'mrdN': 14.273089367012224,\n",
       " 'ardN': 4.6984750214884095,\n",
       " 'fdN': 0.0,\n",
       " 'efdN1': 0.0,\n",
       " 'efdN2': 0.0,\n",
       " 'efdN3': 0.0,\n",
       " 'efdN4': 0.0,\n",
       " 'efdN5': 0.0,\n",
       " 'efdN6': 0.0,\n",
       " 'efdN7': 0.0,\n",
       " 'efdN8': 0.0,\n",
       " 'efdN9': 0.0,\n",
       " 'efdN10': 0.0,\n",
       " 'efdN11': 0.0,\n",
       " 'efdN12': 0.0,\n",
       " 'efdN13': 0.0,\n",
       " 'efdN14': 0.0,\n",
       " 'efdN15': 0.0,\n",
       " 'efdN16': 0.0,\n",
       " 'efdN17': 0.0,\n",
       " 'efdN18': 0.0,\n",
       " 'efdN19': 0.0,\n",
       " 'efdN20': 0.0,\n",
       " 'efdN21': 0.0,\n",
       " 'efdN22': 0.0,\n",
       " 'efdN23': 0.0,\n",
       " 'efdN24': 0.0,\n",
       " 'efdN25': 0.0,\n",
       " 'efdN26': 0.0,\n",
       " 'efdN27': 0.0,\n",
       " 'efdN28': 0.0,\n",
       " 'efdN29': 0.0,\n",
       " 'efdN30': 0.0,\n",
       " 'efdN31': 0.0,\n",
       " 'efdN32': 0.0,\n",
       " 'efdN33': 0.0,\n",
       " 'efdN34': 0.0,\n",
       " 'efdN35': 0.0,\n",
       " 'efdN36': 0.0,\n",
       " 'efdN37': 0.0,\n",
       " 'areaC': 16.428049196827725,\n",
       " 'eccenC': 0.0,\n",
       " 'extentC': 0.0,\n",
       " 'periC': 14.508330370636743,\n",
       " 'maxAxC': 14.016015863249143,\n",
       " 'minAxC': 12.020346217376032,\n",
       " 'compacC': 13.953706878348495,\n",
       " 'circuC': 13.510564486116529,\n",
       " 'convexC': 0.0,\n",
       " 'hAreaC': 13.747224040268398,\n",
       " 'solidC': 0.0,\n",
       " 'equidiaC': 14.960134261355574,\n",
       " 'elonC': 0.0,\n",
       " 'sdnrlC': 0.0,\n",
       " 'raC': 0.0,\n",
       " 'riC': 12.246617268011438,\n",
       " 'eC': 13.915354722087624,\n",
       " 'kC': 0.0,\n",
       " 'mrdC': 13.881108184627115,\n",
       " 'ardC': 14.124157573354085,\n",
       " 'fdC': 15.273350016747765,\n",
       " 'efdC1': 0.0,\n",
       " 'efdC2': 0.0,\n",
       " 'efdC3': 0.0,\n",
       " 'efdC4': 0.0,\n",
       " 'efdC5': 0.0,\n",
       " 'efdC6': 0.0,\n",
       " 'efdC7': 0.0,\n",
       " 'efdC8': 0.0,\n",
       " 'efdC9': 0.0,\n",
       " 'efdC10': 0.0,\n",
       " 'efdC11': 0.0,\n",
       " 'efdC12': 0.0,\n",
       " 'efdC13': 0.0,\n",
       " 'efdC14': 0.0,\n",
       " 'efdC15': 0.0,\n",
       " 'efdC16': 0.0,\n",
       " 'efdC17': 0.0,\n",
       " 'efdC18': 0.0,\n",
       " 'efdC19': 0.0,\n",
       " 'efdC20': 0.0,\n",
       " 'efdC21': 0.0,\n",
       " 'efdC22': 0.0,\n",
       " 'efdC23': 0.0,\n",
       " 'efdC24': 0.0,\n",
       " 'efdC25': 0.0,\n",
       " 'efdC26': 0.0,\n",
       " 'efdC27': 0.0,\n",
       " 'efdC28': 0.0,\n",
       " 'efdC29': 0.0,\n",
       " 'efdC30': 0.0,\n",
       " 'efdC31': 0.0,\n",
       " 'efdC32': 0.0,\n",
       " 'efdC33': 0.0,\n",
       " 'efdC34': 0.0,\n",
       " 'efdC35': 0.0,\n",
       " 'efdC36': 0.0,\n",
       " 'efdC37': 0.0,\n",
       " 'ratio_NC': 21.70692765888799,\n",
       " 'ratio_NC_per': 20.778847290439874,\n",
       " 'ratio_NC_hArea': 21.031757376352825,\n",
       " 'nucleus_position': 0.0}"
      ]
     },
     "execution_count": 82,
     "metadata": {},
     "output_type": "execute_result"
    }
   ],
   "source": [
    "features_importances"
   ]
  },
  {
   "cell_type": "code",
   "execution_count": 83,
   "id": "44c0606d",
   "metadata": {},
   "outputs": [
    {
     "name": "stdout",
     "output_type": "stream",
     "text": [
      "['ratio_NC' 'ratio_NC_hArea' 'ratio_NC_per' 'areaC' 'fdC' 'equidiaC'\n",
      " 'periC' 'mrdN' 'ardC' 'maxAxC' 'compacC' 'eC' 'mrdC' 'hAreaC' 'circuC'\n",
      " 'eN' 'riC' 'minAxC' 'periN' 'maxAxN'] [0.72356427 0.70105857 0.69262826 0.54760164 0.50911164 0.49867114\n",
      " 0.48361102 0.47576964 0.47080526 0.46720052 0.46512356 0.46384516\n",
      " 0.46270362 0.4582408  0.45035216 0.4261616  0.4082206  0.40067822\n",
      " 0.39551347 0.38400733]\n"
     ]
    },
    {
     "data": {
      "image/png": "[encoded data removed]",
      "text/plain": [
       "<Figure size 1080x504 with 2 Axes>"
      ]
     },
     "metadata": {
      "needs_background": "light"
     },
     "output_type": "display_data"
    }
   ],
   "source": [
    "#print(np.array(features_importances))\n",
    "features_importances = sorted(features_importances.items(), key=lambda item:item[1], reverse=True)\n",
    "best_features_mutual_info = []\n",
    "feature_importances_mutual_info = []\n",
    "for i in list(range(N_FEATURES)):\n",
    "    best_features_mutual_info.append(features_importances[i][0])\n",
    "    feature_importances_mutual_info.append(features_importances[i][1]/30)\n",
    "\n",
    "best_features_MI = np.asarray(best_features_mutual_info)\n",
    "feature_importances_MI = np.asarray(feature_importances_mutual_info, dtype = np.float32)    \n",
    "print(best_features_MI, feature_importances_MI)\n",
    "\n",
    "fn.plot_imp(best_features_MI, feature_importances_MI, 'Mutual Information', \n",
    "         best_features_MI, feature_importances_MI, 'Mutual Information')"
   ]
  },
  {
   "cell_type": "code",
   "execution_count": 76,
   "id": "524cfada",
   "metadata": {},
   "outputs": [
    {
     "data": {
      "text/plain": [
       "(image_id                   1\n",
       " cell_id                14796\n",
       " areaN                    420\n",
       " eccenN              0.620924\n",
       " extentN             0.833333\n",
       "                       ...   \n",
       " ratio_NC            0.017236\n",
       " ratio_NC_per        0.115646\n",
       " ratio_NC_hArea       0.01673\n",
       " nucleus_position    0.099098\n",
       " bethesda                   0\n",
       " Name: 0, Length: 123, dtype: object,\n",
       " array([198, 122, 12937, 0.013939224979091162, 0.41873417906422244,\n",
       "        0.8163191202573986, 0.030671843484366867, 0.01847497463580107,\n",
       "        0.09908548890946439, 0.006192514496210194, 0.9616914053451375,\n",
       "        0.8831889153891492, 0.012771233725976442, 0.9728723694137845,\n",
       "        0.04134238270885788, 0.847926267281106, 0.21976216432697748,\n",
       "        0.14911927176673914, 0.05561881222886757, 0.8286707056044709,\n",
       "        array([0.36382696]), 0.02111664236816928, 0.02515134535640478,\n",
       "        0.9861798055070433, 0.3851704542036245, 0.3922465976191685,\n",
       "        0.4879794317877537, 0.4389389735353599, 0.5825196039503318,\n",
       "        0.19315332759742557, 0.6107305582156333, 0.5346943549573794,\n",
       "        0.6066701871841904, 0.2759869276590976, 0.68103284171231,\n",
       "        0.4842021105960125, 0.7038426460950796, 0.6992324161216715,\n",
       "        0.6341840549699795, 0.6508331084315608, 0.5544443418416072,\n",
       "        0.8020802630121748, 0.6097159610802284, 0.5545337275026265,\n",
       "        0.4495085010434539, 0.5112578721493474, 0.3813155923385323,\n",
       "        0.5295308100113258, 0.49935550712866056, 0.4588488697409131,\n",
       "        0.3464485872086569, 0.6954647192879257, 0.43252132086557643,\n",
       "        0.5761225636458788, 0.48083218126422955, 0.2589951725311178,\n",
       "        0.5997226349456666, 0.5019996124162964, 0.09329408925949319,\n",
       "        0.16320654345337426, 0.911750435196151, 0.24028702516490816,\n",
       "        0.7148922278593759, 0.779443387213966, 0.4008983484755218,\n",
       "        0.2690959743503274, 0.39035330602723683, 0.004321212170397071,\n",
       "        0.8964701849649146, 0.9019329360215921, 0.23170473696113694,\n",
       "        0.9701327295595281, 0.4415151503707215, 0.8798047589993898,\n",
       "        0.2066920649166839, 0.1608125263089835, 0.006348102350997798,\n",
       "        0.1660552419213531, array([0.12868563]), 0.2840296001341794,\n",
       "        0.3370137038075285, 0.7625668077593837, 0.5660379148740358,\n",
       "        0.32068974445525616, 0.368265066846107, 0.5635237163645659,\n",
       "        0.5988971408397716, 0.2887578221187727, 0.6250847743362623,\n",
       "        0.36312139573914853, 0.49297205729893745, 0.628216541974127,\n",
       "        0.5492657847491064, 0.3709765878013346, 0.5699278140680916,\n",
       "        0.6217158490768174, 0.45682678900994794, 0.5251638130121397,\n",
       "        0.6804316117049207, 0.44727758705200404, 0.4098021510215761,\n",
       "        0.6096688265379165, 0.5723129115509582, 0.3473318995348403,\n",
       "        0.6530130753675221, 0.4096307098367663, 0.4135694915786511,\n",
       "        0.5800740238965918, 0.5066616075490552, 0.45245165040271107,\n",
       "        0.5692806402342984, 0.4925372488532824, 0.526180926225001,\n",
       "        0.5293957976868955, 0.45111508373742665, 0.5546713174504573,\n",
       "        0.5231482038299913, 0.5646516681750154, 0.4096191971219626,\n",
       "        0.011107198873275503, 0.09287890022570977, 0.010943661541283282,\n",
       "        0.2012498161240255], dtype=object))"
      ]
     },
     "execution_count": 76,
     "metadata": {},
     "output_type": "execute_result"
    }
   ],
   "source": [
    "data_normal.iloc[0], data_X[0,:]"
   ]
  },
  {
   "cell_type": "markdown",
   "id": "d078141b",
   "metadata": {},
   "source": [
    "#### Classificador binário: normal (NILM) vs anormal (ASC-US, LSIL, ASC-H, HSIL, Carcinoma )"
   ]
  },
  {
   "cell_type": "code",
   "execution_count": 97,
   "id": "e110ae3f",
   "metadata": {},
   "outputs": [],
   "source": [
    "## Retorna base de dados (data_X e data_Y) balanceando amostras entre classes, \n",
    "##conforme o tipo do classificador\n",
    "def get_database_X_Y(data_normal, data_ascus, data_lsil, data_asch, data_hsil,  \n",
    "    data_car, n_normal=(77*5), n_ascus=77, n_lsil=77, n_asch=77, n_hsil=77, n_car=77, classifier = 'binary'):\n",
    "    \n",
    "    if classifier == 'binary':\n",
    "        #data_cl0  = pd.DataFrame(data=data_normal.loc[sample(range(0, data_normal.shape[0]), n_normal)].values, columns = data_normal.columns)\n",
    "        data =  pd.DataFrame(data=np.vstack([data_normal.loc[sample(range(0, data_normal.shape[0]), n_normal)].values,\n",
    "                                   data_ascus.loc[sample(range(0, data_ascus.shape[0]), n_ascus)].values,\n",
    "                                   data_asch.loc[sample(range(0, data_asch.shape[0]), n_asch)].values,\n",
    "                                   data_lsil.loc[sample(range(0, data_lsil.shape[0]), n_lsil)].values, \n",
    "                                   data_hsil.loc[sample(range(0, data_hsil.shape[0]), n_hsil)].values,\n",
    "                                   data_car.loc[sample(range(0, data_car.shape[0]), n_car)].values]), \n",
    "                                   columns = data_car.columns)        \n",
    "        # Normaliza dados\n",
    "        data_norm = normalize_dataset(data)\n",
    "        print(data_norm.values[0,:])\n",
    "        print(data_norm.values[0,2:])\n",
    "        # embaralha linhas dos dados:\n",
    "        data_norm_shuffled = data_norm.sample(frac = 1).reset_index()  \n",
    "         \n",
    "        data_x = data_norm_shuffled.values[:,0:-1]\n",
    "        print(data_norm_shuffled.values[0,:])\n",
    "        print(data_norm_shuffled.values[0,2:])\n",
    "        data_y = np.zeros(data_x.shape[0], dtype = np.int32)\n",
    "        y = np.zeros(data_x.shape[0])\n",
    "        for i,v in enumerate(data['bethesda'].values):\n",
    "             data_y[i] = 0 if v==0 else 1\n",
    "    return (data_x, data_y)\n",
    "    "
   ]
  },
  {
   "cell_type": "code",
   "execution_count": 98,
   "id": "8246aebb",
   "metadata": {},
   "outputs": [
    {
     "name": "stdout",
     "output_type": "stream",
     "text": [
      "[173 12567 0.004792674055372502 0.5383500675343313 0.8089420376703601\n",
      " 0.020905131971021302 0.022963252027966865 0.05049436419247289\n",
      " 0.01757406093872186 0.9035794472911985 0.9163352679190784\n",
      " 0.004558513694694503 0.9593333450029319 0.02342049142658263\n",
      " 0.8079358379062896 0.20996565044685694 0.15061295460607704\n",
      " 0.04950871336119301 0.848547258886158 array([0.40368647])\n",
      " 0.024349663696721265 0.022163994550581063 0.9972419931866271\n",
      " 0.5328482473766196 0.5113222773455547 0.5919091516004471\n",
      " 0.5178673076510295 0.6355776002200931 0.44433874039053683\n",
      " 0.5215698625971267 0.6483160464830044 0.5149732433476594\n",
      " 0.6176722523778249 0.37674042780899525 0.5876482662308244\n",
      " 0.4023482502069172 0.6174134308198538 0.510155327211514\n",
      " 0.3582668545648467 0.32939973195335126 0.6976750475995865\n",
      " 0.6095112942643682 0.4019973361443298 0.6346952416743643\n",
      " 0.43209484908423074 0.6711263549019386 0.5430786417965666\n",
      " 0.7778938835761381 0.3823038190714178 0.3702250559258743\n",
      " 0.6922323609803575 0.48640201767300023 0.7793894365908576\n",
      " 0.2976035707790606 0.15212789124852324 0.28312324779672776\n",
      " 0.798297518866207 0.11610452855839543 0.21586283996212746\n",
      " 0.94565023158142 0.36882789224589124 0.7191258332582715 0.763622641955295\n",
      " 0.46853260799021507 0.31941901095499503 0.45321279339584175\n",
      " 0.00407837903285957 0.9019552062136325 0.9273577924914432\n",
      " 0.28725903098784455 0.9800991030524886 0.5314936449163993\n",
      " 0.8792893059266583 0.20158435379908735 0.16149698143181765\n",
      " 0.005315389452994747 0.12961447542064877 array([0.15085477])\n",
      " 0.34984966708160553 0.3959292953780252 0.67721634557847\n",
      " 0.45530424803537467 0.35678517599264564 0.25038179832078755\n",
      " 0.6237893222565364 0.441036312440215 0.22934011259888845\n",
      " 0.43284798631509375 0.43167045014498767 0.5292648098134556\n",
      " 0.5360133807202745 0.7322381389095756 0.5184581505045607\n",
      " 0.5048339672354081 0.7823323974876605 0.4425125175544929\n",
      " 0.42495723281750836 0.6094523873050621 0.5551183863175349\n",
      " 0.3443152740336844 0.5656713656123961 0.39560380542780743\n",
      " 0.24582750197020733 0.5294208956241914 0.613069593814837\n",
      " 0.39111210115044676 0.5247480847777138 0.7712680398450159\n",
      " 0.6415388248240491 0.45531579167473 0.6650818201300918 0.5383087470349485\n",
      " 0.4174207386413053 0.6076988415081938 0.5245081448015435\n",
      " 0.2502528179641417 0.28171952518292154 0.4261223362881527\n",
      " 0.008659992763237246 0.08458299630491825 0.00870840803781405\n",
      " 0.1818054324831409 0]\n",
      "[0.004792674055372502 0.5383500675343313 0.8089420376703601\n",
      " 0.020905131971021302 0.022963252027966865 0.05049436419247289\n",
      " 0.01757406093872186 0.9035794472911985 0.9163352679190784\n",
      " 0.004558513694694503 0.9593333450029319 0.02342049142658263\n",
      " 0.8079358379062896 0.20996565044685694 0.15061295460607704\n",
      " 0.04950871336119301 0.848547258886158 array([0.40368647])\n",
      " 0.024349663696721265 0.022163994550581063 0.9972419931866271\n",
      " 0.5328482473766196 0.5113222773455547 0.5919091516004471\n",
      " 0.5178673076510295 0.6355776002200931 0.44433874039053683\n",
      " 0.5215698625971267 0.6483160464830044 0.5149732433476594\n",
      " 0.6176722523778249 0.37674042780899525 0.5876482662308244\n",
      " 0.4023482502069172 0.6174134308198538 0.510155327211514\n",
      " 0.3582668545648467 0.32939973195335126 0.6976750475995865\n",
      " 0.6095112942643682 0.4019973361443298 0.6346952416743643\n",
      " 0.43209484908423074 0.6711263549019386 0.5430786417965666\n",
      " 0.7778938835761381 0.3823038190714178 0.3702250559258743\n",
      " 0.6922323609803575 0.48640201767300023 0.7793894365908576\n",
      " 0.2976035707790606 0.15212789124852324 0.28312324779672776\n",
      " 0.798297518866207 0.11610452855839543 0.21586283996212746\n",
      " 0.94565023158142 0.36882789224589124 0.7191258332582715 0.763622641955295\n",
      " 0.46853260799021507 0.31941901095499503 0.45321279339584175\n",
      " 0.00407837903285957 0.9019552062136325 0.9273577924914432\n",
      " 0.28725903098784455 0.9800991030524886 0.5314936449163993\n",
      " 0.8792893059266583 0.20158435379908735 0.16149698143181765\n",
      " 0.005315389452994747 0.12961447542064877 array([0.15085477])\n",
      " 0.34984966708160553 0.3959292953780252 0.67721634557847\n",
      " 0.45530424803537467 0.35678517599264564 0.25038179832078755\n",
      " 0.6237893222565364 0.441036312440215 0.22934011259888845\n",
      " 0.43284798631509375 0.43167045014498767 0.5292648098134556\n",
      " 0.5360133807202745 0.7322381389095756 0.5184581505045607\n",
      " 0.5048339672354081 0.7823323974876605 0.4425125175544929\n",
      " 0.42495723281750836 0.6094523873050621 0.5551183863175349\n",
      " 0.3443152740336844 0.5656713656123961 0.39560380542780743\n",
      " 0.24582750197020733 0.5294208956241914 0.613069593814837\n",
      " 0.39111210115044676 0.5247480847777138 0.7712680398450159\n",
      " 0.6415388248240491 0.45531579167473 0.6650818201300918 0.5383087470349485\n",
      " 0.4174207386413053 0.6076988415081938 0.5245081448015435\n",
      " 0.2502528179641417 0.28171952518292154 0.4261223362881527\n",
      " 0.008659992763237246 0.08458299630491825 0.00870840803781405\n",
      " 0.1818054324831409 0]\n",
      "[618 93 13103 0.02366382814840173 0.8020533365057694 0.9264018855483381\n",
      " 0.08143090778253446 0.10783173041351597 0.09039314952197469\n",
      " 0.04160578240365622 0.794303481894767 0.8759718777132772\n",
      " 0.021681670178126795 0.9820088870105715 0.09109996850031007\n",
      " 0.5145631067961165 0.2193836989699784 0.1631398803707133\n",
      " 0.03883486673777194 0.6129987044782677 array([0.33062329])\n",
      " 0.09611279873073307 0.09259034024770123 0.9807514386874084\n",
      " 0.5232278334826962 0.574358577246568 0.5880228821870861\n",
      " 0.5275355323388957 0.6309961747273048 0.46445554512066906\n",
      " 0.6134583265402144 0.6679258110162033 0.4985103429089035\n",
      " 0.5071355324022714 0.3619858959440907 0.5923336970991548\n",
      " 0.40852178727003685 0.6183803447119427 0.4348269366307647\n",
      " 0.34648752133552496 0.35911146600062027 0.775092653392313\n",
      " 0.5836250283414901 0.36246385191271024 0.6308352130887792\n",
      " 0.5131513521400919 0.8601523994420691 0.5661751855320568\n",
      " 0.7708094820579748 0.3169776427779011 0.47308403147407696\n",
      " 0.7186966965828745 0.5223002607796571 0.7308513420713441\n",
      " 0.2654246517351833 0.14344437852657366 0.31282284965778634\n",
      " 0.8364818820207282 0.07974449225852613 0.21803457918345323\n",
      " 0.9363353866730738 0.003847082927003838 0.899290177284328\n",
      " 0.8164873181103861 0.02838216090540512 0.03647553160754426\n",
      " 0.018970207507652468 0.07226303634163689 0.3259867487720816\n",
      " 0.9201716465378086 0.0035062489299777437 0.9701308174199457\n",
      " 0.02375612743693544 0.7227306623279778 0.219816488140024\n",
      " 0.19562949921959125 0.027945770787043273 0.6552772377294264\n",
      " array([0.10333193]) 0.03744720854094493 0.025448748436115182\n",
      " 0.9965754309158437 0.49034773175384544 0.562121472530447\n",
      " 0.6691415582472128 0.6622368203364977 0.4751016567737175\n",
      " 0.27547792355738926 0.6957164088651405 0.4391025719285873\n",
      " 0.554542679247868 0.19932659490094767 0.3683267530031273\n",
      " 0.4410447051670479 0.4890181197003348 0.5413324182293817\n",
      " 0.14466393863587593 0.3898981734358936 0.5772744608987574\n",
      " 0.7635074963435434 0.45793017024759625 0.5993709900326897\n",
      " 0.3879996529718595 0.5464830845101253 0.7833424898704144\n",
      " 0.6554433065346379 0.4176476974737161 0.35890222349386103\n",
      " 0.7239356521884381 0.6182347749474428 0.464552489380528\n",
      " 0.3090508934463795 0.32691946123154214 0.3675941018323664\n",
      " 0.5933313791806611 0.575704957888759 0.22056293867854798\n",
      " 0.28788976919953324 0.4121521551241275 1.2121212121212122\n",
      " 0.6566245048892205 0.542989417989418 0.04490919856195947 4]\n",
      "[13103 0.02366382814840173 0.8020533365057694 0.9264018855483381\n",
      " 0.08143090778253446 0.10783173041351597 0.09039314952197469\n",
      " 0.04160578240365622 0.794303481894767 0.8759718777132772\n",
      " 0.021681670178126795 0.9820088870105715 0.09109996850031007\n",
      " 0.5145631067961165 0.2193836989699784 0.1631398803707133\n",
      " 0.03883486673777194 0.6129987044782677 array([0.33062329])\n",
      " 0.09611279873073307 0.09259034024770123 0.9807514386874084\n",
      " 0.5232278334826962 0.574358577246568 0.5880228821870861\n",
      " 0.5275355323388957 0.6309961747273048 0.46445554512066906\n",
      " 0.6134583265402144 0.6679258110162033 0.4985103429089035\n",
      " 0.5071355324022714 0.3619858959440907 0.5923336970991548\n",
      " 0.40852178727003685 0.6183803447119427 0.4348269366307647\n",
      " 0.34648752133552496 0.35911146600062027 0.775092653392313\n",
      " 0.5836250283414901 0.36246385191271024 0.6308352130887792\n",
      " 0.5131513521400919 0.8601523994420691 0.5661751855320568\n",
      " 0.7708094820579748 0.3169776427779011 0.47308403147407696\n",
      " 0.7186966965828745 0.5223002607796571 0.7308513420713441\n",
      " 0.2654246517351833 0.14344437852657366 0.31282284965778634\n",
      " 0.8364818820207282 0.07974449225852613 0.21803457918345323\n",
      " 0.9363353866730738 0.003847082927003838 0.899290177284328\n",
      " 0.8164873181103861 0.02838216090540512 0.03647553160754426\n",
      " 0.018970207507652468 0.07226303634163689 0.3259867487720816\n",
      " 0.9201716465378086 0.0035062489299777437 0.9701308174199457\n",
      " 0.02375612743693544 0.7227306623279778 0.219816488140024\n",
      " 0.19562949921959125 0.027945770787043273 0.6552772377294264\n",
      " array([0.10333193]) 0.03744720854094493 0.025448748436115182\n",
      " 0.9965754309158437 0.49034773175384544 0.562121472530447\n",
      " 0.6691415582472128 0.6622368203364977 0.4751016567737175\n",
      " 0.27547792355738926 0.6957164088651405 0.4391025719285873\n",
      " 0.554542679247868 0.19932659490094767 0.3683267530031273\n",
      " 0.4410447051670479 0.4890181197003348 0.5413324182293817\n",
      " 0.14466393863587593 0.3898981734358936 0.5772744608987574\n",
      " 0.7635074963435434 0.45793017024759625 0.5993709900326897\n",
      " 0.3879996529718595 0.5464830845101253 0.7833424898704144\n",
      " 0.6554433065346379 0.4176476974737161 0.35890222349386103\n",
      " 0.7239356521884381 0.6182347749474428 0.464552489380528\n",
      " 0.3090508934463795 0.32691946123154214 0.3675941018323664\n",
      " 0.5933313791806611 0.575704957888759 0.22056293867854798\n",
      " 0.28788976919953324 0.4121521551241275 1.2121212121212122\n",
      " 0.6566245048892205 0.542989417989418 0.04490919856195947 4]\n"
     ]
    }
   ],
   "source": [
    "data_X, data_Y = get_database_X_Y(data_normal, data_ascus, data_lsil, data_asch, data_hsil,  \n",
    "    data_car, n_normal=(77*5), n_ascus=77, n_lsil=77, n_asch=77, n_hsil=77, n_car=77, classifier = 'binary')"
   ]
  },
  {
   "cell_type": "code",
   "execution_count": 95,
   "id": "3c1a7e17",
   "metadata": {},
   "outputs": [
    {
     "data": {
      "text/plain": [
       "(385,\n",
       " 385,\n",
       " array([12779, 0.1433956574185766, 0.5330355199850361, 0.9233566980104392,\n",
       "        0.23093378230787967, 0.19005202261876894, 0.34549186182162755,\n",
       "        0.016939100730253162, 0.9069216753930082, 0.936050725525006,\n",
       "        0.1371331828442438, 0.9866082832802516, 0.28004860862104697,\n",
       "        0.8225434106192915, 0.2183135224580837, 0.15025416490235424,\n",
       "        0.027503754221920338, 0.5068849285203905, array([0.39057792]),\n",
       "        0.20213165432748773, 0.24729848872668614, 0.8733884165510291,\n",
       "        0.5132604782388559, 0.2403447074142069, 0.7843758924163816,\n",
       "        0.4116982139082373, 0.5778054257886152, 0.2686040090111648,\n",
       "        0.5764962815384909, 0.5472659385349544, 0.6700478293597706,\n",
       "        0.48982693952794915, 0.2423820376953692, 0.7118417315252513,\n",
       "        0.5449635508250271, 0.7048650917134118, 0.38341779192656594,\n",
       "        0.5377703840596975, 0.32300465816585905, 0.5725423869811546,\n",
       "        0.76750636644546, 0.30931356110990005, 0.5289019600920521,\n",
       "        0.23309453019623572, 0.5411036455997322, 0.41247762397515786,\n",
       "        0.6343177285227514, 0.36898083043103874, 0.35192068615153954,\n",
       "        0.5628828571652903, 0.5016424950708896, 0.4687934296532586,\n",
       "        0.32167586969661505, 0.5288096560652938, 0.44295172638834424,\n",
       "        0.5807393388425008, 0.559779896428361, 0.5909582361079424,\n",
       "        0.5741792779720983, 0.4450629001640874, 0.7288461119023273,\n",
       "        0.8751550036168655, 0.47785225684586063, 0.32236229219741946,\n",
       "        0.5541500194490809, 0.00020560852033031725, 0.8923303963425699,\n",
       "        0.9558687710081986, 0.4468530516972482, 0.9896785250465078,\n",
       "        0.6396797209311941, 0.8259728685495207, 0.2042480606852787,\n",
       "        0.16089238157239452, 0.005147147876218578, 0.1442895374345841,\n",
       "        array([0.1780748]), 0.331752227720839, 0.40399235140432493,\n",
       "        0.5273456624451316, 0.32283722051032826, 0.45626232909193193,\n",
       "        0.3017824567092743, 0.27788146589895946, 0.617441277885985,\n",
       "        0.2300115796070402, 0.48732105427829553, 0.37804193413406795,\n",
       "        0.6427005911853442, 0.4084832900101353, 0.7017364453683369,\n",
       "        0.633606346883096, 0.6148679929387564, 0.6198663138824378,\n",
       "        0.7799795140224765, 0.43917191002546635, 0.3982559815808506,\n",
       "        0.6260203092087114, 0.5913002127408185, 0.4545698337860332,\n",
       "        0.6479817040849386, 0.4088112032647576, 0.18738886092299264,\n",
       "        0.7081648182880785, 0.5971760860328047, 0.2398005055827568,\n",
       "        0.28184115644616814, 0.606609044895341, 0.3224731656175043,\n",
       "        0.5601421196792893, 0.6035680009175713, 0.38994097246438947,\n",
       "        0.5096498761839938, 0.7286795479071708, 0.5970609533284786,\n",
       "        0.5100537242421888, 0.6439767759236031, 0.02903404573163386,\n",
       "        0.15381842702226872, 0.0282990697140232, 0.24450316332992325],\n",
       "       dtype=object),\n",
       " array([82, 145, 12779, 0.1433956574185766, 0.5330355199850361,\n",
       "        0.9233566980104392, 0.23093378230787967, 0.19005202261876894,\n",
       "        0.34549186182162755, 0.016939100730253162, 0.9069216753930082,\n",
       "        0.936050725525006, 0.1371331828442438, 0.9866082832802516,\n",
       "        0.28004860862104697, 0.8225434106192915, 0.2183135224580837,\n",
       "        0.15025416490235424, 0.027503754221920338, 0.5068849285203905,\n",
       "        array([0.39057792]), 0.20213165432748773, 0.24729848872668614,\n",
       "        0.8733884165510291, 0.5132604782388559, 0.2403447074142069,\n",
       "        0.7843758924163816, 0.4116982139082373, 0.5778054257886152,\n",
       "        0.2686040090111648, 0.5764962815384909, 0.5472659385349544,\n",
       "        0.6700478293597706, 0.48982693952794915, 0.2423820376953692,\n",
       "        0.7118417315252513, 0.5449635508250271, 0.7048650917134118,\n",
       "        0.38341779192656594, 0.5377703840596975, 0.32300465816585905,\n",
       "        0.5725423869811546, 0.76750636644546, 0.30931356110990005,\n",
       "        0.5289019600920521, 0.23309453019623572, 0.5411036455997322,\n",
       "        0.41247762397515786, 0.6343177285227514, 0.36898083043103874,\n",
       "        0.35192068615153954, 0.5628828571652903, 0.5016424950708896,\n",
       "        0.4687934296532586, 0.32167586969661505, 0.5288096560652938,\n",
       "        0.44295172638834424, 0.5807393388425008, 0.559779896428361,\n",
       "        0.5909582361079424, 0.5741792779720983, 0.4450629001640874,\n",
       "        0.7288461119023273, 0.8751550036168655, 0.47785225684586063,\n",
       "        0.32236229219741946, 0.5541500194490809, 0.00020560852033031725,\n",
       "        0.8923303963425699, 0.9558687710081986, 0.4468530516972482,\n",
       "        0.9896785250465078, 0.6396797209311941, 0.8259728685495207,\n",
       "        0.2042480606852787, 0.16089238157239452, 0.005147147876218578,\n",
       "        0.1442895374345841, array([0.1780748]), 0.331752227720839,\n",
       "        0.40399235140432493, 0.5273456624451316, 0.32283722051032826,\n",
       "        0.45626232909193193, 0.3017824567092743, 0.27788146589895946,\n",
       "        0.617441277885985, 0.2300115796070402, 0.48732105427829553,\n",
       "        0.37804193413406795, 0.6427005911853442, 0.4084832900101353,\n",
       "        0.7017364453683369, 0.633606346883096, 0.6148679929387564,\n",
       "        0.6198663138824378, 0.7799795140224765, 0.43917191002546635,\n",
       "        0.3982559815808506, 0.6260203092087114, 0.5913002127408185,\n",
       "        0.4545698337860332, 0.6479817040849386, 0.4088112032647576,\n",
       "        0.18738886092299264, 0.7081648182880785, 0.5971760860328047,\n",
       "        0.2398005055827568, 0.28184115644616814, 0.606609044895341,\n",
       "        0.3224731656175043, 0.5601421196792893, 0.6035680009175713,\n",
       "        0.38994097246438947, 0.5096498761839938, 0.7286795479071708,\n",
       "        0.5970609533284786, 0.5100537242421888, 0.6439767759236031,\n",
       "        0.02903404573163386, 0.15381842702226872, 0.0282990697140232,\n",
       "        0.24450316332992325], dtype=object))"
      ]
     },
     "execution_count": 95,
     "metadata": {},
     "output_type": "execute_result"
    }
   ],
   "source": [
    "sum(data_Y == 0), sum(data_Y == 1), data_X[0, 2:], data_X[0, :]"
   ]
  },
  {
   "cell_type": "code",
   "execution_count": 46,
   "id": "774dccaf",
   "metadata": {},
   "outputs": [],
   "source": [
    "# Lista para filtro de FEATURES para o modelo:\n",
    "features_all = fn.get_list_feature_labels()\n",
    "\n",
    "features_all_desc = 'All metrics'\n",
    "features_c = ['areaC', 'periC','maxAxC', 'minAxC','compacC', 'circuC', 'convexC', 'ratio_NC', \n",
    "              'ratio_NC_per', 'dist_to_border_c'] \n",
    "features_c_desc = 'Cyto metrics,ratios N/C, dist'\n",
    "features_n = ['areaN', 'periN','maxAxN', 'minAxN','compacN', 'circuN', 'convexN',  'ratio_NC', \n",
    "              'ratio_NC_per', 'dist_to_border_c'] \n",
    "features_n_desc = 'Nucleos metrics,ratios N/C, dist'"
   ]
  },
  {
   "cell_type": "markdown",
   "id": "2eecb219",
   "metadata": {},
   "source": [
    "### Cross-validation:  Normal vs Anormal"
   ]
  },
  {
   "cell_type": "code",
   "execution_count": 47,
   "id": "bb684535",
   "metadata": {},
   "outputs": [],
   "source": [
    "labels_list = []\n",
    "conf_matrix_list = []\n",
    "roc_curve_list = []\n",
    "\n",
    "# Data_frame de resultados\n",
    "results = pd.DataFrame(columns=['Tipo', 'Model', 'Features', 'Acurácia', 'Precisão', 'Sensibil' , 'Falso Pos', 'Especif', 'F1_measure'])\n",
    "lin= 0  ## linha inicial para inclusão no dataframe results\n",
    "classifiers = ['SVM', 'RF', 'XGBoost']\n",
    "ci = 0"
   ]
  },
  {
   "cell_type": "code",
   "execution_count": 137,
   "id": "9e8a034b",
   "metadata": {},
   "outputs": [],
   "source": [
    "# Se lected features\n",
    "features_selected = fs_indices_mutual_info  \n",
    "features_desc= str(N_FEATURES)+\" features selected by MI\"  \n",
    "N_SPLITS = 10 \n",
    "\n",
    "# Executa cross-validation e mostra curvas ROC\n",
    "cv = StratifiedKFold(n_splits= N_SPLITS)\n",
    "\n",
    "accs = precs = recs = specs = f1_scores = aucs = np.zeros((N_SPLITS), dtype = np.float64)\n",
    "tprs = []\n",
    "mean_fpr = np.linspace(0, 1, 100)\n",
    "preds_y = np.zeros_like(data_y)\n",
    "\n",
    "## Ajusta features para treino e teste\n",
    "X = data_x[:, 2:]\n",
    "X = data_x[:,fs_indices_mutual_info]\n",
    "\n",
    "model = getModel(classifier = classifiers[ci], class_type = 'binary')\n",
    "for i, (train, test) in enumerate(cv.split(X, data_y)):\n",
    "    # Ajusta modelo:\n",
    "    model.fit(X[train], data_y[train])    \n",
    "    \n",
    "    # Predição:\n",
    "    pred_y = model.predict(X[test])\n",
    "    prob_y = model.predict_proba(X[test])\n",
    "    \n",
    "    #Registra predições:\n",
    "    preds_y[test] = pred_y\n",
    "    \n",
    "    # Calcula e registra métricas p/ fold:\n",
    "    accs[i] = calc_metric(data_y[test], pred_y, metric_type='acc')\n",
    "    precs[i] = calc_metric(data_y[test], pred_y, metric_type='prec')                \n",
    "    recs[i] = calc_metric(data_y[test], pred_y, metric_type='rec')                \n",
    "    specs[i] = calc_metric(data_y[test], pred_y, metric_type='spec')                \n",
    "    f1_scores[i] = calc_metric(data_y[test], pred_y, metric_type='f1_score')                \n",
    "       \n",
    "    # Calcula curva_roc e AUC:\n",
    "    prob = prob_y[:, 1]\n",
    "    fpr, tpr, thresholds = roc_curve(data_y[test], prob)\n",
    "    interp_tpr = np.interp(mean_fpr, fpr, tpr)\n",
    "    interp_tpr[0] = 0.0\n",
    "    tprs.append(interp_tpr)\n",
    "    aucs[i]= auc(mean_fpr, interp_tpr)\n",
    "                     \n",
    "## Registra resultados (dataframe):\n",
    "metrics = {'acc': np.mean(accs), 'prec': np.mean(precs), 'rec': np.mean(recs), \n",
    "           'spec': np.mean(specs), 'f1_score': np.mean(f1_scores)}                                      \n",
    "fill_line_metrics_CV(classifiers[ci], features_desc, lin, metrics, results, class_type='binary')\n",
    "\n",
    "# Calcula e registra curva ROC (média CV)\n",
    "mean_tpr = np.mean(tprs, axis=0)\n",
    "mean_tpr[-1] = 1.0\n",
    "mean_auc = auc(mean_fpr, mean_tpr)\n",
    "std_auc = np.std(aucs)\n",
    "roc_curve_list.append((mean_fpr, mean_tpr))\n",
    "label = r\"Mean ROC (AUC %s= %0.4f $\\pm$ %0.4f)\" % ((classifiers[ci]+\"-binary \"), mean_auc, std_auc)\n",
    "labels_list.append(label)\n",
    "\n",
    "# Acumula Matrizes de confusão:\n",
    "conf_matrix_list.append(make_confusionMatrixDisplay(\n",
    "      data_y, preds_y, labels = [0,1], title=features_desc + \"- \"+classifiers[ci]))\n",
    "\n",
    "lin+= 1\n",
    "ci+= 1                     \n",
    "\n",
    "# Exibe curva ROC para classificador Binário (cross validation)\n",
    "def plot_roc_curve_CV(roc_curve_list, labels_list, title = \"ROC Curve - Normal vs Anormal\"):\n",
    "    fig, ax = plt.subplots(figsize=(9,5))\n",
    "    colors = cycle([\"aqua\", \"darkorange\", \"cornflowerblue\", \"deeppink\", \"navy\", \"darkorange\"])\n",
    "    plt.style.use(\"bmh\")\n",
    "    ax.plot([0, 1], [0, 1], linestyle=\"--\", lw=2, color=\"r\", label=\"Chance\", alpha=0.8)\n",
    "    for i,color in zip(range(len(roc_curve_list)), colors):\n",
    "        ax.plot(\n",
    "            roc_curve_list[i][0],\n",
    "            roc_curve_list[i][1],\n",
    "            color=color,\n",
    "            label=labels_list[i],\n",
    "            lw=2,\n",
    "            alpha=0.8,\n",
    "        )\n",
    " \n",
    "    ax.set(\n",
    "        xlim=[-0.05, 1.05],\n",
    "        ylim=[-0.05, 1.05],\n",
    "        title= title\n",
    "    )\n",
    "    ax.legend(loc=\"lower right\")\n",
    "    plt.show()\n",
    "\n"
   ]
  },
  {
   "cell_type": "code",
   "execution_count": 138,
   "id": "2af31677",
   "metadata": {},
   "outputs": [
    {
     "data": {
      "text/plain": [
       "(3, 3, 3)"
      ]
     },
     "execution_count": 138,
     "metadata": {},
     "output_type": "execute_result"
    }
   ],
   "source": [
    "len(labels_list), len(roc_curve_list), len(conf_matrix_list)"
   ]
  },
  {
   "cell_type": "markdown",
   "id": "fcaa93ac",
   "metadata": {},
   "source": [
    "### Resultados:"
   ]
  },
  {
   "cell_type": "code",
   "execution_count": 139,
   "id": "b6da3d26",
   "metadata": {},
   "outputs": [
    {
     "data": {
      "image/png": "[encoded data removed]",
      "text/plain": [
       "<Figure size 648x360 with 1 Axes>"
      ]
     },
     "metadata": {
      "needs_background": "light"
     },
     "output_type": "display_data"
    },
    {
     "data": {
      "text/html": [
       "<div>\n",
       "<style scoped>\n",
       "    .dataframe tbody tr th:only-of-type {\n",
       "        vertical-align: middle;\n",
       "    }\n",
       "\n",
       "    .dataframe tbody tr th {\n",
       "        vertical-align: top;\n",
       "    }\n",
       "\n",
       "    .dataframe thead th {\n",
       "        text-align: right;\n",
       "    }\n",
       "</style>\n",
       "<table border=\"1\" class=\"dataframe\">\n",
       "  <thead>\n",
       "    <tr style=\"text-align: right;\">\n",
       "      <th></th>\n",
       "      <th>Tipo</th>\n",
       "      <th>Model</th>\n",
       "      <th>Features</th>\n",
       "      <th>Acurácia</th>\n",
       "      <th>Precisão</th>\n",
       "      <th>Sensibil</th>\n",
       "      <th>Falso Pos</th>\n",
       "      <th>Especif</th>\n",
       "      <th>F1_measure</th>\n",
       "    </tr>\n",
       "  </thead>\n",
       "  <tbody>\n",
       "    <tr>\n",
       "      <th>0</th>\n",
       "      <td>binary</td>\n",
       "      <td>SVM</td>\n",
       "      <td>20 features selected by MI</td>\n",
       "      <td>0.9949</td>\n",
       "      <td>0.9949</td>\n",
       "      <td>0.9949</td>\n",
       "      <td>0.0051</td>\n",
       "      <td>0.9949</td>\n",
       "      <td>0.9949</td>\n",
       "    </tr>\n",
       "    <tr>\n",
       "      <th>1</th>\n",
       "      <td>binary</td>\n",
       "      <td>RF</td>\n",
       "      <td>20 features selected by MI</td>\n",
       "      <td>0.9949</td>\n",
       "      <td>0.9949</td>\n",
       "      <td>0.9949</td>\n",
       "      <td>0.0051</td>\n",
       "      <td>0.9949</td>\n",
       "      <td>0.9949</td>\n",
       "    </tr>\n",
       "    <tr>\n",
       "      <th>2</th>\n",
       "      <td>binary</td>\n",
       "      <td>XGBoost</td>\n",
       "      <td>20 features selected by MI</td>\n",
       "      <td>0.9948</td>\n",
       "      <td>0.9948</td>\n",
       "      <td>0.9948</td>\n",
       "      <td>0.0052</td>\n",
       "      <td>0.9948</td>\n",
       "      <td>0.9948</td>\n",
       "    </tr>\n",
       "  </tbody>\n",
       "</table>\n",
       "</div>"
      ],
      "text/plain": [
       "     Tipo    Model                    Features Acurácia Precisão Sensibil  \\\n",
       "0  binary      SVM  20 features selected by MI   0.9949   0.9949   0.9949   \n",
       "1  binary       RF  20 features selected by MI   0.9949   0.9949   0.9949   \n",
       "2  binary  XGBoost  20 features selected by MI   0.9948   0.9948   0.9948   \n",
       "\n",
       "  Falso Pos Especif F1_measure  \n",
       "0    0.0051  0.9949     0.9949  \n",
       "1    0.0051  0.9949     0.9949  \n",
       "2    0.0052  0.9948     0.9948  "
      ]
     },
     "execution_count": 139,
     "metadata": {},
     "output_type": "execute_result"
    }
   ],
   "source": [
    "plot_roc_curve_CV(roc_curve_list, labels_list, title = \"Normal vs Anormal\")\n",
    "results\n"
   ]
  },
  {
   "cell_type": "markdown",
   "id": "e7e5b97f",
   "metadata": {},
   "source": [
    "#### Matrizes de confução"
   ]
  },
  {
   "cell_type": "code",
   "execution_count": 140,
   "id": "e7871319",
   "metadata": {
    "scrolled": false
   },
   "outputs": [
    {
     "data": {
      "text/plain": [
       "<Figure size 432x288 with 0 Axes>"
      ]
     },
     "metadata": {},
     "output_type": "display_data"
    },
    {
     "data": {
      "image/png": "[encoded data removed]",
      "text/plain": [
       "<Figure size 432x288 with 2 Axes>"
      ]
     },
     "metadata": {
      "needs_background": "light"
     },
     "output_type": "display_data"
    },
    {
     "data": {
      "image/png": "[encoded data removed]",
      "text/plain": [
       "<Figure size 432x288 with 2 Axes>"
      ]
     },
     "metadata": {
      "needs_background": "light"
     },
     "output_type": "display_data"
    },
    {
     "data": {
      "image/png": "[encoded data removed]",
      "text/plain": [
       "<Figure size 432x288 with 2 Axes>"
      ]
     },
     "metadata": {
      "needs_background": "light"
     },
     "output_type": "display_data"
    },
    {
     "data": {
      "text/plain": [
       "<Figure size 432x288 with 0 Axes>"
      ]
     },
     "metadata": {},
     "output_type": "display_data"
    }
   ],
   "source": [
    "#%matplotlib inline    \n",
    "\n",
    "plt.figure(figsize=(6, 4))   #tupla para tamanho da figura (largura, altura)\n",
    "\n",
    "for i in range(len(conf_matrix_list)):\n",
    "    conf_matrix_list[i][0].plot()\n",
    "    plt.title(conf_matrix_list[i][1])\n",
    "\n",
    "plt.show()\n",
    "plt.tight_layout()    #inclui espaçamento entre os gráficos"
   ]
  },
  {
   "cell_type": "code",
   "execution_count": null,
   "id": "fd47585c",
   "metadata": {},
   "outputs": [],
   "source": [
    "# Exibe gráficos boxplot - dist nucleo borda:\n",
    "fig = plt.figure(figsize =(15, 10))\n",
    "ax = fig.add_subplot(111)\n",
    "\n",
    "dist = []\n",
    "num_samples = 77\n",
    "for i in Bethesda_idx_classes.keys():\n",
    "      dist.append(data_x[(0 + i*num_samples):((i+1)*num_samples), 14])\n",
    "\n",
    "ax.boxplot(dist_to_C_border_cells, labels = ['Normal', 'ASC-US', 'ASC-H', 'LSIL','HSIL', 'Invasive Carcinoma'], patch_artist = True,\n",
    "                notch ='True') \n",
    "ax.set_title(\"Proximidade do Núcleo da borda (citoplasma)\")"
   ]
  }
 ],
 "metadata": {
  "kernelspec": {
   "display_name": "Python 3 (ipykernel)",
   "language": "python",
   "name": "python3"
  },
  "language_info": {
   "codemirror_mode": {
    "name": "ipython",
    "version": 3
   },
   "file_extension": ".py",
   "mimetype": "text/x-python",
   "name": "python",
   "nbconvert_exporter": "python",
   "pygments_lexer": "ipython3",
   "version": "3.9.1"
  }
 },
 "nbformat": 4,
 "nbformat_minor": 5
}
