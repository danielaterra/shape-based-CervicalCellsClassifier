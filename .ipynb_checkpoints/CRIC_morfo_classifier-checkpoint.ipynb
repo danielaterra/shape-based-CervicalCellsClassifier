{
 "cells": [
  {
   "cell_type": "markdown",
   "id": "5b43ab41",
   "metadata": {},
   "source": [
    "## Classificador binário para características morfométricas de núcleo/citoplasma de células cervicais "
   ]
  },
  {
   "cell_type": "code",
   "execution_count": 297,
   "id": "cd46ce97",
   "metadata": {},
   "outputs": [],
   "source": [
    "import numpy as np\n",
    "import pandas as pd \n",
    "from math import sqrt\n",
    "import os\n",
    "import sys\n",
    "from PIL import Image\n",
    "import matplotlib.pyplot as plt\n",
    "from matplotlib.pyplot import imshow \n",
    "from skimage import morphology, measure\n",
    "from skimage.draw import polygon, polygon_perimeter\n",
    "from scipy.spatial.distance import cdist\n",
    "from scipy.stats import kurtosis\n",
    "\n",
    "import pyefd\n",
    "from pyefd import elliptic_fourier_descriptors, normalize_efd\n",
    "\n",
    "from sklearn.metrics import accuracy_score, balanced_accuracy_score\n",
    "from sklearn.metrics import precision_score, recall_score\n",
    "from sklearn.metrics import confusion_matrix, ConfusionMatrixDisplay\n",
    "from sklearn.metrics import f1_score\n",
    "from sklearn.metrics import confusion_matrix\n",
    "from sklearn.metrics import roc_curve, auc\n",
    "from sklearn.model_selection import train_test_split\n",
    "from sklearn.neighbors import KNeighborsClassifier\n",
    "from sklearn.naive_bayes import GaussianNB\n",
    "from sklearn.svm import SVC\n",
    "from sklearn.ensemble import RandomForestClassifier\n",
    "from sklearn.model_selection import train_test_split, StratifiedKFold\n",
    "\n",
    "from sklearn import feature_selection as fs\n",
    "\n",
    "# pay attention to capitalization below!\n",
    "from spFSR import SpFSR\n",
    "from imblearn.over_sampling import SMOTE, ADASYN, SVMSMOTE, BorderlineSMOTE\n",
    "\n",
    "from itertools import cycle\n",
    "from random import randint\n",
    "from random import sample\n",
    "\n",
    "import xgboost as xgb \n",
    "\n",
    "import csv"
   ]
  },
  {
   "cell_type": "code",
   "execution_count": 298,
   "id": "b3b5ed51",
   "metadata": {},
   "outputs": [],
   "source": [
    "IMG_W = 1376\n",
    "IMG_H = 1020\n",
    "Bethesda_classes = {'Normal':0, 'ASC-US':1, 'ASC-H':2, 'LSIL':3,'HSIL':4, 'Invasive Carcinoma':5} \n",
    "Bethesda_idx_classes = {0: 'Normal', 1:'ASC-US', 2:'ASC-H', 3:'LSIL',4: 'HSIL', 5:'Invasive Carcinoma'} \n",
    "PATH_masks = \"D:/baseCRIC/SegmentacaoCriC/mascaras\" "
   ]
  },
  {
   "cell_type": "code",
   "execution_count": 299,
   "id": "920ac624",
   "metadata": {},
   "outputs": [],
   "source": [
    "# Extra cell_id de núcleo/citoplasma\n",
    "def list_cells(nucleos_csv, cyto_csv): \n",
    "   df_nucleos_full = pd.read_csv(nucleos_csv, header=0)\n",
    "   df_cyto_full = pd.read_csv(cyto_csv, header = 0)\n",
    "   \n",
    "   # dataframe of unique cells (nucleos)\n",
    "   df_nucleos = df_nucleos_full[['image_id', 'cell_id']]\n",
    "   df_nucleos = df_nucleos.sort_values(by=['image_id', 'cell_id']) \n",
    "   df_nucleos = df_nucleos.drop_duplicates(subset=['image_id', 'cell_id'], keep='first', inplace=False) \n",
    "    \n",
    "   # dataframe of unique cells (cytoplams)\n",
    "   df_cyto = df_cyto_full[['image_id', 'cell_id']]\n",
    "   df_cyto = df_cyto.sort_values(by=['image_id', 'cell_id']) \n",
    "   df_cyto= df_cyto.drop_duplicates(keep='first', inplace=False) \n",
    "    \n",
    "   return (df_nucleos, df_cyto,df_nucleos_full, df_cyto_full)\n"
   ]
  },
  {
   "cell_type": "markdown",
   "id": "9801f6b7",
   "metadata": {},
   "source": [
    "### Funções para extração de features - shape e contorno:"
   ]
  },
  {
   "cell_type": "code",
   "execution_count": 300,
   "id": "7ba77093",
   "metadata": {},
   "outputs": [],
   "source": [
    "# Calcula localização relativa do núcleo dentro do citoplasma (versão Daniela):\n",
    "'''def nucleus_to_cyto_border_dist(cent_N, cent_C, border_coords_C, border_coords_N):\n",
    "    dists_bound_C= cdist(border_coords_C, list([cent_N]), metric='euclidean') \n",
    "    dist_bound_C = np.min(dists_bound_C)\n",
    "    nearest_point = border_coords_C[np.argmin(dists_bound_C)]\n",
    "    \n",
    "    dists_bounds_N_to_C = cdist(border_coords_N, list([nearest_point]), metric='euclidean')\n",
    "    dist_bounds_N_to_C = np.min(dists_bounds_N_to_C)\n",
    "    \n",
    "    #print(nearest_point)\n",
    "    normal_dist = np.sqrt((nearest_point[0]- cent_C[0])**2 + (nearest_point[1]- cent_C[1])**2)\n",
    "    #print('dist C: ', normal_dist)\n",
    "    return dist_bounds_N_to_C/normal_dist\n",
    "    '''\n",
    "\n",
    "# Calcula localização relativa do núcleo dentro do citoplasma (versão \\cite{Mariarputham2015}):\n",
    "def nucleus_position(cent_N, cent_C, minAxC):\n",
    "    d = np.sqrt((cent_N[0]-cent_C[0])**2 + (cent_N[1]-cent_C[1])**2)\n",
    "    if d == 0:\n",
    "        return 0\n",
    "    else: \n",
    "        return (d/minAxC)  #distância entre os centroides (N - C)/eixo menor do citoplasma\n",
    "\n",
    "## Para chamada ao metodo que approxima o contorno com a série de Fourier series, como descrito em (https://www.sci.utah.edu/~gerig/CS7960-S2010/handouts/Kuhl-Giardina-CGIP1982.pdf)\n",
    "## Fonte: https://pyefd.readthedocs.io/en/latest/#second\n",
    "def efd_feature(contour, n_coeffs):\n",
    "    '''  contour: pontos de borda\n",
    "         n_coeffs: nº de coeficientes da serie de fourier (X(sen e cos) para Y(sen e cos))\n",
    "         retorno: tupla (coeficientes, número de coeficientes)\n",
    "    ''' \n",
    "    coeffs = elliptic_fourier_descriptors(contour, order= n_coeffs, normalize=True)\n",
    "    return (coeffs.flatten()[3:(n_coeffs*4+1)], (n_coeffs*4+1 - 3))\n",
    "\n",
    "# Calcula Dimensão Fractal\n",
    "# From: https://github.com/jankaWIS/fractal_dimension_analysis/blob/main/fractal_analysis_fxns.py\n",
    "def fractal_dimension(Z, threshold=0.9):\n",
    "    \"\"\"\n",
    "    calculate fractal dimension of an object in an array defined to be above certain threshold as a count of squares\n",
    "    with both black and white pixels for a sequence of square sizes. The dimension is the a coefficient to a poly fit\n",
    "    to log(count) vs log(size) as defined in the sources.\n",
    "    :param Z: np.array, must be 2D\n",
    "    :param threshold: float, a thr to distinguish background from foreground and pick up the shape, originally from\n",
    "    (0, 1) for a scaled arr but can be any number, generates boolean array\n",
    "    :return: coefficients to the poly fit, fractal dimension of a shape in the given arr\n",
    "    \"\"\"\n",
    "    # Only for 2d image\n",
    "    assert (len(Z.shape) == 2)\n",
    "\n",
    "    # Transform Z into a binary array\n",
    "    Z = (Z < threshold)\n",
    "\n",
    "    # Minimal dimension of image\n",
    "    p = min(Z.shape)\n",
    "\n",
    "    # Greatest power of 2 less than or equal to p\n",
    "    n = 2 ** np.floor(np.log(p) / np.log(2))\n",
    "\n",
    "    # Extract the exponent\n",
    "    n = int(np.log(n) / np.log(2))\n",
    "\n",
    "    # Build successive box sizes (from 2**n down to 2**1)\n",
    "    sizes = 2 ** np.arange(n, 1, -1)\n",
    "\n",
    "    # Actual box counting with decreasing size\n",
    "    counts = []\n",
    "    for size in sizes:\n",
    "        counts.append(boxcount(Z, size))\n",
    "\n",
    "    # Fit the successive log(sizes) with log (counts)\n",
    "    coeffs = np.polyfit(np.log(sizes), np.log(counts), 1)\n",
    "    return -coeffs[0]\n",
    "\n",
    "def boxcount(Z, k):\n",
    "    \"\"\"\n",
    "    returns a count of squares of size kxk in which there are both colours (black and white), ie. the sum of numbers\n",
    "    in those squares is not 0 or k^2\n",
    "    Z: np.array, matrix to be checked, needs to be 2D\n",
    "    k: int, size of a square\n",
    "    \"\"\"\n",
    "    S = np.add.reduceat(\n",
    "        np.add.reduceat(Z, np.arange(0, Z.shape[0], k), axis=0),\n",
    "        np.arange(0, Z.shape[1], k), axis=1)  # jumps by powers of 2 squares\n",
    "\n",
    "    # We count non-empty (0) and non-full boxes (k*k)\n",
    "    #return len(np.where((S > 0) & (S < k * k))[0])\n",
    "    return len(np.where(S > 0)[0])\n",
    "\n",
    "\n",
    "# Calcula o alongamento da célula a partir da sua bounding box:\n",
    "def elongation(bbox):\n",
    "     l = (bbox[2] - bbox[0])  # maxRow - minRow \n",
    "     w = (bbox[3] - bbox[1])  # maxCol - minCol\n",
    "     return (1 - (w/l))\n",
    "\n",
    "\n",
    "#Calcula as distâncias radiais (algumas métricas de \\cite{Po-HsiangTsui2010a, e \\cite{Chiang2001} para CA de mama})\n",
    "def radial_distances_stats(centroid, border_coords):\n",
    "    ''' Retorna:\n",
    "        desvio padrão da distancia radial (SDNRL)\n",
    "        tx de área: porcentagem de area fora da distância radial média\n",
    "        RI: indice de rugosidade\n",
    "        E : entropia do histograma do comprimento radial normalizado representa a redondeza e a rugosidade.\n",
    "        k: kurtosis do histograma das \n",
    "        MRD: comprimento radial máximo (maximum length from center of gravity to perimeter) - valores absolutos (não normalizados)\n",
    "        ARD: comprimento radial médio (average length from center of gravity to perimeter) - valores absolutos (não normalizados)\n",
    "    '''    \n",
    "    dis= cdist(border_coords, list([centroid]), metric='euclidean') \n",
    "    dis_Norm = dis/np.max(dis)\n",
    "    mean = np.mean(dis_Norm)\n",
    "    SDNRL= np.std(dis_Norm, ddof=1) \n",
    "    \n",
    "    # Calcula taxa de area, soma di - dis[i+1]:\n",
    "    N = dis_Norm.shape[0]\n",
    "    area_out = 0\n",
    "    sum = 0\n",
    "    for i in range(N):\n",
    "        if dis_Norm[i] >=mean: \n",
    "           area_out +=(dis_Norm[i] - mean)   \n",
    "        if i != (N-1):\n",
    "            sum += np.abs(dis_Norm[i] - dis_Norm[i+1])\n",
    "    RA = area_out /(N*mean)\n",
    "    \n",
    "    # Calcula índice de rugosidade(RI):\n",
    "    RI = sum/N\n",
    "    \n",
    "    # Calcula a entropia (E) do histograma dis_Norm\n",
    "    hist, _ = np.histogram(dis, bins=100, density=True, )\n",
    "    E = 0\n",
    "    for p in hist: \n",
    "       if p!= 0:\n",
    "          E+=(p*np.log(p))\n",
    "    K = kurtosis(dis)   \n",
    "    return ({'SDNRL': SDNRL, 'RA': RA[0], 'RI': RI[0], 'E':-E, 'K': K, 'MRD': np.max(dis), 'ARD': np.mean(dis)})\n"
   ]
  },
  {
   "cell_type": "code",
   "execution_count": 301,
   "id": "e07dc646",
   "metadata": {},
   "outputs": [],
   "source": [
    "def get_list_feature_labels(n_efd_coeffs):\n",
    "   # n_efd_coeffs: número de coefficientes a considerar (série Eliptica de fourier - EFD) para N e C\n",
    "     \n",
    "   feature_labels=['areaN', 'eccenN', 'extentN', 'periN', 'maxAxN', 'minAxN',\n",
    "                   'compacN', 'circuN', 'convexN', 'hAreaN', 'solidN', 'equidiaN', \n",
    "                   'elonN', 'sdnrlN', 'raN', 'riN', 'eN', 'kN', 'mrdN', 'ardN', 'fdN'] \n",
    "   \n",
    "   efdNs = ['efdN'+str(i) for i in range(1, (n_efd_coeffs*4+1 - 3))]  \n",
    "   for name_f in efdNs:\n",
    "       feature_labels.append(name_f) \n",
    "   \n",
    "   aux=['areaC', 'eccenC', 'extentC', 'periC', 'maxAxC', 'minAxC',\n",
    "         'compacC', 'circuC', 'convexC', 'hAreaC', 'solidC', 'equidiaC', \n",
    "          'elonC', 'sdnrlC', 'raC', 'riC', 'eC', 'kC', 'mrdC', 'ardC', 'fdC'] \n",
    "   for name_f in aux:\n",
    "       feature_labels.append(name_f)\n",
    "\n",
    "   efdCs = ['efdC'+str(i) for i in range(1, (n_efd_coeffs*4+1 - 3))]  \n",
    "   for name_f in efdCs:\n",
    "       feature_labels.append(name_f)\n",
    "    \n",
    "   aux = ['ratio_NC', 'ratio_NC_per', 'ratio_NC_hArea', 'nucleus_position']\n",
    "\n",
    "   for name_f in aux:\n",
    "       feature_labels.append(name_f)\n",
    "   return feature_labels   \n",
    "\n",
    "def create_dictionary_features(n_efd_coeffs):\n",
    "   # n_efd_coeffs: número de coefficientes a considerar (série Eliptica de fourier - EFD) para N e C\n",
    "   feature_labels=['image_id', 'cell_id']\n",
    "   features = get_list_feature_labels(n_efd_coeffs)\n",
    "   for name in features:\n",
    "      feature_labels.append(name)\n",
    "        \n",
    "   feature_labels.append('bethesda')     \n",
    "\n",
    "   aux = [[] for i in range(len(feature_labels))]\n",
    "   return dict(zip(feature_labels, aux))\n",
    "\n",
    "def set_efd_coeff(coeffs, dictio, efd='N'):\n",
    "    if efd == 'N':\n",
    "       efds = ['efdN'+str(i) for i in range(1, coeffs.shape[0]+ 1)] \n",
    "    else:\n",
    "       efds = ['efdC'+str(i) for i in range(1, coeffs.shape[0]+ 1)] \n",
    "    for feat, value in zip(efds, coeffs):\n",
    "        dictio[feat].append(value)"
   ]
  },
  {
   "cell_type": "markdown",
   "id": "9df1bc67",
   "metadata": {},
   "source": [
    "##### Gera dataframe de features: 120 features de formato e contorno para nucleo (N) e citoplasma (C)\n"
   ]
  },
  {
   "cell_type": "code",
   "execution_count": 302,
   "id": "a2d55671",
   "metadata": {},
   "outputs": [],
   "source": [
    "# Para cada célula (identificação e features)\n",
    "# Calula, registra e retorna dataframe de 120 features de formato e contorno para nucleo (N) e citoplasma (C)\n",
    "def make_stats(df_nucleos, df_cyto, df_nucleos_full, df_cyto_full, n_efd_coeffs= 10):\n",
    "   \"\"\" \n",
    "     Features (N e C):  \n",
    "           area, excentricidade, extenção, perímetro, major Axis, minor Axis,\n",
    "           compacidade, circularidade, convexidade, area do convex hull', solidicidade, \n",
    "           diâmetro equivalente, alongamento, SDNRL, RA, RI, entropia das distâncias radiais (RD),\n",
    "           kurtosis das distâncias radiais, maior RD, average RD, FD (dimensão fractal), \n",
    "           'n_efd_coeffs' 1º coeficientes da série EF (elliptic fourier descriptor)\n",
    "     Features relação N/C: razão area N/C, razão perimetro N/C,razão area convex hull N/C, posição relativa do nucleo\n",
    "     \n",
    "   \"\"\" \n",
    "   count_cells = np.zeros(6, dtype = int)\n",
    "    \n",
    "   data = create_dictionary_features(n_efd_coeffs)\n",
    "   for image_id, cell_id in df_nucleos.values:   \n",
    "        cell = f'{image_id:05d}_{cell_id:05d}_'\n",
    "        \n",
    "        points_nucleos = df_nucleos_full.query('image_id == '+str(image_id) + ' and cell_id == '+str(cell_id))[['x', 'y']].values\n",
    "        points_cyto = df_cyto_full.query('image_id == '+str(image_id) + ' and cell_id == '+str(cell_id))[['x', 'y']].values\n",
    "        bethesda = Bethesda_classes[df_nucleos_full.query('image_id == '+str(image_id) + ' and cell_id == '+str(cell_id))['bethesda_system'].values[0]]\n",
    "                \n",
    "        # Nucleos mask\n",
    "        mask_nucleo =  np.zeros((IMG_H, IMG_W), dtype=np.uint8)\n",
    "        # Cytoplasma mask\n",
    "        mask_cyto =  np.zeros((IMG_H, IMG_W), dtype=np.uint8)\n",
    "        \n",
    "        # Nucleos contour points\n",
    "        rrN, ccN = polygon(points_nucleos[:,1], points_nucleos[:,0])\n",
    "        mask_nucleo[rrN, ccN] = 1    \n",
    "        \n",
    "        # Cytoplasm contour points\n",
    "        rrC, ccC = polygon(points_cyto[:,1], points_cyto[:,0])\n",
    "        mask_cyto[rrC, ccC] = 1    \n",
    "        \n",
    "        # Eliminate duplicate contour points: \n",
    "        border_coords_N = [[ri, ci] for ri,ci in zip(rrN, ccN)]\n",
    "        border_coords_C = [[ri, ci] for ri,ci in zip(rrC, ccC)]\n",
    "        points_N = np.array(border_coords_N, dtype=np.float64)\n",
    "        points_N = np.unique(points_N, axis=0)\n",
    "        points_C = np.array(border_coords_C, dtype=np.float64)\n",
    "        points_C = np.unique(points_C, axis=0)\n",
    "           \n",
    "        # Calc regionprops metrics from Nucleos mask:\n",
    "        m_N = measure.regionprops(mask_nucleo)  \n",
    "        \n",
    "        # Calc regionprops metrics from Cyto mask:\n",
    "        m_C = measure.regionprops(mask_cyto)\n",
    " \n",
    "        # Get metrics:\n",
    "        area_N = m_N[0].area\n",
    "        eccenN = m_N[0].eccentricity \n",
    "        extentN = m_N[0].extent   # area / area da bounding box (bbox)\n",
    "        per_N = m_N[0].perimeter\n",
    "        max_N = m_N[0].axis_major_length\n",
    "        min_N = m_N[0].axis_minor_length \n",
    "        cent_N = m_N[0].centroid\n",
    "        compacN = np.power(per_N,2)/area_N    # perimetro^2/area\n",
    "        circulN = (4*np.pi*area_N)/np.power(per_N,2)    # 4pi*area/perimetro^2\n",
    "        convexN = measure.perimeter(m_N[0].image_convex)/per_N  #  perimetro do convex hull/perimetro\n",
    "        hAreaN = m_N[0].area_convex \n",
    "        solidN =  m_N[0].solidity  # area / area do convex hull\n",
    "        equidiaN  = m_N[0].equivalent_diameter_area # diametro equivalente de um círculo de mesma area\n",
    "        elonN = elongation(m_N[0].bbox)  # (1 - w/L), onde w é a largura em colunas da bbox e L a altura da bbox\n",
    "        rdN= radial_distances_stats(cent_N, points_N) # estatísticas de distancia radial (centroid borda) p/ Nucleo\n",
    "        \n",
    "        area_C = (m_C[0].area - area_N)\n",
    "        eccenC = m_C[0].eccentricity\n",
    "        extentC = m_C[0].extent\n",
    "        per_C = m_C[0].perimeter\n",
    "        max_C = m_C[0].axis_major_length\n",
    "        min_C = m_C[0].axis_minor_length \n",
    "        cent_C = m_C[0].centroid\n",
    "        compacC = np.power(per_C,2)/area_C\n",
    "        convexC = measure.perimeter(m_C[0].image_convex)/per_C\n",
    "        circulC = (4*np.pi*area_C)/np.power(per_C,2)\n",
    "        hAreaC = m_C[0].area_convex\n",
    "        solidC =  m_C[0].solidity\n",
    "        equidiaC  = m_C[0].equivalent_diameter_area\n",
    "        elonC = elongation(m_C[0].bbox)\n",
    "        rdC= radial_distances_stats(cent_C, points_C) # estatísticas de distancia radial (centroid borda) p/ Cito\n",
    "    \n",
    "        # Calcula posição relativa do núcleo no citoplasma\n",
    "        nucleus_pos= nucleus_position(cent_N, cent_C, min_C)\n",
    "    \n",
    "        #Calc rations to nucleus and cytoplasm areas \n",
    "        ratio_NC = area_N/area_C\n",
    "        ratio_NC_per = per_N/per_C\n",
    "        ratio_NC_hArea = hAreaN/hAreaC\n",
    "\n",
    "        # Registry metrics on data dict:\n",
    "        data['image_id'].append(image_id)\n",
    "        data['cell_id'].append(cell_id)\n",
    "        data['areaN'].append(area_N)\n",
    "        data['eccenN'].append(eccenN)\n",
    "        data['extentN'].append(extentN) \n",
    "        data['periN'].append(per_N)\n",
    "        data['maxAxN'].append(max_N)\n",
    "        data['minAxN'].append(min_N)\n",
    "        data['compacN'].append(compacN)\n",
    "        data['circuN'].append(circulN)\n",
    "        data['convexN'].append(convexN)\n",
    "        data['hAreaN'].append(hAreaN)\n",
    "        data['solidN'].append(solidN) \n",
    "        data['equidiaN'].append(equidiaN)\n",
    "        data['elonN'].append(elonN) \n",
    "        data['sdnrlN'].append(rdN['SDNRL'])\n",
    "        data['raN'].append(rdN['RA'])\n",
    "        data['riN'].append(rdN['RI'])\n",
    "        data['eN'].append(rdN['E'])\n",
    "        data['kN'].append(rdN['K'])\n",
    "        data['mrdN'].append(rdN['MRD'])\n",
    "        data['ardN'].append(rdN['ARD'])\n",
    "        data['fdN'].append(fractal_dimension(mask_nucleo))\n",
    "        efd_coeffs_N, _ = efd_feature(points_N, n_efd_coeffs)\n",
    "        set_efd_coeff(efd_coeffs_N, data)\n",
    "            \n",
    "        data['areaC'].append(area_C)\n",
    "        data['eccenC'].append(eccenC)\n",
    "        data['extentC'].append(extentC) \n",
    "        data['periC'].append(per_C)\n",
    "        data['maxAxC'].append(max_C)\n",
    "        data['minAxC'].append(min_C)\n",
    "        data['compacC'].append(compacC)\n",
    "        data['circuC'].append(circulC)\n",
    "        data['convexC'].append(convexC)\n",
    "        data['hAreaC'].append(hAreaC)\n",
    "        data['solidC'].append(solidC)\n",
    "        data['equidiaC'].append(equidiaC)\n",
    "        data['elonC'].append(elonC)\n",
    "        data['sdnrlC'].append(rdC['SDNRL'])\n",
    "        data['raC'].append(rdC['RA'])\n",
    "        data['riC'].append(rdC['RI'])\n",
    "        data['eC'].append(rdC['E'])\n",
    "        data['kC'].append(rdC['K'])\n",
    "        data['mrdC'].append(rdC['MRD'])\n",
    "        data['ardC'].append(rdC['ARD'])\n",
    "        data['fdC'].append(fractal_dimension(mask_cyto))        \n",
    "        efd_coeffs_C, _ = efd_feature(points_C, n_efd_coeffs)\n",
    "        set_efd_coeff(efd_coeffs_C, data, efd='C')         \n",
    "        \n",
    "        data['ratio_NC'].append(ratio_NC)\n",
    "        data['ratio_NC_per'].append(ratio_NC_per)\n",
    "        data['ratio_NC_hArea'].append(ratio_NC_hArea)\n",
    "        data['nucleus_position'].append(nucleus_pos)\n",
    "    \n",
    "        data['bethesda'].append(bethesda)\n",
    "        \n",
    "        count_cells[bethesda]+=1\n",
    "        \n",
    "   df = pd.DataFrame(data)\n",
    "   return (count_cells, df)  \n",
    " "
   ]
  },
  {
   "cell_type": "code",
   "execution_count": 303,
   "id": "46c6c819",
   "metadata": {},
   "outputs": [],
   "source": [
    "## Normaliza dados\n",
    "def normalize(min, max, value):\n",
    "    return (value-min)/(max - min)\n",
    "\n",
    "def normalize_prop(prop, df):\n",
    "    min = np.min(df[prop].values)\n",
    "    max = np.max(df[prop].values)\n",
    "    return (normalize(min, max, df[prop].values))"
   ]
  },
  {
   "cell_type": "code",
   "execution_count": 304,
   "id": "3690bd6d",
   "metadata": {},
   "outputs": [],
   "source": [
    "# Filtra/normaliza dados\n",
    "def normalize_dataset(df, n_efd_coeffs):\n",
    "  dataset = df.copy()\n",
    "   \n",
    "  dataset.areaN = normalize_prop('areaN', df)\n",
    "  dataset.eccenN = normalize_prop('eccenN', df) \n",
    "  dataset.extentN = normalize_prop('extentN', df)\n",
    "  dataset.periN = normalize_prop('periN', df)\n",
    "  dataset.maxAxN = normalize_prop('maxAxN', df)  \n",
    "  dataset.minAxN = normalize_prop('minAxN', df)  \n",
    "  dataset.compacN = normalize_prop('compacN', df)\n",
    "  dataset.circuN = normalize_prop('circuN', df)\n",
    "  dataset.convexN = normalize_prop('convexN', df)\n",
    "  dataset.hAreaN = normalize_prop('hAreaN', df)\n",
    "  dataset.solidN = normalize_prop('solidN', df) \n",
    "  dataset.equidiaN = normalize_prop('equidiaN', df) \n",
    "  dataset.elonN = normalize_prop('elonN', df)\n",
    "  dataset.eN = normalize_prop('eN', df)  \n",
    "  dataset.kN = normalize_prop('kN', df)  \n",
    "  dataset.mrdN = normalize_prop('mrdN', df)  \n",
    "  dataset.ardN = normalize_prop('ardN', df)  \n",
    "  dataset.fdN = normalize_prop('fdN', df)       \n",
    "  efds = ['efdN'+str(i) for i in range(1,(n_efd_coeffs*4 + 1 - 3))]\n",
    "  for efd in efds: \n",
    "      dataset[efd] = normalize_prop(efd, df) \n",
    "    \n",
    "  dataset.areaC = normalize_prop('areaC', df)\n",
    "  dataset.eccenC = normalize_prop('eccenC', df) \n",
    "  dataset.extentC = normalize_prop('extentC', df)\n",
    "  dataset.periC = normalize_prop('periC', df)\n",
    "  dataset.maxAxC = normalize_prop('maxAxC', df)  \n",
    "  dataset.minAxC = normalize_prop('minAxC', df)\n",
    "  dataset.compacC = normalize_prop('compacC', df)\n",
    "  dataset.circuC = normalize_prop('circuC', df)\n",
    "  dataset.convexC = normalize_prop('convexC', df)\n",
    "  dataset.hAreaC = normalize_prop('hAreaC', df)\n",
    "  dataset.solidC = normalize_prop('solidC', df) \n",
    "  dataset.equidiaC = normalize_prop('equidiaC', df) \n",
    "  dataset.elonC = normalize_prop('elonC', df)\n",
    "  dataset.eC = normalize_prop('eC', df)  \n",
    "  dataset.kC = normalize_prop('kC', df)  \n",
    "  dataset.mrdC = normalize_prop('mrdC', df)  \n",
    "  dataset.ardC = normalize_prop('ardC', df)  \n",
    "  dataset.fdC = normalize_prop('fdC', df)       \n",
    "  efds = ['efdC'+str(i) for i in range(1,(n_efd_coeffs*4 + 1 - 3))]\n",
    "  for efd in efds: \n",
    "      dataset[efd] = normalize_prop(efd, df)   \n",
    "\n",
    "  #dataset.nucleus_position = normalize_prop('nucleus_position', df)\n",
    " \n",
    "  return dataset"
   ]
  },
  {
   "cell_type": "markdown",
   "id": "d5e76266",
   "metadata": {},
   "source": [
    "### Funções para classificadores e métricas"
   ]
  },
  {
   "cell_type": "code",
   "execution_count": 305,
   "id": "d53786fe",
   "metadata": {},
   "outputs": [],
   "source": [
    "# Executa e retorna a predição do modelo KNN:\n",
    "def execute_KNN(data_train, target_train, data_test, n_nbors):     \n",
    "        model_knn = KNeighborsClassifier(n_neighbors= n_nbors)      ## instancia\n",
    "        model_knn.fit(data_train, target_train)                     ## treino \n",
    "        target_prediction = model_knn.predict(data_test)            ## teste  \n",
    "        return target_prediction\n",
    "    \n",
    "# Executa e retorna a predição para SVM:\n",
    "def execute_SVM(data_train, target_train, data_test, kn='rbf', degr=3):     \n",
    "        model_svm = SVC(kernel= kn, degree=degr) \n",
    "        model_svm.fit(data_train, target_train)\n",
    "        target_pred = model_svm.predict(data_test)\n",
    "        return target_pred\n",
    "    \n",
    "# Executa e retorna a predição para Naive:\n",
    "def execute_NB(data_train, target_train, data_test): \n",
    "       model_nb = GaussianNB()\n",
    "       model_nb.fit(data_train, target_train)\n",
    "       return model_nb.predict(data_test)\n",
    "              \n",
    "# Gera modelo RandomForest\n",
    "def fit_get_RF(data_train, target_train): \n",
    "    model =RandomForestClassifier()\n",
    "    model.fit(data_train, target_train)\n",
    "    return model\n",
    "\n",
    "def getModel(classifier = 'SVM', class_type = 'binary'):\n",
    "    if classifier == 'SVM':\n",
    "        model = SVC(kernel= 'rbf', degree=3, probability=True) \n",
    "    elif classifier == 'RF':\n",
    "        model =RandomForestClassifier()\n",
    "    elif classifier == 'XGBoost':\n",
    "        if class_type == 'binary':\n",
    "           #model = xgb.XGBClassifier(objective=\"binary:logistic\", random_state=42)\n",
    "           model = xgb.XGBClassifier(\n",
    "                     learning_rate =0.25,\n",
    "                     n_estimators=500,\n",
    "                     max_depth=7,\n",
    "                     min_child_weight=6,\n",
    "                     gamma=0,\n",
    "                     subsample=0.8,\n",
    "                     colsample_bytree=0.9,\n",
    "                     reg_alpha=0.05,\n",
    "                     objective= 'binary:logistic',\n",
    "                     scale_pos_weight=1,\n",
    "                     seed=27)\n",
    "        else:    # multiclass  \n",
    "            #model = xgb.XGBClassifier(objective=\"multi:softprob\", random_state=42)\n",
    "            model = xgb.XGBClassifier(\n",
    "                     learning_rate= 0.25,\n",
    "                     n_estimators=500,\n",
    "                     max_depth=7,\n",
    "                     min_child_weight=6,\n",
    "                     gamma=0,\n",
    "                     subsample=0.8,\n",
    "                     colsample_bytree=0.9,\n",
    "                     reg_alpha=0.05,\n",
    "                     objective= 'multi:softprob',\n",
    "                     seed=27)\n",
    "    else:\n",
    "        model = None # 'MLP toDo'    \n",
    "    return model    \n",
    "    \n",
    "\n",
    "# Calcula métricas: (vide metrics_type e classifiers_type)\n",
    "def calc_metric(target_test, target_predict, metric_type='acc', class_type ='binary', classes=[0,1]):   \n",
    "    if (metric_type == 'acc'):\n",
    "        return accuracy_score(target_test, target_predict)\n",
    "    elif (metric_type == 'prec'):\n",
    "         if (class_type == 'binary'):  ## caso classificadores binário\n",
    "            return  precision_score(target_test, target_predict, zero_division=0)  \n",
    "         else:  ## multiclasses\n",
    "            return precision_score(target_test, target_predict, average='weighted', zero_division=0)\n",
    "    elif (metric_type == 'rec'):\n",
    "        if (class_type == 'binary'):  ## classificadores binários\n",
    "            return recall_score(target_test, target_predict, zero_division=0)\n",
    "        else:  ## multiclasses\n",
    "            return  recall_score(target_test, target_predict, average ='weighted', zero_division=0)\n",
    "    elif (metric_type == 'spec'):   \n",
    "         if (class_type == 'binary'):  ## classificadores binários\n",
    "            tn, fp, fn, tp = confusion_matrix(target_test, target_predict).ravel()\n",
    "            return tn/(tn + fp)\n",
    "         else:  ##  multiclasses - média aritmética  \n",
    "            spec = 0\n",
    "            for l in classes:\n",
    "                tn, fp, fn, tp = confusion_matrix((np.array(target_test)==l), (np.array(target_predict)==l)).ravel()\n",
    "                spec += tn/(tn + fp)\n",
    "            return spec/len(classes)  \n",
    "    elif (metric_type == 'f1_score'):      \n",
    "         if (class_type == 'binary'):  ## classificadores binários\n",
    "            f1 = f1_score(target_test, target_predict)\n",
    "            return f1\n",
    "         else:  ## multiclasses\n",
    "            f1 = f1_score(target_test, target_predict, average= 'weighted')\n",
    "            return f1 \n",
    "    else:\n",
    "        return None\n",
    "\n",
    "def fill_line_metrics(model_name, featur, target, pred, line_results, class_type='binary', pos_lb=1):\n",
    "    accur = calc_metric(target, pred, 'acc', class_type)\n",
    "    prec = calc_metric(target, pred, 'prec', class_type, pos_lbl= pos_lb)\n",
    "    sens = calc_metric(target, pred, 'sens', class_type)\n",
    "    espe = calc_metric(target, pred, 'espec', class_type)\n",
    "    f1Mes = calc_metric(target, pred, 'f1_mesure', class_type, pos_lbl= pos_lb)\n",
    "\n",
    "    line = pd.Series(data = np.array([class_type, model_name, featur,\n",
    "                        '{:.4f}'.format(accur), '{:.4f}'.format(prec), '{:.4f}'.format(sens),\n",
    "                        '{:.4f}'.format((1- espe)), '{:.4f}'.format(espe), '{:.4f}'.format(f1Mes)], dtype = object), \n",
    "                index=['Tipo', 'Model', 'Features', 'Acurácia', 'Precisão', 'Sensibil' , 'Falso Pos', 'Especif', 'F1_measure']) \n",
    "    results.loc[line_results] = line\n",
    "\n",
    "def fill_line_metrics_CV(model_name, featur, line_results, metrics, results, class_type='binary'):\n",
    "    line = pd.Series(data = np.array([class_type, model_name, featur,\n",
    "             '{:.4f}'.format(metrics['acc']), '{:.4f}'.format(metrics['prec']),\n",
    "             '{:.4f}'.format(metrics['rec']),'{:.4f}'.format((1- metrics['spec'])), \n",
    "             '{:.4f}'.format(metrics['spec']), '{:.4f}'.format(metrics['f1_score'])], dtype = object), \n",
    "              index=['Tipo', 'Model', 'Features', 'Acurácia', 'Precisão', 'Sensibil' , \n",
    "                     'Falso Pos', 'Especif', 'F1_measure']) \n",
    "    results.loc[line_results] = line\n",
    "    \n",
    "    \n",
    "def plot_roc_curve(roc_curve_list, labels_list):\n",
    "    colors = cycle([\"aqua\", \"darkorange\", \"cornflowerblue\", \"deeppink\", \"navy\", \"darkorange\"])\n",
    "    plt.style.use(\"bmh\")\n",
    "    for i,color in zip(range(len(roc_curve_list)), colors):\n",
    "        plt.plot(\n",
    "            roc_curve_list[i][0],\n",
    "            roc_curve_list[i][1],\n",
    "            color=color,\n",
    "            lw=2,\n",
    "            label= labels_list[i],\n",
    "        )\n",
    "    plt.plot([0, 1] , c=\".7\", ls=\"--\")\n",
    "    plt.xlabel('False Positive Rate')\n",
    "    plt.ylabel('True Positive Rate')\n",
    "    plt.title('ROC Curve - Normal vs anormal Random Forest) ')\n",
    "    plt.legend(fontsize= 'medium')\n",
    "    plt.show()\n",
    " \n",
    "\n",
    "## Plota gráfico de ganho para features selecionadas: \n",
    "def plot_imp(best_features_1, scores_1, method_name_1,\n",
    "            best_features_2, scores_2, method_name_2):   \n",
    "    \n",
    "    plt.style.use(\"bmh\")\n",
    "    #plt.rcParams.update({'font.size': 12})\n",
    "    fig, axs = plt.subplots(ncols=2, nrows=1, figsize=(15, 7))\n",
    "    axs[0].tick_params(labelsize= 'small')\n",
    "    axs[0].barh(best_features_1, scores_1, color= 'blue', height=0.75)    \n",
    "    axs[0].set(xlim=[min(0, (np.min(scores_1))), max(0.8, np.max(scores_1)+0.1)], xlabel='Score', ylabel='Feature', title= method_name_1 + ' Scores')\n",
    "    axs[1].tick_params(labelsize= 'small')\n",
    "    axs[1].set(xlim=[min(0, np.min(scores_2)), max(0.8, np.max(scores_2)+0.1)], xlabel='Score', ylabel='Feature', title=method_name_2 + ' Scores')\n",
    "    axs[1].barh(best_features_2, scores_2, color= 'green')    \n",
    "    \n",
    "    #fig.suptitle('Feature Selection') \n",
    "    fig.subplots_adjust(left=0.1, right=0.9, wspace=0.3)\n",
    "    plt.show()\n",
    "\n",
    "# Gera grafico matriz confusao  \n",
    "def make_confusionMatrixDisplay(test, pred, labels, title):\n",
    "    cm = confusion_matrix(test, pred, labels=labels)\n",
    "    disp = ConfusionMatrixDisplay(confusion_matrix=cm, display_labels=labels)\n",
    "    return (disp, title)\n",
    " \n"
   ]
  },
  {
   "cell_type": "markdown",
   "id": "d6f815eb",
   "metadata": {},
   "source": [
    "### Classificador Normal vs Anormal(ASC-US, ASC-H, LSIL, HSIL, Carcinoma)"
   ]
  },
  {
   "cell_type": "markdown",
   "id": "6b29560a",
   "metadata": {},
   "source": [
    "#####  Filtra dados por classe"
   ]
  },
  {
   "cell_type": "code",
   "execution_count": 307,
   "id": "7f950bb5",
   "metadata": {},
   "outputs": [],
   "source": [
    "df_nucleos, df_cyto,df_nucleos_full, df_cyto_full = list_cells('../base/nucleus-segmentations.csv', '../base/cytoplasm-segmentations.csv') \n",
    " "
   ]
  },
  {
   "cell_type": "code",
   "execution_count": 308,
   "id": "1f00307b",
   "metadata": {},
   "outputs": [],
   "source": [
    "N_EFD_COEFFS = 20"
   ]
  },
  {
   "cell_type": "code",
   "execution_count": 45,
   "id": "b38fa9cb",
   "metadata": {},
   "outputs": [],
   "source": [
    "\n",
    "count_cells, dfAll = make_stats(df_nucleos, df_cyto, df_nucleos_full, df_cyto_full, n_efd_coeffs= N_EFD_COEFFS)\n"
   ]
  },
  {
   "cell_type": "code",
   "execution_count": 46,
   "id": "fef0a22d",
   "metadata": {},
   "outputs": [],
   "source": [
    "df = dfAll.copy()\n",
    "df = df.astype('float64')\n",
    "df.to_csv('dataCRIC.csv', sep = '|', index=False)"
   ]
  },
  {
   "cell_type": "code",
   "execution_count": 47,
   "id": "4075900d",
   "metadata": {},
   "outputs": [
    {
     "data": {
      "text/plain": [
       "image_id            float64\n",
       "cell_id             float64\n",
       "areaN               float64\n",
       "eccenN              float64\n",
       "extentN             float64\n",
       "                     ...   \n",
       "ratio_NC            float64\n",
       "ratio_NC_per        float64\n",
       "ratio_NC_hArea      float64\n",
       "nucleus_position    float64\n",
       "bethesda            float64\n",
       "Length: 203, dtype: object"
      ]
     },
     "execution_count": 47,
     "metadata": {},
     "output_type": "execute_result"
    }
   ],
   "source": [
    "df.dtypes"
   ]
  },
  {
   "cell_type": "code",
   "execution_count": 309,
   "id": "8d2400f4",
   "metadata": {},
   "outputs": [],
   "source": [
    "df = pd.read_csv('dataCRIC.csv', sep='|', header=0)\n",
    "df = normalize_dataset(df, n_efd_coeffs= N_EFD_COEFFS)\n",
    " "
   ]
  },
  {
   "cell_type": "code",
   "execution_count": 310,
   "id": "a5c0dc99",
   "metadata": {},
   "outputs": [
    {
     "data": {
      "text/html": [
       "<div>\n",
       "<style scoped>\n",
       "    .dataframe tbody tr th:only-of-type {\n",
       "        vertical-align: middle;\n",
       "    }\n",
       "\n",
       "    .dataframe tbody tr th {\n",
       "        vertical-align: top;\n",
       "    }\n",
       "\n",
       "    .dataframe thead th {\n",
       "        text-align: right;\n",
       "    }\n",
       "</style>\n",
       "<table border=\"1\" class=\"dataframe\">\n",
       "  <thead>\n",
       "    <tr style=\"text-align: right;\">\n",
       "      <th></th>\n",
       "      <th>image_id</th>\n",
       "      <th>cell_id</th>\n",
       "      <th>areaN</th>\n",
       "      <th>eccenN</th>\n",
       "      <th>extentN</th>\n",
       "      <th>periN</th>\n",
       "      <th>maxAxN</th>\n",
       "      <th>minAxN</th>\n",
       "      <th>compacN</th>\n",
       "      <th>circuN</th>\n",
       "      <th>...</th>\n",
       "      <th>efdC73</th>\n",
       "      <th>efdC74</th>\n",
       "      <th>efdC75</th>\n",
       "      <th>efdC76</th>\n",
       "      <th>efdC77</th>\n",
       "      <th>ratio_NC</th>\n",
       "      <th>ratio_NC_per</th>\n",
       "      <th>ratio_NC_hArea</th>\n",
       "      <th>nucleus_position</th>\n",
       "      <th>bethesda</th>\n",
       "    </tr>\n",
       "  </thead>\n",
       "  <tbody>\n",
       "    <tr>\n",
       "      <th>0</th>\n",
       "      <td>1.0</td>\n",
       "      <td>14796.0</td>\n",
       "      <td>0.007403</td>\n",
       "      <td>0.606414</td>\n",
       "      <td>0.842276</td>\n",
       "      <td>0.031326</td>\n",
       "      <td>0.036711</td>\n",
       "      <td>0.083827</td>\n",
       "      <td>0.024126</td>\n",
       "      <td>0.863522</td>\n",
       "      <td>...</td>\n",
       "      <td>0.156532</td>\n",
       "      <td>0.321490</td>\n",
       "      <td>0.859931</td>\n",
       "      <td>0.382225</td>\n",
       "      <td>0.302311</td>\n",
       "      <td>0.017236</td>\n",
       "      <td>0.115646</td>\n",
       "      <td>0.016730</td>\n",
       "      <td>0.099098</td>\n",
       "      <td>0.0</td>\n",
       "    </tr>\n",
       "    <tr>\n",
       "      <th>1</th>\n",
       "      <td>1.0</td>\n",
       "      <td>14797.0</td>\n",
       "      <td>0.009371</td>\n",
       "      <td>0.541484</td>\n",
       "      <td>0.808102</td>\n",
       "      <td>0.035945</td>\n",
       "      <td>0.039493</td>\n",
       "      <td>0.095649</td>\n",
       "      <td>0.018763</td>\n",
       "      <td>0.891071</td>\n",
       "      <td>...</td>\n",
       "      <td>0.150931</td>\n",
       "      <td>0.317850</td>\n",
       "      <td>0.859539</td>\n",
       "      <td>0.369221</td>\n",
       "      <td>0.299938</td>\n",
       "      <td>0.010656</td>\n",
       "      <td>0.089517</td>\n",
       "      <td>0.010168</td>\n",
       "      <td>0.121456</td>\n",
       "      <td>0.0</td>\n",
       "    </tr>\n",
       "    <tr>\n",
       "      <th>2</th>\n",
       "      <td>1.0</td>\n",
       "      <td>14798.0</td>\n",
       "      <td>0.007275</td>\n",
       "      <td>0.313794</td>\n",
       "      <td>0.884418</td>\n",
       "      <td>0.029457</td>\n",
       "      <td>0.025365</td>\n",
       "      <td>0.097062</td>\n",
       "      <td>0.018895</td>\n",
       "      <td>0.890378</td>\n",
       "      <td>...</td>\n",
       "      <td>0.153458</td>\n",
       "      <td>0.315454</td>\n",
       "      <td>0.861978</td>\n",
       "      <td>0.367980</td>\n",
       "      <td>0.302076</td>\n",
       "      <td>0.007400</td>\n",
       "      <td>0.073961</td>\n",
       "      <td>0.006897</td>\n",
       "      <td>0.043773</td>\n",
       "      <td>0.0</td>\n",
       "    </tr>\n",
       "    <tr>\n",
       "      <th>3</th>\n",
       "      <td>1.0</td>\n",
       "      <td>14799.0</td>\n",
       "      <td>0.010570</td>\n",
       "      <td>0.489270</td>\n",
       "      <td>0.778201</td>\n",
       "      <td>0.040199</td>\n",
       "      <td>0.040900</td>\n",
       "      <td>0.103428</td>\n",
       "      <td>0.021001</td>\n",
       "      <td>0.879403</td>\n",
       "      <td>...</td>\n",
       "      <td>0.157254</td>\n",
       "      <td>0.319562</td>\n",
       "      <td>0.860312</td>\n",
       "      <td>0.382943</td>\n",
       "      <td>0.303682</td>\n",
       "      <td>0.028309</td>\n",
       "      <td>0.154784</td>\n",
       "      <td>0.027752</td>\n",
       "      <td>0.128927</td>\n",
       "      <td>0.0</td>\n",
       "    </tr>\n",
       "    <tr>\n",
       "      <th>4</th>\n",
       "      <td>1.0</td>\n",
       "      <td>14801.0</td>\n",
       "      <td>0.009115</td>\n",
       "      <td>0.296366</td>\n",
       "      <td>0.842276</td>\n",
       "      <td>0.036826</td>\n",
       "      <td>0.031283</td>\n",
       "      <td>0.106376</td>\n",
       "      <td>0.024456</td>\n",
       "      <td>0.861871</td>\n",
       "      <td>...</td>\n",
       "      <td>0.147193</td>\n",
       "      <td>0.314554</td>\n",
       "      <td>0.860292</td>\n",
       "      <td>0.359672</td>\n",
       "      <td>0.300094</td>\n",
       "      <td>0.021569</td>\n",
       "      <td>0.129992</td>\n",
       "      <td>0.020738</td>\n",
       "      <td>0.069245</td>\n",
       "      <td>0.0</td>\n",
       "    </tr>\n",
       "    <tr>\n",
       "      <th>...</th>\n",
       "      <td>...</td>\n",
       "      <td>...</td>\n",
       "      <td>...</td>\n",
       "      <td>...</td>\n",
       "      <td>...</td>\n",
       "      <td>...</td>\n",
       "      <td>...</td>\n",
       "      <td>...</td>\n",
       "      <td>...</td>\n",
       "      <td>...</td>\n",
       "      <td>...</td>\n",
       "      <td>...</td>\n",
       "      <td>...</td>\n",
       "      <td>...</td>\n",
       "      <td>...</td>\n",
       "      <td>...</td>\n",
       "      <td>...</td>\n",
       "      <td>...</td>\n",
       "      <td>...</td>\n",
       "      <td>...</td>\n",
       "      <td>...</td>\n",
       "    </tr>\n",
       "    <tr>\n",
       "      <th>3228</th>\n",
       "      <td>399.0</td>\n",
       "      <td>11539.0</td>\n",
       "      <td>0.028927</td>\n",
       "      <td>0.838629</td>\n",
       "      <td>0.579720</td>\n",
       "      <td>0.094256</td>\n",
       "      <td>0.134656</td>\n",
       "      <td>0.118369</td>\n",
       "      <td>0.041270</td>\n",
       "      <td>0.784196</td>\n",
       "      <td>...</td>\n",
       "      <td>0.152113</td>\n",
       "      <td>0.318217</td>\n",
       "      <td>0.859606</td>\n",
       "      <td>0.370535</td>\n",
       "      <td>0.299400</td>\n",
       "      <td>0.206211</td>\n",
       "      <td>0.149094</td>\n",
       "      <td>0.085315</td>\n",
       "      <td>1.943974</td>\n",
       "      <td>5.0</td>\n",
       "    </tr>\n",
       "    <tr>\n",
       "      <th>3229</th>\n",
       "      <td>399.0</td>\n",
       "      <td>11540.0</td>\n",
       "      <td>0.025333</td>\n",
       "      <td>0.874227</td>\n",
       "      <td>0.645532</td>\n",
       "      <td>0.094611</td>\n",
       "      <td>0.135676</td>\n",
       "      <td>0.100778</td>\n",
       "      <td>0.064959</td>\n",
       "      <td>0.692461</td>\n",
       "      <td>...</td>\n",
       "      <td>0.150010</td>\n",
       "      <td>0.322108</td>\n",
       "      <td>0.859366</td>\n",
       "      <td>0.375599</td>\n",
       "      <td>0.300755</td>\n",
       "      <td>0.245537</td>\n",
       "      <td>0.247086</td>\n",
       "      <td>0.136756</td>\n",
       "      <td>0.916374</td>\n",
       "      <td>5.0</td>\n",
       "    </tr>\n",
       "    <tr>\n",
       "      <th>3230</th>\n",
       "      <td>400.0</td>\n",
       "      <td>11535.0</td>\n",
       "      <td>0.017031</td>\n",
       "      <td>0.910741</td>\n",
       "      <td>0.390863</td>\n",
       "      <td>0.092280</td>\n",
       "      <td>0.136377</td>\n",
       "      <td>0.078990</td>\n",
       "      <td>0.131860</td>\n",
       "      <td>0.507358</td>\n",
       "      <td>...</td>\n",
       "      <td>0.153944</td>\n",
       "      <td>0.319972</td>\n",
       "      <td>0.860379</td>\n",
       "      <td>0.372458</td>\n",
       "      <td>0.303245</td>\n",
       "      <td>0.191508</td>\n",
       "      <td>0.471092</td>\n",
       "      <td>0.188343</td>\n",
       "      <td>0.326252</td>\n",
       "      <td>5.0</td>\n",
       "    </tr>\n",
       "    <tr>\n",
       "      <th>3231</th>\n",
       "      <td>400.0</td>\n",
       "      <td>11536.0</td>\n",
       "      <td>0.020797</td>\n",
       "      <td>0.949322</td>\n",
       "      <td>0.528816</td>\n",
       "      <td>0.105709</td>\n",
       "      <td>0.169029</td>\n",
       "      <td>0.065965</td>\n",
       "      <td>0.137720</td>\n",
       "      <td>0.494794</td>\n",
       "      <td>...</td>\n",
       "      <td>0.151898</td>\n",
       "      <td>0.320620</td>\n",
       "      <td>0.859608</td>\n",
       "      <td>0.370771</td>\n",
       "      <td>0.299599</td>\n",
       "      <td>0.111823</td>\n",
       "      <td>0.078186</td>\n",
       "      <td>0.023058</td>\n",
       "      <td>3.177247</td>\n",
       "      <td>5.0</td>\n",
       "    </tr>\n",
       "    <tr>\n",
       "      <th>3232</th>\n",
       "      <td>400.0</td>\n",
       "      <td>11537.0</td>\n",
       "      <td>0.025076</td>\n",
       "      <td>0.822746</td>\n",
       "      <td>0.749691</td>\n",
       "      <td>0.090669</td>\n",
       "      <td>0.120781</td>\n",
       "      <td>0.114052</td>\n",
       "      <td>0.055801</td>\n",
       "      <td>0.725789</td>\n",
       "      <td>...</td>\n",
       "      <td>0.143373</td>\n",
       "      <td>0.318753</td>\n",
       "      <td>0.868085</td>\n",
       "      <td>0.362569</td>\n",
       "      <td>0.279162</td>\n",
       "      <td>0.448090</td>\n",
       "      <td>0.346307</td>\n",
       "      <td>0.181780</td>\n",
       "      <td>0.653692</td>\n",
       "      <td>5.0</td>\n",
       "    </tr>\n",
       "  </tbody>\n",
       "</table>\n",
       "<p>3233 rows × 203 columns</p>\n",
       "</div>"
      ],
      "text/plain": [
       "      image_id  cell_id     areaN    eccenN   extentN     periN    maxAxN  \\\n",
       "0          1.0  14796.0  0.007403  0.606414  0.842276  0.031326  0.036711   \n",
       "1          1.0  14797.0  0.009371  0.541484  0.808102  0.035945  0.039493   \n",
       "2          1.0  14798.0  0.007275  0.313794  0.884418  0.029457  0.025365   \n",
       "3          1.0  14799.0  0.010570  0.489270  0.778201  0.040199  0.040900   \n",
       "4          1.0  14801.0  0.009115  0.296366  0.842276  0.036826  0.031283   \n",
       "...        ...      ...       ...       ...       ...       ...       ...   \n",
       "3228     399.0  11539.0  0.028927  0.838629  0.579720  0.094256  0.134656   \n",
       "3229     399.0  11540.0  0.025333  0.874227  0.645532  0.094611  0.135676   \n",
       "3230     400.0  11535.0  0.017031  0.910741  0.390863  0.092280  0.136377   \n",
       "3231     400.0  11536.0  0.020797  0.949322  0.528816  0.105709  0.169029   \n",
       "3232     400.0  11537.0  0.025076  0.822746  0.749691  0.090669  0.120781   \n",
       "\n",
       "        minAxN   compacN    circuN  ...    efdC73    efdC74    efdC75  \\\n",
       "0     0.083827  0.024126  0.863522  ...  0.156532  0.321490  0.859931   \n",
       "1     0.095649  0.018763  0.891071  ...  0.150931  0.317850  0.859539   \n",
       "2     0.097062  0.018895  0.890378  ...  0.153458  0.315454  0.861978   \n",
       "3     0.103428  0.021001  0.879403  ...  0.157254  0.319562  0.860312   \n",
       "4     0.106376  0.024456  0.861871  ...  0.147193  0.314554  0.860292   \n",
       "...        ...       ...       ...  ...       ...       ...       ...   \n",
       "3228  0.118369  0.041270  0.784196  ...  0.152113  0.318217  0.859606   \n",
       "3229  0.100778  0.064959  0.692461  ...  0.150010  0.322108  0.859366   \n",
       "3230  0.078990  0.131860  0.507358  ...  0.153944  0.319972  0.860379   \n",
       "3231  0.065965  0.137720  0.494794  ...  0.151898  0.320620  0.859608   \n",
       "3232  0.114052  0.055801  0.725789  ...  0.143373  0.318753  0.868085   \n",
       "\n",
       "        efdC76    efdC77  ratio_NC  ratio_NC_per  ratio_NC_hArea  \\\n",
       "0     0.382225  0.302311  0.017236      0.115646        0.016730   \n",
       "1     0.369221  0.299938  0.010656      0.089517        0.010168   \n",
       "2     0.367980  0.302076  0.007400      0.073961        0.006897   \n",
       "3     0.382943  0.303682  0.028309      0.154784        0.027752   \n",
       "4     0.359672  0.300094  0.021569      0.129992        0.020738   \n",
       "...        ...       ...       ...           ...             ...   \n",
       "3228  0.370535  0.299400  0.206211      0.149094        0.085315   \n",
       "3229  0.375599  0.300755  0.245537      0.247086        0.136756   \n",
       "3230  0.372458  0.303245  0.191508      0.471092        0.188343   \n",
       "3231  0.370771  0.299599  0.111823      0.078186        0.023058   \n",
       "3232  0.362569  0.279162  0.448090      0.346307        0.181780   \n",
       "\n",
       "      nucleus_position  bethesda  \n",
       "0             0.099098       0.0  \n",
       "1             0.121456       0.0  \n",
       "2             0.043773       0.0  \n",
       "3             0.128927       0.0  \n",
       "4             0.069245       0.0  \n",
       "...                ...       ...  \n",
       "3228          1.943974       5.0  \n",
       "3229          0.916374       5.0  \n",
       "3230          0.326252       5.0  \n",
       "3231          3.177247       5.0  \n",
       "3232          0.653692       5.0  \n",
       "\n",
       "[3233 rows x 203 columns]"
      ]
     },
     "execution_count": 310,
     "metadata": {},
     "output_type": "execute_result"
    }
   ],
   "source": [
    "df"
   ]
  },
  {
   "cell_type": "code",
   "execution_count": 311,
   "id": "581d6797",
   "metadata": {
    "scrolled": true
   },
   "outputs": [
    {
     "name": "stdout",
     "output_type": "stream",
     "text": [
      "--- Totais por classe --- \n",
      "Normal...:  862\n",
      "ASC-Us...:  286\n",
      "ASC-H....:  536\n",
      "LSIL.....:  598\n",
      "HSIL.....:  874\n",
      "Carcinoma:  77\n"
     ]
    }
   ],
   "source": [
    "# Separa dados por classe de maneira balanceada:\n",
    "data_normal = df[df['bethesda'] == 0].copy()\n",
    "data_normal.set_index((i for i in range(data_normal.shape[0])), inplace=True)\n",
    "\n",
    "data_ascus = df[df['bethesda'] == 1].copy()\n",
    "data_ascus.set_index((i for i in range(data_ascus.shape[0])), inplace=True)\n",
    "\n",
    "data_asch = df[df['bethesda'] == 2].copy()\n",
    "data_asch.set_index((i for i in range(data_asch.shape[0])), inplace=True)\n",
    "\n",
    "data_lsil = df[df['bethesda'] == 3].copy()\n",
    "data_lsil.set_index((i for i in range(data_lsil.shape[0])), inplace=True)\n",
    "\n",
    "data_hsil = df[df['bethesda'] == 4].copy()\n",
    "data_hsil.set_index((i for i in range(data_hsil.shape[0])), inplace=True)\n",
    "\n",
    "data_car = df[df['bethesda'] == 5].copy()\n",
    "data_car.set_index((i for i in range(data_car.shape[0])), inplace=True)\n",
    "\n",
    "print(\"--- Totais por classe --- \")               \n",
    "print(\"Normal...: \", data_normal.values.shape[0])               \n",
    "print(\"ASC-Us...: \", data_ascus.values.shape[0])               \n",
    "print(\"ASC-H....: \", data_asch.values.shape[0])               \n",
    "print(\"LSIL.....: \", data_lsil.values.shape[0])               \n",
    "print(\"HSIL.....: \", data_hsil.values.shape[0])               \n",
    "print(\"Carcinoma: \", data_car.values.shape[0]) \n",
    " "
   ]
  },
  {
   "cell_type": "markdown",
   "id": "f691be4b",
   "metadata": {},
   "source": [
    "#### Separa dados para classificação binária (normal vs anormal):"
   ]
  },
  {
   "cell_type": "code",
   "execution_count": 312,
   "id": "774dccaf",
   "metadata": {},
   "outputs": [],
   "source": [
    "# Lista para filtro de FEATURES para o modelo:\n",
    "features_all = get_list_feature_labels(N_EFD_COEFFS)\n",
    "\n",
    "features_all_desc = 'All metrics'\n",
    "features_c = ['areaC', 'periC','maxAxC', 'minAxC','compacC', 'circuC', 'convexC', 'ratio_NC', \n",
    "              'ratio_NC_per', 'dist_to_border_c'] \n",
    "features_c_desc = 'Cyto metrics,ratios N/C, dist'\n",
    "features_n = ['areaN', 'periN','maxAxN', 'minAxN','compacN', 'circuN', 'convexN',  'ratio_NC', \n",
    "              'ratio_NC_per', 'dist_to_border_c'] \n",
    "features_n_desc = 'Nucleos metrics,ratios N/C, dist'\n",
    "\n",
    "features_efdN = ['efdN'+str(i) for i in range(1,38)]\n",
    "features_efdC = ['efdC'+str(i) for i in range(1,38)]\n",
    "features_efd = features_efdN +  features_efdC\n"
   ]
  },
  {
   "cell_type": "code",
   "execution_count": 164,
   "id": "e110ae3f",
   "metadata": {},
   "outputs": [
    {
     "name": "stdout",
     "output_type": "stream",
     "text": [
      "Nº de features: 200\n",
      " ['areaN', 'eccenN', 'extentN', 'periN', 'maxAxN', 'minAxN', 'compacN', 'circuN', 'convexN', 'hAreaN', 'solidN', 'equidiaN', 'elonN', 'sdnrlN', 'raN', 'riN', 'eN', 'kN', 'mrdN', 'ardN', 'fdN', 'efdN1', 'efdN2', 'efdN3', 'efdN4', 'efdN5', 'efdN6', 'efdN7', 'efdN8', 'efdN9', 'efdN10', 'efdN11', 'efdN12', 'efdN13', 'efdN14', 'efdN15', 'efdN16', 'efdN17', 'efdN18', 'efdN19', 'efdN20', 'efdN21', 'efdN22', 'efdN23', 'efdN24', 'efdN25', 'efdN26', 'efdN27', 'efdN28', 'efdN29', 'efdN30', 'efdN31', 'efdN32', 'efdN33', 'efdN34', 'efdN35', 'efdN36', 'efdN37', 'efdN38', 'efdN39', 'efdN40', 'efdN41', 'efdN42', 'efdN43', 'efdN44', 'efdN45', 'efdN46', 'efdN47', 'efdN48', 'efdN49', 'efdN50', 'efdN51', 'efdN52', 'efdN53', 'efdN54', 'efdN55', 'efdN56', 'efdN57', 'efdN58', 'efdN59', 'efdN60', 'efdN61', 'efdN62', 'efdN63', 'efdN64', 'efdN65', 'efdN66', 'efdN67', 'efdN68', 'efdN69', 'efdN70', 'efdN71', 'efdN72', 'efdN73', 'efdN74', 'efdN75', 'efdN76', 'efdN77', 'areaC', 'eccenC', 'extentC', 'periC', 'maxAxC', 'minAxC', 'compacC', 'circuC', 'convexC', 'hAreaC', 'solidC', 'equidiaC', 'elonC', 'sdnrlC', 'raC', 'riC', 'eC', 'kC', 'mrdC', 'ardC', 'fdC', 'efdC1', 'efdC2', 'efdC3', 'efdC4', 'efdC5', 'efdC6', 'efdC7', 'efdC8', 'efdC9', 'efdC10', 'efdC11', 'efdC12', 'efdC13', 'efdC14', 'efdC15', 'efdC16', 'efdC17', 'efdC18', 'efdC19', 'efdC20', 'efdC21', 'efdC22', 'efdC23', 'efdC24', 'efdC25', 'efdC26', 'efdC27', 'efdC28', 'efdC29', 'efdC30', 'efdC31', 'efdC32', 'efdC33', 'efdC34', 'efdC35', 'efdC36', 'efdC37', 'efdC38', 'efdC39', 'efdC40', 'efdC41', 'efdC42', 'efdC43', 'efdC44', 'efdC45', 'efdC46', 'efdC47', 'efdC48', 'efdC49', 'efdC50', 'efdC51', 'efdC52', 'efdC53', 'efdC54', 'efdC55', 'efdC56', 'efdC57', 'efdC58', 'efdC59', 'efdC60', 'efdC61', 'efdC62', 'efdC63', 'efdC64', 'efdC65', 'efdC66', 'efdC67', 'efdC68', 'efdC69', 'efdC70', 'efdC71', 'efdC72', 'efdC73', 'efdC74', 'efdC75', 'efdC76', 'efdC77', 'ratio_NC', 'ratio_NC_per', 'ratio_NC_hArea', 'nucleus_position']\n"
     ]
    }
   ],
   "source": [
    "features = features_all\n",
    "features_desc = features_all_desc \n",
    "print(f'Nº de features: {len(features)}\\n', features)"
   ]
  },
  {
   "cell_type": "markdown",
   "id": "a02b81cb",
   "metadata": {},
   "source": [
    "### Seleção de características:"
   ]
  },
  {
   "cell_type": "code",
   "execution_count": 165,
   "id": "68bc3fe7",
   "metadata": {},
   "outputs": [
    {
     "data": {
      "text/plain": [
       "((3233, 203), 200)"
      ]
     },
     "execution_count": 165,
     "metadata": {},
     "output_type": "execute_result"
    }
   ],
   "source": [
    "N_FEATURES = 30   # number of selected features\n",
    "df.shape, len(get_list_feature_labels(n_efd_coeffs=20))"
   ]
  },
  {
   "cell_type": "code",
   "execution_count": 313,
   "id": "eab53e51",
   "metadata": {},
   "outputs": [],
   "source": [
    "### FEATURES SELECTION: \"Simultaneous Perturbation Stochastic Approximation (SPSA) for feature selection and ranking\" \n",
    "# Fonte: An implementation of feature selection and ranking via SPSA based on the article \"K-best feature selection and ranking via stochastic approximation\"(https://www.sciencedirect.com/science/article/abs/pii/S0957417422018826) \n",
    "# Código: https://github.com/akmand/spFSR.git\n",
    "def features_selection_spfsr(data_normal, data_ascus, data_lsil, data_asch, \n",
    "                             data_hsil,data_car, n_normal=(77*5), n_ascus=77,\n",
    "                             n_lsil=77, n_asch=77, n_hsil=77, n_car=77, \n",
    "                             N_FEATURES = 20):\n",
    "\n",
    "    # All features list (without coluns: 'image_id', 'cell_id', 'bethesda'):\n",
    "    features = get_list_feature_labels(N_EFD_COEFFS) \n",
    "    data =  pd.DataFrame(data=np.vstack([\n",
    "                                      data_normal.loc[sample(range(0, data_normal.shape[0]), n_normal)].values,\n",
    "                                      data_ascus.loc[sample(range(0, data_ascus.shape[0]), n_ascus)].values,\n",
    "                                      data_asch.loc[sample(range(0, data_asch.shape[0]), n_asch)].values,\n",
    "                                      data_lsil.loc[sample(range(0, data_lsil.shape[0]), n_lsil)].values, \n",
    "                                      data_hsil.loc[sample(range(0, data_hsil.shape[0]), n_hsil)].values,\n",
    "                                      data_car.loc[sample(range(0, data_car.shape[0]), n_car)].values]), \n",
    "                                     columns = data_car.columns) \n",
    "    data_x = np.concatenate([data[features].values])\n",
    "    data_y = data['bethesda'].values\n",
    "    \n",
    "    # pred_type needs to be 'c' for classification and 'r' for regression datasets\n",
    "    sp_engine = SpFSR(x=data_x, y=data_y, pred_type='c', wrapper=None, scoring='accuracy')\n",
    "    \n",
    "    np.random.seed(999)\n",
    "    sp_output = sp_engine.run(num_features=0).results    \n",
    "\n",
    "    fs_indices_spfsr = sp_output.get('selected_features')\n",
    "    \n",
    "    best_features_spfsr = np.array(features)[fs_indices_spfsr]\n",
    "    feature_importances_spfsr = sp_output.get('selected_ft_importance')\n",
    "    return(best_features_spfsr, feature_importances_spfsr)\n",
    "\n",
    "\n",
    "                             \n",
    "\n",
    "### FEATURES SELECTION: método Mutual Information\n",
    "def features_selection_mi(data_normal, data_ascus, data_lsil, data_asch, \n",
    "                       data_hsil,data_car, n_normal=(77*5), n_ascus=77,\n",
    "                       n_lsil=77, n_asch=77, n_hsil=77, n_car=77, \n",
    "                       N_FEATURES = 20):\n",
    "    \n",
    "    # All features list:\n",
    "    features = get_list_feature_labels(N_EFD_COEFFS) \n",
    "    \n",
    "    aux = [0.0 for i in features]\n",
    "    features_importances = dict(zip(features, aux))\n",
    "    #Repete seleção com novo sorteio de dados\n",
    "    for i in list(range(30)):\n",
    "        sorted_idx_Normal = sample(range(0, data_normal.shape[0]), n_normal)\n",
    "        sorted_idx_Normal.sort()\n",
    "\n",
    "        '''data =  pd.DataFrame(data=np.vstack([\n",
    "                                  data_normal.loc[sorted_idx_Normal].values,\n",
    "                                  data_ascus.loc[sample(range(0, data_ascus.shape[0]), n_ascus)].values,\n",
    "                                  data_asch.loc[sample(range(0, data_asch.shape[0]), n_asch)].values,\n",
    "                                  data_lsil.loc[sample(range(0, data_lsil.shape[0]), n_lsil)].values, \n",
    "                                  data_hsil.loc[sample(range(0, data_hsil.shape[0]), n_hsil)].values,\n",
    "                                  data_car.loc[sample(range(0, data_car.shape[0]), n_car)].values]), \n",
    "                                 columns = data_car.columns)\n",
    "        ''' \n",
    "        data =  pd.DataFrame(data=np.vstack([\n",
    "                                  data_normal.values,\n",
    "                                  data_ascus.values,\n",
    "                                  data_asch.values,\n",
    "                                  data_lsil.values, \n",
    "                                  data_hsil.values,\n",
    "                                  data_car.values]), \n",
    "                                 columns = data_car.columns)\n",
    "        \n",
    "        data_x = np.concatenate([data[features].values])\n",
    "        data_y = data['bethesda'].values\n",
    "         \n",
    "        #for i in range(data_x.shape[0]):\n",
    "        #    data_y[i] = 0 if data_y[i]==0 else 1\n",
    "        \n",
    "        ## Feature Selection using Mutual Info  \n",
    "        fs_fit_mutual_info = fs.SelectKBest(fs.mutual_info_classif, k=N_FEATURES)\n",
    "        fs_fit_mutual_info.fit_transform(data_x, data_y)\n",
    "\n",
    "        # ordena extrai do maior score para o menor entre as n_features mais importantes\n",
    "        fs_indices_mutual_info = np.argsort(fs_fit_mutual_info.scores_)[::-1][0:N_FEATURES] # extrai do maior score para o menor entre as 10 features mais importantes\n",
    "        best_features_mutual_info = data[features].columns[fs_indices_mutual_info].values\n",
    "        feature_importances_mutual_info = fs_fit_mutual_info.scores_[fs_indices_mutual_info]\n",
    "        \n",
    "        #contabiliza estatísticas:\n",
    "        for feature, score in zip(best_features_mutual_info,              \n",
    "                                  feature_importances_mutual_info):\n",
    "            features_importances[feature] = (features_importances[feature] + score)\n",
    "            #print(feature, score, features_importances[feature])\n",
    "             \n",
    "     \n",
    "    features_importances_tuples = sorted(features_importances.items(), key=lambda item:item[1], reverse=True)\n",
    "    best_features_mutual_info = []\n",
    "    feature_importances_mutual_info = []\n",
    "    for i in list(range(N_FEATURES)):\n",
    "        best_features_mutual_info.append(features_importances_tuples[i][0])\n",
    "        feature_importances_mutual_info.append(features_importances_tuples[i][1]/30)\n",
    "\n",
    "    best_features_MI = np.asarray(best_features_mutual_info)\n",
    "    feature_importances_MI = np.asarray(feature_importances_mutual_info, dtype = np.float32)    \n",
    "    return (best_features_MI, feature_importances_MI)\n",
    "\n",
    "## Feature Selection using Random Forest:\n",
    "#model_rfi = RandomForestClassifier(n_estimators=100)\n",
    "#model_rfi.fit(data_x, data_y)\n",
    "#fs_indices_rfi = np.argsort(model_rfi.feature_importances_)[::-1][0:N_FEATURES]\n",
    "#best_features_rfi = df.columns[fs_indices_rfi].values\n",
    "#feature_importances_rfi = model_rfi.feature_importances_[fs_indices_rfi]\n",
    "#best_features_rfi, feature_importances_rfi "
   ]
  },
  {
   "cell_type": "code",
   "execution_count": 314,
   "id": "43badedc",
   "metadata": {},
   "outputs": [
    {
     "name": "stderr",
     "output_type": "stream",
     "text": [
      "SpFSR-INFO: Wrapper: RandomForestClassifier(class_weight='balanced_subsample', n_estimators=5,\n",
      "                       random_state=1)\n",
      "SpFSR-INFO: Hot start: True\n",
      "SpFSR-INFO: Hot start range: 0.2\n",
      "SpFSR-INFO: Feature weighting: False\n",
      "SpFSR-INFO: Scoring metric: accuracy\n",
      "SpFSR-INFO: Number of jobs: 1\n",
      "SpFSR-INFO: Number of observations in the dataset: 462\n",
      "SpFSR-INFO: Number of observations used: 462\n",
      "SpFSR-INFO: Number of features available: 200\n",
      "SpFSR-INFO: Number of features to select: 0\n",
      "SpFSR-INFO: iter_no: 0, num_ft: 6, value: 0.53, st_dev: 0.042, best: 0.53 @ iter_no 0\n",
      "SpFSR-INFO: iter_no: 10, num_ft: 24, value: 0.56, st_dev: 0.042, best: 0.591 @ iter_no 3\n",
      "SpFSR-INFO: iter_no: 20, num_ft: 27, value: 0.532, st_dev: 0.055, best: 0.591 @ iter_no 3\n",
      "SpFSR-INFO: iter_no: 30, num_ft: 25, value: 0.529, st_dev: 0.042, best: 0.591 @ iter_no 3\n",
      "SpFSR-INFO: ===> iter_no: 37, iteration stall limit reached, initializing search...\n",
      "SpFSR-INFO: iter_no: 40, num_ft: 7, value: 0.542, st_dev: 0.038, best: 0.591 @ iter_no 3\n",
      "SpFSR-INFO: iter_no: 50, num_ft: 14, value: 0.561, st_dev: 0.055, best: 0.591 @ iter_no 3\n",
      "SpFSR-INFO: iter_no: 60, num_ft: 19, value: 0.549, st_dev: 0.046, best: 0.591 @ iter_no 3\n",
      "SpFSR-INFO: iter_no: 70, num_ft: 25, value: 0.561, st_dev: 0.036, best: 0.591 @ iter_no 3\n",
      "SpFSR-INFO: ===> iter_no: 71, iteration stall limit reached, initializing search...\n",
      "SpFSR-INFO: iter_no: 80, num_ft: 25, value: 0.564, st_dev: 0.041, best: 0.591 @ iter_no 3\n",
      "SpFSR-INFO: iter_no: 90, num_ft: 33, value: 0.547, st_dev: 0.06, best: 0.591 @ iter_no 3\n",
      "SpFSR-INFO: iter_no: 100, num_ft: 36, value: 0.543, st_dev: 0.054, best: 0.591 @ iter_no 3\n",
      "SpFSR-INFO: SpFSR completed in 1.71 minutes.\n",
      "SpFSR-INFO: Best value = 0.591 with 17 features and 100 total iterations.\n",
      "\n"
     ]
    }
   ],
   "source": [
    "best_features_spfsr, feature_importances_spfsr = features_selection_spfsr(data_normal, data_ascus, \n",
    "                       data_lsil, data_asch, data_hsil,data_car,\n",
    "                       n_normal=(77), n_ascus=77,\n",
    "                       n_lsil=77, n_asch=77, n_hsil=77, n_car=77, \n",
    "                       N_FEATURES = N_FEATURES)"
   ]
  },
  {
   "cell_type": "code",
   "execution_count": 315,
   "id": "1a823a4e",
   "metadata": {},
   "outputs": [
    {
     "data": {
      "text/plain": [
       "(17,\n",
       " array(['areaC', 'ratio_NC', 'circuC', 'efdN35', 'maxAxC', 'eccenN',\n",
       "        'efdC77', 'compacN', 'areaN', 'ratio_NC_per', 'periN', 'mrdN',\n",
       "        'efdC20', 'fdN', 'riC', 'sdnrlN', 'efdC19'], dtype='<U16'),\n",
       " array([0.16111784, 0.15754283, 0.1449675 , 0.13752989, 0.12645245,\n",
       "        0.1116689 , 0.08742834, 0.07746205, 0.05930839, 0.05417952,\n",
       "        0.05261543, 0.04844357, 0.04166836, 0.03651921, 0.03092116,\n",
       "        0.02750333, 0.00675286]))"
      ]
     },
     "execution_count": 315,
     "metadata": {},
     "output_type": "execute_result"
    }
   ],
   "source": [
    "len(best_features_spfsr), best_features_spfsr, feature_importances_spfsr,  "
   ]
  },
  {
   "cell_type": "code",
   "execution_count": 316,
   "id": "7d597986",
   "metadata": {},
   "outputs": [],
   "source": [
    " best_features_MI, feature_importances_MI = features_selection_mi(data_normal, data_ascus, \n",
    "                       data_lsil, data_asch, data_hsil,data_car,\n",
    "                       n_normal=(77*5), n_ascus=77,\n",
    "                       n_lsil=77, n_asch=77, n_hsil=77, n_car=77, \n",
    "                       N_FEATURES = N_FEATURES)"
   ]
  },
  {
   "cell_type": "code",
   "execution_count": 317,
   "id": "da14e99e",
   "metadata": {},
   "outputs": [
    {
     "data": {
      "text/plain": [
       "(30,\n",
       " array(['ratio_NC', 'ratio_NC_hArea', 'ratio_NC_per', 'areaC', 'periC',\n",
       "        'ardC', 'equidiaC', 'fdC', 'mrdC', 'hAreaC', 'maxAxC', 'eC', 'riC',\n",
       "        'minAxC', 'circuC', 'compacC', 'mrdN', 'eN', 'periN', 'maxAxN',\n",
       "        'ardN', 'fdN', 'hAreaN', 'equidiaN', 'areaN', 'riN', 'minAxN',\n",
       "        'circuN', 'compacN', 'nucleus_position'], dtype='<U16'),\n",
       " array([0.8664991 , 0.8545803 , 0.85398936, 0.6736025 , 0.6306038 ,\n",
       "        0.61459714, 0.61153287, 0.6097865 , 0.6094878 , 0.6074077 ,\n",
       "        0.599853  , 0.5980175 , 0.57883894, 0.5450592 , 0.5355268 ,\n",
       "        0.5354997 , 0.39741886, 0.38308114, 0.3806348 , 0.37675977,\n",
       "        0.3749906 , 0.34729162, 0.3468089 , 0.32985318, 0.32880154,\n",
       "        0.3259726 , 0.24856721, 0.1891244 , 0.18882312, 0.14452182],\n",
       "       dtype=float32))"
      ]
     },
     "execution_count": 317,
     "metadata": {},
     "output_type": "execute_result"
    }
   ],
   "source": [
    "len(best_features_MI), best_features_MI, feature_importances_MI,  "
   ]
  },
  {
   "cell_type": "code",
   "execution_count": 318,
   "id": "a75c9bc3",
   "metadata": {},
   "outputs": [
    {
     "data": {
      "image/png": "[encoded data removed]",
      "text/plain": [
       "<Figure size 1080x504 with 2 Axes>"
      ]
     },
     "metadata": {
      "needs_background": "light"
     },
     "output_type": "display_data"
    }
   ],
   "source": [
    "#best_features_spfsr\n",
    "plot_imp(best_features_MI, feature_importances_MI, 'Mutual Information', \n",
    "         best_features_spfsr, feature_importances_spfsr, 'Simultaneous Perturbation-FSR') # "
   ]
  },
  {
   "cell_type": "code",
   "execution_count": 319,
   "id": "6ae5b901",
   "metadata": {},
   "outputs": [],
   "source": [
    "#Monta base (data_X e data_y):\n",
    "def get_database_features_filtered(data_normal, data_ascus, \n",
    "                       data_lsil, data_asch, data_hsil,data_car,\n",
    "                       features_selected, n_normal=77, n_ascus=77,\n",
    "                       n_lsil=77, n_asch=77, n_hsil=77, n_car=77,\n",
    "                       grouped='binary'):\n",
    "\n",
    " \n",
    "    data =  pd.DataFrame(data=np.vstack([\n",
    "                          data_normal.loc[sample(range(0, data_normal.shape[0]), n_normal)].values,\n",
    "                          data_ascus.loc[sample(range(0, data_ascus.shape[0]), n_ascus)].values,\n",
    "                          data_asch.loc[sample(range(0, data_asch.shape[0]), n_asch)].values,\n",
    "                          data_lsil.loc[sample(range(0, data_lsil.shape[0]), n_lsil)].values, \n",
    "                          data_hsil.loc[sample(range(0, data_hsil.shape[0]), n_hsil)].values,\n",
    "                          data_car.loc[sample(range(0, data_car.shape[0]), n_car)].values]), \n",
    "                         columns = data_car.columns)\n",
    "    image_cells_ids= data[['image_id', 'cell_id']] \n",
    "\n",
    "    data_x = np.concatenate([data[best_features_spfsr].values])\n",
    "    data_y = data['bethesda'].values\n",
    "    if grouped == 'binary':\n",
    "        for i in range(data_x.shape[0]):\n",
    "           data_y[i] = 0 if y[i]==0 else 1\n",
    "    elif grouped == 'ternary':    \n",
    "        for i in range(data_x.shape[0]):\n",
    "          if data_y[i] == 3:  ##Lsil\n",
    "             data_y[i] = 1\n",
    "          elif (data_y[i] == 4 or data_y[i] == 5):  ##HSIl e Car\n",
    "                data_y[i] = 2 \n",
    "    return data_x, data_y, image_cells_ids"
   ]
  },
  {
   "cell_type": "code",
   "execution_count": 199,
   "id": "eee67e80",
   "metadata": {},
   "outputs": [],
   "source": [
    "## Monda base para classificação (binária)\n",
    "data_x, data_y, image_cells_ids= get_database_features_filtered(data_normal, data_ascus, \n",
    "                       data_lsil, data_asch, data_hsil,data_car,\n",
    "                       best_features_spfsr, n_normal=(77*5), n_ascus=77,\n",
    "                       n_lsil=77, n_asch=77, n_hsil=77, n_car=77,\n",
    "                       grouped='binary')\n"
   ]
  },
  {
   "cell_type": "code",
   "execution_count": 200,
   "id": "d0f3e593",
   "metadata": {},
   "outputs": [
    {
     "data": {
      "text/plain": [
       "((770, 37), (770,), (770, 2))"
      ]
     },
     "execution_count": 200,
     "metadata": {},
     "output_type": "execute_result"
    }
   ],
   "source": [
    "data_x.shape, data_y.shape, image_cells_ids.shape"
   ]
  },
  {
   "cell_type": "markdown",
   "id": "2eecb219",
   "metadata": {},
   "source": [
    "### Cross-validation:  Normal vs Anormal"
   ]
  },
  {
   "cell_type": "code",
   "execution_count": 201,
   "id": "bb684535",
   "metadata": {},
   "outputs": [],
   "source": [
    "labels_list = []\n",
    "conf_matrix_list = []\n",
    "roc_curve_list = []\n",
    "\n",
    "# Data_frame de resultados\n",
    "results = pd.DataFrame(columns=['Tipo', 'Model', 'Features', 'Acurácia', 'Precisão', 'Sensibil' , 'Falso Pos', 'Especif', 'F1_measure'])\n",
    "lin= 0  ## linha inicial para inclusão no dataframe results\n",
    "classifiers = ['SVM', 'RF', 'XGBoost']\n",
    "ci = 0"
   ]
  },
  {
   "cell_type": "code",
   "execution_count": 204,
   "id": "9e8a034b",
   "metadata": {},
   "outputs": [],
   "source": [
    "# Se lected features\n",
    "#features_selected = fs_indices_mutual_info  \n",
    "features_desc= str(N_FEATURES)+\" features selected by MI\"  \n",
    "N_SPLITS = 10 \n",
    "\n",
    "# Executa cross-validation e mostra curvas ROC\n",
    "cv = StratifiedKFold(n_splits= N_SPLITS)\n",
    "\n",
    "accs = precs = recs = specs = f1_scores = aucs = np.zeros((N_SPLITS), dtype = np.float64)\n",
    "tprs = []\n",
    "mean_fpr = np.linspace(0, 1, 100)\n",
    "\n",
    "preds_y = np.zeros_like(data_y)\n",
    "\n",
    "## Ajusta features para treino e teste\n",
    "#X = data_x[:,fs_indices_mutual_info]\n",
    "X = data_x \n",
    "\n",
    "model = getModel(classifier = classifiers[ci], class_type = 'binary')\n",
    "for i, (train, test) in enumerate(cv.split(X, data_y)):\n",
    "    # Ajusta modelo:\n",
    "    model.fit(X[train], data_y[train])    \n",
    "    \n",
    "    # Predição:\n",
    "    pred_y = model.predict(X[test])\n",
    "    prob_y = model.predict_proba(X[test])\n",
    "    \n",
    "    #Registra predições:\n",
    "    preds_y[test] = pred_y\n",
    "    \n",
    "    # Calcula e registra métricas p/ fold:\n",
    "    accs[i] = calc_metric(data_y[test], pred_y, metric_type='acc')\n",
    "    precs[i] = calc_metric(data_y[test], pred_y, metric_type='prec')                \n",
    "    recs[i] = calc_metric(data_y[test], pred_y, metric_type='rec')                \n",
    "    specs[i] = calc_metric(data_y[test], pred_y, metric_type='spec')                \n",
    "    f1_scores[i] = calc_metric(data_y[test], pred_y, metric_type='f1_score')                \n",
    "       \n",
    "    # Calcula curva_roc e AUC:\n",
    "    prob = prob_y[:, 1]\n",
    "    fpr, tpr, thresholds = roc_curve(data_y[test], prob)\n",
    "    interp_tpr = np.interp(mean_fpr, fpr, tpr)\n",
    "    interp_tpr[0] = 0.0\n",
    "    tprs.append(interp_tpr)\n",
    "    aucs[i]= auc(mean_fpr, interp_tpr)\n",
    "                     \n",
    "## Registra resultados (dataframe):\n",
    "metrics = {'acc': np.mean(accs), 'prec': np.mean(precs), 'rec': np.mean(recs), \n",
    "           'spec': np.mean(specs), 'f1_score': np.mean(f1_scores)}                                      \n",
    "fill_line_metrics_CV(classifiers[ci], features_desc, lin, metrics, results, class_type='binary')\n",
    "\n",
    "# Calcula e registra curva ROC (média CV)\n",
    "mean_tpr = np.mean(tprs, axis=0)\n",
    "mean_tpr[-1] = 1.0\n",
    "mean_auc = auc(mean_fpr, mean_tpr)\n",
    "std_auc = np.std(aucs)\n",
    "roc_curve_list.append((mean_fpr, mean_tpr))\n",
    "label = r\"Mean ROC (AUC %s= %0.4f $\\pm$ %0.4f)\" % ((classifiers[ci]+\"-binary \"), mean_auc, std_auc)\n",
    "labels_list.append(label)\n",
    "\n",
    "# Acumula Matrizes de confusão:\n",
    "conf_matrix_list.append(make_confusionMatrixDisplay(\n",
    "      data_y, preds_y, labels = [0,1], title=features_desc + \"- \"+classifiers[ci]))\n",
    "\n",
    "lin+= 1\n",
    "ci+= 1                     \n",
    "\n",
    "# Exibe curva ROC para classificador Binário (cross validation)\n",
    "def plot_roc_curve_CV(roc_curve_list, labels_list, title = \"ROC Curve - Normal vs Anormal\"):\n",
    "    fig, ax = plt.subplots(figsize=(9,5))\n",
    "    colors = cycle([\"aqua\", \"darkorange\", \"cornflowerblue\", \"deeppink\", \"navy\", \"darkorange\"])\n",
    "    plt.style.use(\"bmh\")\n",
    "    ax.plot([0, 1], [0, 1], linestyle=\"--\", lw=2, color=\"r\", label=\"Chance\", alpha=0.8)\n",
    "    for i,color in zip(range(len(roc_curve_list)), colors):\n",
    "        ax.plot(\n",
    "            roc_curve_list[i][0],\n",
    "            roc_curve_list[i][1],\n",
    "            color=color,\n",
    "            label=labels_list[i],\n",
    "            lw=2,\n",
    "            alpha=0.8,\n",
    "        )\n",
    " \n",
    "    ax.set(\n",
    "        xlim=[-0.05, 1.05],\n",
    "        ylim=[-0.05, 1.05],\n",
    "        title= title\n",
    "    )\n",
    "    ax.legend(loc=\"lower right\")\n",
    "    plt.show()\n",
    "\n"
   ]
  },
  {
   "cell_type": "code",
   "execution_count": 205,
   "id": "2af31677",
   "metadata": {},
   "outputs": [
    {
     "data": {
      "text/plain": [
       "(3, 3, 3)"
      ]
     },
     "execution_count": 205,
     "metadata": {},
     "output_type": "execute_result"
    }
   ],
   "source": [
    "len(labels_list), len(roc_curve_list), len(conf_matrix_list)"
   ]
  },
  {
   "cell_type": "markdown",
   "id": "fcaa93ac",
   "metadata": {},
   "source": [
    "### Resultados:"
   ]
  },
  {
   "cell_type": "code",
   "execution_count": 206,
   "id": "b6da3d26",
   "metadata": {},
   "outputs": [
    {
     "data": {
      "image/png": "[encoded data removed]",
      "text/plain": [
       "<Figure size 648x360 with 1 Axes>"
      ]
     },
     "metadata": {
      "needs_background": "light"
     },
     "output_type": "display_data"
    },
    {
     "data": {
      "text/html": [
       "<div>\n",
       "<style scoped>\n",
       "    .dataframe tbody tr th:only-of-type {\n",
       "        vertical-align: middle;\n",
       "    }\n",
       "\n",
       "    .dataframe tbody tr th {\n",
       "        vertical-align: top;\n",
       "    }\n",
       "\n",
       "    .dataframe thead th {\n",
       "        text-align: right;\n",
       "    }\n",
       "</style>\n",
       "<table border=\"1\" class=\"dataframe\">\n",
       "  <thead>\n",
       "    <tr style=\"text-align: right;\">\n",
       "      <th></th>\n",
       "      <th>Tipo</th>\n",
       "      <th>Model</th>\n",
       "      <th>Features</th>\n",
       "      <th>Acurácia</th>\n",
       "      <th>Precisão</th>\n",
       "      <th>Sensibil</th>\n",
       "      <th>Falso Pos</th>\n",
       "      <th>Especif</th>\n",
       "      <th>F1_measure</th>\n",
       "    </tr>\n",
       "  </thead>\n",
       "  <tbody>\n",
       "    <tr>\n",
       "      <th>0</th>\n",
       "      <td>binary</td>\n",
       "      <td>SVM</td>\n",
       "      <td>30 features selected by MI</td>\n",
       "      <td>0.9582</td>\n",
       "      <td>0.9582</td>\n",
       "      <td>0.9582</td>\n",
       "      <td>0.0418</td>\n",
       "      <td>0.9582</td>\n",
       "      <td>0.9582</td>\n",
       "    </tr>\n",
       "    <tr>\n",
       "      <th>1</th>\n",
       "      <td>binary</td>\n",
       "      <td>RF</td>\n",
       "      <td>30 features selected by MI</td>\n",
       "      <td>0.9679</td>\n",
       "      <td>0.9679</td>\n",
       "      <td>0.9679</td>\n",
       "      <td>0.0321</td>\n",
       "      <td>0.9679</td>\n",
       "      <td>0.9679</td>\n",
       "    </tr>\n",
       "    <tr>\n",
       "      <th>2</th>\n",
       "      <td>binary</td>\n",
       "      <td>XGBoost</td>\n",
       "      <td>30 features selected by MI</td>\n",
       "      <td>0.9709</td>\n",
       "      <td>0.9709</td>\n",
       "      <td>0.9709</td>\n",
       "      <td>0.0291</td>\n",
       "      <td>0.9709</td>\n",
       "      <td>0.9709</td>\n",
       "    </tr>\n",
       "  </tbody>\n",
       "</table>\n",
       "</div>"
      ],
      "text/plain": [
       "     Tipo    Model                    Features Acurácia Precisão Sensibil  \\\n",
       "0  binary      SVM  30 features selected by MI   0.9582   0.9582   0.9582   \n",
       "1  binary       RF  30 features selected by MI   0.9679   0.9679   0.9679   \n",
       "2  binary  XGBoost  30 features selected by MI   0.9709   0.9709   0.9709   \n",
       "\n",
       "  Falso Pos Especif F1_measure  \n",
       "0    0.0418  0.9582     0.9582  \n",
       "1    0.0321  0.9679     0.9679  \n",
       "2    0.0291  0.9709     0.9709  "
      ]
     },
     "execution_count": 206,
     "metadata": {},
     "output_type": "execute_result"
    }
   ],
   "source": [
    "plot_roc_curve_CV(roc_curve_list, labels_list, title = \"Normal vs Anormal\")\n",
    "results\n"
   ]
  },
  {
   "cell_type": "markdown",
   "id": "e7e5b97f",
   "metadata": {},
   "source": [
    "#### Matrizes de confução"
   ]
  },
  {
   "cell_type": "code",
   "execution_count": 207,
   "id": "e7871319",
   "metadata": {
    "scrolled": false
   },
   "outputs": [
    {
     "data": {
      "text/plain": [
       "<Figure size 432x288 with 0 Axes>"
      ]
     },
     "metadata": {},
     "output_type": "display_data"
    },
    {
     "data": {
      "image/png": "[encoded data removed]",
      "text/plain": [
       "<Figure size 432x288 with 2 Axes>"
      ]
     },
     "metadata": {
      "needs_background": "light"
     },
     "output_type": "display_data"
    },
    {
     "data": {
      "image/png": "[encoded data removed]",
      "text/plain": [
       "<Figure size 432x288 with 2 Axes>"
      ]
     },
     "metadata": {
      "needs_background": "light"
     },
     "output_type": "display_data"
    },
    {
     "data": {
      "image/png": "[encoded data removed]",
      "text/plain": [
       "<Figure size 432x288 with 2 Axes>"
      ]
     },
     "metadata": {
      "needs_background": "light"
     },
     "output_type": "display_data"
    },
    {
     "data": {
      "text/plain": [
       "<Figure size 432x288 with 0 Axes>"
      ]
     },
     "metadata": {},
     "output_type": "display_data"
    }
   ],
   "source": [
    "#%matplotlib inline    \n",
    "\n",
    "plt.figure(figsize=(6, 4))   #tupla para tamanho da figura (largura, altura)\n",
    "\n",
    "for i in range(len(conf_matrix_list)):\n",
    "    conf_matrix_list[i][0].plot()\n",
    "    plt.title(conf_matrix_list[i][1])\n",
    "\n",
    "plt.show()\n",
    "plt.tight_layout()    #inclui espaçamento entre os gráficos"
   ]
  },
  {
   "cell_type": "markdown",
   "id": "c79f23f1",
   "metadata": {},
   "source": [
    "### Classificador ternário"
   ]
  },
  {
   "cell_type": "code",
   "execution_count": 216,
   "id": "56929844",
   "metadata": {},
   "outputs": [],
   "source": [
    "# Monta base para classificação (ternária)\n",
    "data_x, data_y, image_cells_ids= get_database_features_filtered(data_normal, data_ascus, \n",
    "                       data_lsil, data_asch, data_hsil,data_car,\n",
    "                       best_features_spfsr, n_normal=154, n_ascus=77,\n",
    "                       n_lsil=77, n_asch=51, n_hsil=51, n_car=52,\n",
    "                       grouped='ternary')\n"
   ]
  },
  {
   "cell_type": "code",
   "execution_count": 217,
   "id": "07727dc0",
   "metadata": {},
   "outputs": [],
   "source": [
    "labels_list = []\n",
    "conf_matrix_list = []\n",
    "roc_curve_list = []\n",
    "\n",
    "# Data_frame de resultados\n",
    "results = pd.DataFrame(columns=['Tipo', 'Model', 'Features', 'Acurácia', 'Precisão', 'Sensibil' , 'Falso Pos', 'Especif', 'F1_measure'])\n",
    "lin= 0  ## linha inicial para inclusão no dataframe results\n",
    "classifiers = ['SVM', 'RF', 'XGBoost']\n",
    "ci = 0"
   ]
  },
  {
   "cell_type": "code",
   "execution_count": 221,
   "id": "5c6fede3",
   "metadata": {},
   "outputs": [],
   "source": [
    "# Se lected features\n",
    "#features_selected = fs_indices_mutual_info  \n",
    "features_desc= str(N_FEATURES)+\" features selected by MI\"  \n",
    "N_SPLITS = 10 \n",
    "\n",
    "# Executa cross-validation e mostra curvas ROC\n",
    "cv = StratifiedKFold(n_splits= N_SPLITS)\n",
    "\n",
    "accs = precs = recs = specs = f1_scores = aucs = np.zeros((N_SPLITS), dtype = np.float64)\n",
    "tprs = []\n",
    "mean_fpr = np.linspace(0, 1, 100)\n",
    "\n",
    "preds_y = np.zeros_like(data_y)\n",
    "\n",
    "## Ajusta features para treino e teste\n",
    "#X = data_x[:,fs_indices_mutual_info]\n",
    "X = data_x \n",
    "\n",
    "model = getModel(classifier = classifiers[ci], class_type = 'multiclass')\n",
    "for i, (train, test) in enumerate(cv.split(X, data_y)):\n",
    "    # Ajusta modelo:\n",
    "    model.fit(X[train], data_y[train])    \n",
    "    \n",
    "    # Predição:\n",
    "    pred_y = model.predict(X[test])\n",
    "    prob_y = model.predict_proba(X[test])\n",
    "    \n",
    "    #Registra predições:\n",
    "    preds_y[test] = pred_y\n",
    "    \n",
    "    # Calcula e registra métricas p/ fold:\n",
    "    accs[i] = calc_metric(data_y[test], pred_y, metric_type='acc', class_type = 'multiclass', classes=[0,1,2])\n",
    "    precs[i] = calc_metric(data_y[test], pred_y, metric_type='prec', class_type = 'multiclass', classes=[0,1,2])                \n",
    "    recs[i] = calc_metric(data_y[test], pred_y, metric_type='rec', class_type = 'multiclass', classes=[0,1,2])                \n",
    "    specs[i] = calc_metric(data_y[test], pred_y, metric_type='spec', class_type = 'multiclass', classes=[0,1,2])                \n",
    "    f1_scores[i] = calc_metric(data_y[test], pred_y, metric_type='f1_score', class_type = 'multiclass', classes=[0,1,2])                \n",
    "       \n",
    "## Registra resultados (dataframe):\n",
    "metrics = {'acc': np.mean(accs), 'prec': np.mean(precs), 'rec': np.mean(recs), \n",
    "           'spec': np.mean(specs), 'f1_score': np.mean(f1_scores)}      \n",
    "\n",
    "fill_line_metrics_CV(classifiers[ci], features_desc, lin, metrics, results, class_type= \"ternary\")\n",
    "\n",
    "# Acumula Matrizes de confusão:\n",
    "conf_matrix_list.append(make_confusionMatrixDisplay(\n",
    "      data_y, preds_y, labels = [0,1,2], title=features_desc + \"- \"+classifiers[ci]))\n",
    "\n",
    "lin+= 1\n",
    "ci+= 1                     \n"
   ]
  },
  {
   "cell_type": "code",
   "execution_count": 222,
   "id": "78b56979",
   "metadata": {},
   "outputs": [
    {
     "data": {
      "text/plain": [
       "(0, 0, 3)"
      ]
     },
     "execution_count": 222,
     "metadata": {},
     "output_type": "execute_result"
    }
   ],
   "source": [
    " len(labels_list), len(roc_curve_list), len(conf_matrix_list)"
   ]
  },
  {
   "cell_type": "code",
   "execution_count": 223,
   "id": "3b1ad3e7",
   "metadata": {},
   "outputs": [
    {
     "data": {
      "text/html": [
       "<div>\n",
       "<style scoped>\n",
       "    .dataframe tbody tr th:only-of-type {\n",
       "        vertical-align: middle;\n",
       "    }\n",
       "\n",
       "    .dataframe tbody tr th {\n",
       "        vertical-align: top;\n",
       "    }\n",
       "\n",
       "    .dataframe thead th {\n",
       "        text-align: right;\n",
       "    }\n",
       "</style>\n",
       "<table border=\"1\" class=\"dataframe\">\n",
       "  <thead>\n",
       "    <tr style=\"text-align: right;\">\n",
       "      <th></th>\n",
       "      <th>Tipo</th>\n",
       "      <th>Model</th>\n",
       "      <th>Features</th>\n",
       "      <th>Acurácia</th>\n",
       "      <th>Precisão</th>\n",
       "      <th>Sensibil</th>\n",
       "      <th>Falso Pos</th>\n",
       "      <th>Especif</th>\n",
       "      <th>F1_measure</th>\n",
       "    </tr>\n",
       "  </thead>\n",
       "  <tbody>\n",
       "    <tr>\n",
       "      <th>0</th>\n",
       "      <td>ternary</td>\n",
       "      <td>SVM</td>\n",
       "      <td>30 features selected by MI</td>\n",
       "      <td>0.9013</td>\n",
       "      <td>0.9013</td>\n",
       "      <td>0.9013</td>\n",
       "      <td>0.0987</td>\n",
       "      <td>0.9013</td>\n",
       "      <td>0.9013</td>\n",
       "    </tr>\n",
       "    <tr>\n",
       "      <th>1</th>\n",
       "      <td>ternary</td>\n",
       "      <td>RF</td>\n",
       "      <td>30 features selected by MI</td>\n",
       "      <td>0.9323</td>\n",
       "      <td>0.9323</td>\n",
       "      <td>0.9323</td>\n",
       "      <td>0.0677</td>\n",
       "      <td>0.9323</td>\n",
       "      <td>0.9323</td>\n",
       "    </tr>\n",
       "    <tr>\n",
       "      <th>2</th>\n",
       "      <td>ternary</td>\n",
       "      <td>XGBoost</td>\n",
       "      <td>30 features selected by MI</td>\n",
       "      <td>0.9237</td>\n",
       "      <td>0.9237</td>\n",
       "      <td>0.9237</td>\n",
       "      <td>0.0763</td>\n",
       "      <td>0.9237</td>\n",
       "      <td>0.9237</td>\n",
       "    </tr>\n",
       "  </tbody>\n",
       "</table>\n",
       "</div>"
      ],
      "text/plain": [
       "      Tipo    Model                    Features Acurácia Precisão Sensibil  \\\n",
       "0  ternary      SVM  30 features selected by MI   0.9013   0.9013   0.9013   \n",
       "1  ternary       RF  30 features selected by MI   0.9323   0.9323   0.9323   \n",
       "2  ternary  XGBoost  30 features selected by MI   0.9237   0.9237   0.9237   \n",
       "\n",
       "  Falso Pos Especif F1_measure  \n",
       "0    0.0987  0.9013     0.9013  \n",
       "1    0.0677  0.9323     0.9323  \n",
       "2    0.0763  0.9237     0.9237  "
      ]
     },
     "execution_count": 223,
     "metadata": {},
     "output_type": "execute_result"
    }
   ],
   "source": [
    "#plot_roc_curve_CV(roc_curve_list, labels_list, title = \"Normal vs ASC-US/LSIL vs ASC-H/HSIL/Car\")\n",
    "results\n"
   ]
  },
  {
   "cell_type": "code",
   "execution_count": 224,
   "id": "ed294f14",
   "metadata": {},
   "outputs": [
    {
     "data": {
      "text/plain": [
       "<Figure size 432x288 with 0 Axes>"
      ]
     },
     "metadata": {},
     "output_type": "display_data"
    },
    {
     "data": {
      "image/png": "[encoded data removed]",
      "text/plain": [
       "<Figure size 432x288 with 2 Axes>"
      ]
     },
     "metadata": {
      "needs_background": "light"
     },
     "output_type": "display_data"
    },
    {
     "data": {
      "image/png": "[encoded data removed]",
      "text/plain": [
       "<Figure size 432x288 with 2 Axes>"
      ]
     },
     "metadata": {
      "needs_background": "light"
     },
     "output_type": "display_data"
    },
    {
     "data": {
      "image/png": "[encoded data removed]",
      "text/plain": [
       "<Figure size 432x288 with 2 Axes>"
      ]
     },
     "metadata": {
      "needs_background": "light"
     },
     "output_type": "display_data"
    },
    {
     "data": {
      "text/plain": [
       "<Figure size 432x288 with 0 Axes>"
      ]
     },
     "metadata": {},
     "output_type": "display_data"
    }
   ],
   "source": [
    "#%matplotlib inline    \n",
    "\n",
    "plt.figure(figsize=(6, 4))   #tupla para tamanho da figura (largura, altura)\n",
    "\n",
    "for i in range(len(conf_matrix_list)):\n",
    "    conf_matrix_list[i][0].plot()\n",
    "    plt.title(conf_matrix_list[i][1])\n",
    "\n",
    "plt.show()\n",
    "plt.tight_layout()    #inclui espaçamento entre os gráficos"
   ]
  },
  {
   "cell_type": "markdown",
   "id": "61ee4984",
   "metadata": {},
   "source": [
    "### Classificação Bethesda:"
   ]
  },
  {
   "cell_type": "code",
   "execution_count": 408,
   "id": "a83408b0",
   "metadata": {},
   "outputs": [],
   "source": [
    "# Monta base para classificação (bethesda)\n",
    "data_x, target_y, image_cells_ids= get_database_features_filtered(data_normal, data_ascus, \n",
    "                       data_lsil, data_asch, data_hsil,data_car,\n",
    "                       best_features_spfsr, \n",
    "                       n_normal=data_normal.shape[0], \n",
    "                       #n_normal=286, \n",
    "                       n_ascus=data_ascus.shape[0],\n",
    "                       #n_ascus=286,\n",
    "                       n_lsil=data_lsil.shape[0], \n",
    "                       #n_lsil= 286,\n",
    "                       n_asch=data_asch.shape[0],\n",
    "                       #n_asch=286,                                       \n",
    "                       n_hsil=data_hsil.shape[0], \n",
    "                       #n_hsil=286,                                         \n",
    "                       n_car=data_car.shape[0],\n",
    "                       #n_car = 77,                                         \n",
    "                       grouped='bethesda')\n"
   ]
  },
  {
   "cell_type": "code",
   "execution_count": 409,
   "id": "7b3fd5f2",
   "metadata": {},
   "outputs": [
    {
     "data": {
      "text/plain": [
       "(30,\n",
       " array([[0.28192663, 0.01152162, 0.9045996 , ..., 0.00524925, 0.20331389,\n",
       "         0.44313208],\n",
       "        [0.10848496, 0.07132191, 0.76903684, ..., 0.00830765, 0.20040047,\n",
       "         0.65738665],\n",
       "        [0.12809235, 0.04354372, 0.89564885, ..., 0.00818884, 0.22137224,\n",
       "         0.6145321 ],\n",
       "        ...,\n",
       "        [0.0055481 , 2.00414938, 0.32666768, ..., 0.01993801, 0.21061931,\n",
       "         0.42361203],\n",
       "        [0.04744818, 0.17227369, 0.84309112, ..., 0.01139606, 0.20350003,\n",
       "         0.44033463],\n",
       "        [0.01004676, 0.76722818, 0.55645307, ..., 0.02271581, 0.20868848,\n",
       "         0.67919235]]))"
      ]
     },
     "execution_count": 409,
     "metadata": {},
     "output_type": "execute_result"
    }
   ],
   "source": [
    "len(best_features_MI), data_x"
   ]
  },
  {
   "cell_type": "code",
   "execution_count": 371,
   "id": "54860358",
   "metadata": {},
   "outputs": [],
   "source": [
    "X_resampled, y_resampled = ADASYN(sampling_strategy='minority').fit_resample(data_x, target_y)"
   ]
  },
  {
   "cell_type": "code",
   "execution_count": 375,
   "id": "7cb80ed6",
   "metadata": {},
   "outputs": [
    {
     "name": "stdout",
     "output_type": "stream",
     "text": [
      "[(0.0, 862), (1.0, 286), (2.0, 536), (3.0, 598), (4.0, 874), (5.0, 887)]\n"
     ]
    }
   ],
   "source": [
    "from collections import Counter\n",
    "print(sorted(Counter(y_resampled).items()))"
   ]
  },
  {
   "cell_type": "code",
   "execution_count": 376,
   "id": "e86f6f83",
   "metadata": {},
   "outputs": [],
   "source": [
    "labels_list = []\n",
    "conf_matrix_list = []\n",
    "roc_curve_list = []\n",
    "\n",
    "# Data_frame de resultados\n",
    "results = pd.DataFrame(columns=['Tipo', 'Model', 'Features', 'Acurácia', 'Precisão', 'Sensibil' , 'Falso Pos', 'Especif', 'F1_measure'])\n",
    "lin= 0  ## linha inicial para inclusão no dataframe results\n",
    "classifiers = ['SVM', 'RF', 'XGBoost']\n",
    "ci = 0"
   ]
  },
  {
   "cell_type": "code",
   "execution_count": 381,
   "id": "970d1b3b",
   "metadata": {},
   "outputs": [],
   "source": [
    "# Se lected features\n",
    "#features_selected = fs_indices_mutual_info  \n",
    "features_desc= str(N_FEATURES)+\" features selected by MI\"  \n",
    "N_SPLITS = 10 \n",
    "\n",
    "# Executa cross-validation e mostra curvas ROC\n",
    "cv = StratifiedKFold(n_splits= N_SPLITS)\n",
    "\n",
    "accs = precs = recs = specs = f1_scores = aucs = np.zeros((N_SPLITS), dtype = np.float64)\n",
    "tprs = []\n",
    "mean_fpr = np.linspace(0, 1, 100)\n",
    "\n",
    "preds_y = np.zeros_like(data_y)\n",
    "\n",
    "## Ajusta features para treino e teste\n",
    "#X = data_x[:,fs_indices_mutual_info]\n",
    "#X = data_x \n",
    "X= X_resampled\n",
    "data_y = y_resampled\n",
    "\n",
    "model = getModel(classifier = classifiers[ci], class_type = 'multiclass')\n",
    "for i, (train, test) in enumerate(cv.split(X, data_y)):\n",
    "    # Ajusta modelo:\n",
    "    model.fit(X[train], data_y[train])    \n",
    "    \n",
    "    # Predição:\n",
    "    pred_y = model.predict(X[test])\n",
    "    prob_y = model.predict_proba(X[test])\n",
    "    \n",
    "    #Registra predições:\n",
    "    preds_y[test] = pred_y\n",
    "    \n",
    "    # Calcula e registra métricas p/ fold:\n",
    "    accs[i] = calc_metric(data_y[test], pred_y, metric_type='acc', class_type = 'multiclass', classes=[0,1,2,3,4,5])\n",
    "    precs[i] = calc_metric(data_y[test], pred_y, metric_type='prec', class_type = 'multiclass', classes=[0,1,2,3,4,5])                \n",
    "    recs[i] = calc_metric(data_y[test], pred_y, metric_type='rec', class_type = 'multiclass', classes=[0,1,2,3,4,5])                \n",
    "    specs[i] = calc_metric(data_y[test], pred_y, metric_type='spec', class_type = 'multiclass', classes=[0,1,2,3,4,5])                \n",
    "    f1_scores[i] = calc_metric(data_y[test], pred_y, metric_type='f1_score', class_type = 'multiclass', classes=[0,1,2,3,4,5])                \n",
    "       \n",
    "## Registra resultados (dataframe):\n",
    "metrics = {'acc': np.mean(accs), 'prec': np.mean(precs), 'rec': np.mean(recs), \n",
    "           'spec': np.mean(specs), 'f1_score': np.mean(f1_scores)}      \n",
    "\n",
    "fill_line_metrics_CV(classifiers[ci], features_desc, lin, metrics, results, class_type= \"ternary\")\n",
    "\n",
    "# Acumula Matrizes de confusão:\n",
    "conf_matrix_list.append(make_confusionMatrixDisplay(\n",
    "      data_y, preds_y, labels = [0,1,2, 3, 4, 5], title=features_desc + \"- \"+classifiers[ci]))\n",
    "\n",
    "lin+= 1\n",
    "ci+= 1                     \n"
   ]
  },
  {
   "cell_type": "code",
   "execution_count": 382,
   "id": "f1e1241d",
   "metadata": {},
   "outputs": [
    {
     "data": {
      "text/plain": [
       "(0, 0, 3)"
      ]
     },
     "execution_count": 382,
     "metadata": {},
     "output_type": "execute_result"
    }
   ],
   "source": [
    " len(labels_list), len(roc_curve_list), len(conf_matrix_list)"
   ]
  },
  {
   "cell_type": "code",
   "execution_count": 383,
   "id": "c59bcf87",
   "metadata": {},
   "outputs": [
    {
     "data": {
      "text/html": [
       "<div>\n",
       "<style scoped>\n",
       "    .dataframe tbody tr th:only-of-type {\n",
       "        vertical-align: middle;\n",
       "    }\n",
       "\n",
       "    .dataframe tbody tr th {\n",
       "        vertical-align: top;\n",
       "    }\n",
       "\n",
       "    .dataframe thead th {\n",
       "        text-align: right;\n",
       "    }\n",
       "</style>\n",
       "<table border=\"1\" class=\"dataframe\">\n",
       "  <thead>\n",
       "    <tr style=\"text-align: right;\">\n",
       "      <th></th>\n",
       "      <th>Tipo</th>\n",
       "      <th>Model</th>\n",
       "      <th>Features</th>\n",
       "      <th>Acurácia</th>\n",
       "      <th>Precisão</th>\n",
       "      <th>Sensibil</th>\n",
       "      <th>Falso Pos</th>\n",
       "      <th>Especif</th>\n",
       "      <th>F1_measure</th>\n",
       "    </tr>\n",
       "  </thead>\n",
       "  <tbody>\n",
       "    <tr>\n",
       "      <th>0</th>\n",
       "      <td>ternary</td>\n",
       "      <td>SVM</td>\n",
       "      <td>30 features selected by MI</td>\n",
       "      <td>0.5184</td>\n",
       "      <td>0.5184</td>\n",
       "      <td>0.5184</td>\n",
       "      <td>0.4816</td>\n",
       "      <td>0.5184</td>\n",
       "      <td>0.5184</td>\n",
       "    </tr>\n",
       "    <tr>\n",
       "      <th>1</th>\n",
       "      <td>ternary</td>\n",
       "      <td>RF</td>\n",
       "      <td>30 features selected by MI</td>\n",
       "      <td>0.7458</td>\n",
       "      <td>0.7458</td>\n",
       "      <td>0.7458</td>\n",
       "      <td>0.2542</td>\n",
       "      <td>0.7458</td>\n",
       "      <td>0.7458</td>\n",
       "    </tr>\n",
       "    <tr>\n",
       "      <th>2</th>\n",
       "      <td>ternary</td>\n",
       "      <td>XGBoost</td>\n",
       "      <td>30 features selected by MI</td>\n",
       "      <td>0.7433</td>\n",
       "      <td>0.7433</td>\n",
       "      <td>0.7433</td>\n",
       "      <td>0.2567</td>\n",
       "      <td>0.7433</td>\n",
       "      <td>0.7433</td>\n",
       "    </tr>\n",
       "  </tbody>\n",
       "</table>\n",
       "</div>"
      ],
      "text/plain": [
       "      Tipo    Model                    Features Acurácia Precisão Sensibil  \\\n",
       "0  ternary      SVM  30 features selected by MI   0.5184   0.5184   0.5184   \n",
       "1  ternary       RF  30 features selected by MI   0.7458   0.7458   0.7458   \n",
       "2  ternary  XGBoost  30 features selected by MI   0.7433   0.7433   0.7433   \n",
       "\n",
       "  Falso Pos Especif F1_measure  \n",
       "0    0.4816  0.5184     0.5184  \n",
       "1    0.2542  0.7458     0.7458  \n",
       "2    0.2567  0.7433     0.7433  "
      ]
     },
     "execution_count": 383,
     "metadata": {},
     "output_type": "execute_result"
    }
   ],
   "source": [
    "results"
   ]
  },
  {
   "cell_type": "code",
   "execution_count": 424,
   "id": "32dceeb8",
   "metadata": {},
   "outputs": [
    {
     "data": {
      "text/plain": [
       "(Counter({0.0: 252, 2.0: 157, 3.0: 180, 4.0: 274, 5.0: 29, 1.0: 78}), (2263,))"
      ]
     },
     "execution_count": 424,
     "metadata": {},
     "output_type": "execute_result"
    }
   ],
   "source": [
    "x_tr, x_t, y_tr, y_t = train_test_split(data_x, target_y, test_size=0.3)\n",
    "Counter(y_t), y_tr.shape"
   ]
  },
  {
   "cell_type": "code",
   "execution_count": 430,
   "id": "a9783db2",
   "metadata": {},
   "outputs": [
    {
     "data": {
      "text/plain": [
       "(946, (970,))"
      ]
     },
     "execution_count": 430,
     "metadata": {},
     "output_type": "execute_result"
    }
   ],
   "source": [
    "calc_metric(y_t, model.predict(x_t), metric_type='rec', class_type = 'multiclass', classes=[0,1,2,3,4,5])\n",
    "x = model.predict(x_t) == y_t\n",
    "sum(x), y_t.shape"
   ]
  },
  {
   "cell_type": "code",
   "execution_count": 431,
   "id": "d47967ca",
   "metadata": {},
   "outputs": [
    {
     "data": {
      "text/plain": [
       "<Figure size 432x288 with 0 Axes>"
      ]
     },
     "metadata": {},
     "output_type": "display_data"
    },
    {
     "data": {
      "image/png": "[encoded data removed]",
      "text/plain": [
       "<Figure size 432x288 with 2 Axes>"
      ]
     },
     "metadata": {
      "needs_background": "light"
     },
     "output_type": "display_data"
    },
    {
     "data": {
      "image/png": "[encoded data removed]",
      "text/plain": [
       "<Figure size 432x288 with 2 Axes>"
      ]
     },
     "metadata": {
      "needs_background": "light"
     },
     "output_type": "display_data"
    },
    {
     "data": {
      "image/png": "[encoded data removed]",
      "text/plain": [
       "<Figure size 432x288 with 2 Axes>"
      ]
     },
     "metadata": {
      "needs_background": "light"
     },
     "output_type": "display_data"
    },
    {
     "data": {
      "text/plain": [
       "<Figure size 432x288 with 0 Axes>"
      ]
     },
     "metadata": {},
     "output_type": "display_data"
    }
   ],
   "source": [
    "#%matplotlib inline    \n",
    "\n",
    "plt.figure(figsize=(6, 4))   #tupla para tamanho da figura (largura, altura)\n",
    "\n",
    "for i in range(len(conf_matrix_list)):\n",
    "    conf_matrix_list[i][0].plot()\n",
    "    plt.title(conf_matrix_list[i][1])\n",
    "\n",
    "plt.show()\n",
    "plt.tight_layout()    #inclui espaçamento entre os gráficos"
   ]
  },
  {
   "cell_type": "code",
   "execution_count": null,
   "id": "fd47585c",
   "metadata": {},
   "outputs": [],
   "source": [
    "# Exibe gráficos boxplot - dist nucleo borda:\n",
    "fig = plt.figure(figsize =(15, 10))\n",
    "ax = fig.add_subplot(111)\n",
    "\n",
    "dist = []\n",
    "num_samples = 77\n",
    "for i in Bethesda_idx_classes.keys():\n",
    "      dist.append(data_x[(0 + i*num_samples):((i+1)*num_samples), 14])\n",
    "\n",
    "ax.boxplot(dist_to_C_border_cells, labels = ['Normal', 'ASC-US', 'ASC-H', 'LSIL','HSIL', 'Invasive Carcinoma'], patch_artist = True,\n",
    "                notch ='True') \n",
    "ax.set_title(\"Proximidade do Núcleo da borda (citoplasma)\")"
   ]
  }
 ],
 "metadata": {
  "kernelspec": {
   "display_name": "Python 3 (ipykernel)",
   "language": "python",
   "name": "python3"
  },
  "language_info": {
   "codemirror_mode": {
    "name": "ipython",
    "version": 3
   },
   "file_extension": ".py",
   "mimetype": "text/x-python",
   "name": "python",
   "nbconvert_exporter": "python",
   "pygments_lexer": "ipython3",
   "version": "3.9.1"
  }
 },
 "nbformat": 4,
 "nbformat_minor": 5
}
