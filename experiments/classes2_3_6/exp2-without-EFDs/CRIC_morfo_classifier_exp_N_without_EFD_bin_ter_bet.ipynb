{
 "cells": [
  {
   "cell_type": "markdown",
   "id": "5b43ab41",
   "metadata": {
    "id": "5b43ab41"
   },
   "source": [
    "## Classificador binário para características morfométricas de núcleo/citoplasma de células cervicais "
   ]
  },
  {
   "cell_type": "code",
   "execution_count": 1,
   "id": "11ewUfNyigk8",
   "metadata": {
    "colab": {
     "base_uri": "https://localhost:8080/"
    },
    "executionInfo": {
     "elapsed": 3697,
     "status": "ok",
     "timestamp": 1670791973957,
     "user": {
      "displayName": "Daniela terra",
      "userId": "04965381838485374853"
     },
     "user_tz": 180
    },
    "id": "11ewUfNyigk8",
    "outputId": "862d1313-5356-4aef-dd16-0ba5116e5edd"
   },
   "outputs": [],
   "source": [
    "#!pip install pyefd"
   ]
  },
  {
   "cell_type": "code",
   "execution_count": 2,
   "id": "X-B1NoeWimkP",
   "metadata": {
    "colab": {
     "base_uri": "https://localhost:8080/"
    },
    "executionInfo": {
     "elapsed": 1996,
     "status": "ok",
     "timestamp": 1670791975942,
     "user": {
      "displayName": "Daniela terra",
      "userId": "04965381838485374853"
     },
     "user_tz": 180
    },
    "id": "X-B1NoeWimkP",
    "outputId": "af0a52d0-6435-4ca6-f1e7-00d725042dc9"
   },
   "outputs": [],
   "source": [
    "#from google.colab import drive\n",
    "#drive.mount('/content/drive')"
   ]
  },
  {
   "cell_type": "code",
   "execution_count": 3,
   "id": "svLI4AxEipXK",
   "metadata": {
    "executionInfo": {
     "elapsed": 21,
     "status": "ok",
     "timestamp": 1670791975945,
     "user": {
      "displayName": "Daniela terra",
      "userId": "04965381838485374853"
     },
     "user_tz": 180
    },
    "id": "svLI4AxEipXK"
   },
   "outputs": [],
   "source": [
    "#import sys\n",
    "#sys.path.insert(0,\"/content/drive/MyDrive/shape_based_CRIC_Hclassifier\")"
   ]
  },
  {
   "cell_type": "code",
   "execution_count": 4,
   "id": "a305bdf2",
   "metadata": {
    "executionInfo": {
     "elapsed": 20,
     "status": "ok",
     "timestamp": 1670791975947,
     "user": {
      "displayName": "Daniela terra",
      "userId": "04965381838485374853"
     },
     "user_tz": 180
    },
    "id": "a305bdf2"
   },
   "outputs": [
    {
     "name": "stderr",
     "output_type": "stream",
     "text": [
      "c:\\python39\\lib\\site-packages\\pkg_resources\\__init__.py:123: PkgResourcesDeprecationWarning: p is an invalid version and will not be supported in a future release\n",
      "  warnings.warn(\n"
     ]
    }
   ],
   "source": [
    "import numpy as np\n",
    "import pandas as pd \n",
    "from math import sqrt\n",
    "import os\n",
    "import sys\n",
    "import csv\n",
    "from collections import Counter\n",
    "from PIL import Image\n",
    "import matplotlib.pyplot as plt\n",
    "from matplotlib.pyplot import imshow \n",
    "from skimage import morphology, measure\n",
    "from skimage.draw import polygon, polygon_perimeter\n",
    "from scipy.spatial.distance import cdist\n",
    "from scipy.stats import kurtosis\n",
    "\n",
    "import pyefd\n",
    "from pyefd import elliptic_fourier_descriptors, normalize_efd\n",
    "\n",
    "from sklearn.metrics import accuracy_score, balanced_accuracy_score\n",
    "from sklearn.metrics import precision_score, recall_score\n",
    "from sklearn.metrics import confusion_matrix, ConfusionMatrixDisplay\n",
    "from sklearn.metrics import f1_score\n",
    "from sklearn.metrics import confusion_matrix\n",
    "from sklearn.metrics import roc_curve, auc\n",
    "from sklearn.model_selection import train_test_split\n",
    "from sklearn.neighbors import KNeighborsClassifier\n",
    "from sklearn.naive_bayes import GaussianNB\n",
    "from sklearn.svm import SVC\n",
    "from sklearn.ensemble import RandomForestClassifier\n",
    "from sklearn.model_selection import train_test_split, StratifiedKFold\n",
    "from sklearn import feature_selection as fs\n",
    "from sklearn import preprocessing\n",
    "\n",
    "from datetime import datetime\n",
    "\n",
    "# pay attention to capitalization below!\n",
    "from spFSR import SpFSR\n",
    "from imblearn.over_sampling import SMOTE, ADASYN, SVMSMOTE, BorderlineSMOTE\n",
    "\n",
    "from itertools import cycle\n",
    "from random import randint\n",
    "from random import sample\n",
    "\n",
    "import xgboost as xgb \n",
    "\n",
    "import functions, shapeFeatures"
   ]
  },
  {
   "cell_type": "code",
   "execution_count": 5,
   "id": "c8d788a7",
   "metadata": {
    "executionInfo": {
     "elapsed": 20,
     "status": "ok",
     "timestamp": 1670791975949,
     "user": {
      "displayName": "Daniela terra",
      "userId": "04965381838485374853"
     },
     "user_tz": 180
    },
    "id": "c8d788a7"
   },
   "outputs": [],
   "source": [
    "Bethesda_classes = {'Normal':0, 'ASC-US':1, 'ASC-H':2, 'LSIL':3,'HSIL':4, 'Invasive Carcinoma':5} \n",
    "Bethesda_idx_classes = {0: 'Normal', 1:'ASC-US', 2:'ASC-H', 3:'LSIL',4: 'HSIL', 5:'Invasive Carcinoma'} "
   ]
  },
  {
   "cell_type": "markdown",
   "id": "342eb878",
   "metadata": {
    "id": "342eb878"
   },
   "source": [
    "### Lê arquivo (features):"
   ]
  },
  {
   "cell_type": "code",
   "execution_count": 6,
   "id": "f1a28745",
   "metadata": {
    "executionInfo": {
     "elapsed": 20,
     "status": "ok",
     "timestamp": 1670791975950,
     "user": {
      "displayName": "Daniela terra",
      "userId": "04965381838485374853"
     },
     "user_tz": 180
    },
    "id": "f1a28745"
   },
   "outputs": [],
   "source": [
    "N_EFD_COEFFS = 20"
   ]
  },
  {
   "cell_type": "code",
   "execution_count": 7,
   "id": "cef32dbf",
   "metadata": {
    "colab": {
     "base_uri": "https://localhost:8080/",
     "height": 488
    },
    "executionInfo": {
     "elapsed": 527,
     "status": "ok",
     "timestamp": 1670791976459,
     "user": {
      "displayName": "Daniela terra",
      "userId": "04965381838485374853"
     },
     "user_tz": 180
    },
    "id": "cef32dbf",
    "outputId": "82d2616b-b3a6-434d-8e93-e9d006b042f2"
   },
   "outputs": [
    {
     "data": {
      "text/html": [
       "<div>\n",
       "<style scoped>\n",
       "    .dataframe tbody tr th:only-of-type {\n",
       "        vertical-align: middle;\n",
       "    }\n",
       "\n",
       "    .dataframe tbody tr th {\n",
       "        vertical-align: top;\n",
       "    }\n",
       "\n",
       "    .dataframe thead th {\n",
       "        text-align: right;\n",
       "    }\n",
       "</style>\n",
       "<table border=\"1\" class=\"dataframe\">\n",
       "  <thead>\n",
       "    <tr style=\"text-align: right;\">\n",
       "      <th></th>\n",
       "      <th>image_id</th>\n",
       "      <th>cell_id</th>\n",
       "      <th>areaN</th>\n",
       "      <th>eccenN</th>\n",
       "      <th>extentN</th>\n",
       "      <th>periN</th>\n",
       "      <th>maxAxN</th>\n",
       "      <th>minAxN</th>\n",
       "      <th>compacN</th>\n",
       "      <th>circuN</th>\n",
       "      <th>...</th>\n",
       "      <th>efdC73</th>\n",
       "      <th>efdC74</th>\n",
       "      <th>efdC75</th>\n",
       "      <th>efdC76</th>\n",
       "      <th>efdC77</th>\n",
       "      <th>ratio_NC</th>\n",
       "      <th>ratio_NC_per</th>\n",
       "      <th>ratio_NC_hArea</th>\n",
       "      <th>nucleus_position</th>\n",
       "      <th>bethesda</th>\n",
       "    </tr>\n",
       "  </thead>\n",
       "  <tbody>\n",
       "    <tr>\n",
       "      <th>0</th>\n",
       "      <td>1.0</td>\n",
       "      <td>14796.0</td>\n",
       "      <td>0.007403</td>\n",
       "      <td>0.606414</td>\n",
       "      <td>0.842276</td>\n",
       "      <td>0.031326</td>\n",
       "      <td>0.036711</td>\n",
       "      <td>0.083827</td>\n",
       "      <td>0.024126</td>\n",
       "      <td>0.863522</td>\n",
       "      <td>...</td>\n",
       "      <td>0.156532</td>\n",
       "      <td>0.321490</td>\n",
       "      <td>0.859931</td>\n",
       "      <td>0.382225</td>\n",
       "      <td>0.302311</td>\n",
       "      <td>0.017236</td>\n",
       "      <td>0.115646</td>\n",
       "      <td>0.016730</td>\n",
       "      <td>0.099098</td>\n",
       "      <td>0.0</td>\n",
       "    </tr>\n",
       "    <tr>\n",
       "      <th>1</th>\n",
       "      <td>1.0</td>\n",
       "      <td>14797.0</td>\n",
       "      <td>0.009371</td>\n",
       "      <td>0.541484</td>\n",
       "      <td>0.808102</td>\n",
       "      <td>0.035945</td>\n",
       "      <td>0.039493</td>\n",
       "      <td>0.095649</td>\n",
       "      <td>0.018763</td>\n",
       "      <td>0.891071</td>\n",
       "      <td>...</td>\n",
       "      <td>0.150931</td>\n",
       "      <td>0.317850</td>\n",
       "      <td>0.859539</td>\n",
       "      <td>0.369221</td>\n",
       "      <td>0.299938</td>\n",
       "      <td>0.010656</td>\n",
       "      <td>0.089517</td>\n",
       "      <td>0.010168</td>\n",
       "      <td>0.121456</td>\n",
       "      <td>0.0</td>\n",
       "    </tr>\n",
       "    <tr>\n",
       "      <th>2</th>\n",
       "      <td>1.0</td>\n",
       "      <td>14798.0</td>\n",
       "      <td>0.007275</td>\n",
       "      <td>0.313794</td>\n",
       "      <td>0.884418</td>\n",
       "      <td>0.029457</td>\n",
       "      <td>0.025365</td>\n",
       "      <td>0.097062</td>\n",
       "      <td>0.018895</td>\n",
       "      <td>0.890378</td>\n",
       "      <td>...</td>\n",
       "      <td>0.153458</td>\n",
       "      <td>0.315454</td>\n",
       "      <td>0.861978</td>\n",
       "      <td>0.367980</td>\n",
       "      <td>0.302076</td>\n",
       "      <td>0.007400</td>\n",
       "      <td>0.073961</td>\n",
       "      <td>0.006897</td>\n",
       "      <td>0.043773</td>\n",
       "      <td>0.0</td>\n",
       "    </tr>\n",
       "    <tr>\n",
       "      <th>3</th>\n",
       "      <td>1.0</td>\n",
       "      <td>14799.0</td>\n",
       "      <td>0.010570</td>\n",
       "      <td>0.489270</td>\n",
       "      <td>0.778201</td>\n",
       "      <td>0.040199</td>\n",
       "      <td>0.040900</td>\n",
       "      <td>0.103428</td>\n",
       "      <td>0.021001</td>\n",
       "      <td>0.879403</td>\n",
       "      <td>...</td>\n",
       "      <td>0.157254</td>\n",
       "      <td>0.319562</td>\n",
       "      <td>0.860312</td>\n",
       "      <td>0.382943</td>\n",
       "      <td>0.303682</td>\n",
       "      <td>0.028309</td>\n",
       "      <td>0.154784</td>\n",
       "      <td>0.027752</td>\n",
       "      <td>0.128927</td>\n",
       "      <td>0.0</td>\n",
       "    </tr>\n",
       "    <tr>\n",
       "      <th>4</th>\n",
       "      <td>1.0</td>\n",
       "      <td>14801.0</td>\n",
       "      <td>0.009115</td>\n",
       "      <td>0.296366</td>\n",
       "      <td>0.842276</td>\n",
       "      <td>0.036826</td>\n",
       "      <td>0.031283</td>\n",
       "      <td>0.106376</td>\n",
       "      <td>0.024456</td>\n",
       "      <td>0.861871</td>\n",
       "      <td>...</td>\n",
       "      <td>0.147193</td>\n",
       "      <td>0.314554</td>\n",
       "      <td>0.860292</td>\n",
       "      <td>0.359672</td>\n",
       "      <td>0.300094</td>\n",
       "      <td>0.021569</td>\n",
       "      <td>0.129992</td>\n",
       "      <td>0.020738</td>\n",
       "      <td>0.069245</td>\n",
       "      <td>0.0</td>\n",
       "    </tr>\n",
       "    <tr>\n",
       "      <th>...</th>\n",
       "      <td>...</td>\n",
       "      <td>...</td>\n",
       "      <td>...</td>\n",
       "      <td>...</td>\n",
       "      <td>...</td>\n",
       "      <td>...</td>\n",
       "      <td>...</td>\n",
       "      <td>...</td>\n",
       "      <td>...</td>\n",
       "      <td>...</td>\n",
       "      <td>...</td>\n",
       "      <td>...</td>\n",
       "      <td>...</td>\n",
       "      <td>...</td>\n",
       "      <td>...</td>\n",
       "      <td>...</td>\n",
       "      <td>...</td>\n",
       "      <td>...</td>\n",
       "      <td>...</td>\n",
       "      <td>...</td>\n",
       "      <td>...</td>\n",
       "    </tr>\n",
       "    <tr>\n",
       "      <th>3228</th>\n",
       "      <td>399.0</td>\n",
       "      <td>11539.0</td>\n",
       "      <td>0.028927</td>\n",
       "      <td>0.838629</td>\n",
       "      <td>0.579720</td>\n",
       "      <td>0.094256</td>\n",
       "      <td>0.134656</td>\n",
       "      <td>0.118369</td>\n",
       "      <td>0.041270</td>\n",
       "      <td>0.784196</td>\n",
       "      <td>...</td>\n",
       "      <td>0.152113</td>\n",
       "      <td>0.318217</td>\n",
       "      <td>0.859606</td>\n",
       "      <td>0.370535</td>\n",
       "      <td>0.299400</td>\n",
       "      <td>0.206211</td>\n",
       "      <td>0.149094</td>\n",
       "      <td>0.085315</td>\n",
       "      <td>1.943974</td>\n",
       "      <td>5.0</td>\n",
       "    </tr>\n",
       "    <tr>\n",
       "      <th>3229</th>\n",
       "      <td>399.0</td>\n",
       "      <td>11540.0</td>\n",
       "      <td>0.025333</td>\n",
       "      <td>0.874227</td>\n",
       "      <td>0.645532</td>\n",
       "      <td>0.094611</td>\n",
       "      <td>0.135676</td>\n",
       "      <td>0.100778</td>\n",
       "      <td>0.064959</td>\n",
       "      <td>0.692461</td>\n",
       "      <td>...</td>\n",
       "      <td>0.150010</td>\n",
       "      <td>0.322108</td>\n",
       "      <td>0.859366</td>\n",
       "      <td>0.375599</td>\n",
       "      <td>0.300755</td>\n",
       "      <td>0.245537</td>\n",
       "      <td>0.247086</td>\n",
       "      <td>0.136756</td>\n",
       "      <td>0.916374</td>\n",
       "      <td>5.0</td>\n",
       "    </tr>\n",
       "    <tr>\n",
       "      <th>3230</th>\n",
       "      <td>400.0</td>\n",
       "      <td>11535.0</td>\n",
       "      <td>0.017031</td>\n",
       "      <td>0.910741</td>\n",
       "      <td>0.390863</td>\n",
       "      <td>0.092280</td>\n",
       "      <td>0.136377</td>\n",
       "      <td>0.078990</td>\n",
       "      <td>0.131860</td>\n",
       "      <td>0.507358</td>\n",
       "      <td>...</td>\n",
       "      <td>0.153944</td>\n",
       "      <td>0.319972</td>\n",
       "      <td>0.860379</td>\n",
       "      <td>0.372458</td>\n",
       "      <td>0.303245</td>\n",
       "      <td>0.191508</td>\n",
       "      <td>0.471092</td>\n",
       "      <td>0.188343</td>\n",
       "      <td>0.326252</td>\n",
       "      <td>5.0</td>\n",
       "    </tr>\n",
       "    <tr>\n",
       "      <th>3231</th>\n",
       "      <td>400.0</td>\n",
       "      <td>11536.0</td>\n",
       "      <td>0.020797</td>\n",
       "      <td>0.949322</td>\n",
       "      <td>0.528816</td>\n",
       "      <td>0.105709</td>\n",
       "      <td>0.169029</td>\n",
       "      <td>0.065965</td>\n",
       "      <td>0.137720</td>\n",
       "      <td>0.494794</td>\n",
       "      <td>...</td>\n",
       "      <td>0.151898</td>\n",
       "      <td>0.320620</td>\n",
       "      <td>0.859608</td>\n",
       "      <td>0.370771</td>\n",
       "      <td>0.299599</td>\n",
       "      <td>0.111823</td>\n",
       "      <td>0.078186</td>\n",
       "      <td>0.023058</td>\n",
       "      <td>3.177247</td>\n",
       "      <td>5.0</td>\n",
       "    </tr>\n",
       "    <tr>\n",
       "      <th>3232</th>\n",
       "      <td>400.0</td>\n",
       "      <td>11537.0</td>\n",
       "      <td>0.025076</td>\n",
       "      <td>0.822746</td>\n",
       "      <td>0.749691</td>\n",
       "      <td>0.090669</td>\n",
       "      <td>0.120781</td>\n",
       "      <td>0.114052</td>\n",
       "      <td>0.055801</td>\n",
       "      <td>0.725789</td>\n",
       "      <td>...</td>\n",
       "      <td>0.143373</td>\n",
       "      <td>0.318753</td>\n",
       "      <td>0.868085</td>\n",
       "      <td>0.362569</td>\n",
       "      <td>0.279162</td>\n",
       "      <td>0.448090</td>\n",
       "      <td>0.346307</td>\n",
       "      <td>0.181780</td>\n",
       "      <td>0.653692</td>\n",
       "      <td>5.0</td>\n",
       "    </tr>\n",
       "  </tbody>\n",
       "</table>\n",
       "<p>3233 rows × 203 columns</p>\n",
       "</div>"
      ],
      "text/plain": [
       "      image_id  cell_id     areaN    eccenN   extentN     periN    maxAxN  \\\n",
       "0          1.0  14796.0  0.007403  0.606414  0.842276  0.031326  0.036711   \n",
       "1          1.0  14797.0  0.009371  0.541484  0.808102  0.035945  0.039493   \n",
       "2          1.0  14798.0  0.007275  0.313794  0.884418  0.029457  0.025365   \n",
       "3          1.0  14799.0  0.010570  0.489270  0.778201  0.040199  0.040900   \n",
       "4          1.0  14801.0  0.009115  0.296366  0.842276  0.036826  0.031283   \n",
       "...        ...      ...       ...       ...       ...       ...       ...   \n",
       "3228     399.0  11539.0  0.028927  0.838629  0.579720  0.094256  0.134656   \n",
       "3229     399.0  11540.0  0.025333  0.874227  0.645532  0.094611  0.135676   \n",
       "3230     400.0  11535.0  0.017031  0.910741  0.390863  0.092280  0.136377   \n",
       "3231     400.0  11536.0  0.020797  0.949322  0.528816  0.105709  0.169029   \n",
       "3232     400.0  11537.0  0.025076  0.822746  0.749691  0.090669  0.120781   \n",
       "\n",
       "        minAxN   compacN    circuN  ...    efdC73    efdC74    efdC75  \\\n",
       "0     0.083827  0.024126  0.863522  ...  0.156532  0.321490  0.859931   \n",
       "1     0.095649  0.018763  0.891071  ...  0.150931  0.317850  0.859539   \n",
       "2     0.097062  0.018895  0.890378  ...  0.153458  0.315454  0.861978   \n",
       "3     0.103428  0.021001  0.879403  ...  0.157254  0.319562  0.860312   \n",
       "4     0.106376  0.024456  0.861871  ...  0.147193  0.314554  0.860292   \n",
       "...        ...       ...       ...  ...       ...       ...       ...   \n",
       "3228  0.118369  0.041270  0.784196  ...  0.152113  0.318217  0.859606   \n",
       "3229  0.100778  0.064959  0.692461  ...  0.150010  0.322108  0.859366   \n",
       "3230  0.078990  0.131860  0.507358  ...  0.153944  0.319972  0.860379   \n",
       "3231  0.065965  0.137720  0.494794  ...  0.151898  0.320620  0.859608   \n",
       "3232  0.114052  0.055801  0.725789  ...  0.143373  0.318753  0.868085   \n",
       "\n",
       "        efdC76    efdC77  ratio_NC  ratio_NC_per  ratio_NC_hArea  \\\n",
       "0     0.382225  0.302311  0.017236      0.115646        0.016730   \n",
       "1     0.369221  0.299938  0.010656      0.089517        0.010168   \n",
       "2     0.367980  0.302076  0.007400      0.073961        0.006897   \n",
       "3     0.382943  0.303682  0.028309      0.154784        0.027752   \n",
       "4     0.359672  0.300094  0.021569      0.129992        0.020738   \n",
       "...        ...       ...       ...           ...             ...   \n",
       "3228  0.370535  0.299400  0.206211      0.149094        0.085315   \n",
       "3229  0.375599  0.300755  0.245537      0.247086        0.136756   \n",
       "3230  0.372458  0.303245  0.191508      0.471092        0.188343   \n",
       "3231  0.370771  0.299599  0.111823      0.078186        0.023058   \n",
       "3232  0.362569  0.279162  0.448090      0.346307        0.181780   \n",
       "\n",
       "      nucleus_position  bethesda  \n",
       "0             0.099098       0.0  \n",
       "1             0.121456       0.0  \n",
       "2             0.043773       0.0  \n",
       "3             0.128927       0.0  \n",
       "4             0.069245       0.0  \n",
       "...                ...       ...  \n",
       "3228          1.943974       5.0  \n",
       "3229          0.916374       5.0  \n",
       "3230          0.326252       5.0  \n",
       "3231          3.177247       5.0  \n",
       "3232          0.653692       5.0  \n",
       "\n",
       "[3233 rows x 203 columns]"
      ]
     },
     "execution_count": 7,
     "metadata": {},
     "output_type": "execute_result"
    }
   ],
   "source": [
    "#df = pd.read_csv('/content/drive/MyDrive/shape_based_CRIC_Hclassifier/dataCRIC.csv', sep='|', header=0)\n",
    "df = pd.read_csv('dataCRIC.csv', sep='|', header=0)\n",
    "df = shapeFeatures.normalize_dataset(df, n_efd_coeffs= N_EFD_COEFFS)\n",
    "df"
   ]
  },
  {
   "cell_type": "code",
   "execution_count": 8,
   "id": "f6f5b11c",
   "metadata": {
    "colab": {
     "base_uri": "https://localhost:8080/"
    },
    "executionInfo": {
     "elapsed": 446,
     "status": "ok",
     "timestamp": 1670791976894,
     "user": {
      "displayName": "Daniela terra",
      "userId": "04965381838485374853"
     },
     "user_tz": 180
    },
    "id": "f6f5b11c",
    "outputId": "781c27b3-830b-4f2b-e039-ceab9cf324da"
   },
   "outputs": [
    {
     "name": "stdout",
     "output_type": "stream",
     "text": [
      "--- Totais por classe --- \n",
      "Normal...:  862\n",
      "ASC-Us...:  286\n",
      "ASC-H....:  536\n",
      "LSIL.....:  598\n",
      "HSIL.....:  874\n",
      "Carcinoma:  77\n"
     ]
    }
   ],
   "source": [
    "# Separa dados por classe de maneira balanceada:\n",
    "data_normal = df[df['bethesda'] == 0].copy()\n",
    "data_normal.set_index((i for i in range(data_normal.shape[0])), inplace=True)\n",
    "\n",
    "data_ascus = df[df['bethesda'] == 1].copy()\n",
    "data_ascus.set_index((i for i in range(data_ascus.shape[0])), inplace=True)\n",
    "\n",
    "data_asch = df[df['bethesda'] == 2].copy()\n",
    "data_asch.set_index((i for i in range(data_asch.shape[0])), inplace=True)\n",
    "\n",
    "data_lsil = df[df['bethesda'] == 3].copy()\n",
    "data_lsil.set_index((i for i in range(data_lsil.shape[0])), inplace=True)\n",
    "\n",
    "data_hsil = df[df['bethesda'] == 4].copy()\n",
    "data_hsil.set_index((i for i in range(data_hsil.shape[0])), inplace=True)\n",
    "\n",
    "data_car = df[df['bethesda'] == 5].copy()\n",
    "data_car.set_index((i for i in range(data_car.shape[0])), inplace=True)\n",
    "\n",
    "print(\"--- Totais por classe --- \")               \n",
    "print(\"Normal...: \", data_normal.values.shape[0])               \n",
    "print(\"ASC-Us...: \", data_ascus.values.shape[0])               \n",
    "print(\"ASC-H....: \", data_asch.values.shape[0])               \n",
    "print(\"LSIL.....: \", data_lsil.values.shape[0])               \n",
    "print(\"HSIL.....: \", data_hsil.values.shape[0])               \n",
    "print(\"Carcinoma: \", data_car.values.shape[0]) \n",
    " "
   ]
  },
  {
   "cell_type": "markdown",
   "id": "aa6ec607",
   "metadata": {
    "id": "aa6ec607"
   },
   "source": [
    "#### Gera dataframes: dados (data), classes (target) e Ids (image/cell)"
   ]
  },
  {
   "cell_type": "code",
   "execution_count": 9,
   "id": "4e3eaae7",
   "metadata": {
    "executionInfo": {
     "elapsed": 28,
     "status": "ok",
     "timestamp": 1670791976895,
     "user": {
      "displayName": "Daniela terra",
      "userId": "04965381838485374853"
     },
     "user_tz": 180
    },
    "id": "4e3eaae7"
   },
   "outputs": [],
   "source": [
    "# Monta base (data, target, image/cells ids)\n",
    "data, target, image_cells_ids= functions.get_database_data_targe_ids(data_normal, data_ascus, \n",
    "                       data_lsil, data_asch, data_hsil,data_car,\n",
    "                       functions.list_all_features(N_EFD_COEFFS))\n",
    " "
   ]
  },
  {
   "cell_type": "code",
   "execution_count": 10,
   "id": "1edebb32",
   "metadata": {
    "executionInfo": {
     "elapsed": 28,
     "status": "ok",
     "timestamp": 1670791976896,
     "user": {
      "displayName": "Daniela terra",
      "userId": "04965381838485374853"
     },
     "user_tz": 180
    },
    "id": "1edebb32"
   },
   "outputs": [],
   "source": [
    "## Parâmetros resultantes de gridsearch dos modelos (tuning.ipynb)\n",
    "svm_param =  {'C': 100, 'kernel': 'linear'}\n",
    "rf_param = {'max_depth': 7, 'min_samples_split': 10, 'n_estimators': 50}\n",
    "xgb_param = {'learning_rate': 0.1, 'n_estimators': 86, 'max_depth': 9, 'min_child_weight':1,\n",
    "              'gamma':0, 'subsample':0.9, 'colsample_bytree':0.7, 'reg_alpha': 0.001}"
   ]
  },
  {
   "cell_type": "code",
   "execution_count": 11,
   "id": "0255cc21",
   "metadata": {
    "colab": {
     "base_uri": "https://localhost:8080/"
    },
    "executionInfo": {
     "elapsed": 28,
     "status": "ok",
     "timestamp": 1670791976898,
     "user": {
      "displayName": "Daniela terra",
      "userId": "04965381838485374853"
     },
     "user_tz": 180
    },
    "id": "0255cc21",
    "outputId": "b8d39ec0-df19-4e40-a282-145dca02ff85"
   },
   "outputs": [
    {
     "name": "stdout",
     "output_type": "stream",
     "text": [
      "Nº total de de features: 21\n"
     ]
    }
   ],
   "source": [
    "classifiers = ['SVM', 'RF', 'XGBoost']\n",
    "params = [svm_param, rf_param, xgb_param]\n",
    "features = functions.list_all_nucleus_without_EFD()\n",
    "print(f'Nº total de de features: {len(features)}')"
   ]
  },
  {
   "cell_type": "markdown",
   "id": "3a5fade7",
   "metadata": {
    "id": "3a5fade7"
   },
   "source": [
    "## Experiment nº6:   classifiers bin/ter/bethesda without hierarchy\n",
    "nucleus + cytoplasm without EFD features "
   ]
  },
  {
   "cell_type": "code",
   "execution_count": 12,
   "id": "QiDq6zxl3l_E",
   "metadata": {
    "colab": {
     "base_uri": "https://localhost:8080/"
    },
    "executionInfo": {
     "elapsed": 26,
     "status": "ok",
     "timestamp": 1670791976900,
     "user": {
      "displayName": "Daniela terra",
      "userId": "04965381838485374853"
     },
     "user_tz": 180
    },
    "id": "QiDq6zxl3l_E",
    "outputId": "4d1a5afb-7196-4e08-9d4a-ef085769ca54"
   },
   "outputs": [
    {
     "data": {
      "text/plain": [
       "21"
      ]
     },
     "execution_count": 12,
     "metadata": {},
     "output_type": "execute_result"
    }
   ],
   "source": [
    "len(features)#, features"
   ]
  },
  {
   "cell_type": "code",
   "execution_count": 13,
   "id": "iv7jiqNp9VtK",
   "metadata": {
    "executionInfo": {
     "elapsed": 22,
     "status": "ok",
     "timestamp": 1670791976901,
     "user": {
      "displayName": "Daniela terra",
      "userId": "04965381838485374853"
     },
     "user_tz": 180
    },
    "id": "iv7jiqNp9VtK"
   },
   "outputs": [],
   "source": [
    "start_t = functions.timer()"
   ]
  },
  {
   "cell_type": "markdown",
   "id": "2eecb219",
   "metadata": {
    "id": "2eecb219"
   },
   "source": [
    "### Cross-validation:  Normal vs Anormal"
   ]
  },
  {
   "cell_type": "code",
   "execution_count": 14,
   "id": "bb684535",
   "metadata": {
    "executionInfo": {
     "elapsed": 24,
     "status": "ok",
     "timestamp": 1670791976903,
     "user": {
      "displayName": "Daniela terra",
      "userId": "04965381838485374853"
     },
     "user_tz": 180
    },
    "id": "bb684535"
   },
   "outputs": [],
   "source": [
    "labels_list = []\n",
    "conf_matrix_list = []\n",
    "roc_curve_list = []\n",
    "\n",
    "# Data_frame de resultados\n",
    "results = pd.DataFrame(columns=['Tipo', 'Model', 'Features', 'Acurácia', 'Precisão', 'Sensibil' , 'Falso Pos', 'Especif', 'F1_measure'])\n",
    "classifiers = ['SVM', 'RF', 'XGBoost']\n",
    "features_desc= \"All nucleus features (-EFD's)\" \n",
    "\n",
    "N_SPLITS = 10 "
   ]
  },
  {
   "cell_type": "code",
   "execution_count": 15,
   "id": "9e8a034b",
   "metadata": {
    "executionInfo": {
     "elapsed": 49292,
     "status": "ok",
     "timestamp": 1670792026172,
     "user": {
      "displayName": "Daniela terra",
      "userId": "04965381838485374853"
     },
     "user_tz": 180
    },
    "id": "9e8a034b"
   },
   "outputs": [],
   "source": [
    "\n",
    "for ci in range(3):\n",
    "    # Executa cross-validation e mostra curvas ROC\n",
    "    cv = StratifiedKFold(n_splits= N_SPLITS)\n",
    "\n",
    "    accs = precs = recs = specs = f1_scores = aucs = np.zeros((N_SPLITS), dtype = np.float64)\n",
    "    tprs = []\n",
    "    mean_fpr = np.linspace(0, 1, 100)\n",
    "\n",
    "    preds_y = np.zeros(target.shape[0])\n",
    "\n",
    "    ## Ajusta features para treino e teste\n",
    "    X = data[features].values\n",
    "    data_y = target['binary'].values\n",
    "\n",
    "    model = functions.getModel(params= params[ci], classifier = classifiers[ci], class_type = 'binary')\n",
    "    for i, (train, test) in enumerate(cv.split(X, data_y)):\n",
    "        # Ajusta modelo:\n",
    "        metric, model = functions.fit_model(X[train], data_y[train], model, cls_type=1, smote=0)    \n",
    "\n",
    "        # Predição:\n",
    "        pred_y = model.predict(X[test])\n",
    "        prob_y = model.predict_proba(X[test])\n",
    "\n",
    "        #Registra predições:\n",
    "        preds_y[test] = pred_y\n",
    "\n",
    "        # Calcula e registra métricas p/ fold:\n",
    "        accs[i] = functions.calc_metric(data_y[test], pred_y, metric_type='acc', class_type='binary', classes=[0,1])\n",
    "        precs[i] = functions.calc_metric(data_y[test], pred_y, metric_type='prec',class_type='binary', classes=[0,1])                \n",
    "        recs[i] = functions.calc_metric(data_y[test], pred_y, metric_type='rec',class_type='binary', classes=[0,1])                \n",
    "        specs[i] = functions.calc_metric(data_y[test], pred_y, metric_type='spec',class_type='binary', classes=[0,1])                \n",
    "        f1_scores[i] = functions.calc_metric(data_y[test], pred_y, metric_type='f1_score',class_type='binary', classes=[0,1])        \n",
    "\n",
    "        # Calcula curva_roc e AUC:\n",
    "        prob = prob_y[:, 1]\n",
    "        fpr, tpr, thresholds = roc_curve(data_y[test], prob)\n",
    "        interp_tpr = np.interp(mean_fpr, fpr, tpr)\n",
    "        interp_tpr[0] = 0.0\n",
    "        tprs.append(interp_tpr)\n",
    "        aucs[i]= auc(mean_fpr, interp_tpr)\n",
    "\n",
    "    ## Registra resultados (dataframe):\n",
    "    metrics = {'acc': np.mean(accs), 'prec': np.mean(precs), 'rec': np.mean(recs), \n",
    "               'spec': np.mean(specs), 'f1_score': np.mean(f1_scores)}                                      \n",
    "    functions.fill_line_metrics_CV(classifiers[ci], features_desc, ci, metrics, results, class_type='binary')\n",
    "\n",
    "    # Calcula e registra curva ROC (média CV) e confmatrix \n",
    "    mean_tpr = np.mean(tprs, axis=0)\n",
    "    mean_tpr[-1] = 1.0\n",
    "    mean_auc = auc(mean_fpr, mean_tpr)\n",
    "    std_auc = np.std(aucs)\n",
    "    roc_curve_list.append((mean_fpr, mean_tpr))\n",
    "    label = r\"Mean ROC (AUC %s= %0.4f $\\pm$ %0.4f)\" % ((classifiers[ci]+\"-binary \"), mean_auc, std_auc)\n",
    "    labels_list.append(label)\n",
    "\n",
    "    conf_matrix_list.append((data_y, preds_y, features_desc + \"- \"+classifiers[ci]))\n",
    " \n",
    "                  \n"
   ]
  },
  {
   "cell_type": "markdown",
   "id": "fcaa93ac",
   "metadata": {
    "id": "fcaa93ac"
   },
   "source": [
    "### Resultados:"
   ]
  },
  {
   "cell_type": "code",
   "execution_count": 16,
   "id": "b6da3d26",
   "metadata": {
    "colab": {
     "base_uri": "https://localhost:8080/",
     "height": 761
    },
    "executionInfo": {
     "elapsed": 508,
     "status": "ok",
     "timestamp": 1670792026662,
     "user": {
      "displayName": "Daniela terra",
      "userId": "04965381838485374853"
     },
     "user_tz": 180
    },
    "id": "b6da3d26",
    "outputId": "598068d8-486f-40e6-cca0-e38c6a28a179"
   },
   "outputs": [
    {
     "data": {
      "image/png": "[encoded data removed]",
      "text/plain": [
       "<Figure size 648x360 with 1 Axes>"
      ]
     },
     "metadata": {
      "needs_background": "light"
     },
     "output_type": "display_data"
    },
    {
     "data": {
      "image/png": "[encoded data removed]",
      "text/plain": [
       "<Figure size 1080x648 with 3 Axes>"
      ]
     },
     "metadata": {
      "needs_background": "light"
     },
     "output_type": "display_data"
    },
    {
     "data": {
      "text/html": [
       "<div>\n",
       "<style scoped>\n",
       "    .dataframe tbody tr th:only-of-type {\n",
       "        vertical-align: middle;\n",
       "    }\n",
       "\n",
       "    .dataframe tbody tr th {\n",
       "        vertical-align: top;\n",
       "    }\n",
       "\n",
       "    .dataframe thead th {\n",
       "        text-align: right;\n",
       "    }\n",
       "</style>\n",
       "<table border=\"1\" class=\"dataframe\">\n",
       "  <thead>\n",
       "    <tr style=\"text-align: right;\">\n",
       "      <th></th>\n",
       "      <th>Tipo</th>\n",
       "      <th>Model</th>\n",
       "      <th>Features</th>\n",
       "      <th>Acurácia</th>\n",
       "      <th>Precisão</th>\n",
       "      <th>Sensibil</th>\n",
       "      <th>Falso Pos</th>\n",
       "      <th>Especif</th>\n",
       "      <th>F1_measure</th>\n",
       "    </tr>\n",
       "  </thead>\n",
       "  <tbody>\n",
       "    <tr>\n",
       "      <th>0</th>\n",
       "      <td>binary</td>\n",
       "      <td>SVM</td>\n",
       "      <td>All nucleus features (-EFD's)</td>\n",
       "      <td>0.9453</td>\n",
       "      <td>0.9453</td>\n",
       "      <td>0.9453</td>\n",
       "      <td>0.0547</td>\n",
       "      <td>0.9453</td>\n",
       "      <td>0.9453</td>\n",
       "    </tr>\n",
       "    <tr>\n",
       "      <th>1</th>\n",
       "      <td>binary</td>\n",
       "      <td>RF</td>\n",
       "      <td>All nucleus features (-EFD's)</td>\n",
       "      <td>0.9426</td>\n",
       "      <td>0.9426</td>\n",
       "      <td>0.9426</td>\n",
       "      <td>0.0574</td>\n",
       "      <td>0.9426</td>\n",
       "      <td>0.9426</td>\n",
       "    </tr>\n",
       "    <tr>\n",
       "      <th>2</th>\n",
       "      <td>binary</td>\n",
       "      <td>XGBoost</td>\n",
       "      <td>All nucleus features (-EFD's)</td>\n",
       "      <td>0.9415</td>\n",
       "      <td>0.9415</td>\n",
       "      <td>0.9415</td>\n",
       "      <td>0.0585</td>\n",
       "      <td>0.9415</td>\n",
       "      <td>0.9415</td>\n",
       "    </tr>\n",
       "  </tbody>\n",
       "</table>\n",
       "</div>"
      ],
      "text/plain": [
       "     Tipo    Model                       Features Acurácia Precisão Sensibil  \\\n",
       "0  binary      SVM  All nucleus features (-EFD's)   0.9453   0.9453   0.9453   \n",
       "1  binary       RF  All nucleus features (-EFD's)   0.9426   0.9426   0.9426   \n",
       "2  binary  XGBoost  All nucleus features (-EFD's)   0.9415   0.9415   0.9415   \n",
       "\n",
       "  Falso Pos Especif F1_measure  \n",
       "0    0.0547  0.9453     0.9453  \n",
       "1    0.0574  0.9426     0.9426  \n",
       "2    0.0585  0.9415     0.9415  "
      ]
     },
     "execution_count": 16,
     "metadata": {},
     "output_type": "execute_result"
    }
   ],
   "source": [
    "# Acumula Matrizes de confusão:\n",
    "functions.plot_roc_curve_CV(roc_curve_list, labels_list, title = \"ROC Curve - 1.Normal/Anormal\")\n",
    "functions.plot_conf_matrix(conf_matrix_list, lbls=[0,1], disp_lbls=['normal', 'anormal'])\n",
    "results\n"
   ]
  },
  {
   "cell_type": "markdown",
   "id": "c79f23f1",
   "metadata": {
    "id": "c79f23f1"
   },
   "source": [
    "### Classificador ternário"
   ]
  },
  {
   "cell_type": "code",
   "execution_count": 17,
   "id": "07727dc0",
   "metadata": {
    "executionInfo": {
     "elapsed": 16,
     "status": "ok",
     "timestamp": 1670792026663,
     "user": {
      "displayName": "Daniela terra",
      "userId": "04965381838485374853"
     },
     "user_tz": 180
    },
    "id": "07727dc0"
   },
   "outputs": [],
   "source": [
    "labels_list = []\n",
    "conf_matrix_list = []\n",
    "roc_curve_list = []\n",
    "\n",
    "# Data_frame de resultados\n",
    "results = pd.DataFrame(columns=['Tipo', 'Model', 'Features', 'Acurácia', 'Precisão', 'Sensibil' , 'Falso Pos', 'Especif', 'F1_measure'])"
   ]
  },
  {
   "cell_type": "code",
   "execution_count": 18,
   "id": "5c6fede3",
   "metadata": {
    "executionInfo": {
     "elapsed": 52419,
     "status": "ok",
     "timestamp": 1670792079068,
     "user": {
      "displayName": "Daniela terra",
      "userId": "04965381838485374853"
     },
     "user_tz": 180
    },
    "id": "5c6fede3"
   },
   "outputs": [],
   "source": [
    "for ci in range(3):\n",
    "    # Executa cross-validation e mostra curvas ROC\n",
    "    cv = StratifiedKFold(n_splits= N_SPLITS)\n",
    "    accs = precs = recs = specs = f1_scores = aucs = np.zeros((N_SPLITS), dtype = np.float64)\n",
    "    preds_y = np.zeros(target.shape[0])\n",
    "\n",
    "    ## Ajusta features para treino e teste\n",
    "    X = data[features].values\n",
    "    data_y = target['ternary'].values\n",
    "\n",
    "    model = functions.getModel(params= params[ci], classifier = classifiers[ci], class_type = 'multiclass')\n",
    "    for i, (train, test) in enumerate(cv.split(X, data_y)):\n",
    "        # Ajusta modelo:\n",
    "        metric, model = functions.fit_model(X[train], data_y[train], model, cls_type=1, smote=0)    \n",
    "\n",
    "        # Predição:\n",
    "        pred_y = model.predict(X[test])\n",
    "        prob_y = model.predict_proba(X[test])\n",
    "\n",
    "        #Registra predições:\n",
    "        preds_y[test] = pred_y\n",
    "\n",
    "        # Calcula e registra métricas p/ fold:\n",
    "        accs[i] = functions.calc_metric(data_y[test], pred_y, metric_type='acc', class_type='multiclass', classes=[0,1,2])\n",
    "        precs[i] = functions.calc_metric(data_y[test], pred_y, metric_type='prec',class_type='multiclass', classes=[0,1,2])                \n",
    "        recs[i] = functions.calc_metric(data_y[test], pred_y, metric_type='rec',class_type='multiclass', classes=[0,1,2])                \n",
    "        specs[i] = functions.calc_metric(data_y[test], pred_y, metric_type='spec',class_type='multiclass', classes=[0,1,2])                \n",
    "        f1_scores[i] = functions.calc_metric(data_y[test], pred_y, metric_type='f1_score',class_type='multiclass', classes=[0,1,2])        \n",
    "\n",
    "\n",
    "    ## Registra resultados (dataframe):\n",
    "    metrics = {'acc': np.mean(accs), 'prec': np.mean(precs), 'rec': np.mean(recs), \n",
    "               'spec': np.mean(specs), 'f1_score': np.mean(f1_scores)}                                      \n",
    "    functions.fill_line_metrics_CV(classifiers[ci], features_desc, ci, metrics, results, class_type='ternary')\n",
    "\n",
    "    # Registra confmatrix: \n",
    "    conf_matrix_list.append((data_y, preds_y, features_desc + \"- \"+classifiers[ci]))\n",
    " \n",
    "                  "
   ]
  },
  {
   "cell_type": "code",
   "execution_count": 19,
   "id": "3b1ad3e7",
   "metadata": {
    "colab": {
     "base_uri": "https://localhost:8080/",
     "height": 432
    },
    "executionInfo": {
     "elapsed": 546,
     "status": "ok",
     "timestamp": 1670792079604,
     "user": {
      "displayName": "Daniela terra",
      "userId": "04965381838485374853"
     },
     "user_tz": 180
    },
    "id": "3b1ad3e7",
    "outputId": "79582b4c-7d32-40b1-ec83-6bc8dfb79e7f"
   },
   "outputs": [
    {
     "data": {
      "image/png": "[encoded data removed]",
      "text/plain": [
       "<Figure size 1080x648 with 3 Axes>"
      ]
     },
     "metadata": {
      "needs_background": "light"
     },
     "output_type": "display_data"
    },
    {
     "data": {
      "text/html": [
       "<div>\n",
       "<style scoped>\n",
       "    .dataframe tbody tr th:only-of-type {\n",
       "        vertical-align: middle;\n",
       "    }\n",
       "\n",
       "    .dataframe tbody tr th {\n",
       "        vertical-align: top;\n",
       "    }\n",
       "\n",
       "    .dataframe thead th {\n",
       "        text-align: right;\n",
       "    }\n",
       "</style>\n",
       "<table border=\"1\" class=\"dataframe\">\n",
       "  <thead>\n",
       "    <tr style=\"text-align: right;\">\n",
       "      <th></th>\n",
       "      <th>Tipo</th>\n",
       "      <th>Model</th>\n",
       "      <th>Features</th>\n",
       "      <th>Acurácia</th>\n",
       "      <th>Precisão</th>\n",
       "      <th>Sensibil</th>\n",
       "      <th>Falso Pos</th>\n",
       "      <th>Especif</th>\n",
       "      <th>F1_measure</th>\n",
       "    </tr>\n",
       "  </thead>\n",
       "  <tbody>\n",
       "    <tr>\n",
       "      <th>0</th>\n",
       "      <td>ternary</td>\n",
       "      <td>SVM</td>\n",
       "      <td>All nucleus features (-EFD's)</td>\n",
       "      <td>0.6928</td>\n",
       "      <td>0.6928</td>\n",
       "      <td>0.6928</td>\n",
       "      <td>0.3072</td>\n",
       "      <td>0.6928</td>\n",
       "      <td>0.6928</td>\n",
       "    </tr>\n",
       "    <tr>\n",
       "      <th>1</th>\n",
       "      <td>ternary</td>\n",
       "      <td>RF</td>\n",
       "      <td>All nucleus features (-EFD's)</td>\n",
       "      <td>0.7070</td>\n",
       "      <td>0.7070</td>\n",
       "      <td>0.7070</td>\n",
       "      <td>0.2930</td>\n",
       "      <td>0.7070</td>\n",
       "      <td>0.7070</td>\n",
       "    </tr>\n",
       "    <tr>\n",
       "      <th>2</th>\n",
       "      <td>ternary</td>\n",
       "      <td>XGBoost</td>\n",
       "      <td>All nucleus features (-EFD's)</td>\n",
       "      <td>0.7029</td>\n",
       "      <td>0.7029</td>\n",
       "      <td>0.7029</td>\n",
       "      <td>0.2971</td>\n",
       "      <td>0.7029</td>\n",
       "      <td>0.7029</td>\n",
       "    </tr>\n",
       "  </tbody>\n",
       "</table>\n",
       "</div>"
      ],
      "text/plain": [
       "      Tipo    Model                       Features Acurácia Precisão Sensibil  \\\n",
       "0  ternary      SVM  All nucleus features (-EFD's)   0.6928   0.6928   0.6928   \n",
       "1  ternary       RF  All nucleus features (-EFD's)   0.7070   0.7070   0.7070   \n",
       "2  ternary  XGBoost  All nucleus features (-EFD's)   0.7029   0.7029   0.7029   \n",
       "\n",
       "  Falso Pos Especif F1_measure  \n",
       "0    0.3072  0.6928     0.6928  \n",
       "1    0.2930  0.7070     0.7070  \n",
       "2    0.2971  0.7029     0.7029  "
      ]
     },
     "execution_count": 19,
     "metadata": {},
     "output_type": "execute_result"
    }
   ],
   "source": [
    "# Acumula Matrizes de confusão:\n",
    "functions.plot_conf_matrix(conf_matrix_list, lbls=[0,1,2], disp_lbls=['Normal', 'Low G.','High G.'])\n",
    "results"
   ]
  },
  {
   "cell_type": "markdown",
   "id": "61ee4984",
   "metadata": {
    "id": "61ee4984"
   },
   "source": [
    "### Classificação Bethesda:"
   ]
  },
  {
   "cell_type": "code",
   "execution_count": 20,
   "id": "e86f6f83",
   "metadata": {
    "executionInfo": {
     "elapsed": 20,
     "status": "ok",
     "timestamp": 1670792079607,
     "user": {
      "displayName": "Daniela terra",
      "userId": "04965381838485374853"
     },
     "user_tz": 180
    },
    "id": "e86f6f83"
   },
   "outputs": [],
   "source": [
    "labels_list = []\n",
    "conf_matrix_list = []\n",
    "roc_curve_list = []\n",
    "\n",
    "# Data_frame de resultados\n",
    "results = pd.DataFrame(columns=['Tipo', 'Model', 'Features', 'Acurácia', 'Precisão', 'Sensibil' , 'Falso Pos', 'Especif', 'F1_measure'])"
   ]
  },
  {
   "cell_type": "code",
   "execution_count": 21,
   "id": "1b69ad55",
   "metadata": {
    "executionInfo": {
     "elapsed": 157983,
     "status": "ok",
     "timestamp": 1670792237572,
     "user": {
      "displayName": "Daniela terra",
      "userId": "04965381838485374853"
     },
     "user_tz": 180
    },
    "id": "1b69ad55"
   },
   "outputs": [],
   "source": [
    "for ci in range(3):\n",
    "    # Executa cross-validation e mostra curvas ROC\n",
    "    cv = StratifiedKFold(n_splits= N_SPLITS)\n",
    "    accs = precs = recs = specs = f1_scores = aucs = np.zeros((N_SPLITS), dtype = np.float64)\n",
    "    preds_y = np.zeros(target.shape[0])\n",
    "\n",
    "    ## Ajusta features para treino e teste\n",
    "    X = data[features].values\n",
    "    data_y = target['bethesda'].values\n",
    "\n",
    "\n",
    "    model = functions.getModel(params= params[ci], classifier = classifiers[ci], class_type = 'multiclass')\n",
    "    for i, (train, test) in enumerate(cv.split(X, data_y)):\n",
    "        # Ajusta modelo:\n",
    "        metric, model = functions.fit_model(X[train], data_y[train], model, cls_type=1, smote=1)    \n",
    "\n",
    "        # Predição:\n",
    "        pred_y = model.predict(X[test])\n",
    "        prob_y = model.predict_proba(X[test])\n",
    "\n",
    "        #Registra predições:\n",
    "        preds_y[test] = pred_y\n",
    "\n",
    "        # Calcula e registra métricas p/ fold:\n",
    "        accs[i] = functions.calc_metric(data_y[test], pred_y, metric_type='acc', class_type='multiclass', classes=[0,1,2,3,4,5])\n",
    "        precs[i] = functions.calc_metric(data_y[test], pred_y, metric_type='prec',class_type='multiclass', classes=[0,1,2,3,4,5])                \n",
    "        recs[i] = functions.calc_metric(data_y[test], pred_y, metric_type='rec',class_type='multiclass', classes=[0,1,2,3,4,5])                \n",
    "        specs[i] = functions.calc_metric(data_y[test], pred_y, metric_type='spec',class_type='multiclass', classes=[0,1,2,3,4,5])                \n",
    "        f1_scores[i] = functions.calc_metric(data_y[test], pred_y, metric_type='f1_score',class_type='multiclass', classes=[0,1,2,3,4,5])        \n",
    "\n",
    "\n",
    "    ## Registra resultados (dataframe):\n",
    "    metrics = {'acc': np.mean(accs), 'prec': np.mean(precs), 'rec': np.mean(recs), \n",
    "               'spec': np.mean(specs), 'f1_score': np.mean(f1_scores)}                                      \n",
    "    functions.fill_line_metrics_CV(classifiers[ci], features_desc, ci, metrics, results, class_type='bethesda')\n",
    "\n",
    "    # Registra confmatrix: \n",
    "    conf_matrix_list.append((data_y, preds_y, features_desc + \"- \"+classifiers[ci]))\n",
    " \n",
    "                  "
   ]
  },
  {
   "cell_type": "code",
   "execution_count": 22,
   "id": "30f8a3db",
   "metadata": {
    "colab": {
     "base_uri": "https://localhost:8080/",
     "height": 468
    },
    "executionInfo": {
     "elapsed": 1122,
     "status": "ok",
     "timestamp": 1670792238683,
     "user": {
      "displayName": "Daniela terra",
      "userId": "04965381838485374853"
     },
     "user_tz": 180
    },
    "id": "30f8a3db",
    "outputId": "fd4e6067-1fac-4faa-91f6-b3018a0d1e8a"
   },
   "outputs": [
    {
     "data": {
      "image/png": "[encoded data removed]",
      "text/plain": [
       "<Figure size 1080x648 with 3 Axes>"
      ]
     },
     "metadata": {
      "needs_background": "light"
     },
     "output_type": "display_data"
    },
    {
     "name": "stdout",
     "output_type": "stream",
     "text": [
      "\n",
      " Time taken: 0 hours 8 minutes and 39.37 seconds.\n"
     ]
    },
    {
     "data": {
      "text/html": [
       "<div>\n",
       "<style scoped>\n",
       "    .dataframe tbody tr th:only-of-type {\n",
       "        vertical-align: middle;\n",
       "    }\n",
       "\n",
       "    .dataframe tbody tr th {\n",
       "        vertical-align: top;\n",
       "    }\n",
       "\n",
       "    .dataframe thead th {\n",
       "        text-align: right;\n",
       "    }\n",
       "</style>\n",
       "<table border=\"1\" class=\"dataframe\">\n",
       "  <thead>\n",
       "    <tr style=\"text-align: right;\">\n",
       "      <th></th>\n",
       "      <th>Tipo</th>\n",
       "      <th>Model</th>\n",
       "      <th>Features</th>\n",
       "      <th>Acurácia</th>\n",
       "      <th>Precisão</th>\n",
       "      <th>Sensibil</th>\n",
       "      <th>Falso Pos</th>\n",
       "      <th>Especif</th>\n",
       "      <th>F1_measure</th>\n",
       "    </tr>\n",
       "  </thead>\n",
       "  <tbody>\n",
       "    <tr>\n",
       "      <th>0</th>\n",
       "      <td>bethesda</td>\n",
       "      <td>SVM</td>\n",
       "      <td>All nucleus features (-EFD's)</td>\n",
       "      <td>0.4458</td>\n",
       "      <td>0.4458</td>\n",
       "      <td>0.4458</td>\n",
       "      <td>0.5542</td>\n",
       "      <td>0.4458</td>\n",
       "      <td>0.4458</td>\n",
       "    </tr>\n",
       "    <tr>\n",
       "      <th>1</th>\n",
       "      <td>bethesda</td>\n",
       "      <td>RF</td>\n",
       "      <td>All nucleus features (-EFD's)</td>\n",
       "      <td>0.4711</td>\n",
       "      <td>0.4711</td>\n",
       "      <td>0.4711</td>\n",
       "      <td>0.5289</td>\n",
       "      <td>0.4711</td>\n",
       "      <td>0.4711</td>\n",
       "    </tr>\n",
       "    <tr>\n",
       "      <th>2</th>\n",
       "      <td>bethesda</td>\n",
       "      <td>XGBoost</td>\n",
       "      <td>All nucleus features (-EFD's)</td>\n",
       "      <td>0.4782</td>\n",
       "      <td>0.4782</td>\n",
       "      <td>0.4782</td>\n",
       "      <td>0.5218</td>\n",
       "      <td>0.4782</td>\n",
       "      <td>0.4782</td>\n",
       "    </tr>\n",
       "  </tbody>\n",
       "</table>\n",
       "</div>"
      ],
      "text/plain": [
       "       Tipo    Model                       Features Acurácia Precisão  \\\n",
       "0  bethesda      SVM  All nucleus features (-EFD's)   0.4458   0.4458   \n",
       "1  bethesda       RF  All nucleus features (-EFD's)   0.4711   0.4711   \n",
       "2  bethesda  XGBoost  All nucleus features (-EFD's)   0.4782   0.4782   \n",
       "\n",
       "  Sensibil Falso Pos Especif F1_measure  \n",
       "0   0.4458    0.5542  0.4458     0.4458  \n",
       "1   0.4711    0.5289  0.4711     0.4711  \n",
       "2   0.4782    0.5218  0.4782     0.4782  "
      ]
     },
     "execution_count": 22,
     "metadata": {},
     "output_type": "execute_result"
    }
   ],
   "source": [
    "# Acumula Matrizes de confusão:\n",
    "functions.plot_conf_matrix(conf_matrix_list, lbls=[0,1,2,3,4,5], disp_lbls=['Normal', 'ASC-US','ASC-H','LSIL', 'HSIL', 'SCC'])\n",
    "functions.timer(start_t)\n",
    "results"
   ]
  },
  {
   "cell_type": "code",
   "execution_count": null,
   "id": "e7b8397a",
   "metadata": {},
   "outputs": [],
   "source": []
  }
 ],
 "metadata": {
  "colab": {
   "provenance": []
  },
  "kernelspec": {
   "display_name": "Python 3 (ipykernel)",
   "language": "python",
   "name": "python3"
  },
  "language_info": {
   "codemirror_mode": {
    "name": "ipython",
    "version": 3
   },
   "file_extension": ".py",
   "mimetype": "text/x-python",
   "name": "python",
   "nbconvert_exporter": "python",
   "pygments_lexer": "ipython3",
   "version": "3.9.1"
  }
 },
 "nbformat": 4,
 "nbformat_minor": 5
}
