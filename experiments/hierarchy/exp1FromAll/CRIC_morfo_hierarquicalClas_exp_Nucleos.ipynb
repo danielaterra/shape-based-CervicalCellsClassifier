{
 "cells": [
  {
   "cell_type": "markdown",
   "id": "5b43ab41",
   "metadata": {
    "id": "5b43ab41"
   },
   "source": [
    "## Classificador hierárquico para características morfométricas de núcleo de células cervicais "
   ]
  },
  {
   "cell_type": "code",
   "execution_count": 1,
   "id": "xp4d14xwjqX_",
   "metadata": {
    "colab": {
     "base_uri": "https://localhost:8080/"
    },
    "executionInfo": {
     "elapsed": 3260,
     "status": "ok",
     "timestamp": 1670869284249,
     "user": {
      "displayName": "Daniela terra",
      "userId": "04965381838485374853"
     },
     "user_tz": 180
    },
    "id": "xp4d14xwjqX_",
    "outputId": "b241190e-0fc2-474b-9ed7-65e1317874a0"
   },
   "outputs": [],
   "source": [
    "#!pip install pyefd"
   ]
  },
  {
   "cell_type": "code",
   "execution_count": 2,
   "id": "F9eCa9YMjqif",
   "metadata": {
    "colab": {
     "base_uri": "https://localhost:8080/"
    },
    "executionInfo": {
     "elapsed": 3424,
     "status": "ok",
     "timestamp": 1670869287654,
     "user": {
      "displayName": "Daniela terra",
      "userId": "04965381838485374853"
     },
     "user_tz": 180
    },
    "id": "F9eCa9YMjqif",
    "outputId": "7dbcccb5-b9cc-4df3-8d17-6638c796934f"
   },
   "outputs": [],
   "source": [
    "#from google.colab import drive\n",
    "#drive.mount('/content/drive')"
   ]
  },
  {
   "cell_type": "code",
   "execution_count": 3,
   "id": "n7WDolsijqrn",
   "metadata": {
    "executionInfo": {
     "elapsed": 71,
     "status": "ok",
     "timestamp": 1670869287655,
     "user": {
      "displayName": "Daniela terra",
      "userId": "04965381838485374853"
     },
     "user_tz": 180
    },
    "id": "n7WDolsijqrn"
   },
   "outputs": [],
   "source": [
    "#import sys\n",
    "#sys.path.insert(0,\"/content/drive/MyDrive/shape_based_CRIC_Hclassifier\")"
   ]
  },
  {
   "cell_type": "code",
   "execution_count": 4,
   "id": "cd46ce97",
   "metadata": {
    "executionInfo": {
     "elapsed": 72,
     "status": "ok",
     "timestamp": 1670869287657,
     "user": {
      "displayName": "Daniela terra",
      "userId": "04965381838485374853"
     },
     "user_tz": 180
    },
    "id": "cd46ce97"
   },
   "outputs": [
    {
     "name": "stderr",
     "output_type": "stream",
     "text": [
      "c:\\python39\\lib\\site-packages\\pkg_resources\\__init__.py:123: PkgResourcesDeprecationWarning: p is an invalid version and will not be supported in a future release\n",
      "  warnings.warn(\n"
     ]
    }
   ],
   "source": [
    "import numpy as np\n",
    "import pandas as pd \n",
    "from math import sqrt\n",
    "import os\n",
    "import sys\n",
    "import csv\n",
    "from collections import Counter\n",
    "from PIL import Image\n",
    "import matplotlib.pyplot as plt\n",
    "from matplotlib.pyplot import imshow \n",
    "from skimage import morphology, measure\n",
    "from skimage.draw import polygon, polygon_perimeter\n",
    "from scipy.spatial.distance import cdist\n",
    "from scipy.stats import kurtosis\n",
    "\n",
    "import pyefd\n",
    "from pyefd import elliptic_fourier_descriptors, normalize_efd\n",
    "\n",
    "from sklearn.metrics import accuracy_score, balanced_accuracy_score\n",
    "from sklearn.metrics import precision_score, recall_score\n",
    "from sklearn.metrics import confusion_matrix, ConfusionMatrixDisplay\n",
    "from sklearn.metrics import f1_score\n",
    "from sklearn.metrics import confusion_matrix\n",
    "from sklearn.metrics import roc_curve, auc\n",
    "from sklearn.model_selection import train_test_split\n",
    "from sklearn.neighbors import KNeighborsClassifier\n",
    "from sklearn.naive_bayes import GaussianNB\n",
    "from sklearn.svm import SVC\n",
    "from sklearn.ensemble import RandomForestClassifier\n",
    "from sklearn.model_selection import train_test_split, StratifiedKFold\n",
    "from sklearn import feature_selection as fs\n",
    "from sklearn import preprocessing\n",
    "\n",
    "from datetime import datetime\n",
    "\n",
    "# pay attention to capitalization below!\n",
    "from spFSR import SpFSR\n",
    "from imblearn.over_sampling import SMOTE, ADASYN, SVMSMOTE, BorderlineSMOTE\n",
    "\n",
    "from itertools import cycle\n",
    "from random import randint\n",
    "from random import sample\n",
    "\n",
    "import xgboost as xgb \n",
    "\n",
    "import functions, shapeFeatures"
   ]
  },
  {
   "cell_type": "code",
   "execution_count": 5,
   "id": "b3b5ed51",
   "metadata": {
    "executionInfo": {
     "elapsed": 70,
     "status": "ok",
     "timestamp": 1670869287658,
     "user": {
      "displayName": "Daniela terra",
      "userId": "04965381838485374853"
     },
     "user_tz": 180
    },
    "id": "b3b5ed51"
   },
   "outputs": [],
   "source": [
    "Bethesda_classes = {'Normal':0, 'ASC-US':1, 'ASC-H':2, 'LSIL':3,'HSIL':4, 'Invasive Carcinoma':5} \n",
    "Bethesda_idx_classes = {0: 'Normal', 1:'ASC-US', 2:'ASC-H', 3:'LSIL',4: 'HSIL', 5:'Invasive Carcinoma'} "
   ]
  },
  {
   "cell_type": "markdown",
   "id": "a02b81cb",
   "metadata": {
    "id": "a02b81cb"
   },
   "source": [
    "### Features:"
   ]
  },
  {
   "cell_type": "code",
   "execution_count": 6,
   "id": "4457980a",
   "metadata": {
    "colab": {
     "base_uri": "https://localhost:8080/"
    },
    "executionInfo": {
     "elapsed": 71,
     "status": "ok",
     "timestamp": 1670869287661,
     "user": {
      "displayName": "Daniela terra",
      "userId": "04965381838485374853"
     },
     "user_tz": 180
    },
    "id": "4457980a",
    "outputId": "485b122d-d45b-4f0a-9d33-63588e6445d5"
   },
   "outputs": [
    {
     "data": {
      "text/plain": [
       "(200, 98, 98, 154)"
      ]
     },
     "execution_count": 6,
     "metadata": {},
     "output_type": "execute_result"
    }
   ],
   "source": [
    "len(functions.list_all_features(20)), len(functions.list_all_nucleus_features(20)), len(functions.list_all_cyto_features(20)), len(functions.list_all_EFD_features(20))\n"
   ]
  },
  {
   "cell_type": "markdown",
   "id": "d6f815eb",
   "metadata": {
    "id": "d6f815eb"
   },
   "source": [
    "### Lê arquivo (features):"
   ]
  },
  {
   "cell_type": "code",
   "execution_count": 7,
   "id": "1f00307b",
   "metadata": {
    "executionInfo": {
     "elapsed": 66,
     "status": "ok",
     "timestamp": 1670869287662,
     "user": {
      "displayName": "Daniela terra",
      "userId": "04965381838485374853"
     },
     "user_tz": 180
    },
    "id": "1f00307b"
   },
   "outputs": [],
   "source": [
    "N_EFD_COEFFS = 20"
   ]
  },
  {
   "cell_type": "code",
   "execution_count": 8,
   "id": "8d2400f4",
   "metadata": {
    "executionInfo": {
     "elapsed": 66,
     "status": "ok",
     "timestamp": 1670869287663,
     "user": {
      "displayName": "Daniela terra",
      "userId": "04965381838485374853"
     },
     "user_tz": 180
    },
    "id": "8d2400f4"
   },
   "outputs": [],
   "source": [
    "df = pd.read_csv('dataCRIC.csv', sep='|', header=0)\n",
    "#df = pd.read_csv('/content/drive/MyDrive/shape_based_CRIC_Hclassifier/dataCRIC.csv', sep='|', header=0)\n",
    "df = shapeFeatures.normalize_dataset(df, n_efd_coeffs= N_EFD_COEFFS)\n",
    " "
   ]
  },
  {
   "cell_type": "code",
   "execution_count": 9,
   "id": "a5c0dc99",
   "metadata": {
    "colab": {
     "base_uri": "https://localhost:8080/",
     "height": 488
    },
    "executionInfo": {
     "elapsed": 67,
     "status": "ok",
     "timestamp": 1670869287665,
     "user": {
      "displayName": "Daniela terra",
      "userId": "04965381838485374853"
     },
     "user_tz": 180
    },
    "id": "a5c0dc99",
    "outputId": "6b39b8c3-7c50-4eee-db18-7b7e2dd99de0",
    "scrolled": false
   },
   "outputs": [
    {
     "data": {
      "text/html": [
       "<div>\n",
       "<style scoped>\n",
       "    .dataframe tbody tr th:only-of-type {\n",
       "        vertical-align: middle;\n",
       "    }\n",
       "\n",
       "    .dataframe tbody tr th {\n",
       "        vertical-align: top;\n",
       "    }\n",
       "\n",
       "    .dataframe thead th {\n",
       "        text-align: right;\n",
       "    }\n",
       "</style>\n",
       "<table border=\"1\" class=\"dataframe\">\n",
       "  <thead>\n",
       "    <tr style=\"text-align: right;\">\n",
       "      <th></th>\n",
       "      <th>image_id</th>\n",
       "      <th>cell_id</th>\n",
       "      <th>areaN</th>\n",
       "      <th>eccenN</th>\n",
       "      <th>extentN</th>\n",
       "      <th>periN</th>\n",
       "      <th>maxAxN</th>\n",
       "      <th>minAxN</th>\n",
       "      <th>compacN</th>\n",
       "      <th>circuN</th>\n",
       "      <th>...</th>\n",
       "      <th>efdC73</th>\n",
       "      <th>efdC74</th>\n",
       "      <th>efdC75</th>\n",
       "      <th>efdC76</th>\n",
       "      <th>efdC77</th>\n",
       "      <th>ratio_NC</th>\n",
       "      <th>ratio_NC_per</th>\n",
       "      <th>ratio_NC_hArea</th>\n",
       "      <th>nucleus_position</th>\n",
       "      <th>bethesda</th>\n",
       "    </tr>\n",
       "  </thead>\n",
       "  <tbody>\n",
       "    <tr>\n",
       "      <th>0</th>\n",
       "      <td>1.0</td>\n",
       "      <td>14796.0</td>\n",
       "      <td>0.007403</td>\n",
       "      <td>0.606414</td>\n",
       "      <td>0.842276</td>\n",
       "      <td>0.031326</td>\n",
       "      <td>0.036711</td>\n",
       "      <td>0.083827</td>\n",
       "      <td>0.024126</td>\n",
       "      <td>0.863522</td>\n",
       "      <td>...</td>\n",
       "      <td>0.156532</td>\n",
       "      <td>0.321490</td>\n",
       "      <td>0.859931</td>\n",
       "      <td>0.382225</td>\n",
       "      <td>0.302311</td>\n",
       "      <td>0.017236</td>\n",
       "      <td>0.115646</td>\n",
       "      <td>0.016730</td>\n",
       "      <td>0.099098</td>\n",
       "      <td>0.0</td>\n",
       "    </tr>\n",
       "    <tr>\n",
       "      <th>1</th>\n",
       "      <td>1.0</td>\n",
       "      <td>14797.0</td>\n",
       "      <td>0.009371</td>\n",
       "      <td>0.541484</td>\n",
       "      <td>0.808102</td>\n",
       "      <td>0.035945</td>\n",
       "      <td>0.039493</td>\n",
       "      <td>0.095649</td>\n",
       "      <td>0.018763</td>\n",
       "      <td>0.891071</td>\n",
       "      <td>...</td>\n",
       "      <td>0.150931</td>\n",
       "      <td>0.317850</td>\n",
       "      <td>0.859539</td>\n",
       "      <td>0.369221</td>\n",
       "      <td>0.299938</td>\n",
       "      <td>0.010656</td>\n",
       "      <td>0.089517</td>\n",
       "      <td>0.010168</td>\n",
       "      <td>0.121456</td>\n",
       "      <td>0.0</td>\n",
       "    </tr>\n",
       "    <tr>\n",
       "      <th>2</th>\n",
       "      <td>1.0</td>\n",
       "      <td>14798.0</td>\n",
       "      <td>0.007275</td>\n",
       "      <td>0.313794</td>\n",
       "      <td>0.884418</td>\n",
       "      <td>0.029457</td>\n",
       "      <td>0.025365</td>\n",
       "      <td>0.097062</td>\n",
       "      <td>0.018895</td>\n",
       "      <td>0.890378</td>\n",
       "      <td>...</td>\n",
       "      <td>0.153458</td>\n",
       "      <td>0.315454</td>\n",
       "      <td>0.861978</td>\n",
       "      <td>0.367980</td>\n",
       "      <td>0.302076</td>\n",
       "      <td>0.007400</td>\n",
       "      <td>0.073961</td>\n",
       "      <td>0.006897</td>\n",
       "      <td>0.043773</td>\n",
       "      <td>0.0</td>\n",
       "    </tr>\n",
       "    <tr>\n",
       "      <th>3</th>\n",
       "      <td>1.0</td>\n",
       "      <td>14799.0</td>\n",
       "      <td>0.010570</td>\n",
       "      <td>0.489270</td>\n",
       "      <td>0.778201</td>\n",
       "      <td>0.040199</td>\n",
       "      <td>0.040900</td>\n",
       "      <td>0.103428</td>\n",
       "      <td>0.021001</td>\n",
       "      <td>0.879403</td>\n",
       "      <td>...</td>\n",
       "      <td>0.157254</td>\n",
       "      <td>0.319562</td>\n",
       "      <td>0.860312</td>\n",
       "      <td>0.382943</td>\n",
       "      <td>0.303682</td>\n",
       "      <td>0.028309</td>\n",
       "      <td>0.154784</td>\n",
       "      <td>0.027752</td>\n",
       "      <td>0.128927</td>\n",
       "      <td>0.0</td>\n",
       "    </tr>\n",
       "    <tr>\n",
       "      <th>4</th>\n",
       "      <td>1.0</td>\n",
       "      <td>14801.0</td>\n",
       "      <td>0.009115</td>\n",
       "      <td>0.296366</td>\n",
       "      <td>0.842276</td>\n",
       "      <td>0.036826</td>\n",
       "      <td>0.031283</td>\n",
       "      <td>0.106376</td>\n",
       "      <td>0.024456</td>\n",
       "      <td>0.861871</td>\n",
       "      <td>...</td>\n",
       "      <td>0.147193</td>\n",
       "      <td>0.314554</td>\n",
       "      <td>0.860292</td>\n",
       "      <td>0.359672</td>\n",
       "      <td>0.300094</td>\n",
       "      <td>0.021569</td>\n",
       "      <td>0.129992</td>\n",
       "      <td>0.020738</td>\n",
       "      <td>0.069245</td>\n",
       "      <td>0.0</td>\n",
       "    </tr>\n",
       "    <tr>\n",
       "      <th>...</th>\n",
       "      <td>...</td>\n",
       "      <td>...</td>\n",
       "      <td>...</td>\n",
       "      <td>...</td>\n",
       "      <td>...</td>\n",
       "      <td>...</td>\n",
       "      <td>...</td>\n",
       "      <td>...</td>\n",
       "      <td>...</td>\n",
       "      <td>...</td>\n",
       "      <td>...</td>\n",
       "      <td>...</td>\n",
       "      <td>...</td>\n",
       "      <td>...</td>\n",
       "      <td>...</td>\n",
       "      <td>...</td>\n",
       "      <td>...</td>\n",
       "      <td>...</td>\n",
       "      <td>...</td>\n",
       "      <td>...</td>\n",
       "      <td>...</td>\n",
       "    </tr>\n",
       "    <tr>\n",
       "      <th>3228</th>\n",
       "      <td>399.0</td>\n",
       "      <td>11539.0</td>\n",
       "      <td>0.028927</td>\n",
       "      <td>0.838629</td>\n",
       "      <td>0.579720</td>\n",
       "      <td>0.094256</td>\n",
       "      <td>0.134656</td>\n",
       "      <td>0.118369</td>\n",
       "      <td>0.041270</td>\n",
       "      <td>0.784196</td>\n",
       "      <td>...</td>\n",
       "      <td>0.152113</td>\n",
       "      <td>0.318217</td>\n",
       "      <td>0.859606</td>\n",
       "      <td>0.370535</td>\n",
       "      <td>0.299400</td>\n",
       "      <td>0.206211</td>\n",
       "      <td>0.149094</td>\n",
       "      <td>0.085315</td>\n",
       "      <td>1.943974</td>\n",
       "      <td>5.0</td>\n",
       "    </tr>\n",
       "    <tr>\n",
       "      <th>3229</th>\n",
       "      <td>399.0</td>\n",
       "      <td>11540.0</td>\n",
       "      <td>0.025333</td>\n",
       "      <td>0.874227</td>\n",
       "      <td>0.645532</td>\n",
       "      <td>0.094611</td>\n",
       "      <td>0.135676</td>\n",
       "      <td>0.100778</td>\n",
       "      <td>0.064959</td>\n",
       "      <td>0.692461</td>\n",
       "      <td>...</td>\n",
       "      <td>0.150010</td>\n",
       "      <td>0.322108</td>\n",
       "      <td>0.859366</td>\n",
       "      <td>0.375599</td>\n",
       "      <td>0.300755</td>\n",
       "      <td>0.245537</td>\n",
       "      <td>0.247086</td>\n",
       "      <td>0.136756</td>\n",
       "      <td>0.916374</td>\n",
       "      <td>5.0</td>\n",
       "    </tr>\n",
       "    <tr>\n",
       "      <th>3230</th>\n",
       "      <td>400.0</td>\n",
       "      <td>11535.0</td>\n",
       "      <td>0.017031</td>\n",
       "      <td>0.910741</td>\n",
       "      <td>0.390863</td>\n",
       "      <td>0.092280</td>\n",
       "      <td>0.136377</td>\n",
       "      <td>0.078990</td>\n",
       "      <td>0.131860</td>\n",
       "      <td>0.507358</td>\n",
       "      <td>...</td>\n",
       "      <td>0.153944</td>\n",
       "      <td>0.319972</td>\n",
       "      <td>0.860379</td>\n",
       "      <td>0.372458</td>\n",
       "      <td>0.303245</td>\n",
       "      <td>0.191508</td>\n",
       "      <td>0.471092</td>\n",
       "      <td>0.188343</td>\n",
       "      <td>0.326252</td>\n",
       "      <td>5.0</td>\n",
       "    </tr>\n",
       "    <tr>\n",
       "      <th>3231</th>\n",
       "      <td>400.0</td>\n",
       "      <td>11536.0</td>\n",
       "      <td>0.020797</td>\n",
       "      <td>0.949322</td>\n",
       "      <td>0.528816</td>\n",
       "      <td>0.105709</td>\n",
       "      <td>0.169029</td>\n",
       "      <td>0.065965</td>\n",
       "      <td>0.137720</td>\n",
       "      <td>0.494794</td>\n",
       "      <td>...</td>\n",
       "      <td>0.151898</td>\n",
       "      <td>0.320620</td>\n",
       "      <td>0.859608</td>\n",
       "      <td>0.370771</td>\n",
       "      <td>0.299599</td>\n",
       "      <td>0.111823</td>\n",
       "      <td>0.078186</td>\n",
       "      <td>0.023058</td>\n",
       "      <td>3.177247</td>\n",
       "      <td>5.0</td>\n",
       "    </tr>\n",
       "    <tr>\n",
       "      <th>3232</th>\n",
       "      <td>400.0</td>\n",
       "      <td>11537.0</td>\n",
       "      <td>0.025076</td>\n",
       "      <td>0.822746</td>\n",
       "      <td>0.749691</td>\n",
       "      <td>0.090669</td>\n",
       "      <td>0.120781</td>\n",
       "      <td>0.114052</td>\n",
       "      <td>0.055801</td>\n",
       "      <td>0.725789</td>\n",
       "      <td>...</td>\n",
       "      <td>0.143373</td>\n",
       "      <td>0.318753</td>\n",
       "      <td>0.868085</td>\n",
       "      <td>0.362569</td>\n",
       "      <td>0.279162</td>\n",
       "      <td>0.448090</td>\n",
       "      <td>0.346307</td>\n",
       "      <td>0.181780</td>\n",
       "      <td>0.653692</td>\n",
       "      <td>5.0</td>\n",
       "    </tr>\n",
       "  </tbody>\n",
       "</table>\n",
       "<p>3233 rows × 203 columns</p>\n",
       "</div>"
      ],
      "text/plain": [
       "      image_id  cell_id     areaN    eccenN   extentN     periN    maxAxN  \\\n",
       "0          1.0  14796.0  0.007403  0.606414  0.842276  0.031326  0.036711   \n",
       "1          1.0  14797.0  0.009371  0.541484  0.808102  0.035945  0.039493   \n",
       "2          1.0  14798.0  0.007275  0.313794  0.884418  0.029457  0.025365   \n",
       "3          1.0  14799.0  0.010570  0.489270  0.778201  0.040199  0.040900   \n",
       "4          1.0  14801.0  0.009115  0.296366  0.842276  0.036826  0.031283   \n",
       "...        ...      ...       ...       ...       ...       ...       ...   \n",
       "3228     399.0  11539.0  0.028927  0.838629  0.579720  0.094256  0.134656   \n",
       "3229     399.0  11540.0  0.025333  0.874227  0.645532  0.094611  0.135676   \n",
       "3230     400.0  11535.0  0.017031  0.910741  0.390863  0.092280  0.136377   \n",
       "3231     400.0  11536.0  0.020797  0.949322  0.528816  0.105709  0.169029   \n",
       "3232     400.0  11537.0  0.025076  0.822746  0.749691  0.090669  0.120781   \n",
       "\n",
       "        minAxN   compacN    circuN  ...    efdC73    efdC74    efdC75  \\\n",
       "0     0.083827  0.024126  0.863522  ...  0.156532  0.321490  0.859931   \n",
       "1     0.095649  0.018763  0.891071  ...  0.150931  0.317850  0.859539   \n",
       "2     0.097062  0.018895  0.890378  ...  0.153458  0.315454  0.861978   \n",
       "3     0.103428  0.021001  0.879403  ...  0.157254  0.319562  0.860312   \n",
       "4     0.106376  0.024456  0.861871  ...  0.147193  0.314554  0.860292   \n",
       "...        ...       ...       ...  ...       ...       ...       ...   \n",
       "3228  0.118369  0.041270  0.784196  ...  0.152113  0.318217  0.859606   \n",
       "3229  0.100778  0.064959  0.692461  ...  0.150010  0.322108  0.859366   \n",
       "3230  0.078990  0.131860  0.507358  ...  0.153944  0.319972  0.860379   \n",
       "3231  0.065965  0.137720  0.494794  ...  0.151898  0.320620  0.859608   \n",
       "3232  0.114052  0.055801  0.725789  ...  0.143373  0.318753  0.868085   \n",
       "\n",
       "        efdC76    efdC77  ratio_NC  ratio_NC_per  ratio_NC_hArea  \\\n",
       "0     0.382225  0.302311  0.017236      0.115646        0.016730   \n",
       "1     0.369221  0.299938  0.010656      0.089517        0.010168   \n",
       "2     0.367980  0.302076  0.007400      0.073961        0.006897   \n",
       "3     0.382943  0.303682  0.028309      0.154784        0.027752   \n",
       "4     0.359672  0.300094  0.021569      0.129992        0.020738   \n",
       "...        ...       ...       ...           ...             ...   \n",
       "3228  0.370535  0.299400  0.206211      0.149094        0.085315   \n",
       "3229  0.375599  0.300755  0.245537      0.247086        0.136756   \n",
       "3230  0.372458  0.303245  0.191508      0.471092        0.188343   \n",
       "3231  0.370771  0.299599  0.111823      0.078186        0.023058   \n",
       "3232  0.362569  0.279162  0.448090      0.346307        0.181780   \n",
       "\n",
       "      nucleus_position  bethesda  \n",
       "0             0.099098       0.0  \n",
       "1             0.121456       0.0  \n",
       "2             0.043773       0.0  \n",
       "3             0.128927       0.0  \n",
       "4             0.069245       0.0  \n",
       "...                ...       ...  \n",
       "3228          1.943974       5.0  \n",
       "3229          0.916374       5.0  \n",
       "3230          0.326252       5.0  \n",
       "3231          3.177247       5.0  \n",
       "3232          0.653692       5.0  \n",
       "\n",
       "[3233 rows x 203 columns]"
      ]
     },
     "execution_count": 9,
     "metadata": {},
     "output_type": "execute_result"
    }
   ],
   "source": [
    "df"
   ]
  },
  {
   "cell_type": "code",
   "execution_count": 10,
   "id": "581d6797",
   "metadata": {
    "colab": {
     "base_uri": "https://localhost:8080/"
    },
    "executionInfo": {
     "elapsed": 63,
     "status": "ok",
     "timestamp": 1670869287667,
     "user": {
      "displayName": "Daniela terra",
      "userId": "04965381838485374853"
     },
     "user_tz": 180
    },
    "id": "581d6797",
    "outputId": "74709e3e-7363-413e-ed1b-692f915ba1a2",
    "scrolled": true
   },
   "outputs": [
    {
     "name": "stdout",
     "output_type": "stream",
     "text": [
      "--- Totais por classe --- \n",
      "Normal...:  862\n",
      "ASC-Us...:  286\n",
      "ASC-H....:  536\n",
      "LSIL.....:  598\n",
      "HSIL.....:  874\n",
      "Carcinoma:  77\n"
     ]
    }
   ],
   "source": [
    "# Separa dados por classe de maneira balanceada:\n",
    "data_normal = df[df['bethesda'] == 0].copy()\n",
    "data_normal.set_index((i for i in range(data_normal.shape[0])), inplace=True)\n",
    "\n",
    "data_ascus = df[df['bethesda'] == 1].copy()\n",
    "data_ascus.set_index((i for i in range(data_ascus.shape[0])), inplace=True)\n",
    "\n",
    "data_asch = df[df['bethesda'] == 2].copy()\n",
    "data_asch.set_index((i for i in range(data_asch.shape[0])), inplace=True)\n",
    "\n",
    "data_lsil = df[df['bethesda'] == 3].copy()\n",
    "data_lsil.set_index((i for i in range(data_lsil.shape[0])), inplace=True)\n",
    "\n",
    "data_hsil = df[df['bethesda'] == 4].copy()\n",
    "data_hsil.set_index((i for i in range(data_hsil.shape[0])), inplace=True)\n",
    "\n",
    "data_car = df[df['bethesda'] == 5].copy()\n",
    "data_car.set_index((i for i in range(data_car.shape[0])), inplace=True)\n",
    "\n",
    "print(\"--- Totais por classe --- \")               \n",
    "print(\"Normal...: \", data_normal.values.shape[0])               \n",
    "print(\"ASC-Us...: \", data_ascus.values.shape[0])               \n",
    "print(\"ASC-H....: \", data_asch.values.shape[0])               \n",
    "print(\"LSIL.....: \", data_lsil.values.shape[0])               \n",
    "print(\"HSIL.....: \", data_hsil.values.shape[0])               \n",
    "print(\"Carcinoma: \", data_car.values.shape[0]) \n",
    " "
   ]
  },
  {
   "cell_type": "markdown",
   "id": "2ef3e8af",
   "metadata": {
    "id": "2ef3e8af"
   },
   "source": [
    "#### Gera dataframes: dados (data), classes (target) e Ids (image/cell)"
   ]
  },
  {
   "cell_type": "code",
   "execution_count": 11,
   "id": "56929844",
   "metadata": {
    "executionInfo": {
     "elapsed": 59,
     "status": "ok",
     "timestamp": 1670869287668,
     "user": {
      "displayName": "Daniela terra",
      "userId": "04965381838485374853"
     },
     "user_tz": 180
    },
    "id": "56929844"
   },
   "outputs": [],
   "source": [
    "# Monta base (data, target, image/cells ids)\n",
    "data, target, image_cells_ids= functions.get_database_data_targe_ids(data_normal, data_ascus, \n",
    "                       data_lsil, data_asch, data_hsil,data_car,\n",
    "                       functions.list_all_nucleus_features(N_EFD_COEFFS))\n",
    " "
   ]
  },
  {
   "cell_type": "code",
   "execution_count": 12,
   "id": "e02587fc",
   "metadata": {
    "executionInfo": {
     "elapsed": 59,
     "status": "ok",
     "timestamp": 1670869287669,
     "user": {
      "displayName": "Daniela terra",
      "userId": "04965381838485374853"
     },
     "user_tz": 180
    },
    "id": "e02587fc"
   },
   "outputs": [],
   "source": [
    "## Parâmetros resultantes de gridsearch dos modelos (tuning.ipynb)\n",
    "svm_param =  {'C': 100, 'kernel': 'linear'}\n",
    "rf_param = {'max_depth': 7, 'min_samples_split': 10, 'n_estimators': 50}\n",
    "xgb_param = {'learning_rate': 0.1, 'n_estimators': 86, 'max_depth': 9, 'min_child_weight':1,\n",
    "              'gamma':0, 'subsample':0.9, 'colsample_bytree':0.7, 'reg_alpha': 0.001}"
   ]
  },
  {
   "cell_type": "code",
   "execution_count": 13,
   "id": "26b7c70e",
   "metadata": {
    "colab": {
     "base_uri": "https://localhost:8080/"
    },
    "executionInfo": {
     "elapsed": 60,
     "status": "ok",
     "timestamp": 1670869287671,
     "user": {
      "displayName": "Daniela terra",
      "userId": "04965381838485374853"
     },
     "user_tz": 180
    },
    "id": "26b7c70e",
    "outputId": "a8b2a2b3-17a5-4c1d-cb45-73284e34acee"
   },
   "outputs": [
    {
     "name": "stdout",
     "output_type": "stream",
     "text": [
      "Nº total de de features: 98\n"
     ]
    }
   ],
   "source": [
    "classifiers = ['SVM', 'RF', 'XGBoost']\n",
    "params = [svm_param, rf_param, xgb_param]\n",
    "features = functions.list_all_nucleus_features(N_EFD_COEFFS)\n",
    "print(f'Nº total de de features: {len(features)}')"
   ]
  },
  {
   "cell_type": "code",
   "execution_count": 14,
   "id": "b91d5a76",
   "metadata": {
    "executionInfo": {
     "elapsed": 57,
     "status": "ok",
     "timestamp": 1670869287674,
     "user": {
      "displayName": "Daniela terra",
      "userId": "04965381838485374853"
     },
     "user_tz": 180
    },
    "id": "b91d5a76"
   },
   "outputs": [],
   "source": [
    "#### Features resultantes seleção prévia (Vide arquivos <features_selection>.ipynb)\n",
    "\n",
    "best_features_MI_1 =   ['mrdN','eN','maxAxN','periN','ardN','hAreaN','areaN','equidiaN','fdN',\n",
    "                        'riN','circuN','compacN','minAxN','convexN','elonN','extentN','kN','raN',\n",
    "                        'efdN72','eccenN','efdN74','efdN69','efdN76','efdN77','solidN','efdN70',\n",
    "                        'efdN73','efdN71','efdN75','efdN61']\n",
    "best_features_MI_2 =   ['areaN','equidiaN','fdN','hAreaN','periN','riN','ardN','minAxN','maxAxN',\n",
    "                        'mrdN','eN','efdN71','efdN75','efdN70','efdN74','elonN','efdN58','efdN63',\n",
    "                        'convexN','efdN55','efdN54','efdN38','efdN66','efdN51','efdN50','efdN62',\n",
    "                        'efdN42','efdN46','efdN4','efdN12']\n",
    "best_features_MI_3 = ['efdN76','efdN12','efdN39','extentN','mrdN','efdN15','minAxN','efdN33',\n",
    "                      'efdN37','efdN25','efdN62','efdN65','efdN2','efdN55','efdN38','efdN36',\n",
    "                      'efdN24','efdN1','efdN69','sdnrlN','efdN52','elonN','efdN3','efdN41',\n",
    "                      'efdN26','riN','fdN','efdN74','efdN6','efdN23']\n",
    "best_features_MI_4 =  ['convexN','efdN77','efdN4','efdN33','efdN19','extentN','efdN9','efdN60',\n",
    "                       'efdN17','efdN20','efdN43','raN','efdN18','efdN15','efdN12','efdN63',\n",
    "                       'efdN44','fdN','riN','eN','eccenN','efdN47','efdN64','circuN','compacN',\n",
    "                       'efdN10','solidN','efdN29','mrdN','efdN58'] \n",
    "\n",
    "best_features_spfsr_1 = ['ardN','circuN','compacN','efdN75','periN','efdN4','eN','efdN71',\n",
    "                         'equidiaN','mrdN','efdN66','efdN41','efdN70','areaN','efdN63','extentN',\n",
    "                         'riN','efdN17','efdN6','solidN','efdN76','maxAxN','elonN','efdN16',\n",
    "                         'efdN60','convexN','efdN20','efdN30','efdN59','sdnrlN']  \n",
    "best_features_spfsr_2 =   ['convexN','periN','equidiaN','areaN','solidN','sdnrlN','efdN6','efdN27',\n",
    "                           'eN','efdN28','efdN52','efdN68','efdN14','efdN18','efdN16','extentN',\n",
    "                           'compacN','raN','efdN53','efdN13','fdN','ardN','hAreaN','kN','efdN30',\n",
    "                           'minAxN','efdN59','efdN12','efdN34','efdN1']\n",
    "best_features_spfsr_3 =    ['solidN','efdN8','efdN9','raN','elonN','efdN42','efdN27','efdN4','efdN76',\n",
    "                            'efdN56','efdN7','circuN','efdN75','efdN71','efdN36','efdN69','efdN74',\n",
    "                            'efdN40','efdN68','compacN','efdN63','efdN44','efdN2','extentN','riN',\n",
    "                            'efdN57','fdN','efdN46','efdN23','efdN18']\n",
    "best_features_spfsr_4 =  ['convexN','elonN','efdN1','minAxN','raN','hAreaN','efdN49','solidN',\n",
    "                          'efdN75','efdN57','efdN70','efdN72','efdN68','circuN','efdN44','eccenN',\n",
    "                          'extentN','efdN74','areaN','efdN4','compacN','periN','efdN23','efdN27',\n",
    "                          'kN','efdN69','mrdN','efdN25','efdN73','efdN53'] "
   ]
  },
  {
   "cell_type": "code",
   "execution_count": 15,
   "id": "513173bc",
   "metadata": {
    "colab": {
     "base_uri": "https://localhost:8080/"
    },
    "executionInfo": {
     "elapsed": 56,
     "status": "ok",
     "timestamp": 1670869287676,
     "user": {
      "displayName": "Daniela terra",
      "userId": "04965381838485374853"
     },
     "user_tz": 180
    },
    "id": "513173bc",
    "outputId": "a96eb489-a157-45a0-97cc-a6dd26834b67"
   },
   "outputs": [
    {
     "data": {
      "text/plain": [
       "(30, 30, 30, 30)"
      ]
     },
     "execution_count": 15,
     "metadata": {},
     "output_type": "execute_result"
    }
   ],
   "source": [
    "len(best_features_MI_1), len(best_features_MI_2), len(best_features_MI_3), len(best_features_MI_4)"
   ]
  },
  {
   "cell_type": "markdown",
   "id": "54da6443",
   "metadata": {
    "id": "54da6443"
   },
   "source": [
    "## Experiment nº2:   features (only nucleus)"
   ]
  },
  {
   "cell_type": "code",
   "execution_count": 16,
   "id": "e110ae3f",
   "metadata": {
    "executionInfo": {
     "elapsed": 49,
     "status": "ok",
     "timestamp": 1670869287677,
     "user": {
      "displayName": "Daniela terra",
      "userId": "04965381838485374853"
     },
     "user_tz": 180
    },
    "id": "e110ae3f"
   },
   "outputs": [],
   "source": [
    "features_desc = \"Selected features N (+EFD's) - hierarchy\"\n",
    "N_FEATURES = 30\n",
    "N_ITER = 10\n",
    " \n",
    "accs = np.zeros((3))\n",
    "precs = np.zeros((3))\n",
    "recs = np.zeros((3))\n",
    "specs = np.zeros((3))\n",
    "f1_scores = np.zeros((3))\n",
    "aucs = np.zeros((3))\n",
    "\n",
    "\n",
    "labels_list_bin = [] \n",
    "roc_curve_list_bin = []\n",
    "\n",
    "preds_to_conf_matrix_bin= []\n",
    "preds_to_conf_matrix_ter= []\n",
    "preds_to_conf_matrix_bet= []\n",
    "\n",
    "results_bin = pd.DataFrame(columns=['Tipo', 'Model', 'Features', 'Acurácia', 'Precisão', 'Sensibil' , 'Falso Pos', 'Especif', 'F1_measure'])\n",
    "results_ter = pd.DataFrame(columns=['Tipo', 'Model', 'Features', 'Acurácia', 'Precisão', 'Sensibil' , 'Falso Pos', 'Especif', 'F1_measure'])\n",
    "results_bet = pd.DataFrame(columns=['Tipo', 'Model', 'Features', 'Acurácia', 'Precisão', 'Sensibil' , 'Falso Pos', 'Especif', 'F1_measure'])\n",
    "\n",
    "mean_fpr = np.linspace(0, 1, 100)\n"
   ]
  },
  {
   "cell_type": "code",
   "execution_count": 17,
   "id": "39014f50",
   "metadata": {
    "executionInfo": {
     "elapsed": 49,
     "status": "ok",
     "timestamp": 1670869287679,
     "user": {
      "displayName": "Daniela terra",
      "userId": "04965381838485374853"
     },
     "user_tz": 180
    },
    "id": "39014f50"
   },
   "outputs": [],
   "source": [
    "# Prepara array para registro de predições (classific. binário, ternário e bethesda) separado por algoritmos:\n",
    "preds_bin = np.ones((data.shape[0],3))*-1\n",
    "probs_bin = np.zeros((data.shape[0],3,2))\n",
    " \n",
    "preds_ter = np.ones((data.shape[0],3))*-1\n",
    "probs_ter = np.zeros((data.shape[0],3,2))\n",
    "\n",
    "preds_bet = np.ones((data.shape[0],3))*-1\n",
    "probs_bet = np.zeros((data.shape[0],3,2))"
   ]
  },
  {
   "cell_type": "code",
   "execution_count": 18,
   "id": "9141ee28",
   "metadata": {
    "colab": {
     "base_uri": "https://localhost:8080/"
    },
    "executionInfo": {
     "elapsed": 555,
     "status": "ok",
     "timestamp": 1670869288185,
     "user": {
      "displayName": "Daniela terra",
      "userId": "04965381838485374853"
     },
     "user_tz": 180
    },
    "id": "9141ee28",
    "outputId": "501c80d6-ad66-4439-f872-405a20b6f630"
   },
   "outputs": [
    {
     "data": {
      "text/html": [
       "<style>#sk-container-id-1 {color: black;background-color: white;}#sk-container-id-1 pre{padding: 0;}#sk-container-id-1 div.sk-toggleable {background-color: white;}#sk-container-id-1 label.sk-toggleable__label {cursor: pointer;display: block;width: 100%;margin-bottom: 0;padding: 0.3em;box-sizing: border-box;text-align: center;}#sk-container-id-1 label.sk-toggleable__label-arrow:before {content: \"▸\";float: left;margin-right: 0.25em;color: #696969;}#sk-container-id-1 label.sk-toggleable__label-arrow:hover:before {color: black;}#sk-container-id-1 div.sk-estimator:hover label.sk-toggleable__label-arrow:before {color: black;}#sk-container-id-1 div.sk-toggleable__content {max-height: 0;max-width: 0;overflow: hidden;text-align: left;background-color: #f0f8ff;}#sk-container-id-1 div.sk-toggleable__content pre {margin: 0.2em;color: black;border-radius: 0.25em;background-color: #f0f8ff;}#sk-container-id-1 input.sk-toggleable__control:checked~div.sk-toggleable__content {max-height: 200px;max-width: 100%;overflow: auto;}#sk-container-id-1 input.sk-toggleable__control:checked~label.sk-toggleable__label-arrow:before {content: \"▾\";}#sk-container-id-1 div.sk-estimator input.sk-toggleable__control:checked~label.sk-toggleable__label {background-color: #d4ebff;}#sk-container-id-1 div.sk-label input.sk-toggleable__control:checked~label.sk-toggleable__label {background-color: #d4ebff;}#sk-container-id-1 input.sk-hidden--visually {border: 0;clip: rect(1px 1px 1px 1px);clip: rect(1px, 1px, 1px, 1px);height: 1px;margin: -1px;overflow: hidden;padding: 0;position: absolute;width: 1px;}#sk-container-id-1 div.sk-estimator {font-family: monospace;background-color: #f0f8ff;border: 1px dotted black;border-radius: 0.25em;box-sizing: border-box;margin-bottom: 0.5em;}#sk-container-id-1 div.sk-estimator:hover {background-color: #d4ebff;}#sk-container-id-1 div.sk-parallel-item::after {content: \"\";width: 100%;border-bottom: 1px solid gray;flex-grow: 1;}#sk-container-id-1 div.sk-label:hover label.sk-toggleable__label {background-color: #d4ebff;}#sk-container-id-1 div.sk-serial::before {content: \"\";position: absolute;border-left: 1px solid gray;box-sizing: border-box;top: 0;bottom: 0;left: 50%;z-index: 0;}#sk-container-id-1 div.sk-serial {display: flex;flex-direction: column;align-items: center;background-color: white;padding-right: 0.2em;padding-left: 0.2em;position: relative;}#sk-container-id-1 div.sk-item {position: relative;z-index: 1;}#sk-container-id-1 div.sk-parallel {display: flex;align-items: stretch;justify-content: center;background-color: white;position: relative;}#sk-container-id-1 div.sk-item::before, #sk-container-id-1 div.sk-parallel-item::before {content: \"\";position: absolute;border-left: 1px solid gray;box-sizing: border-box;top: 0;bottom: 0;left: 50%;z-index: -1;}#sk-container-id-1 div.sk-parallel-item {display: flex;flex-direction: column;z-index: 1;position: relative;background-color: white;}#sk-container-id-1 div.sk-parallel-item:first-child::after {align-self: flex-end;width: 50%;}#sk-container-id-1 div.sk-parallel-item:last-child::after {align-self: flex-start;width: 50%;}#sk-container-id-1 div.sk-parallel-item:only-child::after {width: 0;}#sk-container-id-1 div.sk-dashed-wrapped {border: 1px dashed gray;margin: 0 0.4em 0.5em 0.4em;box-sizing: border-box;padding-bottom: 0.4em;background-color: white;}#sk-container-id-1 div.sk-label label {font-family: monospace;font-weight: bold;display: inline-block;line-height: 1.2em;}#sk-container-id-1 div.sk-label-container {text-align: center;}#sk-container-id-1 div.sk-container {/* jupyter's `normalize.less` sets `[hidden] { display: none; }` but bootstrap.min.css set `[hidden] { display: none !important; }` so we also need the `!important` here to be able to override the default hidden behavior on the sphinx rendered scikit-learn.org. See: https://github.com/scikit-learn/scikit-learn/issues/21755 */display: inline-block !important;position: relative;}#sk-container-id-1 div.sk-text-repr-fallback {display: none;}</style><div id=\"sk-container-id-1\" class=\"sk-top-container\"><div class=\"sk-text-repr-fallback\"><pre>LabelEncoder()</pre><b>In a Jupyter environment, please rerun this cell to show the HTML representation or trust the notebook. <br />On GitHub, the HTML representation is unable to render, please try loading this page with nbviewer.org.</b></div><div class=\"sk-container\" hidden><div class=\"sk-item\"><div class=\"sk-estimator sk-toggleable\"><input class=\"sk-toggleable__control sk-hidden--visually\" id=\"sk-estimator-id-1\" type=\"checkbox\" checked><label for=\"sk-estimator-id-1\" class=\"sk-toggleable__label sk-toggleable__label-arrow\">LabelEncoder</label><div class=\"sk-toggleable__content\"><pre>LabelEncoder()</pre></div></div></div></div></div>"
      ],
      "text/plain": [
       "LabelEncoder()"
      ]
     },
     "execution_count": 18,
     "metadata": {},
     "output_type": "execute_result"
    }
   ],
   "source": [
    "le_2 = preprocessing.LabelEncoder()\n",
    "le_2.fit([1,2])\n",
    "le_3 = preprocessing.LabelEncoder()\n",
    "le_3.fit([1,3])\n",
    "le_4 = preprocessing.LabelEncoder()\n",
    "le_4.fit([2,4,5])"
   ]
  },
  {
   "cell_type": "code",
   "execution_count": 19,
   "id": "4ab7ad6a",
   "metadata": {
    "colab": {
     "base_uri": "https://localhost:8080/"
    },
    "executionInfo": {
     "elapsed": 165550,
     "status": "ok",
     "timestamp": 1670869453717,
     "user": {
      "displayName": "Daniela terra",
      "userId": "04965381838485374853"
     },
     "user_tz": 180
    },
    "id": "4ab7ad6a",
    "outputId": "a822872d-a37a-45f0-8e4c-08e132cf3f12",
    "scrolled": true
   },
   "outputs": [
    {
     "name": "stdout",
     "output_type": "stream",
     "text": [
      "Iteração número:  0\n",
      "Iteração número:  1\n",
      "Iteração número:  2\n",
      "Iteração número:  3\n",
      "Iteração número:  4\n",
      "Iteração número:  5\n",
      "Iteração número:  6\n",
      "Iteração número:  7\n",
      "Iteração número:  8\n",
      "Iteração número:  9\n"
     ]
    }
   ],
   "source": [
    "# Loop principal:  (cross_val )\n",
    "\n",
    "cv = StratifiedKFold(n_splits=N_ITER, random_state=None)\n",
    "\n",
    "# Split com rótulos Bethesda para um split estratificado (cada iteração executa todos os classificadores de 1 à 4)\n",
    "# Separa dados para treino/validação e teste:\n",
    "for it, (idx_train, idx_test) in enumerate(cv.split(data.values, target['bethesda'].values)):\n",
    "    print('Iteração número: ', it)\n",
    "\n",
    "    # Filtra apenas features selecionadas\n",
    "    X_train = data[best_features_MI_1].values[idx_train]\n",
    "    y_train = target['binary'].values[idx_train]\n",
    "    \n",
    "    X_test = data[best_features_MI_1].values[idx_test]\n",
    "    y_test = target['binary'].values[idx_test]\n",
    "                                                   \n",
    "    ## treino e teste dos modelo (classificador 1):\n",
    "    for i in range(3):   \n",
    "        ## Obtem modelo\n",
    "        model = functions.getModel(params= params[i], classifier = classifiers[i], class_type = 'binary')\n",
    "        metr, model = functions.fit_model(X_train, y_train, model, cls_type= 1)\n",
    "        # Predição:\n",
    "        pred_y = np.empty(len(idx_test)) \n",
    "        pred_y = model.predict(X_test)\n",
    "        prob_y = model.predict_proba(X_test)\n",
    "\n",
    "        # Registra predições:\n",
    "        preds_bin[idx_test, i] = pred_y\n",
    "        probs_bin[idx_test, i] = prob_y\n",
    "        \n",
    "        # Registra predições (classicações ternária/bethesda):\n",
    "        idx_0 = functions.index_pred_from_class(idx_test, pred_y, cls=0)\n",
    "        preds_ter[idx_0, i] =  preds_bin[idx_0, i]\n",
    "        probs_ter[idx_0, i] =  probs_bin[idx_0, i] \n",
    "        preds_bet[idx_0, i] =  preds_bin[idx_0, i]\n",
    "        probs_bet[idx_0, i] =  probs_bin[idx_0, i]  \n",
    "\n",
    "    ##------------ X ------------- \n",
    "    ## Classificador 2: lesões de alto/baixo grau\n",
    "    \n",
    "    ## Seleciona amostras para treino/teste\n",
    "    # Treino: seleciona apenas amostras do conjunto de treino para rótulos ternários 1 e 2, filtrando \n",
    "    # apenas features selecionadas para o classificador 2\n",
    "    X_df_train2, y_df_train2 = functions.filter_dataXY(data[best_features_MI_2].loc[idx_train],\n",
    "                                       target.loc[idx_train], 2)\n",
    "    X_train2, y_train2 = X_df_train2.values,  y_df_train2.values\n",
    "        \n",
    "    for i in range(3):   \n",
    "        ## Obtem dados para teste de acordo com a predição de cada modelo do classificador 1\n",
    "        # Teste: filtra amostras de rótulos 1 das predições do classificador 1  \n",
    "        idx_test2, X_df_test2, y_df_test2 = functions.filter_Xy_from_cls1_to_cls2(data[best_features_MI_2].loc[idx_test],\n",
    "                                                        target.loc[idx_test], preds_bin[:,i], idx_test)\n",
    "        \n",
    "        X_test2, y_test2= X_df_test2.values, y_df_test2.values\n",
    " \n",
    "        ## Obtem modelo\n",
    "        model = functions.getModel(params= params[i], classifier = classifiers[i], class_type = 'binary')\n",
    "        metr, model = functions.fit_model(X_train2, y_train2, model, cls_type= 2)\n",
    "        #print('metricas :', i, metr)\n",
    "        \n",
    "        # Predição:\n",
    "        pred2_y = np.empty(len(idx_test2))\n",
    "        pred2_y = model.predict(X_test2)\n",
    "        pred2_y = le_2.inverse_transform(pred2_y)\n",
    "        #prob_y = model.predict_proba(X_test2)\n",
    "\n",
    "        # Registra predições:\n",
    "        preds_ter[idx_test2, i] = pred2_y\n",
    "        #probs_ter[idx_test2, i] = prob_y        \n",
    "        \n",
    "    ##------------ X ------------- \n",
    "    ## Classificador 3: ASC-US/LSIL\n",
    "    \n",
    "    ## Seleciona amostras para treino/teste\n",
    "    # Treino: seleciona apenas amostras do conjunto de treino para rótulos bethesda 1 e 3, filtrando \n",
    "    # apenas features selecionadas para o classificador 3\n",
    "    X_df_train3, y_df_train3 = functions.filter_dataXY(data[best_features_MI_3].loc[idx_train],\n",
    "                                       target.loc[idx_train], 3)\n",
    "    X_train3, y_train3 = X_df_train3.values,  y_df_train3.values\n",
    "    \n",
    "    for i in range(3):   \n",
    "        ## Obtem dados para teste de acordo com a predição de cada modelo do classificador 2\n",
    "        # Filtra amostras de rótulos 1 (lesão de baixo grau) das predições dos classificadores 2  \n",
    "        idx_test3, X_df_test3, y_df_test3 = functions.filter_Xy_from_cls1_to_cls3(data[best_features_MI_3].loc[idx_test],\n",
    "                                                        target.loc[idx_test], preds_ter[:,i], idx_test)\n",
    "        \n",
    "        X_test3, y_test3= X_df_test3.values, y_df_test3.values\n",
    " \n",
    "        ## Obtem modelo\n",
    "        model = functions.getModel(params= params[i], classifier = classifiers[i], class_type = 'binary')\n",
    "        metr, model = functions.fit_model(X_train3, y_train3, model, cls_type= 3)\n",
    "        #print('--metricas Classificador 3 :', i, metr)\n",
    "        \n",
    "        # Predição:\n",
    "        pred3_y = np.empty(len(idx_test3))\n",
    "        pred3_y = model.predict(X_test3)\n",
    "        pred3_y = le_3.inverse_transform(pred3_y)\n",
    "        #prob_y = model.predict_proba(X_test3)\n",
    "\n",
    "        # Registra predições:\n",
    "        preds_bet[idx_test3, i] = pred3_y\n",
    "        #probs_bet[idx_test3, i] = prob_y\n",
    "        \n",
    "    ##------------ X ------------- \n",
    "    ## Classificador 4: ASC-H/HSIL/Car\n",
    "    \n",
    "    ## Seleciona amostras para treino/teste\n",
    "    # Treino: seleciona apenas amostras do conjunto de treino para rótulos bethesda 2,4,5, filtrando \n",
    "    # apenas features selecionadas para o classificador 4\n",
    "    X_df_train4, y_df_train4 = functions.filter_dataXY(data[best_features_MI_4].loc[idx_train],\n",
    "                                       target.loc[idx_train], 4)\n",
    "    X_train4, y_train4 = X_df_train4.values,  y_df_train4.values\n",
    "    \n",
    "    \n",
    "    for i in range(3):   \n",
    "        ## Obtem dados para teste de acordo com a predição de cada modelo do classificador 2\n",
    "        # Filtra amostras de rótulos 2(lesão de alto grau) das predições dos classificadores 2  \n",
    "        idx_test4, X_df_test4, y_df_test4 = functions.filter_Xy_from_cls2_to_cls4(data[best_features_MI_4].loc[idx_test],\n",
    "                                                        target.loc[idx_test], preds_ter[:,i], idx_test)\n",
    "        \n",
    "        X_test4, y_test4= X_df_test4.values, y_df_test4.values\n",
    " \n",
    "        ## Obtem modelo\n",
    "        model = functions.getModel(params= params[i], classifier = classifiers[i], class_type = 'ternary')\n",
    "        metr, model = functions.fit_model(X_train4, y_train4, model, cls_type= 4)\n",
    "        #print('metricas :', i, metr)\n",
    "        \n",
    "        # Predição:\n",
    "        pred4_y = np.empty(len(idx_test4))\n",
    "        pred4_y = model.predict(X_test4)\n",
    "        pred4_y = le_4.inverse_transform(pred4_y)\n",
    "        #prob_y = model.predict_proba(X_test4)\n",
    "\n",
    "        # Registra predições:\n",
    "        preds_bet[idx_test4, i] = pred4_y\n",
    "        #probs_bet[idx_test4, i] = prob_y\n",
    " \n",
    "## Resultados - classificação binária (normal/anormal):\n",
    "# Calcula curva_roc e AUC:\n",
    "for i in range(3):   \n",
    "    prob = probs_bin[:, i, 1]\n",
    "    fpr, tpr, thresholds = roc_curve(target['binary'].values, prob)\n",
    "    interp_tpr = np.interp(mean_fpr, fpr, tpr)\n",
    "    interp_tpr[0] = 0.0\n",
    "    aucs[i]= auc(mean_fpr, interp_tpr)\n",
    "    labels_list_bin.append(r\"ROC Curve (AUC %s= %0.4f)\" % ((classifiers[i]+\"- normal/anormal\"), aucs[i]))\n",
    "    roc_curve_list_bin.append((mean_fpr, interp_tpr))\n",
    "    \n",
    "    # Calcula e registra métricas p/ fold:\n",
    "    accs[i] = functions.calc_metric(target['binary'].values, preds_bin[:,i], metric_type='acc', class_type='binary', pos_label=1, classes=[0,1])\n",
    "    precs[i] = functions.calc_metric(target['binary'].values, preds_bin[:,i], metric_type='prec',class_type='binary')                \n",
    "    recs[i] = functions.calc_metric(target['binary'].values, preds_bin[:,i], metric_type='rec',class_type='binary')                \n",
    "    specs[i] = functions.calc_metric(target['binary'].values, preds_bin[:,i], metric_type='spec',class_type='binary')                \n",
    "    f1_scores[i] = functions.calc_metric(target['binary'].values, preds_bin[:,i], metric_type='f1_score',class_type='binary')        \n",
    "    # Acumula métricas no dataframe de resultados e agrupa curvas ROC para exibição:\n",
    "    metrics= {'Model': classifiers[i], 'acc': accs[i], 'prec': precs[i], 'rec': recs[i], \n",
    "              'spec': specs[i], 'f1_score': f1_scores[i], 'AUC': aucs[i]}                                      \n",
    "    functions.fill_line_metrics_CV(classifiers[i], features_desc, i, metrics, results_bin, class_type='1- Normal/Anormal')            \n",
    "    # Acumula Matrizes de confusão:  https://stackoverflow.com/questions/61016110/plot-multiple-confusion-matrices-with-plot-confusion-matrix\n",
    "    preds_to_conf_matrix_bin.append((target['binary'].values, preds_bin[:,i], \"1. Normal/Anormal -\"+str(classifiers[i])))\n",
    "            \n",
    "  \n",
    "## Resultados - classificação ternária (normal/baixo grau/ alto grau)\n",
    "# Calcula métricas e matrix de confusão:\n",
    "for i in range(3):       \n",
    "    # Calcula e registra métricas p/ fold:\n",
    "    accs[i] = functions.calc_metric(target['ternary'].values, preds_ter[:,i], metric_type='acc', class_type='ternary', classes=[0,1,2])\n",
    "    precs[i] = functions.calc_metric(target['ternary'].values, preds_ter[:,i], metric_type='prec',class_type='ternary', classes=[0,1,2])                \n",
    "    recs[i] = functions.calc_metric(target['ternary'].values, preds_ter[:,i], metric_type='rec',class_type='ternary', classes=[0,1,2])                \n",
    "    specs[i] = functions.calc_metric(target['ternary'].values, preds_ter[:,i], metric_type='spec',class_type='ternary', classes=[0,1,2])                \n",
    "    f1_scores[i] = functions.calc_metric(target['ternary'].values, preds_ter[:,i], metric_type='f1_score',class_type='ternary', classes=[0,1,2])        \n",
    "    # Acumula métricas no dataframe de resultados e agrupa curvas ROC para exibição:\n",
    "    metrics= {'Model': classifiers[i], 'acc': accs[i], 'prec': precs[i], 'rec': recs[i], \n",
    "              'spec': specs[i], 'f1_score': f1_scores[i], 'AUC': aucs[i]}                                      \n",
    "    functions.fill_line_metrics_CV(classifiers[i], features_desc, i, metrics, results_ter, class_type='2- Normal/Low G./High G.')            \n",
    "    # Acumula Matrizes de confusão:  https://stackoverflow.com/questions/61016110/plot-multiple-confusion-matrices-with-plot-confusion-matrix\n",
    "    preds_to_conf_matrix_ter.append((target['ternary'].values, preds_ter[:,i], \"2- Normal/Low G./High G. -\"+str(classifiers[i])))\n",
    "\n",
    "    \n",
    "## Resultados - classificação bethesda (normal/ascus/asch/lsil/hsil/car)\n",
    "# Calcula métricas e matrix de confusão:\n",
    "for i in range(3):   \n",
    "    # Calcula e registra métricas p/ fold:\n",
    "    accs[i] = functions.calc_metric(target['bethesda'].values, preds_bet[:,i], metric_type='acc', class_type='bethesda', classes=[0,1,2,3,4,5])\n",
    "    precs[i] = functions.calc_metric(target['bethesda'].values, preds_bet[:,i], metric_type='prec',class_type='bethesda', classes=[0,1,2,3,4,5])                \n",
    "    recs[i] = functions.calc_metric(target['bethesda'].values, preds_bet[:,i], metric_type='rec',class_type='bethesda', classes=[0,1,2,3,4,5])                \n",
    "    specs[i] = functions.calc_metric(target['bethesda'].values, preds_bet[:,i], metric_type='spec',class_type='bethesda', classes=[0,1,2,3,4,5])                \n",
    "    f1_scores[i] = functions.calc_metric(target['bethesda'].values, preds_bet[:,i], metric_type='f1_score',class_type='bethesda', classes=[0,1,2,3,4,5])        \n",
    "    # Acumula métricas no dataframe de resultados e agrupa curvas ROC para exibição:\n",
    "    metrics= {'Model': classifiers[i], 'acc': accs[i], 'prec': precs[i], 'rec': recs[i], \n",
    "              'spec': specs[i], 'f1_score': f1_scores[i], 'AUC': aucs[i]}                                      \n",
    "    functions.fill_line_metrics_CV(classifiers[i], features_desc, i, metrics, results_bet, class_type='3- Bethesda')            \n",
    "    # Acumula Matrizes de confusão:  https://stackoverflow.com/questions/61016110/plot-multiple-confusion-matrices-with-plot-confusion-matrix\n",
    "    preds_to_conf_matrix_bet.append((target['bethesda'].values, preds_bet[:,i], \"3- Bethesda -\"+str(classifiers[i])))\n",
    "   "
   ]
  },
  {
   "cell_type": "code",
   "execution_count": 20,
   "id": "46a5d217",
   "metadata": {
    "colab": {
     "base_uri": "https://localhost:8080/",
     "height": 822
    },
    "executionInfo": {
     "elapsed": 464,
     "status": "ok",
     "timestamp": 1670869454162,
     "user": {
      "displayName": "Daniela terra",
      "userId": "04965381838485374853"
     },
     "user_tz": 180
    },
    "id": "46a5d217",
    "outputId": "1dedd0c7-e01a-49e1-b6e7-d2bc56bffd60"
   },
   "outputs": [
    {
     "data": {
      "image/png": "[encoded data removed]",
      "text/plain": [
       "<Figure size 648x360 with 1 Axes>"
      ]
     },
     "metadata": {
      "needs_background": "light"
     },
     "output_type": "display_data"
    },
    {
     "data": {
      "image/png": "[encoded data removed]",
      "text/plain": [
       "<Figure size 1080x648 with 3 Axes>"
      ]
     },
     "metadata": {
      "needs_background": "light"
     },
     "output_type": "display_data"
    },
    {
     "data": {
      "text/html": [
       "<div>\n",
       "<style scoped>\n",
       "    .dataframe tbody tr th:only-of-type {\n",
       "        vertical-align: middle;\n",
       "    }\n",
       "\n",
       "    .dataframe tbody tr th {\n",
       "        vertical-align: top;\n",
       "    }\n",
       "\n",
       "    .dataframe thead th {\n",
       "        text-align: right;\n",
       "    }\n",
       "</style>\n",
       "<table border=\"1\" class=\"dataframe\">\n",
       "  <thead>\n",
       "    <tr style=\"text-align: right;\">\n",
       "      <th></th>\n",
       "      <th>Tipo</th>\n",
       "      <th>Model</th>\n",
       "      <th>Features</th>\n",
       "      <th>Acurácia</th>\n",
       "      <th>Precisão</th>\n",
       "      <th>Sensibil</th>\n",
       "      <th>Falso Pos</th>\n",
       "      <th>Especif</th>\n",
       "      <th>F1_measure</th>\n",
       "    </tr>\n",
       "  </thead>\n",
       "  <tbody>\n",
       "    <tr>\n",
       "      <th>0</th>\n",
       "      <td>1- Normal/Anormal</td>\n",
       "      <td>SVM</td>\n",
       "      <td>Selected features N (+EFD's) - hierarchy</td>\n",
       "      <td>0.8794</td>\n",
       "      <td>0.9500</td>\n",
       "      <td>0.8819</td>\n",
       "      <td>0.1276</td>\n",
       "      <td>0.8724</td>\n",
       "      <td>0.9147</td>\n",
       "    </tr>\n",
       "    <tr>\n",
       "      <th>1</th>\n",
       "      <td>1- Normal/Anormal</td>\n",
       "      <td>RF</td>\n",
       "      <td>Selected features N (+EFD's) - hierarchy</td>\n",
       "      <td>0.8794</td>\n",
       "      <td>0.9508</td>\n",
       "      <td>0.8811</td>\n",
       "      <td>0.1253</td>\n",
       "      <td>0.8747</td>\n",
       "      <td>0.9146</td>\n",
       "    </tr>\n",
       "    <tr>\n",
       "      <th>2</th>\n",
       "      <td>1- Normal/Anormal</td>\n",
       "      <td>XGBoost</td>\n",
       "      <td>Selected features N (+EFD's) - hierarchy</td>\n",
       "      <td>0.8874</td>\n",
       "      <td>0.9339</td>\n",
       "      <td>0.9110</td>\n",
       "      <td>0.1775</td>\n",
       "      <td>0.8225</td>\n",
       "      <td>0.9223</td>\n",
       "    </tr>\n",
       "  </tbody>\n",
       "</table>\n",
       "</div>"
      ],
      "text/plain": [
       "                Tipo    Model                                  Features  \\\n",
       "0  1- Normal/Anormal      SVM  Selected features N (+EFD's) - hierarchy   \n",
       "1  1- Normal/Anormal       RF  Selected features N (+EFD's) - hierarchy   \n",
       "2  1- Normal/Anormal  XGBoost  Selected features N (+EFD's) - hierarchy   \n",
       "\n",
       "  Acurácia Precisão Sensibil Falso Pos Especif F1_measure  \n",
       "0   0.8794   0.9500   0.8819    0.1276  0.8724     0.9147  \n",
       "1   0.8794   0.9508   0.8811    0.1253  0.8747     0.9146  \n",
       "2   0.8874   0.9339   0.9110    0.1775  0.8225     0.9223  "
      ]
     },
     "execution_count": 20,
     "metadata": {},
     "output_type": "execute_result"
    }
   ],
   "source": [
    "# Exibe curvas roc, matrizes de confusão e métricas - Classificador binário:\n",
    "functions.plot_roc_curve_CV(roc_curve_list_bin, labels_list_bin, title = \"ROC Curve - 1.Normal/Anormal\")\n",
    "functions.plot_conf_matrix(preds_to_conf_matrix_bin, lbls=[0,1], disp_lbls=['normal', 'anormal'])\n",
    "results_bin\n",
    "    "
   ]
  },
  {
   "cell_type": "code",
   "execution_count": 21,
   "id": "fd47585c",
   "metadata": {
    "colab": {
     "base_uri": "https://localhost:8080/",
     "height": 493
    },
    "executionInfo": {
     "elapsed": 513,
     "status": "ok",
     "timestamp": 1670869454666,
     "user": {
      "displayName": "Daniela terra",
      "userId": "04965381838485374853"
     },
     "user_tz": 180
    },
    "id": "fd47585c",
    "outputId": "2de4279b-c525-471c-941d-4197e738a65b"
   },
   "outputs": [
    {
     "data": {
      "image/png": "[encoded data removed]",
      "text/plain": [
       "<Figure size 1080x648 with 3 Axes>"
      ]
     },
     "metadata": {
      "needs_background": "light"
     },
     "output_type": "display_data"
    },
    {
     "data": {
      "text/html": [
       "<div>\n",
       "<style scoped>\n",
       "    .dataframe tbody tr th:only-of-type {\n",
       "        vertical-align: middle;\n",
       "    }\n",
       "\n",
       "    .dataframe tbody tr th {\n",
       "        vertical-align: top;\n",
       "    }\n",
       "\n",
       "    .dataframe thead th {\n",
       "        text-align: right;\n",
       "    }\n",
       "</style>\n",
       "<table border=\"1\" class=\"dataframe\">\n",
       "  <thead>\n",
       "    <tr style=\"text-align: right;\">\n",
       "      <th></th>\n",
       "      <th>Tipo</th>\n",
       "      <th>Model</th>\n",
       "      <th>Features</th>\n",
       "      <th>Acurácia</th>\n",
       "      <th>Precisão</th>\n",
       "      <th>Sensibil</th>\n",
       "      <th>Falso Pos</th>\n",
       "      <th>Especif</th>\n",
       "      <th>F1_measure</th>\n",
       "    </tr>\n",
       "  </thead>\n",
       "  <tbody>\n",
       "    <tr>\n",
       "      <th>0</th>\n",
       "      <td>2- Normal/Low G./High G.</td>\n",
       "      <td>SVM</td>\n",
       "      <td>Selected features N (+EFD's) - hierarchy</td>\n",
       "      <td>0.6882</td>\n",
       "      <td>0.6968</td>\n",
       "      <td>0.6882</td>\n",
       "      <td>0.1572</td>\n",
       "      <td>0.8428</td>\n",
       "      <td>0.6831</td>\n",
       "    </tr>\n",
       "    <tr>\n",
       "      <th>1</th>\n",
       "      <td>2- Normal/Low G./High G.</td>\n",
       "      <td>RF</td>\n",
       "      <td>Selected features N (+EFD's) - hierarchy</td>\n",
       "      <td>0.7006</td>\n",
       "      <td>0.7065</td>\n",
       "      <td>0.7006</td>\n",
       "      <td>0.1518</td>\n",
       "      <td>0.8482</td>\n",
       "      <td>0.6963</td>\n",
       "    </tr>\n",
       "    <tr>\n",
       "      <th>2</th>\n",
       "      <td>2- Normal/Low G./High G.</td>\n",
       "      <td>XGBoost</td>\n",
       "      <td>Selected features N (+EFD's) - hierarchy</td>\n",
       "      <td>0.7021</td>\n",
       "      <td>0.7021</td>\n",
       "      <td>0.7021</td>\n",
       "      <td>0.1563</td>\n",
       "      <td>0.8437</td>\n",
       "      <td>0.7013</td>\n",
       "    </tr>\n",
       "  </tbody>\n",
       "</table>\n",
       "</div>"
      ],
      "text/plain": [
       "                       Tipo    Model  \\\n",
       "0  2- Normal/Low G./High G.      SVM   \n",
       "1  2- Normal/Low G./High G.       RF   \n",
       "2  2- Normal/Low G./High G.  XGBoost   \n",
       "\n",
       "                                   Features Acurácia Precisão Sensibil  \\\n",
       "0  Selected features N (+EFD's) - hierarchy   0.6882   0.6968   0.6882   \n",
       "1  Selected features N (+EFD's) - hierarchy   0.7006   0.7065   0.7006   \n",
       "2  Selected features N (+EFD's) - hierarchy   0.7021   0.7021   0.7021   \n",
       "\n",
       "  Falso Pos Especif F1_measure  \n",
       "0    0.1572  0.8428     0.6831  \n",
       "1    0.1518  0.8482     0.6963  \n",
       "2    0.1563  0.8437     0.7013  "
      ]
     },
     "execution_count": 21,
     "metadata": {},
     "output_type": "execute_result"
    }
   ],
   "source": [
    "# Exibe matrizes de confusão e métricas - Classificador ternário:\n",
    "functions.plot_conf_matrix(preds_to_conf_matrix_ter, lbls=[0,1,2], disp_lbls=['normal','low g.', 'high g.'])\n",
    "results_ter\n"
   ]
  },
  {
   "cell_type": "code",
   "execution_count": 22,
   "id": "72ddbb6d",
   "metadata": {
    "colab": {
     "base_uri": "https://localhost:8080/",
     "height": 494
    },
    "executionInfo": {
     "elapsed": 1249,
     "status": "ok",
     "timestamp": 1670869455908,
     "user": {
      "displayName": "Daniela terra",
      "userId": "04965381838485374853"
     },
     "user_tz": 180
    },
    "id": "72ddbb6d",
    "outputId": "fbe79212-ea35-45cb-b8b2-efca7541790a"
   },
   "outputs": [
    {
     "data": {
      "image/png": "[encoded data removed]",
      "text/plain": [
       "<Figure size 1080x648 with 3 Axes>"
      ]
     },
     "metadata": {
      "needs_background": "light"
     },
     "output_type": "display_data"
    },
    {
     "data": {
      "text/html": [
       "<div>\n",
       "<style scoped>\n",
       "    .dataframe tbody tr th:only-of-type {\n",
       "        vertical-align: middle;\n",
       "    }\n",
       "\n",
       "    .dataframe tbody tr th {\n",
       "        vertical-align: top;\n",
       "    }\n",
       "\n",
       "    .dataframe thead th {\n",
       "        text-align: right;\n",
       "    }\n",
       "</style>\n",
       "<table border=\"1\" class=\"dataframe\">\n",
       "  <thead>\n",
       "    <tr style=\"text-align: right;\">\n",
       "      <th></th>\n",
       "      <th>Tipo</th>\n",
       "      <th>Model</th>\n",
       "      <th>Features</th>\n",
       "      <th>Acurácia</th>\n",
       "      <th>Precisão</th>\n",
       "      <th>Sensibil</th>\n",
       "      <th>Falso Pos</th>\n",
       "      <th>Especif</th>\n",
       "      <th>F1_measure</th>\n",
       "    </tr>\n",
       "  </thead>\n",
       "  <tbody>\n",
       "    <tr>\n",
       "      <th>0</th>\n",
       "      <td>3- Bethesda</td>\n",
       "      <td>SVM</td>\n",
       "      <td>Selected features N (+EFD's) - hierarchy</td>\n",
       "      <td>0.4173</td>\n",
       "      <td>0.4467</td>\n",
       "      <td>0.4173</td>\n",
       "      <td>0.1155</td>\n",
       "      <td>0.8845</td>\n",
       "      <td>0.4068</td>\n",
       "    </tr>\n",
       "    <tr>\n",
       "      <th>1</th>\n",
       "      <td>3- Bethesda</td>\n",
       "      <td>RF</td>\n",
       "      <td>Selected features N (+EFD's) - hierarchy</td>\n",
       "      <td>0.4810</td>\n",
       "      <td>0.4815</td>\n",
       "      <td>0.4810</td>\n",
       "      <td>0.1061</td>\n",
       "      <td>0.8939</td>\n",
       "      <td>0.4724</td>\n",
       "    </tr>\n",
       "    <tr>\n",
       "      <th>2</th>\n",
       "      <td>3- Bethesda</td>\n",
       "      <td>XGBoost</td>\n",
       "      <td>Selected features N (+EFD's) - hierarchy</td>\n",
       "      <td>0.4906</td>\n",
       "      <td>0.4762</td>\n",
       "      <td>0.4906</td>\n",
       "      <td>0.1066</td>\n",
       "      <td>0.8934</td>\n",
       "      <td>0.4818</td>\n",
       "    </tr>\n",
       "  </tbody>\n",
       "</table>\n",
       "</div>"
      ],
      "text/plain": [
       "          Tipo    Model                                  Features Acurácia  \\\n",
       "0  3- Bethesda      SVM  Selected features N (+EFD's) - hierarchy   0.4173   \n",
       "1  3- Bethesda       RF  Selected features N (+EFD's) - hierarchy   0.4810   \n",
       "2  3- Bethesda  XGBoost  Selected features N (+EFD's) - hierarchy   0.4906   \n",
       "\n",
       "  Precisão Sensibil Falso Pos Especif F1_measure  \n",
       "0   0.4467   0.4173    0.1155  0.8845     0.4068  \n",
       "1   0.4815   0.4810    0.1061  0.8939     0.4724  \n",
       "2   0.4762   0.4906    0.1066  0.8934     0.4818  "
      ]
     },
     "execution_count": 22,
     "metadata": {},
     "output_type": "execute_result"
    }
   ],
   "source": [
    "# Exibe matrizes de confusão e métricas - Classificador ternário:\n",
    "functions.plot_conf_matrix(preds_to_conf_matrix_bet, lbls=[0,1,2,3,4,5], disp_lbls=['normal','ascus', 'asch', 'lsil', 'hsil', 'car'])\n",
    "results_bet"
   ]
  },
  {
   "cell_type": "code",
   "execution_count": null,
   "id": "622414a0",
   "metadata": {
    "executionInfo": {
     "elapsed": 44,
     "status": "ok",
     "timestamp": 1670869455911,
     "user": {
      "displayName": "Daniela terra",
      "userId": "04965381838485374853"
     },
     "user_tz": 180
    },
    "id": "622414a0"
   },
   "outputs": [],
   "source": []
  }
 ],
 "metadata": {
  "colab": {
   "provenance": []
  },
  "kernelspec": {
   "display_name": "Python 3 (ipykernel)",
   "language": "python",
   "name": "python3"
  },
  "language_info": {
   "codemirror_mode": {
    "name": "ipython",
    "version": 3
   },
   "file_extension": ".py",
   "mimetype": "text/x-python",
   "name": "python",
   "nbconvert_exporter": "python",
   "pygments_lexer": "ipython3",
   "version": "3.9.1"
  }
 },
 "nbformat": 4,
 "nbformat_minor": 5
}
